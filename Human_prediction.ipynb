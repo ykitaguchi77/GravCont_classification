{
  "nbformat": 4,
  "nbformat_minor": 0,
  "metadata": {
    "colab": {
      "name": "Untitled29.ipynb",
      "provenance": [],
      "include_colab_link": true
    },
    "kernelspec": {
      "name": "python3",
      "display_name": "Python 3"
    },
    "accelerator": "GPU"
  },
  "cells": [
    {
      "cell_type": "markdown",
      "metadata": {
        "id": "view-in-github",
        "colab_type": "text"
      },
      "source": [
        "<a href=\"https://colab.research.google.com/github/ykitaguchi77/GravCont_classification_colab/blob/master/Human_prediction.ipynb\" target=\"_parent\"><img src=\"https://colab.research.google.com/assets/colab-badge.svg\" alt=\"Open In Colab\"/></a>"
      ]
    },
    {
      "cell_type": "markdown",
      "metadata": {
        "id": "4KHgYAvVpn_B",
        "colab_type": "text"
      },
      "source": [
        "#**Human_prediction**"
      ]
    },
    {
      "cell_type": "code",
      "metadata": {
        "id": "7eVZc-9bMt0W",
        "colab_type": "code",
        "outputId": "8b4d3924-9db2-4421-8513-469ccccb1770",
        "colab": {
          "base_uri": "https://localhost:8080/",
          "height": 55
        }
      },
      "source": [
        "import os\n",
        "import pandas as pd\n",
        "import glob\n",
        "import os.path as osp\n",
        "import random\n",
        "from PIL import Image\n",
        "import sys\n",
        "import datetime\n",
        "\n",
        "#サポートパッチのインポート\n",
        "from google.colab.patches import cv2_imshow\n",
        "import cv2\n",
        "\n",
        "#Google colabをマウント\n",
        "from google.colab import drive\n",
        "drive.mount('/content/drive')\n"
      ],
      "execution_count": 43,
      "outputs": [
        {
          "output_type": "stream",
          "text": [
            "Drive already mounted at /content/drive; to attempt to forcibly remount, call drive.mount(\"/content/drive\", force_remount=True).\n"
          ],
          "name": "stdout"
        }
      ]
    },
    {
      "cell_type": "markdown",
      "metadata": {
        "id": "PtApBBavy4g4",
        "colab_type": "text"
      },
      "source": [
        "#画像とラベル表示のための関数を定義"
      ]
    },
    {
      "cell_type": "code",
      "metadata": {
        "id": "jvVtYkUOy5A6",
        "colab_type": "code",
        "colab": {}
      },
      "source": [
        "#対象のパスからラベルを抜き出して表示\n",
        "def selectName():\n",
        "    evaluator_list = df.columns.values[2:]\n",
        "\n",
        "    k=0\n",
        "    for i in evaluator_list:\n",
        "        print(str(k)+\": \"+ i)\n",
        "        k+= 1\n",
        "    print(str(k)+\": 終了する\")\n",
        "    evaluator = input('名前を選んで下さい')\n",
        "\n",
        "    if int(evaluator) == k:\n",
        "        print('ﾌﾟﾛｸﾞﾗﾑを終了します。有難うございました。')\n",
        "        sys.exit()\n",
        "    elif int(evaluator) > k:\n",
        "        raise Exception(\"表示されている番号を選んで下さい\")\n",
        "        sys.exit()\n",
        "    elif str.isdigit(evaluator) == False:\n",
        "        raise Exception(\"数字を入力して下さい\")\n",
        "    \n",
        "    return(evaluator)\n",
        "\n",
        "def confirmName(evaluator):\n",
        "    print('\\n確認：あなたの名前は'+str(colname[int(evaluator)+2])+'ですか？')\n",
        "    confirmName = input('0:はい 1:いいえ 2:中止')\n",
        "    if confirmName == '0':\n",
        "        pass\n",
        "    elif confirmName == '1':\n",
        "        print('')\n",
        "        print('')\n",
        "    elif confirmName == '2':\n",
        "        print('ﾌﾟﾛｸﾞﾗﾑを終了します。有難うございました')\n",
        "    return(confirmName)\n",
        "\n",
        "def getlabel(image_path):\n",
        "    image_name = int(os.path.basename(image_path).split(\".\")[0])  #パスから画像番号を抜き出し\n",
        "    label = os.path.basename(os.path.dirname(image_path))  #パスからラベルのフォルダ名を抜き出し\n",
        "    return(image_name, label)\n",
        "\n",
        "\n",
        "def showImage(image_path):\n",
        "    #画像のインポート\n",
        "    img = cv2.imread(image_path, cv2.IMREAD_UNCHANGED)\n",
        "    #画像のリサイズ\n",
        "    height = img.shape[0]\n",
        "    width = img.shape[1]\n",
        "    resized_img = cv2.resize(img, (int(width*300/height), 300))\n",
        "    cv2_imshow(resized_img)\n",
        "\n",
        "def hum_prediction():\n",
        "    while True:\n",
        "        print(class_name[1]+'：「0」')\n",
        "        print(class_name[0]+'：「1」')\n",
        "        print('評価を中断する: 「2」')\n",
        "        pred = input('ラベルを入力して下さい')\n",
        "        if pred == '1':\n",
        "            hum_pred = class_name[0]\n",
        "            break\n",
        "        elif pred == '0':\n",
        "            hum_pred = class_name[1]\n",
        "            break\n",
        "        elif pred == '2':\n",
        "            hum_pred = 'exit'\n",
        "            break\n",
        "        else:\n",
        "            print('0-2を入力して下さい')\n",
        "    return hum_pred  #class_nameで出力される\n"
      ],
      "execution_count": 0,
      "outputs": []
    },
    {
      "cell_type": "markdown",
      "metadata": {
        "id": "9ctcIUsdqDwf",
        "colab_type": "text"
      },
      "source": [
        "#メインプログラム\n",
        "\n"
      ]
    },
    {
      "cell_type": "code",
      "metadata": {
        "id": "1SBzXxouqEJ1",
        "colab_type": "code",
        "outputId": "c6177fb8-25cb-4dc3-95c1-77675ae2f82b",
        "colab": {
          "base_uri": "https://localhost:8080/",
          "height": 92
        }
      },
      "source": [
        "#ファイル名の取得\n",
        "\n",
        "image_path = glob.glob(\"/content/drive/My Drive/Deep_learning/gravcont_seed_1234/val/*/*\")\n",
        "#random.shuffle(image_path)  #表示順をランダムにする\n",
        "print(len(image_path))\n",
        "print(image_path) \n",
        "\n",
        "#対象画像のパスからラベルを抜き出す\n",
        "\n",
        "\n",
        "#ファイル名よりラベルを抜き出し、'class_name'と定義\n",
        "class_name = []\n",
        "class_path = glob.glob('/content/drive/My Drive/Deep_learning/gravcont_seed_1234/val/*')\n",
        "for i in class_path:\n",
        "    class_name.append(os.path.basename(i))  \n",
        "print(class_name)\n",
        "\n",
        "\n",
        "image_path = image_path[0:5]  #テスト用にデータセットを減らす\n"
      ],
      "execution_count": 47,
      "outputs": [
        {
          "output_type": "stream",
          "text": [
            "128\n",
            "['/content/drive/My Drive/Deep_learning/gravcont_seed_1234/val/grav/5015.jpg', '/content/drive/My Drive/Deep_learning/gravcont_seed_1234/val/grav/1503.jpg', '/content/drive/My Drive/Deep_learning/gravcont_seed_1234/val/grav/2851.jpg', '/content/drive/My Drive/Deep_learning/gravcont_seed_1234/val/grav/6518.jpg', '/content/drive/My Drive/Deep_learning/gravcont_seed_1234/val/grav/6147.jpg', '/content/drive/My Drive/Deep_learning/gravcont_seed_1234/val/grav/6150.jpg', '/content/drive/My Drive/Deep_learning/gravcont_seed_1234/val/grav/893.jpg', '/content/drive/My Drive/Deep_learning/gravcont_seed_1234/val/grav/7765.jpg', '/content/drive/My Drive/Deep_learning/gravcont_seed_1234/val/grav/4030.jpg', '/content/drive/My Drive/Deep_learning/gravcont_seed_1234/val/grav/6764.jpg', '/content/drive/My Drive/Deep_learning/gravcont_seed_1234/val/grav/180.jpg', '/content/drive/My Drive/Deep_learning/gravcont_seed_1234/val/grav/1396.jpg', '/content/drive/My Drive/Deep_learning/gravcont_seed_1234/val/grav/2803.jpg', '/content/drive/My Drive/Deep_learning/gravcont_seed_1234/val/grav/5125.jpg', '/content/drive/My Drive/Deep_learning/gravcont_seed_1234/val/grav/5378.jpg', '/content/drive/My Drive/Deep_learning/gravcont_seed_1234/val/grav/24.jpg', '/content/drive/My Drive/Deep_learning/gravcont_seed_1234/val/grav/1457.jpg', '/content/drive/My Drive/Deep_learning/gravcont_seed_1234/val/grav/1001.jpg', '/content/drive/My Drive/Deep_learning/gravcont_seed_1234/val/grav/1284.jpg', '/content/drive/My Drive/Deep_learning/gravcont_seed_1234/val/grav/5647.jpg', '/content/drive/My Drive/Deep_learning/gravcont_seed_1234/val/grav/2794.jpg', '/content/drive/My Drive/Deep_learning/gravcont_seed_1234/val/grav/19.jpg', '/content/drive/My Drive/Deep_learning/gravcont_seed_1234/val/grav/7283.jpg', '/content/drive/My Drive/Deep_learning/gravcont_seed_1234/val/grav/4125.jpg', '/content/drive/My Drive/Deep_learning/gravcont_seed_1234/val/grav/5901.jpg', '/content/drive/My Drive/Deep_learning/gravcont_seed_1234/val/grav/1304.jpg', '/content/drive/My Drive/Deep_learning/gravcont_seed_1234/val/grav/17.jpg', '/content/drive/My Drive/Deep_learning/gravcont_seed_1234/val/grav/5681.jpg', '/content/drive/My Drive/Deep_learning/gravcont_seed_1234/val/grav/5551.jpg', '/content/drive/My Drive/Deep_learning/gravcont_seed_1234/val/grav/2508.jpg', '/content/drive/My Drive/Deep_learning/gravcont_seed_1234/val/grav/2801.jpg', '/content/drive/My Drive/Deep_learning/gravcont_seed_1234/val/grav/3528.jpg', '/content/drive/My Drive/Deep_learning/gravcont_seed_1234/val/grav/36.jpg', '/content/drive/My Drive/Deep_learning/gravcont_seed_1234/val/grav/385.jpg', '/content/drive/My Drive/Deep_learning/gravcont_seed_1234/val/grav/425.jpg', '/content/drive/My Drive/Deep_learning/gravcont_seed_1234/val/grav/965.JPG', '/content/drive/My Drive/Deep_learning/gravcont_seed_1234/val/grav/983.JPG', '/content/drive/My Drive/Deep_learning/gravcont_seed_1234/val/grav/1259.JPG', '/content/drive/My Drive/Deep_learning/gravcont_seed_1234/val/grav/1528.JPG', '/content/drive/My Drive/Deep_learning/gravcont_seed_1234/val/grav/1743.JPG', '/content/drive/My Drive/Deep_learning/gravcont_seed_1234/val/grav/1786.JPG', '/content/drive/My Drive/Deep_learning/gravcont_seed_1234/val/grav/1910.JPG', '/content/drive/My Drive/Deep_learning/gravcont_seed_1234/val/grav/2407.JPG', '/content/drive/My Drive/Deep_learning/gravcont_seed_1234/val/grav/2885.JPG', '/content/drive/My Drive/Deep_learning/gravcont_seed_1234/val/grav/3146.JPG', '/content/drive/My Drive/Deep_learning/gravcont_seed_1234/val/grav/3752.JPG', '/content/drive/My Drive/Deep_learning/gravcont_seed_1234/val/grav/3843.JPG', '/content/drive/My Drive/Deep_learning/gravcont_seed_1234/val/grav/4186.JPG', '/content/drive/My Drive/Deep_learning/gravcont_seed_1234/val/grav/4233.JPG', '/content/drive/My Drive/Deep_learning/gravcont_seed_1234/val/grav/4577.JPG', '/content/drive/My Drive/Deep_learning/gravcont_seed_1234/val/grav/5426.JPG', '/content/drive/My Drive/Deep_learning/gravcont_seed_1234/val/grav/5543.JPG', '/content/drive/My Drive/Deep_learning/gravcont_seed_1234/val/grav/5607.JPG', '/content/drive/My Drive/Deep_learning/gravcont_seed_1234/val/grav/6298.JPG', '/content/drive/My Drive/Deep_learning/gravcont_seed_1234/val/grav/6355.JPG', '/content/drive/My Drive/Deep_learning/gravcont_seed_1234/val/grav/6432.JPG', '/content/drive/My Drive/Deep_learning/gravcont_seed_1234/val/grav/7346.JPG', '/content/drive/My Drive/Deep_learning/gravcont_seed_1234/val/grav/7397.JPG', '/content/drive/My Drive/Deep_learning/gravcont_seed_1234/val/grav/7419.JPG', '/content/drive/My Drive/Deep_learning/gravcont_seed_1234/val/grav/7443.JPG', '/content/drive/My Drive/Deep_learning/gravcont_seed_1234/val/grav/7552.JPG', '/content/drive/My Drive/Deep_learning/gravcont_seed_1234/val/grav/8079.JPG', '/content/drive/My Drive/Deep_learning/gravcont_seed_1234/val/grav/8168.JPG', '/content/drive/My Drive/Deep_learning/gravcont_seed_1234/val/cont/1494.jpg', '/content/drive/My Drive/Deep_learning/gravcont_seed_1234/val/cont/802.jpg', '/content/drive/My Drive/Deep_learning/gravcont_seed_1234/val/cont/1193.jpg', '/content/drive/My Drive/Deep_learning/gravcont_seed_1234/val/cont/278.jpg', '/content/drive/My Drive/Deep_learning/gravcont_seed_1234/val/cont/139.jpg', '/content/drive/My Drive/Deep_learning/gravcont_seed_1234/val/cont/1459.jpg', '/content/drive/My Drive/Deep_learning/gravcont_seed_1234/val/cont/1233.jpg', '/content/drive/My Drive/Deep_learning/gravcont_seed_1234/val/cont/1515.jpg', '/content/drive/My Drive/Deep_learning/gravcont_seed_1234/val/cont/1305.jpg', '/content/drive/My Drive/Deep_learning/gravcont_seed_1234/val/cont/1118.jpg', '/content/drive/My Drive/Deep_learning/gravcont_seed_1234/val/cont/137.jpg', '/content/drive/My Drive/Deep_learning/gravcont_seed_1234/val/cont/958.jpg', '/content/drive/My Drive/Deep_learning/gravcont_seed_1234/val/cont/1319.jpg', '/content/drive/My Drive/Deep_learning/gravcont_seed_1234/val/cont/1428.jpg', '/content/drive/My Drive/Deep_learning/gravcont_seed_1234/val/cont/292.jpg', '/content/drive/My Drive/Deep_learning/gravcont_seed_1234/val/cont/204.jpg', '/content/drive/My Drive/Deep_learning/gravcont_seed_1234/val/cont/383.jpg', '/content/drive/My Drive/Deep_learning/gravcont_seed_1234/val/cont/1023.jpg', '/content/drive/My Drive/Deep_learning/gravcont_seed_1234/val/cont/401.jpg', '/content/drive/My Drive/Deep_learning/gravcont_seed_1234/val/cont/168.jpg', '/content/drive/My Drive/Deep_learning/gravcont_seed_1234/val/cont/225.jpg', '/content/drive/My Drive/Deep_learning/gravcont_seed_1234/val/cont/806.jpg', '/content/drive/My Drive/Deep_learning/gravcont_seed_1234/val/cont/998.jpg', '/content/drive/My Drive/Deep_learning/gravcont_seed_1234/val/cont/1126.jpg', '/content/drive/My Drive/Deep_learning/gravcont_seed_1234/val/cont/196.jpg', '/content/drive/My Drive/Deep_learning/gravcont_seed_1234/val/cont/1039.jpg', '/content/drive/My Drive/Deep_learning/gravcont_seed_1234/val/cont/1210.jpg', '/content/drive/My Drive/Deep_learning/gravcont_seed_1234/val/cont/685.jpg', '/content/drive/My Drive/Deep_learning/gravcont_seed_1234/val/cont/1102.jpg', '/content/drive/My Drive/Deep_learning/gravcont_seed_1234/val/cont/1082.jpg', '/content/drive/My Drive/Deep_learning/gravcont_seed_1234/val/cont/914.jpg', '/content/drive/My Drive/Deep_learning/gravcont_seed_1234/val/cont/444.jpg', '/content/drive/My Drive/Deep_learning/gravcont_seed_1234/val/cont/1281.jpg', '/content/drive/My Drive/Deep_learning/gravcont_seed_1234/val/cont/158.jpg', '/content/drive/My Drive/Deep_learning/gravcont_seed_1234/val/cont/1111.jpg', '/content/drive/My Drive/Deep_learning/gravcont_seed_1234/val/cont/1249.jpg', '/content/drive/My Drive/Deep_learning/gravcont_seed_1234/val/cont/85.jpg', '/content/drive/My Drive/Deep_learning/gravcont_seed_1234/val/cont/548.jpg', '/content/drive/My Drive/Deep_learning/gravcont_seed_1234/val/cont/440.jpg', '/content/drive/My Drive/Deep_learning/gravcont_seed_1234/val/cont/775.jpg', '/content/drive/My Drive/Deep_learning/gravcont_seed_1234/val/cont/1234.jpg', '/content/drive/My Drive/Deep_learning/gravcont_seed_1234/val/cont/760.jpg', '/content/drive/My Drive/Deep_learning/gravcont_seed_1234/val/cont/343.jpg', '/content/drive/My Drive/Deep_learning/gravcont_seed_1234/val/cont/1414.jpg', '/content/drive/My Drive/Deep_learning/gravcont_seed_1234/val/cont/149.jpg', '/content/drive/My Drive/Deep_learning/gravcont_seed_1234/val/cont/1241.jpg', '/content/drive/My Drive/Deep_learning/gravcont_seed_1234/val/cont/854.jpg', '/content/drive/My Drive/Deep_learning/gravcont_seed_1234/val/cont/934.jpg', '/content/drive/My Drive/Deep_learning/gravcont_seed_1234/val/cont/234.jpg', '/content/drive/My Drive/Deep_learning/gravcont_seed_1234/val/cont/1531.jpg', '/content/drive/My Drive/Deep_learning/gravcont_seed_1234/val/cont/821.jpg', '/content/drive/My Drive/Deep_learning/gravcont_seed_1234/val/cont/1182.jpg', '/content/drive/My Drive/Deep_learning/gravcont_seed_1234/val/cont/229.jpg', '/content/drive/My Drive/Deep_learning/gravcont_seed_1234/val/cont/38.JPG', '/content/drive/My Drive/Deep_learning/gravcont_seed_1234/val/cont/118.JPG', '/content/drive/My Drive/Deep_learning/gravcont_seed_1234/val/cont/495.JPG', '/content/drive/My Drive/Deep_learning/gravcont_seed_1234/val/cont/508.JPG', '/content/drive/My Drive/Deep_learning/gravcont_seed_1234/val/cont/639.JPG', '/content/drive/My Drive/Deep_learning/gravcont_seed_1234/val/cont/870.JPG', '/content/drive/My Drive/Deep_learning/gravcont_seed_1234/val/cont/932.JPG', '/content/drive/My Drive/Deep_learning/gravcont_seed_1234/val/cont/936.JPG', '/content/drive/My Drive/Deep_learning/gravcont_seed_1234/val/cont/1094.JPG', '/content/drive/My Drive/Deep_learning/gravcont_seed_1234/val/cont/1254.JPG', '/content/drive/My Drive/Deep_learning/gravcont_seed_1234/val/cont/1490.JPG', '/content/drive/My Drive/Deep_learning/gravcont_seed_1234/val/cont/1498.JPG']\n",
            "['grav', 'cont']\n"
          ],
          "name": "stdout"
        }
      ]
    },
    {
      "cell_type": "markdown",
      "metadata": {
        "id": "oa0lJ47K-gpo",
        "colab_type": "text"
      },
      "source": [
        "#**表を作成**"
      ]
    },
    {
      "cell_type": "code",
      "metadata": {
        "id": "FsG_wObU1f0Y",
        "colab_type": "code",
        "outputId": "8013381c-a0b4-4ddf-e3b6-5dae22c6f19d",
        "colab": {
          "base_uri": "https://localhost:8080/",
          "height": 126
        }
      },
      "source": [
        "image_name_list = []\n",
        "label_list = []\n",
        "\n",
        "for i in image_path:\n",
        "    image_name, label = getlabel(i)  #画像の名前とラベルを取得\n",
        "    image_name_list.append(image_name) #image_nameを番号でリストに格納\n",
        "    label_list.append(label)\n",
        "\n",
        "colname = ['image_name','Label','inoue', 'kohzaki', 'morimoto', 'kitaguchi', 'kawasaki'] #evaluatorの名前\n",
        "df = pd.DataFrame(index=None, columns=colname) #表を作る\n",
        "\n",
        "df.iloc[:,0] = image_name_list #0列目にラベルを代入する\n",
        "df.iloc[:,1] = label_list #1列目にラベルを代入する\n",
        "df = df.sort_values(\"image_name\", ascending=True) #画像番号順に並び替える\n",
        "df = df.reset_index(drop=True) #インデックスの番号をリセットする\n",
        "\n",
        "pd.set_option('display.max_rows', 500) #省略なしで表示\n",
        "print(df)\n"
      ],
      "execution_count": 48,
      "outputs": [
        {
          "output_type": "stream",
          "text": [
            "   image_name Label inoue kohzaki morimoto kitaguchi kawasaki\n",
            "0        1503  grav   NaN     NaN      NaN       NaN      NaN\n",
            "1        2851  grav   NaN     NaN      NaN       NaN      NaN\n",
            "2        5015  grav   NaN     NaN      NaN       NaN      NaN\n",
            "3        6147  grav   NaN     NaN      NaN       NaN      NaN\n",
            "4        6518  grav   NaN     NaN      NaN       NaN      NaN\n"
          ],
          "name": "stdout"
        }
      ]
    },
    {
      "cell_type": "code",
      "metadata": {
        "id": "9A_8PTXIYYQE",
        "colab_type": "code",
        "outputId": "7516dae3-3765-4158-83cc-b393319e6df3",
        "colab": {
          "base_uri": "https://localhost:8080/",
          "height": 199
        }
      },
      "source": [
        "while True:\n",
        "    evaluator = selectName() #名前を選択\n",
        "    confirm = confirmName(evaluator) #名前を確認\n",
        "    if confirm == '0':\n",
        "        break\n",
        "    elif confirm =='2':\n",
        "        sys.exit()"
      ],
      "execution_count": 50,
      "outputs": [
        {
          "output_type": "stream",
          "text": [
            "0: inoue\n",
            "1: kohzaki\n",
            "2: morimoto\n",
            "3: kitaguchi\n",
            "4: kawasaki\n",
            "5: 終了する\n",
            "名前を選んで下さい3\n",
            "\n",
            "確認：あなたの名前はkitaguchiですか？\n",
            "0:はい 1:いいえ 2:中止0\n"
          ],
          "name": "stdout"
        }
      ]
    },
    {
      "cell_type": "code",
      "metadata": {
        "id": "lMkJYjmYmwI5",
        "colab_type": "code",
        "colab": {
          "base_uri": "https://localhost:8080/",
          "height": 35
        },
        "outputId": "b09ff83f-3660-45d5-a963-0ac3b3db0f8a"
      },
      "source": [
        "evaluator"
      ],
      "execution_count": 45,
      "outputs": [
        {
          "output_type": "execute_result",
          "data": {
            "text/plain": [
              "'3'"
            ]
          },
          "metadata": {
            "tags": []
          },
          "execution_count": 45
        }
      ]
    },
    {
      "cell_type": "code",
      "metadata": {
        "id": "ExrP48T1FBst",
        "colab_type": "code",
        "colab": {
          "base_uri": "https://localhost:8080/",
          "height": 126
        },
        "outputId": "981968b3-174e-4959-c0dc-05fbb0da0518"
      },
      "source": [
        "print(df)"
      ],
      "execution_count": 27,
      "outputs": [
        {
          "output_type": "stream",
          "text": [
            "   image_name Label inoue kohzaki morimoto kitaguchi kawasaki\n",
            "0        1503  grav   NaN     NaN      NaN       NaN      NaN\n",
            "1        2851  grav   NaN     NaN      NaN      grav      NaN\n",
            "2        5015  grav   NaN     NaN      NaN       NaN      NaN\n",
            "3        6147  grav   NaN     NaN      NaN       NaN      NaN\n",
            "4        6518  grav   NaN     NaN      NaN       NaN      NaN\n"
          ],
          "name": "stdout"
        }
      ]
    },
    {
      "cell_type": "markdown",
      "metadata": {
        "id": "ndrKbTkzcEE-",
        "colab_type": "text"
      },
      "source": [
        "#**Human evaluation**"
      ]
    },
    {
      "cell_type": "code",
      "metadata": {
        "id": "okikEKlnrEP9",
        "colab_type": "code",
        "outputId": "457c8307-751d-4ba9-a7d7-0b0888afb6c9",
        "colab": {
          "base_uri": "https://localhost:8080/",
          "height": 35
        }
      },
      "source": [
        "#人による判定\n",
        "random.shuffle(image_path)\n",
        "\n",
        "#Alert\n",
        "alert = [5,10,30,50,100]\n",
        "\n",
        "for i in image_path:    \n",
        "    row = df[df['image_name'] == getlabel(i)[0]] #画像のIDと同じ行を抜き出す\n",
        "\n",
        "    remain_num = df.iloc[:,int(evaluator)+2].isnull().sum() #まだ評価していない画像をカウント\n",
        "    \n",
        "    if remain_num in alert:\n",
        "        print('あと'+str(remain_num)+'枚です！\\n') \n",
        "\n",
        "    if  remain_num == 0: #全画像評価済の場合は終了する　\n",
        "        print('全画像を判定済みです。有難うございました。')\n",
        "        break\n",
        "    elif isinstance(row.iloc[0,int(evaluator)+2], float) == True:  #すでに評価したものはスキップする\n",
        "        showImage(i) #画像を表示\n",
        "        \n",
        "        hum_pred = hum_prediction() #ヒトに判定してもらう\n",
        "        \n",
        "        if hum_pred == 'exit':\n",
        "            print('ﾌﾟﾛｸﾞﾗﾑを中断します。有難うございました。')\n",
        "            break\n",
        "        else:\n",
        "            df.iloc[row.index, int(evaluator)+2] = hum_pred #判定結果を表に追加する\n"
      ],
      "execution_count": 31,
      "outputs": [
        {
          "output_type": "stream",
          "text": [
            "全画像を判定済みです。有難うございました。\n"
          ],
          "name": "stdout"
        }
      ]
    },
    {
      "cell_type": "code",
      "metadata": {
        "id": "2MOWXeIoLgo6",
        "colab_type": "code",
        "colab": {}
      },
      "source": [
        "day = datetime.date.today()\n",
        "#CSV形式で保存\n",
        "df.to_csv('/content/drive/My Drive/Deep_learning/gravcont_results/Hum_eval_'+str(day) +'.csv')"
      ],
      "execution_count": 0,
      "outputs": []
    }
  ]
}