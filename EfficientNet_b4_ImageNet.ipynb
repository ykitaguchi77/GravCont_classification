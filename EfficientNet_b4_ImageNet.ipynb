{
  "nbformat": 4,
  "nbformat_minor": 0,
  "metadata": {
    "colab": {
      "name": "Untitled14.ipynb",
      "provenance": [],
      "toc_visible": true,
      "include_colab_link": true
    },
    "kernelspec": {
      "name": "python3",
      "display_name": "Python 3"
    },
    "accelerator": "GPU"
  },
  "cells": [
    {
      "cell_type": "markdown",
      "metadata": {
        "id": "view-in-github",
        "colab_type": "text"
      },
      "source": [
        "<a href=\"https://colab.research.google.com/github/ykitaguchi77/GravCont_classification/blob/master/EfficientNet_b4_ImageNet.ipynb\" target=\"_parent\"><img src=\"https://colab.research.google.com/assets/colab-badge.svg\" alt=\"Open In Colab\"/></a>"
      ]
    },
    {
      "cell_type": "markdown",
      "metadata": {
        "id": "TrKN5IgcL7xE",
        "colab_type": "text"
      },
      "source": [
        "#EfficientNet"
      ]
    },
    {
      "cell_type": "code",
      "metadata": {
        "id": "N1qAsufuyiS6",
        "colab_type": "code",
        "colab": {}
      },
      "source": [
        "from __future__ import print_function, division\n",
        "\n",
        "import torch\n",
        "import torch.nn as nn\n",
        "import torch.optim as optim\n",
        "from torch.optim import lr_scheduler\n",
        "import torch.utils.data as data\n",
        "import numpy as np\n",
        "import torchvision\n",
        "from torchvision import datasets, models, transforms\n",
        "import matplotlib.pyplot as plt\n",
        "import time\n",
        "import os\n",
        "import copy\n",
        "import math\n",
        "import shutil\n",
        "\n",
        "#Advanced Pytorchから\n",
        "import glob\n",
        "import os.path as osp\n",
        "import random\n",
        "import json\n",
        "from PIL import Image\n",
        "from tqdm import tqdm\n",
        "%matplotlib inline\n",
        "\n",
        "#サポートパッチのインポート\n",
        "from google.colab.patches import cv2_imshow\n",
        "import cv2\n",
        "\n",
        "plt.ion()   # interactive mode\n",
        "device = torch.device(\"cuda:0\" if torch.cuda.is_available() else \"cpu\")\n",
        "\n",
        "# Set random seem for reproducibility\n",
        "manualSeed = 1234\n",
        "#manualSeed = random.randint(1, 10000) # use if you want new results\n",
        "print(\"Random Seed: \", manualSeed)\n",
        "random.seed(manualSeed)\n",
        "torch.manual_seed(manualSeed)"
      ],
      "execution_count": 0,
      "outputs": []
    },
    {
      "cell_type": "markdown",
      "metadata": {
        "id": "AjHJcT7B37Wp",
        "colab_type": "text"
      },
      "source": [
        "#Google driveのデータをマウント"
      ]
    },
    {
      "cell_type": "code",
      "metadata": {
        "id": "1O7ViALp35Va",
        "colab_type": "code",
        "outputId": "44b0210a-2006-4970-802e-edea96c92a42",
        "colab": {
          "base_uri": "https://localhost:8080/",
          "height": 122
        }
      },
      "source": [
        "'''\n",
        "grav: 甲状腺眼症\n",
        "cont: コントロール\n",
        "黒の空白を挿入することにより225px*225pxの画像を生成、EfficientNetを用いて転移学習\n",
        "－－－－－－－－－－－－－－\n",
        "データの構造\n",
        "gravcont.zip ------grav\n",
        "               |---cont\n",
        "'''                                     \n",
        "\n",
        "#google driveをcolabolatoryにマウント\n",
        "from google.colab import drive\n",
        "drive.mount('/content/drive')\n"
      ],
      "execution_count": 0,
      "outputs": [
        {
          "output_type": "stream",
          "text": [
            "Go to this URL in a browser: https://accounts.google.com/o/oauth2/auth?client_id=947318989803-6bn6qk8qdgf4n4g3pfee6491hc0brc4i.apps.googleusercontent.com&redirect_uri=urn%3aietf%3awg%3aoauth%3a2.0%3aoob&response_type=code&scope=email%20https%3a%2f%2fwww.googleapis.com%2fauth%2fdocs.test%20https%3a%2f%2fwww.googleapis.com%2fauth%2fdrive%20https%3a%2f%2fwww.googleapis.com%2fauth%2fdrive.photos.readonly%20https%3a%2f%2fwww.googleapis.com%2fauth%2fpeopleapi.readonly\n",
            "\n",
            "Enter your authorization code:\n",
            "··········\n",
            "Mounted at /content/drive\n"
          ],
          "name": "stdout"
        }
      ]
    },
    {
      "cell_type": "code",
      "metadata": {
        "id": "X3_B_Wmz4qBh",
        "colab_type": "code",
        "outputId": "3f3862b0-7e7b-4152-e658-010a9c179ca6",
        "colab": {
          "base_uri": "https://localhost:8080/",
          "height": 136
        }
      },
      "source": [
        "# 入力画像の前処理をするクラス\n",
        "# 訓練時と推論時で処理が異なる\n",
        "\n",
        "\"\"\"\n",
        "    画像の前処理クラス。訓練時、検証時で異なる動作をする。\n",
        "    画像のサイズをリサイズし、色を標準化する。\n",
        "    訓練時はRandomResizedCropとRandomHorizontalFlipでデータオーギュメンテーションする。\n",
        "\n",
        "\n",
        "    Attributes\n",
        "    ----------\n",
        "    resize : int\n",
        "        リサイズ先の画像の大きさ。\n",
        "    mean : (R, G, B)\n",
        "        各色チャネルの平均値。\n",
        "    std : (R, G, B)\n",
        "        各色チャネルの標準偏差。\n",
        "\"\"\"\n",
        "\n",
        "data_transforms = {\n",
        "    'train': transforms.Compose([\n",
        "        transforms.RandomResizedCrop(224, scale=(0.75,1.0)),\n",
        "        transforms.RandomHorizontalFlip(),\n",
        "        transforms.ToTensor(),\n",
        "        transforms.Normalize([0.485, 0.456, 0.406], [0.229, 0.224, 0.225])\n",
        "    ]),\n",
        "    'val': transforms.Compose([\n",
        "        transforms.Resize(224),\n",
        "        transforms.ToTensor(),\n",
        "        transforms.Normalize([0.485, 0.456, 0.406], [0.229, 0.224, 0.225])\n",
        "    ]),\n",
        "}\n",
        "\n",
        "data_dir = '/content/drive/My Drive/Deep_learning/gravcont_seed_1234'\n",
        "n_samples = len(data_dir)\n",
        "\n",
        "image_datasets = {x: datasets.ImageFolder(os.path.join(data_dir, x),\n",
        "                                          data_transforms[x])\n",
        "                  for x in ['train', 'val']}\n",
        "dataloaders = {x: torch.utils.data.DataLoader(image_datasets[x], batch_size=20,\n",
        "                                             shuffle=True, num_workers=4)\n",
        "              for x in ['train', 'val']}\n",
        "dataset_sizes = {x: len(image_datasets[x]) for x in ['train', 'val']}\n",
        "class_names = image_datasets['train'].classes\n",
        "\n",
        "device = torch.device(\"cuda:0\" if torch.cuda.is_available() else \"cpu\")\n",
        "\n",
        "\n",
        "\n",
        "print(class_names)\n",
        "k=0\n",
        "for i in class_names:\n",
        "    print(class_names[k]+\"_train:\"+str(len(os.listdir(path='/content/drive/My Drive/Deep_learning/gravcont_seed_1234/train/'+class_names[k]))))\n",
        "    k+=1\n",
        "k=0\n",
        "for i in class_names:\n",
        "    print(class_names[k]+\"_val:\"+str(len(os.listdir(path='/content/drive/My Drive/Deep_learning/gravcont_seed_1234/val/'+class_names[k]))))\n",
        "    k+=1\n",
        "\n",
        "print(\"training data set_total：\"+ str(len(image_datasets['train'])))\n",
        "print(\"validating data set_total：\"+str(len(image_datasets['val'])))"
      ],
      "execution_count": 0,
      "outputs": [
        {
          "output_type": "stream",
          "text": [
            "['cont', 'grav']\n",
            "cont_train:256\n",
            "grav_train:252\n",
            "cont_val:65\n",
            "grav_val:63\n",
            "training data set_total：508\n",
            "validating data set_total：128\n"
          ],
          "name": "stdout"
        }
      ]
    },
    {
      "cell_type": "markdown",
      "metadata": {
        "id": "Ug8MDRrs41UQ",
        "colab_type": "text"
      },
      "source": [
        "#少数の画像を可視化"
      ]
    },
    {
      "cell_type": "code",
      "metadata": {
        "id": "84f1PzA041aQ",
        "colab_type": "code",
        "outputId": "dfab052e-e9f8-4c82-e7aa-df1416d0b8ca",
        "colab": {
          "base_uri": "https://localhost:8080/",
          "height": 190
        }
      },
      "source": [
        "def imshow(inp, title=None):\n",
        "    \"\"\"Imshow for Tensor.\"\"\"\n",
        "    inp = inp.numpy().transpose((1, 2, 0))\n",
        "    mean = np.array([0.485, 0.456, 0.406])\n",
        "    std = np.array([0.229, 0.224, 0.225])\n",
        "    inp = std * inp + mean\n",
        "    inp = np.clip(inp, 0, 1)\n",
        "    plt.imshow(inp)\n",
        "    if title is not None:\n",
        "        plt.title(title)\n",
        "    plt.pause(0.001)  # pause a bit so that plots are updated\n",
        "\n",
        "\n",
        "# Get a batch of training data\n",
        "inputs, classes = next(iter(dataloaders['train']))\n",
        "\n",
        "# Make a grid from batch\n",
        "out = torchvision.utils.make_grid(inputs)\n",
        "\n",
        "imshow(out, title=[class_names[x] for x in classes])"
      ],
      "execution_count": 0,
      "outputs": [
        {
          "output_type": "display_data",
          "data": {
            "image/png": "[encoded data removed]",
            "text/plain": [
              "<Figure size 432x288 with 1 Axes>"
            ]
          },
          "metadata": {
            "tags": [],
            "needs_background": "light"
          }
        }
      ]
    },
    {
      "cell_type": "markdown",
      "metadata": {
        "id": "PtEyxzUT5CXo",
        "colab_type": "text"
      },
      "source": [
        "#Train models with early stopping class"
      ]
    },
    {
      "cell_type": "code",
      "metadata": {
        "id": "qMkGKi4p5Ceh",
        "colab_type": "code",
        "colab": {}
      },
      "source": [
        "#Defining early stopping class\n",
        "import numpy as np\n",
        "import torch\n",
        "\n",
        "class EarlyStopping:\n",
        "    \"\"\"Early stops the training if validation loss doesn't improve after a given patience.\"\"\"\n",
        "    def __init__(self, patience=7, verbose=False, delta=0):\n",
        "        \"\"\"\n",
        "        Args:\n",
        "            patience (int): How long to wait after last time validation loss improved.\n",
        "                            Default: 7\n",
        "            verbose (bool): If True, prints a message for each validation loss improvement. \n",
        "                            Default: False\n",
        "            delta (float): Minimum change in the monitored quantity to qualify as an improvement.\n",
        "                            Default: 0\n",
        "        \"\"\"\n",
        "        self.patience = patience\n",
        "        self.verbose = verbose\n",
        "        self.counter = 0\n",
        "        self.best_score = None\n",
        "        self.early_stop = False\n",
        "        self.val_loss_min = np.Inf\n",
        "        self.delta = delta\n",
        "\n",
        "    def __call__(self, val_loss, model):\n",
        "\n",
        "        score = -val_loss\n",
        "\n",
        "        if self.best_score is None:\n",
        "            self.best_score = score\n",
        "            self.save_checkpoint(val_loss, model)\n",
        "        elif score < self.best_score + self.delta:\n",
        "            self.counter += 1\n",
        "            print(f'EarlyStopping counter: {self.counter} out of {self.patience}')\n",
        "            if self.counter >= self.patience:\n",
        "                self.early_stop = True\n",
        "        else:\n",
        "            self.best_score = score\n",
        "            self.save_checkpoint(val_loss, model)\n",
        "            self.counter = 0\n",
        "\n",
        "    def save_checkpoint(self, val_loss, model):\n",
        "        '''Saves model when validation loss decrease.'''\n",
        "        if self.verbose:\n",
        "            print(f'Validation loss decreased ({self.val_loss_min:.6f} --> {val_loss:.6f}).  Saving model ...')\n",
        "        torch.save(model.state_dict(), 'checkpoint.pt')\n",
        "        self.val_loss_min = val_loss\n",
        "\n",
        "\n",
        "#Train models\n",
        "def train_model(model, criterion, optimizer, scheduler, patience, num_epochs):\n",
        "    since = time.time()\n",
        "\n",
        "    best_model_wts = copy.deepcopy(model.state_dict())\n",
        "    best_acc = 0.0\n",
        "\n",
        "    # to track the training loss as the model trains\n",
        "    train_loss = []\n",
        "    # to track the validation loss as the model trains\n",
        "    valid_loss = []\n",
        "\n",
        "\n",
        "    # initialize the early_stopping object\n",
        "    early_stopping = EarlyStopping(patience=patience, verbose=True)\n",
        "\n",
        "    for epoch in range(num_epochs):\n",
        "        print('Epoch {}/{}'.format(epoch, num_epochs - 1))\n",
        "        print('-' * 10)\n",
        "\n",
        "        # Each epoch has a training and validation phase\n",
        "        for phase in ['train', 'val']:\n",
        "            if phase == 'train':\n",
        "                model.train()  # Set model to training mode\n",
        "            else:\n",
        "                model.eval()   # Set model to evaluate mode\n",
        "\n",
        "            running_loss = 0.0\n",
        "            running_corrects = 0\n",
        "\n",
        "            # Iterate over data.\n",
        "            for inputs, labels in dataloaders[phase]:\n",
        "                inputs = inputs.to(device)\n",
        "                labels = labels.to(device)\n",
        "\n",
        "                # zero the parameter gradients\n",
        "                optimizer.zero_grad()\n",
        "\n",
        "                # forward\n",
        "                # track history if only in train\n",
        "                with torch.set_grad_enabled(phase == 'train'):\n",
        "                    outputs = model(inputs)\n",
        "                    _, preds = torch.max(outputs, 1)\n",
        "                    loss = criterion(outputs, labels)\n",
        "\n",
        "                    # backward + optimize only if in training phase\n",
        "                    if phase == 'train':\n",
        "                        loss.backward()\n",
        "                        optimizer.step()\n",
        "\n",
        "                # statistics\n",
        "                running_loss += loss.item() * inputs.size(0)\n",
        "                running_corrects += torch.sum(preds == labels.data)\n",
        "\n",
        "            epoch_loss = running_loss / dataset_sizes[phase]\n",
        "            epoch_acc = running_corrects.double() / dataset_sizes[phase] \n",
        "            \n",
        "            # record train_loss and valid_loss\n",
        "            if phase == 'train':\n",
        "                train_loss.append(epoch_loss)\n",
        "                scheduler.step()\n",
        "                print('epoch:{}, lr:{}'.format(epoch, scheduler.get_lr()[0]))\n",
        "            if phase == 'val':\n",
        "                valid_loss.append(epoch_loss)\n",
        "            #print(train_loss)\n",
        "            #print(valid_loss)\n",
        "\n",
        "            print('{} Loss: {:.4f} Acc: {:.4f}'.format(\n",
        "                phase, epoch_loss, epoch_acc))\n",
        "\n",
        "\n",
        "            # deep copy the model\n",
        "            if phase == 'val' and epoch_acc > best_acc:\n",
        "                best_acc = epoch_acc\n",
        "                best_model_wts = copy.deepcopy(model.state_dict())\n",
        "      \n",
        "      # early_stopping needs the validation loss to check if it has decresed, \n",
        "      # and if it has, it will make a checkpoint of the current model\n",
        "        if phase == 'val':    \n",
        "            early_stopping(epoch_loss, model)\n",
        "                \n",
        "            if early_stopping.early_stop:\n",
        "                print(\"Early stopping\")\n",
        "                break\n",
        "        print()\n",
        "\n",
        "\n",
        "    time_elapsed = time.time() - since\n",
        "    print('Training complete in {:.0f}m {:.0f}s'.format(\n",
        "        time_elapsed // 60, time_elapsed % 60))\n",
        "    print('Best val Acc: {:4f}'.format(best_acc))\n",
        "\n",
        "    # load best model weights\n",
        "    model.load_state_dict(best_model_wts)\n",
        "    return model, train_loss, valid_loss\n",
        "\n",
        "\n",
        "#Visualize model\n",
        "def visualize_model(model, num_images=6):\n",
        "    was_training = model.training\n",
        "    model.eval()\n",
        "    images_so_far = 0\n",
        "    fig = plt.figure()\n",
        "\n",
        "    with torch.no_grad():\n",
        "        for i, (inputs, labels) in enumerate(dataloaders['val']):\n",
        "            inputs = inputs.to(device)\n",
        "            labels = labels.to(device)\n",
        "\n",
        "            outputs = model(inputs)\n",
        "            _, preds = torch.max(outputs, 1)\n",
        "\n",
        "            for j in range(inputs.size()[0]):\n",
        "                images_so_far += 1\n",
        "                ax = plt.subplot(num_images//2, 2, images_so_far)\n",
        "                ax.axis('off')\n",
        "                ax.set_title('predicted: {}'.format(class_names[preds[j]]))\n",
        "                imshow(inputs.cpu().data[j])\n",
        "\n",
        "                if images_so_far == num_images:\n",
        "                    model.train(mode=was_training)\n",
        "                    return\n",
        "        model.train(mode=was_training)"
      ],
      "execution_count": 0,
      "outputs": []
    },
    {
      "cell_type": "markdown",
      "metadata": {
        "id": "bVCbZIEf5grk",
        "colab_type": "text"
      },
      "source": [
        "#Define EfficientNet\n",
        "※pretrained modelを用いているので、ここは不要"
      ]
    },
    {
      "cell_type": "code",
      "metadata": {
        "id": "z0tSC_aLysaR",
        "colab_type": "code",
        "colab": {}
      },
      "source": [
        "# Swish activation    \n",
        "class Swish(nn.Module):                                    \n",
        "    def forward(self, x):\n",
        "        return x * torch.sigmoid(x)\n",
        "\n",
        "\n",
        "# Squeeze Excitation module\n",
        "class SEblock(nn.Module):                                 \n",
        "    def __init__(self, ch_in, ch_sq):\n",
        "        super(SEblock, self).__init__()\n",
        "        self.se = nn.Sequential(\n",
        "            nn.AdaptiveAvgPool2d(1),\n",
        "            nn.Conv2d(ch_in, ch_sq, 1),\n",
        "            Swish(),\n",
        "            nn.Conv2d(ch_sq, ch_in, 1),\n",
        "        )\n",
        "        self.se.apply(weights_init)\n",
        "\n",
        "    def forward(self, x):\n",
        "        return x * torch.sigmoid(self.se(x))\n",
        "\n",
        "def weights_init(m):\n",
        "    if isinstance(m, nn.Conv2d):\n",
        "        nn.init.kaiming_normal_(m.weight)\n",
        "\n",
        "    if isinstance(m, nn.Linear):\n",
        "        nn.init.kaiming_uniform_(m.weight)\n",
        "        nn.init.zeros_(m.bias)\n",
        "\n",
        "\n",
        "#ConvBN module\n",
        "class ConvBN(nn.Module):\n",
        "    def __init__(self, ch_in, ch_out, kernel_size,\n",
        "                 stride=1, padding=0, groups=1):\n",
        "        super(ConvBN, self).__init__()\n",
        "        self.layers = nn.Sequential(\n",
        "                nn.Conv2d(ch_in, ch_out, kernel_size,\n",
        "                          stride, padding, groups=groups, bias=False),\n",
        "                nn.BatchNorm2d(ch_out),\n",
        "        )\n",
        "        self.layers.apply(weights_init)\n",
        "\n",
        "    def forward(self, x):\n",
        "        return self.layers(x)\n",
        "\n",
        "\n",
        "#Drop Connect layer\n",
        "class DropConnect(nn.Module):\n",
        "    def __init__(self, drop_rate):\n",
        "        super(DropConnect, self).__init__()\n",
        "        self.drop_rate = drop_rate\n",
        "\n",
        "    def forward(self, x):\n",
        "        if self.training:\n",
        "            keep_rate = 1.0 - self.drop_rate\n",
        "            r = torch.rand([x.size(0),1,1,1], dtype=x.dtype).to(x.device)\n",
        "            r += keep_rate\n",
        "            mask = r.floor()\n",
        "            return x.div(keep_rate) * mask\n",
        "        else:\n",
        "            return x\n",
        "\n",
        "\n",
        "#BM module\n",
        "class BMConvBlock(nn.Module):\n",
        "    def __init__(self, ch_in, ch_out,\n",
        "                 expand_ratio, stride, kernel_size,\n",
        "                 reduction_ratio=4, drop_connect_rate=0.2):\n",
        "        super(BMConvBlock, self).__init__()\n",
        "        self.use_residual = (ch_in==ch_out) & (stride==1)\n",
        "        ch_med = int(ch_in * expand_ratio)\n",
        "        ch_sq = max(1, ch_in//reduction_ratio)\n",
        "\n",
        "        # define network                                                        \n",
        "        if expand_ratio != 1.0:\n",
        "            layers = [ConvBN(ch_in, ch_med, 1),Swish()]\n",
        "        else:\n",
        "            layers = []\n",
        "\n",
        "        layers.extend([\n",
        "            ConvBN(ch_med, ch_med, kernel_size, stride=stride,\n",
        "                   padding=(kernel_size-1)//2, groups=ch_med), # depth-wise    \n",
        "            Swish(),\n",
        "            SEblock(ch_med, ch_sq), # Squeeze Excitation                        \n",
        "            ConvBN(ch_med, ch_out, 1), # pixel-wise                             \n",
        "        ])\n",
        "\n",
        "        if self.use_residual:\n",
        "            self.drop_connect = DropConnect(drop_connect_rate)\n",
        "\n",
        "        self.layers = nn.Sequential(*layers)\n",
        "\n",
        "    def forward(self, x):\n",
        "        if self.use_residual:\n",
        "            return x + self.drop_connect(self.layers(x))\n",
        "        else:\n",
        "            return self.layers(x)\n",
        "\n",
        "\n",
        "#Flatten layer\n",
        "class Flatten(nn.Module):\n",
        "    def forward(self, x):\n",
        "        return x.view(x.shape[0], -1)\n",
        "\n",
        "\n",
        "#EfficientNet\n",
        "class EfficientNet(nn.Module):\n",
        "    def __init__(self, width_mult=1.0, depth_mult=1.0,\n",
        "                 resolution=False, dropout_rate=0.2, \n",
        "                 input_ch=3, num_classes=1000):\n",
        "        super(EfficientNet, self).__init__()\n",
        "\n",
        "        # expand_ratio, channel, repeats, stride, kernel_size                   \n",
        "        settings = [\n",
        "            [1,  16, 1, 1, 3],  # MBConv1_3x3, SE, 112 -> 112                   \n",
        "            [6,  24, 2, 2, 3],  # MBConv6_3x3, SE, 112 ->  56                   \n",
        "            [6,  40, 2, 2, 5],  # MBConv6_5x5, SE,  56 ->  28                   \n",
        "            [6,  80, 3, 2, 3],  # MBConv6_3x3, SE,  28 ->  14                   \n",
        "            [6, 112, 3, 1, 5],  # MBConv6_5x5, SE,  14 ->  14                   \n",
        "            [6, 192, 4, 2, 5],  # MBConv6_5x5, SE,  14 ->   7                   \n",
        "            [6, 320, 1, 1, 3]   # MBConv6_3x3, SE,   7 ->   7]                  \n",
        "        ]\n",
        "\n",
        "        ch_out = int(math.ceil(32*width_mult))\n",
        "        features = [nn.AdaptiveAvgPool2d(resolution)] if resolution else []\n",
        "        features.extend([ConvBN(input_ch, ch_out, 3, stride=2), Swish()])\n",
        "\n",
        "        ch_in = ch_out\n",
        "        for t, c, n, s, k in settings:\n",
        "            ch_out  = int(math.ceil(c*width_mult))\n",
        "            repeats = int(math.ceil(n*depth_mult))\n",
        "            for i in range(repeats):\n",
        "                stride = s if i==0 else 1\n",
        "                features.extend([BMConvBlock(ch_in, ch_out, t, stride, k)])\n",
        "                ch_in = ch_out\n",
        "\n",
        "        ch_last = int(math.ceil(1280*width_mult))\n",
        "        features.extend([ConvBN(ch_in, ch_last, 1), Swish()])\n",
        "\n",
        "        self.features = nn.Sequential(*features)\n",
        "        self.classifier = nn.Sequential(\n",
        "            nn.AdaptiveAvgPool2d(1),\n",
        "            Flatten(),\n",
        "            nn.Dropout(dropout_rate))\n",
        "        self.fc = nn.Linear(ch_last, num_classes)\n",
        "\n",
        "    def forward(self, x):\n",
        "        x = self.features(x)\n",
        "        x = self.classifier(x)\n",
        "        x = self.fc(x)\n",
        "        return x\n",
        "\n",
        "\n",
        "#EfficientNetB0からB7まで\n",
        "def _efficientnet(w_mult, d_mult, resolution, drop_rate,\n",
        "                  input_ch, num_classes=1000):\n",
        "    model = EfficientNet(w_mult, d_mult,\n",
        "                         resolution, drop_rate,\n",
        "                         input_ch, num_classes)\n",
        "    return model\n",
        "\n",
        "\n",
        "def efficientnet_b0(input_ch=3, num_classes=1000):\n",
        "    #(w_mult, d_mult, resolution, droprate) = (1.0, 1.0, 224, 0.2)              \n",
        "    return _efficientnet(1.0, 1.0, None, 0.2, input_ch, num_classes)\n",
        "\n",
        "def efficientnet_b1(input_ch=3, num_classes=1000):\n",
        "    #(w_mult, d_mult, resolution, droprate) = (1.0, 1.1, 240, 0.2)              \n",
        "    return _efficientnet(1.0, 1.1, None, 0.2, input_ch, num_classes)\n",
        "\n",
        "def efficientnet_b2(input_ch=3, num_classes=1000):\n",
        "    #(w_mult, d_mult, resolution, droprate) = (1.1, 1.2, 260, 0.3)              \n",
        "    return _efficientnet(1.1, 1.2, None, 0.3, input_ch, num_classes)\n",
        "\n",
        "def efficientnet_b3(input_ch=3, num_classes=1000):\n",
        "    #(w_mult, d_mult, resolution, droprate) = (1.2, 1.4, 300, 0.3)              \n",
        "    return _efficientnet(1.2, 1.4, None, 0.3, input_ch, num_classes)\n",
        "\n",
        "def efficientnet_b4(input_ch=3, num_classes=1000):\n",
        "    #(w_mult, d_mult, resolution, droprate) = (1.4, 1.8, 380, 0.4)              \n",
        "    return _efficientnet(1.4, 1.8, None, 0.4, input_ch, num_classes)\n",
        "\n",
        "def efficientnet_b5(input_ch=3, num_classes=1000):\n",
        "    #(w_mult, d_mult, resolution, droprate) = (1.6, 2.2, 456, 0.4)              \n",
        "    return _efficientnet(1.6, 2.2, None, 0.4, input_ch, num_classes)\n",
        "\n",
        "def efficientnet_b6(input_ch=3, num_classes=1000):\n",
        "    #(w_mult, d_mult, resolution, droprate) = (1.8, 2.6, 528, 0.5)              \n",
        "    return _efficientnet(1.8, 2.6, None, 0.5, input_ch, num_classes)\n",
        "\n",
        "def efficientnet_b7(input_ch=3, num_classes=1000):\n",
        "    #(w_mult, d_mult, resolution, droprate) = (2.0, 3.1, 600, 0.5)              \n",
        "    return _efficientnet(2.0, 3.1, None, 0.5, input_ch, num_classes)\n"
      ],
      "execution_count": 0,
      "outputs": []
    },
    {
      "cell_type": "markdown",
      "metadata": {
        "id": "v3HoQ2LJ5n8Z",
        "colab_type": "text"
      },
      "source": [
        "#Convnetを再調整する"
      ]
    },
    {
      "cell_type": "code",
      "metadata": {
        "id": "HJaDJQWbzhX7",
        "colab_type": "code",
        "colab": {}
      },
      "source": [
        "_LRScheduler = torch.optim.lr_scheduler._LRScheduler\n",
        "\n",
        "#LRschedulerのバグ修正\n",
        "#https://colab.research.google.com/drive/1idL-NPUvomAWzj_EVn2QccQVwQgEoGrJ\n",
        "class StepLR(_LRScheduler):\n",
        "    \"\"\"Sets the learning rate of each parameter group to the initial lr\n",
        "    decayed by gamma every step_size epochs. When last_epoch=-1, sets\n",
        "    initial lr as lr.\n",
        "    Args:\n",
        "        optimizer (Optimizer): Wrapped optimizer.\n",
        "        step_size (int): Period of learning rate decay.\n",
        "        gamma (float): Multiplicative factor of learning rate decay.\n",
        "            Default: 0.1.\n",
        "        last_epoch (int): The index of last epoch. Default: -1.\n",
        "    Example:\n",
        "        >>> # Assuming optimizer uses lr = 0.05 for all groups\n",
        "        >>> # lr = 0.05     if epoch < 30\n",
        "        >>> # lr = 0.005    if 30 <= epoch < 60\n",
        "        >>> # lr = 0.0005   if 60 <= epoch < 90\n",
        "        >>> # ...\n",
        "        >>> scheduler = StepLR(optimizer, step_size=30, gamma=0.1)\n",
        "        >>> for epoch in range(100):\n",
        "        >>>     scheduler.step()\n",
        "        >>>     train(...)\n",
        "        >>>     validate(...)\n",
        "    \"\"\"\n",
        "\n",
        "    def __init__(self, optimizer, step_size, gamma=0.1, last_epoch=-1):\n",
        "        self.step_size = step_size\n",
        "        self.gamma = gamma\n",
        "        super(StepLR, self).__init__(optimizer, last_epoch)\n",
        "\n",
        "    def get_lr(self):\n",
        "        return [base_lr * self.gamma ** (self.last_epoch // self.step_size)\n",
        "                for base_lr in self.base_lrs]\n",
        "\n",
        "\n",
        "class MultiStepLR(_LRScheduler):\n",
        "    \"\"\"Set the learning rate of each parameter group to the initial lr decayed\n",
        "    by gamma once the number of epoch reaches one of the milestones. When\n",
        "    last_epoch=-1, sets initial lr as lr.\n",
        "    Args:\n",
        "        optimizer (Optimizer): Wrapped optimizer.\n",
        "        milestones (list): List of epoch indices. Must be increasing.\n",
        "        gamma (float): Multiplicative factor of learning rate decay.\n",
        "            Default: 0.1.\n",
        "        last_epoch (int): The index of last epoch. Default: -1.\n",
        "    Example:\n",
        "        >>> # Assuming optimizer uses lr = 0.05 for all groups\n",
        "        >>> # lr = 0.05     if epoch < 30\n",
        "        >>> # lr = 0.005    if 30 <= epoch < 80\n",
        "        >>> # lr = 0.0005   if epoch >= 80\n",
        "        >>> scheduler = MultiStepLR(optimizer, milestones=[30,80], gamma=0.1)\n",
        "        >>> for epoch in range(100):\n",
        "        >>>     scheduler.step()\n",
        "        >>>     train(...)\n",
        "        >>>     validate(...)\n",
        "    \"\"\"\n",
        "\n",
        "    def __init__(self, optimizer, milestones, gamma=0.1, last_epoch=-1):\n",
        "        if not list(milestones) == sorted(milestones):\n",
        "            raise ValueError('Milestones should be a list of'\n",
        "                             ' increasing integers. Got {}', milestones)\n",
        "        self.milestones = milestones\n",
        "        self.gamma = gamma\n",
        "        super(MultiStepLR, self).__init__(optimizer, last_epoch)\n",
        "\n",
        "    def get_lr(self):\n",
        "        return [base_lr * self.gamma ** bisect_right(self.milestones, self.last_epoch)\n",
        "                for base_lr in self.base_lrs]"
      ],
      "execution_count": 0,
      "outputs": []
    },
    {
      "cell_type": "code",
      "metadata": {
        "id": "BfPV-Jzc5nYS",
        "colab_type": "code",
        "outputId": "f7e4d6f5-fdfc-4a85-f5fb-5efc4b3adb52",
        "colab": {
          "base_uri": "https://localhost:8080/",
          "height": 68
        }
      },
      "source": [
        "!pip install efficientnet_pytorch\n",
        "from efficientnet_pytorch import EfficientNet \n",
        "\n",
        "model_ft = EfficientNet.from_pretrained('efficientnet-b4')\n",
        "num_ftrs = model_ft._fc.in_features\n",
        "model_ft._fc = nn.Linear(num_ftrs, 2)\n",
        "\n",
        "#GPU使用\n",
        "model_ft = model_ft.to(device)\n",
        "\n",
        "#損失関数を定義\n",
        "criterion = nn.CrossEntropyLoss()\n",
        "\n",
        "# Observe that all parameters are being optimized\n",
        "optimizer_ft = optim.SGD(model_ft.parameters(), lr=0.01, momentum=0.9)\n",
        "\n",
        "# Decay LR by a factor of 0.1 every 7 epochs\n",
        "exp_lr_scheduler = lr_scheduler.MultiStepLR(optimizer_ft, milestones=[5, 12, 20, 30], gamma=0.1)\n",
        "#exp_lr_scheduler = lr_scheduler.StepLR(optimizer_ft, step_size=7, gamma=0.1)"
      ],
      "execution_count": 0,
      "outputs": [
        {
          "output_type": "stream",
          "text": [
            "Requirement already satisfied: efficientnet_pytorch in /usr/local/lib/python3.6/dist-packages (0.6.3)\n",
            "Requirement already satisfied: torch in /usr/local/lib/python3.6/dist-packages (from efficientnet_pytorch) (1.4.0)\n",
            "Loaded pretrained weights for efficientnet-b4\n"
          ],
          "name": "stdout"
        }
      ]
    },
    {
      "cell_type": "markdown",
      "metadata": {
        "id": "0OiHdwLO50nJ",
        "colab_type": "text"
      },
      "source": [
        "#訓練と評価"
      ]
    },
    {
      "cell_type": "code",
      "metadata": {
        "id": "hEd4dxXC2ImJ",
        "colab_type": "code",
        "outputId": "f26c30df-8b12-4b88-9d17-afe0e3244897",
        "colab": {
          "base_uri": "https://localhost:8080/",
          "height": 1000
        }
      },
      "source": [
        "model_ft, train_loss, valid_loss = train_model(model_ft, criterion, optimizer_ft, exp_lr_scheduler, patience=5, num_epochs=50)"
      ],
      "execution_count": 0,
      "outputs": [
        {
          "output_type": "stream",
          "text": [
            "Epoch 0/49\n",
            "----------\n",
            "epoch:0, lr:0.01\n",
            "train Loss: 0.6671 Acc: 0.5906\n",
            "val Loss: 0.9175 Acc: 0.4922\n",
            "Validation loss decreased (inf --> 0.917518).  Saving model ...\n",
            "\n",
            "Epoch 1/49\n",
            "----------\n",
            "epoch:1, lr:0.01\n",
            "train Loss: 0.5349 Acc: 0.7303\n",
            "val Loss: 0.8003 Acc: 0.5312\n",
            "Validation loss decreased (0.917518 --> 0.800320).  Saving model ...\n",
            "\n",
            "Epoch 2/49\n",
            "----------\n",
            "epoch:2, lr:0.01\n",
            "train Loss: 0.3955 Acc: 0.8248\n",
            "val Loss: 0.6334 Acc: 0.6953\n",
            "Validation loss decreased (0.800320 --> 0.633446).  Saving model ...\n",
            "\n",
            "Epoch 3/49\n",
            "----------\n",
            "epoch:3, lr:0.01\n",
            "train Loss: 0.2494 Acc: 0.8839\n",
            "val Loss: 0.5065 Acc: 0.7891\n",
            "Validation loss decreased (0.633446 --> 0.506493).  Saving model ...\n",
            "\n",
            "Epoch 4/49\n",
            "----------\n",
            "epoch:4, lr:0.0001\n",
            "train Loss: 0.2732 Acc: 0.8878\n",
            "val Loss: 0.8432 Acc: 0.7031\n",
            "EarlyStopping counter: 1 out of 5\n",
            "\n",
            "Epoch 5/49\n",
            "----------\n",
            "epoch:5, lr:0.001\n",
            "train Loss: 0.2078 Acc: 0.9232\n",
            "val Loss: 0.5508 Acc: 0.7734\n",
            "EarlyStopping counter: 2 out of 5\n",
            "\n",
            "Epoch 6/49\n",
            "----------\n",
            "epoch:6, lr:0.001\n",
            "train Loss: 0.1387 Acc: 0.9626\n",
            "val Loss: 0.4029 Acc: 0.8203\n",
            "Validation loss decreased (0.506493 --> 0.402914).  Saving model ...\n",
            "\n",
            "Epoch 7/49\n",
            "----------\n",
            "epoch:7, lr:0.001\n",
            "train Loss: 0.1467 Acc: 0.9429\n",
            "val Loss: 0.3582 Acc: 0.8203\n",
            "Validation loss decreased (0.402914 --> 0.358164).  Saving model ...\n",
            "\n",
            "Epoch 8/49\n",
            "----------\n",
            "epoch:8, lr:0.001\n",
            "train Loss: 0.1229 Acc: 0.9587\n",
            "val Loss: 0.3487 Acc: 0.8281\n",
            "Validation loss decreased (0.358164 --> 0.348687).  Saving model ...\n",
            "\n",
            "Epoch 9/49\n",
            "----------\n",
            "epoch:9, lr:0.001\n",
            "train Loss: 0.1035 Acc: 0.9626\n",
            "val Loss: 0.3461 Acc: 0.8438\n",
            "Validation loss decreased (0.348687 --> 0.346083).  Saving model ...\n",
            "\n",
            "Epoch 10/49\n",
            "----------\n",
            "epoch:10, lr:0.001\n",
            "train Loss: 0.1078 Acc: 0.9626\n",
            "val Loss: 0.3082 Acc: 0.8516\n",
            "Validation loss decreased (0.346083 --> 0.308177).  Saving model ...\n",
            "\n",
            "Epoch 11/49\n",
            "----------\n",
            "epoch:11, lr:1e-05\n",
            "train Loss: 0.1120 Acc: 0.9665\n",
            "val Loss: 0.3216 Acc: 0.8516\n",
            "EarlyStopping counter: 1 out of 5\n",
            "\n",
            "Epoch 12/49\n",
            "----------\n",
            "epoch:12, lr:0.0001\n",
            "train Loss: 0.0910 Acc: 0.9724\n",
            "val Loss: 0.3238 Acc: 0.8516\n",
            "EarlyStopping counter: 2 out of 5\n",
            "\n",
            "Epoch 13/49\n",
            "----------\n",
            "epoch:13, lr:0.0001\n",
            "train Loss: 0.0813 Acc: 0.9803\n",
            "val Loss: 0.3250 Acc: 0.8516\n",
            "EarlyStopping counter: 3 out of 5\n",
            "\n",
            "Epoch 14/49\n",
            "----------\n",
            "epoch:14, lr:0.0001\n",
            "train Loss: 0.0832 Acc: 0.9744\n",
            "val Loss: 0.3260 Acc: 0.8594\n",
            "EarlyStopping counter: 4 out of 5\n",
            "\n",
            "Epoch 15/49\n",
            "----------\n",
            "epoch:15, lr:0.0001\n",
            "train Loss: 0.0840 Acc: 0.9744\n",
            "val Loss: 0.3291 Acc: 0.8594\n",
            "EarlyStopping counter: 5 out of 5\n",
            "Early stopping\n",
            "Training complete in 4m 43s\n",
            "Best val Acc: 0.859375\n"
          ],
          "name": "stdout"
        }
      ]
    },
    {
      "cell_type": "code",
      "metadata": {
        "id": "0q6L_-4k56Q9",
        "colab_type": "code",
        "outputId": "bda0d696-74f1-4b90-a93a-576c0b31a3d5",
        "colab": {
          "base_uri": "https://localhost:8080/",
          "height": 585
        }
      },
      "source": [
        "# visualize the loss as the network trained\n",
        "fig = plt.figure(figsize=(10,8))\n",
        "plt.plot(range(1,len(train_loss)+1),train_loss, label='Training Loss')\n",
        "plt.plot(range(1,len(valid_loss)+1),valid_loss,label='Validation Loss')\n",
        "\n",
        "# find position of lowest validation loss\n",
        "minposs = valid_loss.index(min(valid_loss))+1 \n",
        "plt.axvline(minposs, linestyle='--', color='r',label='Early Stopping Checkpoint')\n",
        "\n",
        "plt.xlabel('epochs')\n",
        "plt.ylabel('loss')\n",
        "plt.ylim(0, 1.0) # consistent scale\n",
        "plt.xlim(0, len(train_loss)+1) # consistent scale\n",
        "plt.grid(True)\n",
        "plt.legend()\n",
        "plt.tight_layout()\n",
        "plt.show()\n",
        "fig.savefig('loss_plot.png', bbox_inches='tight')"
      ],
      "execution_count": 0,
      "outputs": [
        {
          "output_type": "display_data",
          "data": {
            "image/png": "[encoded data removed]",
            "text/plain": [
              "<Figure size 720x576 with 1 Axes>"
            ]
          },
          "metadata": {
            "tags": [],
            "needs_background": "light"
          }
        }
      ]
    },
    {
      "cell_type": "code",
      "metadata": {
        "id": "2lg4904lWG7l",
        "colab_type": "code",
        "outputId": "d9525914-340a-4c26-9ad3-b48bb73ef1c5",
        "colab": {
          "base_uri": "https://localhost:8080/",
          "height": 581
        }
      },
      "source": [
        "visualize_model(model_ft)"
      ],
      "execution_count": 0,
      "outputs": [
        {
          "output_type": "display_data",
          "data": {
            "image/png": "[encoded data removed]",
            "text/plain": [
              "<Figure size 432x288 with 1 Axes>"
            ]
          },
          "metadata": {
            "tags": [],
            "needs_background": "light"
          }
        },
        {
          "output_type": "display_data",
          "data": {
            "image/png": "[encoded data removed]",
            "text/plain": [
              "<Figure size 432x288 with 1 Axes>"
            ]
          },
          "metadata": {
            "tags": [],
            "needs_background": "light"
          }
        },
        {
          "output_type": "display_data",
          "data": {
            "image/png": "[encoded data removed]",
            "text/plain": [
              "<Figure size 432x288 with 1 Axes>"
            ]
          },
          "metadata": {
            "tags": [],
            "needs_background": "light"
          }
        },
        {
          "output_type": "display_data",
          "data": {
            "image/png": "[encoded data removed]",
            "text/plain": [
              "<Figure size 432x288 with 1 Axes>"
            ]
          },
          "metadata": {
            "tags": [],
            "needs_background": "light"
          }
        },
        {
          "output_type": "display_data",
          "data": {
            "image/png": "[encoded data removed]",
            "text/plain": [
              "<Figure size 432x288 with 1 Axes>"
            ]
          },
          "metadata": {
            "tags": [],
            "needs_background": "light"
          }
        },
        {
          "output_type": "display_data",
          "data": {
            "image/png": "[encoded data removed]",
            "text/plain": [
              "<Figure size 432x288 with 1 Axes>"
            ]
          },
          "metadata": {
            "tags": [],
            "needs_background": "light"
          }
        }
      ]
    },
    {
      "cell_type": "markdown",
      "metadata": {
        "id": "y4tIAy_sXcjz",
        "colab_type": "text"
      },
      "source": [
        "#Calcurate Accuracy\n",
        "・True positive (TN)<br>\n",
        "・False positive (FP)<br>\n",
        "・True negative (TN)<br>\n",
        "・False negative (FN)<br>\n",
        "\n",
        "Accuracy = (TP + TN)/ (TP + TN + FP + FN)<br>\n",
        "Precision = TP/(FP + TP) ※positive predictive value<br>\n",
        "Recall = TP/(TP + FN)　※sensitivity<br>\n",
        "Specificity = TN/(FP + TN)<br>\n",
        "F_value = (2RecallPrecision)/(Recall+Precision)<br>"
      ]
    },
    {
      "cell_type": "code",
      "metadata": {
        "id": "R9hh6KRKZUDd",
        "colab_type": "code",
        "outputId": "7247f3a1-3487-48ed-d698-573b01de711c",
        "colab": {
          "base_uri": "https://localhost:8080/",
          "height": 88
        }
      },
      "source": [
        "#valフォルダ内のファイル名を取得\n",
        "image_path = glob.glob(\"/content/drive/My Drive/Deep_learning/gravcont_seed_1234/val/*/*\")\n",
        "random.shuffle(image_path)  #表示順をランダムにする\n",
        "print(len(image_path))\n",
        "print(image_path) \n",
        "\n",
        "\n",
        "\n",
        "\"\"\"\n",
        "#ファイル名よりラベルを抜き出し、'class_name'と定義\n",
        "class_name = []\n",
        "class_path = glob.glob('/content/drive/My Drive/Deep_learning/applstra/val/*')\n",
        "for i in class_path:\n",
        "    class_name.append(os.path.basename(i))  \n",
        "print(class_name)\n",
        "\"\"\""
      ],
      "execution_count": 0,
      "outputs": [
        {
          "output_type": "stream",
          "text": [
            "128\n",
            "['/content/drive/My Drive/Deep_learning/gravcont_seed_1234/val/grav/6283.JPG', '/content/drive/My Drive/Deep_learning/gravcont_seed_1234/val/cont/742.jpg', '/content/drive/My Drive/Deep_learning/gravcont_seed_1234/val/cont/139.jpg', '/content/drive/My Drive/Deep_learning/gravcont_seed_1234/val/grav/782.JPG', '/content/drive/My Drive/Deep_learning/gravcont_seed_1234/val/cont/321.jpg', '/content/drive/My Drive/Deep_learning/gravcont_seed_1234/val/cont/1010.jpg', '/content/drive/My Drive/Deep_learning/gravcont_seed_1234/val/cont/255.jpg', '/content/drive/My Drive/Deep_learning/gravcont_seed_1234/val/cont/1531.jpg', '/content/drive/My Drive/Deep_learning/gravcont_seed_1234/val/cont/955.jpg', '/content/drive/My Drive/Deep_learning/gravcont_seed_1234/val/cont/27.jpg', '/content/drive/My Drive/Deep_learning/gravcont_seed_1234/val/cont/958.jpg', '/content/drive/My Drive/Deep_learning/gravcont_seed_1234/val/grav/180.jpg', '/content/drive/My Drive/Deep_learning/gravcont_seed_1234/val/cont/1085.jpg', '/content/drive/My Drive/Deep_learning/gravcont_seed_1234/val/grav/5888.JPG', '/content/drive/My Drive/Deep_learning/gravcont_seed_1234/val/cont/685.jpg', '/content/drive/My Drive/Deep_learning/gravcont_seed_1234/val/grav/2762.JPG', '/content/drive/My Drive/Deep_learning/gravcont_seed_1234/val/grav/965.JPG', '/content/drive/My Drive/Deep_learning/gravcont_seed_1234/val/grav/1931.jpg', '/content/drive/My Drive/Deep_learning/gravcont_seed_1234/val/cont/1166.JPG', '/content/drive/My Drive/Deep_learning/gravcont_seed_1234/val/grav/1001.jpg', '/content/drive/My Drive/Deep_learning/gravcont_seed_1234/val/grav/3600.jpg', '/content/drive/My Drive/Deep_learning/gravcont_seed_1234/val/cont/1541.jpg', '/content/drive/My Drive/Deep_learning/gravcont_seed_1234/val/cont/760.jpg', '/content/drive/My Drive/Deep_learning/gravcont_seed_1234/val/cont/204.jpg', '/content/drive/My Drive/Deep_learning/gravcont_seed_1234/val/grav/2853.jpg', '/content/drive/My Drive/Deep_learning/gravcont_seed_1234/val/grav/5333.jpg', '/content/drive/My Drive/Deep_learning/gravcont_seed_1234/val/grav/7879.JPG', '/content/drive/My Drive/Deep_learning/gravcont_seed_1234/val/grav/1037.jpg', '/content/drive/My Drive/Deep_learning/gravcont_seed_1234/val/grav/3128.jpg', '/content/drive/My Drive/Deep_learning/gravcont_seed_1234/val/cont/891.jpg', '/content/drive/My Drive/Deep_learning/gravcont_seed_1234/val/grav/6486.JPG', '/content/drive/My Drive/Deep_learning/gravcont_seed_1234/val/grav/4008.jpg', '/content/drive/My Drive/Deep_learning/gravcont_seed_1234/val/cont/158.jpg', '/content/drive/My Drive/Deep_learning/gravcont_seed_1234/val/grav/155.jpg', '/content/drive/My Drive/Deep_learning/gravcont_seed_1234/val/cont/513.jpg', '/content/drive/My Drive/Deep_learning/gravcont_seed_1234/val/cont/1050.jpg', '/content/drive/My Drive/Deep_learning/gravcont_seed_1234/val/grav/3217.JPG', '/content/drive/My Drive/Deep_learning/gravcont_seed_1234/val/cont/1295.jpg', '/content/drive/My Drive/Deep_learning/gravcont_seed_1234/val/cont/317.jpg', '/content/drive/My Drive/Deep_learning/gravcont_seed_1234/val/grav/3956.JPG', '/content/drive/My Drive/Deep_learning/gravcont_seed_1234/val/grav/1385.jpg', '/content/drive/My Drive/Deep_learning/gravcont_seed_1234/val/grav/5546.jpg', '/content/drive/My Drive/Deep_learning/gravcont_seed_1234/val/cont/118.JPG', '/content/drive/My Drive/Deep_learning/gravcont_seed_1234/val/grav/8184.JPG', '/content/drive/My Drive/Deep_learning/gravcont_seed_1234/val/cont/1224.jpg', '/content/drive/My Drive/Deep_learning/gravcont_seed_1234/val/cont/969.jpg', '/content/drive/My Drive/Deep_learning/gravcont_seed_1234/val/grav/1432.JPG', '/content/drive/My Drive/Deep_learning/gravcont_seed_1234/val/grav/4939.JPG', '/content/drive/My Drive/Deep_learning/gravcont_seed_1234/val/cont/548.jpg', '/content/drive/My Drive/Deep_learning/gravcont_seed_1234/val/cont/1338.JPG', '/content/drive/My Drive/Deep_learning/gravcont_seed_1234/val/grav/4759.JPG', '/content/drive/My Drive/Deep_learning/gravcont_seed_1234/val/cont/941.jpg', '/content/drive/My Drive/Deep_learning/gravcont_seed_1234/val/grav/6502.JPG', '/content/drive/My Drive/Deep_learning/gravcont_seed_1234/val/cont/702.jpg', '/content/drive/My Drive/Deep_learning/gravcont_seed_1234/val/cont/1263.jpg', '/content/drive/My Drive/Deep_learning/gravcont_seed_1234/val/grav/5426.JPG', '/content/drive/My Drive/Deep_learning/gravcont_seed_1234/val/grav/3472.jpg', '/content/drive/My Drive/Deep_learning/gravcont_seed_1234/val/grav/507.JPG', '/content/drive/My Drive/Deep_learning/gravcont_seed_1234/val/cont/152.JPG', '/content/drive/My Drive/Deep_learning/gravcont_seed_1234/val/cont/1494.jpg', '/content/drive/My Drive/Deep_learning/gravcont_seed_1234/val/grav/5681.jpg', '/content/drive/My Drive/Deep_learning/gravcont_seed_1234/val/grav/6432.JPG', '/content/drive/My Drive/Deep_learning/gravcont_seed_1234/val/cont/112.jpg', '/content/drive/My Drive/Deep_learning/gravcont_seed_1234/val/grav/7900.jpg', '/content/drive/My Drive/Deep_learning/gravcont_seed_1234/val/cont/477.jpg', '/content/drive/My Drive/Deep_learning/gravcont_seed_1234/val/grav/1528.JPG', '/content/drive/My Drive/Deep_learning/gravcont_seed_1234/val/cont/913.jpg', '/content/drive/My Drive/Deep_learning/gravcont_seed_1234/val/grav/4331.jpg', '/content/drive/My Drive/Deep_learning/gravcont_seed_1234/val/grav/5607.JPG', '/content/drive/My Drive/Deep_learning/gravcont_seed_1234/val/cont/545.jpg', '/content/drive/My Drive/Deep_learning/gravcont_seed_1234/val/cont/179.JPG', '/content/drive/My Drive/Deep_learning/gravcont_seed_1234/val/cont/137.jpg', '/content/drive/My Drive/Deep_learning/gravcont_seed_1234/val/cont/1034.jpg', '/content/drive/My Drive/Deep_learning/gravcont_seed_1234/val/cont/110.jpg', '/content/drive/My Drive/Deep_learning/gravcont_seed_1234/val/grav/4209.JPG', '/content/drive/My Drive/Deep_learning/gravcont_seed_1234/val/grav/4606.jpg', '/content/drive/My Drive/Deep_learning/gravcont_seed_1234/val/cont/81.jpg', '/content/drive/My Drive/Deep_learning/gravcont_seed_1234/val/cont/130.jpg', '/content/drive/My Drive/Deep_learning/gravcont_seed_1234/val/grav/7161.jpg', '/content/drive/My Drive/Deep_learning/gravcont_seed_1234/val/cont/1033.JPG', '/content/drive/My Drive/Deep_learning/gravcont_seed_1234/val/grav/2407.JPG', '/content/drive/My Drive/Deep_learning/gravcont_seed_1234/val/grav/2670.JPG', '/content/drive/My Drive/Deep_learning/gravcont_seed_1234/val/grav/7867.jpg', '/content/drive/My Drive/Deep_learning/gravcont_seed_1234/val/grav/3646.jpg', '/content/drive/My Drive/Deep_learning/gravcont_seed_1234/val/cont/221.jpg', '/content/drive/My Drive/Deep_learning/gravcont_seed_1234/val/cont/1134.jpg', '/content/drive/My Drive/Deep_learning/gravcont_seed_1234/val/grav/1438.jpg', '/content/drive/My Drive/Deep_learning/gravcont_seed_1234/val/cont/806.jpg', '/content/drive/My Drive/Deep_learning/gravcont_seed_1234/val/grav/5646.JPG', '/content/drive/My Drive/Deep_learning/gravcont_seed_1234/val/cont/948.JPG', '/content/drive/My Drive/Deep_learning/gravcont_seed_1234/val/grav/6707.JPG', '/content/drive/My Drive/Deep_learning/gravcont_seed_1234/val/grav/6599.jpg', '/content/drive/My Drive/Deep_learning/gravcont_seed_1234/val/grav/7798.jpg', '/content/drive/My Drive/Deep_learning/gravcont_seed_1234/val/cont/163.jpg', '/content/drive/My Drive/Deep_learning/gravcont_seed_1234/val/cont/1009.jpg', '/content/drive/My Drive/Deep_learning/gravcont_seed_1234/val/grav/6513.JPG', '/content/drive/My Drive/Deep_learning/gravcont_seed_1234/val/grav/3802.jpg', '/content/drive/My Drive/Deep_learning/gravcont_seed_1234/val/cont/576.jpg', '/content/drive/My Drive/Deep_learning/gravcont_seed_1234/val/cont/1318.jpg', '/content/drive/My Drive/Deep_learning/gravcont_seed_1234/val/cont/1101.JPG', '/content/drive/My Drive/Deep_learning/gravcont_seed_1234/val/cont/1256.JPG', '/content/drive/My Drive/Deep_learning/gravcont_seed_1234/val/grav/1815.JPG', '/content/drive/My Drive/Deep_learning/gravcont_seed_1234/val/grav/2644.jpg', '/content/drive/My Drive/Deep_learning/gravcont_seed_1234/val/grav/4710.JPG', '/content/drive/My Drive/Deep_learning/gravcont_seed_1234/val/grav/6579.jpg', '/content/drive/My Drive/Deep_learning/gravcont_seed_1234/val/cont/1424.JPG', '/content/drive/My Drive/Deep_learning/gravcont_seed_1234/val/grav/4480.JPG', '/content/drive/My Drive/Deep_learning/gravcont_seed_1234/val/cont/577.jpg', '/content/drive/My Drive/Deep_learning/gravcont_seed_1234/val/grav/5540.jpg', '/content/drive/My Drive/Deep_learning/gravcont_seed_1234/val/cont/996.jpg', '/content/drive/My Drive/Deep_learning/gravcont_seed_1234/val/cont/490.JPG', '/content/drive/My Drive/Deep_learning/gravcont_seed_1234/val/cont/1312.jpg', '/content/drive/My Drive/Deep_learning/gravcont_seed_1234/val/grav/2189.JPG', '/content/drive/My Drive/Deep_learning/gravcont_seed_1234/val/cont/1458.jpg', '/content/drive/My Drive/Deep_learning/gravcont_seed_1234/val/grav/6489.JPG', '/content/drive/My Drive/Deep_learning/gravcont_seed_1234/val/grav/4618.JPG', '/content/drive/My Drive/Deep_learning/gravcont_seed_1234/val/grav/1347.jpg', '/content/drive/My Drive/Deep_learning/gravcont_seed_1234/val/cont/1319.jpg', '/content/drive/My Drive/Deep_learning/gravcont_seed_1234/val/grav/3609.JPG', '/content/drive/My Drive/Deep_learning/gravcont_seed_1234/val/cont/1082.jpg', '/content/drive/My Drive/Deep_learning/gravcont_seed_1234/val/grav/1764.JPG', '/content/drive/My Drive/Deep_learning/gravcont_seed_1234/val/cont/324.JPG', '/content/drive/My Drive/Deep_learning/gravcont_seed_1234/val/cont/565.jpg', '/content/drive/My Drive/Deep_learning/gravcont_seed_1234/val/grav/7290.jpg', '/content/drive/My Drive/Deep_learning/gravcont_seed_1234/val/cont/1451.jpg', '/content/drive/My Drive/Deep_learning/gravcont_seed_1234/val/cont/503.jpg', '/content/drive/My Drive/Deep_learning/gravcont_seed_1234/val/cont/1230.JPG', '/content/drive/My Drive/Deep_learning/gravcont_seed_1234/val/grav/1743.JPG']\n"
          ],
          "name": "stdout"
        },
        {
          "output_type": "execute_result",
          "data": {
            "text/plain": [
              "\"\\n#ファイル名よりラベルを抜き出し、'class_name'と定義\\nclass_name = []\\nclass_path = glob.glob('/content/drive/My Drive/Deep_learning/applstra/val/*')\\nfor i in class_path:\\n    class_name.append(os.path.basename(i))  \\nprint(class_name)\\n\""
            ]
          },
          "metadata": {
            "tags": []
          },
          "execution_count": 31
        }
      ]
    },
    {
      "cell_type": "markdown",
      "metadata": {
        "id": "yn78plUyakd0",
        "colab_type": "text"
      },
      "source": [
        "#画像とラベル表示のための関数を定義"
      ]
    },
    {
      "cell_type": "code",
      "metadata": {
        "id": "isr8jLRGaf1d",
        "colab_type": "code",
        "colab": {}
      },
      "source": [
        "#対象のパスからラベルを抜き出して表示\n",
        "def getlabel(image_path):\n",
        "      image_name = os.path.basename(image_path)\n",
        "      label = os.path.basename(os.path.dirname(image_path))\n",
        "      return(image_name, label)\n",
        "\n",
        "'''\n",
        "#変形後の画像を表示\n",
        "def image_transform(image_path):\n",
        "\n",
        "    image=Image.open(image_path)\n",
        "\n",
        "    \n",
        "    #変形した画像を表示する\n",
        "    transform = transforms.Compose([\n",
        "            transforms.Resize(256),\n",
        "            transforms.CenterCrop(224)])\n",
        "    image_transformed = transform(image)\n",
        "    plt.imshow(np.array(image_transformed))\n",
        "'''\n",
        "\n",
        "#評価のための画像下処理\n",
        "def image_transform(image_path):    \n",
        "    image=Image.open(image_path)\n",
        "    transform = transforms.Compose([\n",
        "            transforms.Resize(256),\n",
        "            transforms.CenterCrop(224),\n",
        "            transforms.ToTensor(),\n",
        "            transforms.Normalize([0.485, 0.456, 0.406], [0.229, 0.224, 0.225])])\n",
        "    image_tensor = transform(image)\n",
        "\n",
        "    #バッチサイズの次元を先頭に追加した4Dテンソルに変換\n",
        "    image_tensor.unsqueeze_(0)\n",
        "    #print(image_tensor.size())  # torch.Size([1, 3, 224, 224])\n",
        "    image_tensor = image_tensor.to(device) #model_ftをGPUに載せる\n",
        "\n",
        "    return(image_tensor)\n",
        "\n",
        "#モデルにした処理した画像を投入して予測結果を表示\n",
        "def image_eval(image_tensor, label):\n",
        "    output = model_ft(image_tensor)\n",
        "    #print(output.size())  # torch.Size([1, 1000])\n",
        "    #print(output)\n",
        "\n",
        "    #正解は青色、不正解は赤色で表示する\n",
        "    _, pred = torch.max(output, 1)\n",
        "    model_pred = class_names[pred]\n",
        "\n",
        "    return(model_pred)  #class_nameの番号で出力される\n",
        "\n",
        "def showImage(image_path):\n",
        "    #画像のインポート\n",
        "    img = cv2.imread(image_path, cv2.IMREAD_UNCHANGED)\n",
        "    #画像のリサイズ\n",
        "    height = img.shape[0]\n",
        "    width = img.shape[1]\n",
        "    resized_img = cv2.resize(img, (int(width*300/height), 300))\n",
        "    cv2_imshow(resized_img)\n",
        "\n",
        "def calculateAccuracy (TP, TN, FP, FN):\n",
        "    accuracy = (TP + TN)/ (TP + TN + FP + FN)\n",
        "    precision  = TP/(FP + TP)\n",
        "    recall = TP/(TP + FN)\n",
        "    specificity = TN/(FP + TN)\n",
        "    f_value = (2*recall*precision)/(recall+precision)\n",
        "    return(accuracy, precision, recall, specificity, f_value)"
      ],
      "execution_count": 0,
      "outputs": []
    },
    {
      "cell_type": "code",
      "metadata": {
        "id": "ExhbMh_WXcCN",
        "colab_type": "code",
        "outputId": "88bca33a-d141-4456-f29f-ebba797dc96c",
        "colab": {
          "base_uri": "https://localhost:8080/",
          "height": 34
        }
      },
      "source": [
        "TP, FP, TN, FN, TP, FP, TN, FN = [0,0,0,0,0,0,0,0]\n",
        "image_name_list = []\n",
        "label_list = []\n",
        "model_pred_list = []\n",
        "hum_pred_list = []\n",
        "\n",
        "for i in image_path:\n",
        "      image_name, label = getlabel(i)  #画像の名前とラベルを取得\n",
        "      image_tensor = image_transform(i)  #予測のための画像下処理\n",
        "      model_pred = image_eval(image_tensor, label)  #予測結果を出力   \n",
        "      #print('Image: '+ image_name)\n",
        "      #print('Label: '+ label)\n",
        "      #print('Pred: '+ model_pred)\n",
        "      #showImage(i)  #画像を表示\n",
        "      #print() #空白行を入れる\n",
        "      time.sleep(0.1)\n",
        "\n",
        "      image_name_list.append(image_name)\n",
        "      label_list.append(label)\n",
        "      model_pred_list.append(model_pred)\n",
        "\n",
        "      if label == class_names[0]:\n",
        "          if model_pred == class_names[0]:\n",
        "              TP += 1\n",
        "          else:\n",
        "              FN += 1\n",
        "      elif label == class_names[1]:\n",
        "          if model_pred == class_names[1]:\n",
        "              TN += 1\n",
        "          else:\n",
        "              FP += 1\n",
        "\n",
        "print(TP, FN, TN, FP)"
      ],
      "execution_count": 0,
      "outputs": [
        {
          "output_type": "stream",
          "text": [
            "58 7 56 7\n"
          ],
          "name": "stdout"
        }
      ]
    },
    {
      "cell_type": "code",
      "metadata": {
        "id": "v0uHz05lXkJh",
        "colab_type": "code",
        "outputId": "14e3d1aa-318d-4774-8ad7-6d254b581590",
        "colab": {
          "base_uri": "https://localhost:8080/",
          "height": 102
        }
      },
      "source": [
        "#Accuracyを計算\n",
        "accuracy, precision, recall, specificity, f_value = calculateAccuracy (TP, TN, FP, FN)\n",
        "print('Accuracy: ' + str(accuracy))\n",
        "print('Precision (positive predictive value): ' + str(precision))\n",
        "print('Recall (sensitivity): ' + str(recall))\n",
        "print('Specificity: ' + str(specificity))\n",
        "print('F_value: ' + str(f_value))"
      ],
      "execution_count": 0,
      "outputs": [
        {
          "output_type": "stream",
          "text": [
            "Accuracy: 0.890625\n",
            "Precision (positive predictive value): 0.8923076923076924\n",
            "Recall (sensitivity): 0.8923076923076924\n",
            "Specificity: 0.8888888888888888\n",
            "F_value: 0.8923076923076924\n"
          ],
          "name": "stdout"
        }
      ]
    },
    {
      "cell_type": "markdown",
      "metadata": {
        "id": "ThU3RXkkWIxT",
        "colab_type": "text"
      },
      "source": [
        "#ネットワークの保存"
      ]
    },
    {
      "cell_type": "code",
      "metadata": {
        "id": "xoJ_io0IWI99",
        "colab_type": "code",
        "colab": {}
      },
      "source": [
        "#ネットワークの保存\n",
        "PATH = '/content/drive/My Drive/Deep_learning/GravCont_EfficientNet-b4_ImageNet_seed'+str(manualSeed)+'.pth'\n",
        "torch.save(model_ft.state_dict(), PATH)"
      ],
      "execution_count": 0,
      "outputs": []
    }
  ]
}