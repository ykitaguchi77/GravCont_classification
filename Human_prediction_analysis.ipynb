{
  "nbformat": 4,
  "nbformat_minor": 0,
  "metadata": {
    "colab": {
      "name": "Untitled29.ipynb",
      "provenance": [],
      "toc_visible": true,
      "include_colab_link": true
    },
    "kernelspec": {
      "name": "python3",
      "display_name": "Python 3"
    }
  },
  "cells": [
    {
      "cell_type": "markdown",
      "metadata": {
        "id": "view-in-github",
        "colab_type": "text"
      },
      "source": [
        "<a href=\"https://colab.research.google.com/github/ykitaguchi77/GravCont_classification_colab/blob/master/Human_prediction_analysis.ipynb\" target=\"_parent\"><img src=\"https://colab.research.google.com/assets/colab-badge.svg\" alt=\"Open In Colab\"/></a>"
      ]
    },
    {
      "cell_type": "markdown",
      "metadata": {
        "id": "4KHgYAvVpn_B",
        "colab_type": "text"
      },
      "source": [
        "#**Human_prediction (result evaluation)**"
      ]
    },
    {
      "cell_type": "markdown",
      "metadata": {
        "id": "HkARPwYIYweF",
        "colab_type": "text"
      },
      "source": [
        "#使用方法：<br>\n",
        "Google driveへのログイン：\n",
        "\n",
        "          メールアドレスまたは電話番号：gravcont\n",
        "          パスワード：ted_77777\n"
      ]
    },
    {
      "cell_type": "code",
      "metadata": {
        "id": "8o064OrB4kwb",
        "colab_type": "code",
        "colab": {
          "base_uri": "https://localhost:8080/",
          "height": 391
        },
        "outputId": "3ab2ff81-1f04-4125-9791-9bbb41593373"
      },
      "source": [
        "import os\n",
        "import pandas as pd\n",
        "import glob\n",
        "import os.path as osp\n",
        "import random\n",
        "from PIL import Image\n",
        "import sys\n",
        "import datetime\n",
        "import math\n",
        "\n",
        "#Google colabをマウント\n",
        "from google.colab import drive\n",
        "drive.mount('/content/drive')\n",
        "\n",
        "def getlabel(df, column):\n",
        "    label = []\n",
        "    pred = []\n",
        "    for i in range(len(df)):\n",
        "        #labelとpredの両方に記載がある行のみカウントする\n",
        "        if pd.isnull(df.iloc[i,column])== False and pd.isnull(df.iloc[i,1]) == False:\n",
        "            label.append(df.iloc[i,1])\n",
        "            pred.append(df.iloc[i,column])\n",
        "    name = df.columns.values.tolist()\n",
        "    return(label, pred, name)\n",
        "\n",
        "    \n",
        "\n",
        "def calculate_parameters(label, pred):\n",
        "    TP, FP, TN, FN, TP, FP, TN, FN = [0,0,0,0,0,0,0,0]\n",
        "    for i in range(len(label)):\n",
        "        if label[i] == 'grav':\n",
        "            if label[i] == pred[i]:\n",
        "                TP += 1\n",
        "            else:\n",
        "                FN += 1\n",
        "        elif label[i] == 'cont':\n",
        "            if label[i] == pred[i]:\n",
        "                TN += 1\n",
        "            else:\n",
        "                FP += 1\n",
        "    return(TP,TN,FP,FN)\n",
        "\n",
        "def calculateAccuracy (TP, TN, FP, FN):\n",
        "    accuracy = (TP + TN)/ (TP + TN + FP + FN)\n",
        "    precision  = TP/(FP + TP)\n",
        "    recall = TP/(TP + FN)\n",
        "    specificity = TN/(FP + TN)\n",
        "    f_value = (2*recall*precision)/(recall+precision)\n",
        "    return(accuracy, precision, recall, specificity, f_value)\n",
        "\n",
        "\n",
        "#CSVファイルを開く\n",
        "df = pd.read_csv('/content/drive/My Drive/Hum_eval.csv', index_col=0, header=0)\n",
        "\n",
        "print(df)\n",
        "\n",
        "column = 5\n",
        "label, pred, name = getlabel(df, column)\n",
        "TP,TN,FP,FN = calculate_parameters(label,pred)\n",
        "\n",
        "print('name: ' + name[column])\n",
        "print(TP,TN,FP,FN)\n",
        "\n",
        "#Accuracyを計算\n",
        "accuracy, precision, recall, specificity, f_value = calculateAccuracy (TP, TN, FP, FN)\n",
        "print('Accuracy: ' + str(accuracy))\n",
        "print('Precision (positive predictive value): ' + str(precision))\n",
        "print('Recall (sensitivity): ' + str(recall))\n",
        "print('Specificity: ' + str(specificity))\n",
        "print('F_value: ' + str(f_value))\n",
        "\n",
        "\n"
      ],
      "execution_count": 13,
      "outputs": [
        {
          "output_type": "stream",
          "text": [
            "Drive already mounted at /content/drive; to attempt to forcibly remount, call drive.mount(\"/content/drive\", force_remount=True).\n",
            "     image_name Label  Inoue kohzaki  morimoto kitaguchi  kawasaki\n",
            "0            17  grav    NaN     NaN       NaN      grav       NaN\n",
            "1            19  grav    NaN     NaN       NaN      grav       NaN\n",
            "2            57  grav    NaN     NaN       NaN      grav       NaN\n",
            "3            66  cont    NaN     NaN       NaN      cont       NaN\n",
            "4            85  cont    NaN    cont       NaN      cont       NaN\n",
            "..          ...   ...    ...     ...       ...       ...       ...\n",
            "661        8149  cont    NaN     NaN       NaN      cont       NaN\n",
            "662        8168  grav    NaN     NaN       NaN      grav       NaN\n",
            "663        8184  grav    NaN     NaN       NaN      grav       NaN\n",
            "664        8198  grav    NaN     NaN       NaN      grav       NaN\n",
            "665        8210  cont    NaN     NaN       NaN      cont       NaN\n",
            "\n",
            "[666 rows x 7 columns]\n",
            "name: kitaguchi\n",
            "294 300 33 39\n",
            "Accuracy: 0.8918918918918919\n",
            "Precision (positive predictive value): 0.8990825688073395\n",
            "Recall (sensitivity): 0.8828828828828829\n",
            "Specificity: 0.9009009009009009\n",
            "F_value: 0.8909090909090909\n"
          ],
          "name": "stdout"
        }
      ]
    }
  ]
}