{
  "nbformat": 4,
  "nbformat_minor": 0,
  "metadata": {
    "colab": {
      "name": "Untitled34.ipynb",
      "provenance": [],
      "include_colab_link": true
    },
    "kernelspec": {
      "name": "python3",
      "display_name": "Python 3"
    },
    "accelerator": "GPU"
  },
  "cells": [
    {
      "cell_type": "markdown",
      "metadata": {
        "id": "view-in-github",
        "colab_type": "text"
      },
      "source": [
        "<a href=\"https://colab.research.google.com/github/ykitaguchi77/GravCont_classification_colab/blob/master/%E3%83%87%E3%83%BC%E3%82%BF%E3%82%BB%E3%83%83%E3%83%88%E3%82%92%E3%83%A9%E3%83%B3%E3%83%80%E3%83%A0%E3%81%AB%E6%8C%AF%E3%82%8A%E5%88%86%E3%81%91.ipynb\" target=\"_parent\"><img src=\"https://colab.research.google.com/assets/colab-badge.svg\" alt=\"Open In Colab\"/></a>"
      ]
    },
    {
      "cell_type": "markdown",
      "metadata": {
        "id": "oJv9nZ-chhr5",
        "colab_type": "text"
      },
      "source": [
        "#**GravCont_Resnet_random**"
      ]
    },
    {
      "cell_type": "code",
      "metadata": {
        "id": "QDgbjW1whffo",
        "colab_type": "code",
        "colab": {
          "base_uri": "https://localhost:8080/",
          "height": 51
        },
        "outputId": "1045b3c7-8ed0-494f-9cec-896ce173ee82"
      },
      "source": [
        "from __future__ import print_function, division\n",
        "\n",
        "import torch\n",
        "import torch.nn as nn\n",
        "import torch.optim as optim\n",
        "from torch.optim import lr_scheduler\n",
        "import torch.utils.data as data\n",
        "import numpy as np\n",
        "import torchvision\n",
        "from torchvision import datasets, models, transforms\n",
        "import matplotlib.pyplot as plt\n",
        "import time\n",
        "import os\n",
        "import copy\n",
        "import math\n",
        "import shutil\n",
        "\n",
        "#Advanced Pytorchから\n",
        "import glob\n",
        "import os.path as osp\n",
        "import random\n",
        "import json\n",
        "from PIL import Image\n",
        "from tqdm import tqdm\n",
        "%matplotlib inline\n",
        "\n",
        "#サポートパッチのインポート\n",
        "from google.colab.patches import cv2_imshow\n",
        "import cv2\n",
        "\n",
        "plt.ion()   # interactive mode\n",
        "device = torch.device(\"cuda:0\" if torch.cuda.is_available() else \"cpu\")\n",
        "\n",
        "# Set random seem for reproducibility\n",
        "manualSeed = 20200815\n",
        "#manualSeed = random.randint(1, 10000) # use if you want new results\n",
        "print(\"Random Seed: \", manualSeed)\n",
        "random.seed(manualSeed)\n",
        "torch.manual_seed(manualSeed)\n",
        "torch.cuda.manual_seed(manualSeed)\n",
        "\n",
        "torch.torch.backends.cudnn.benchmark = True\n",
        "torch.torch.backends.cudnn.enabled = True\n",
        "\n",
        "\n",
        "'''\n",
        "grav: 甲状腺眼症\n",
        "cont: コントロール\n",
        "黒の空白を挿入することにより225px*225pxの画像を生成、EfficientNetを用いて転移学習\n",
        "－－－－－－－－－－－－－－\n",
        "データの構造\n",
        "gravcont.zip ------grav\n",
        "               |---cont\n",
        "'''                                     \n",
        "\n",
        "#google driveをcolabolatoryにマウント\n",
        "from google.colab import drive\n",
        "drive.mount('/content/drive')"
      ],
      "execution_count": 2,
      "outputs": [
        {
          "output_type": "stream",
          "text": [
            "Random Seed:  20200815\n",
            "Drive already mounted at /content/drive; to attempt to forcibly remount, call drive.mount(\"/content/drive\", force_remount=True).\n"
          ],
          "name": "stdout"
        }
      ]
    },
    {
      "cell_type": "markdown",
      "metadata": {
        "id": "1YDKCGRji5DL",
        "colab_type": "text"
      },
      "source": [
        "#**データセットをランダムに振り分け**"
      ]
    },
    {
      "cell_type": "code",
      "metadata": {
        "id": "igUyt4Jti4Y9",
        "colab_type": "code",
        "colab": {
          "base_uri": "https://localhost:8080/",
          "height": 69
        },
        "outputId": "891ebfec-0884-4de2-beca-fee6ffa843d4"
      },
      "source": [
        "#処理時間の計測\n",
        "start = time.time()\n",
        "\n",
        "path = '/content/drive/My Drive/Deep_learning/gravcont_processed/'\n",
        "seed_path = '/content/drive/My Drive/Deep_learning/gravcont_seed_'+str(manualSeed)\n",
        "\n",
        "if os.path.exists(seed_path):\n",
        "    shutil.rmtree(seed_path)\n",
        "os.makedirs(seed_path, exist_ok=True)\n",
        "\n",
        "classes = os.listdir(path)\n",
        "print(classes)\n",
        "\n",
        "\n",
        "list = [0] * len(classes)\n",
        "train = [0] * len(classes)\n",
        "val = [0] * len(classes)\n",
        "k=0\n",
        "for i in classes:\n",
        "    list[k] = os.listdir(path + i)\n",
        "    train[k] = random.sample(list[k], int(len(list[k])*0.8))\n",
        "    val[k] = [x for x in list[k] if x not in train[k]]\n",
        "    os.makedirs(seed_path +'/train/'+i, exist_ok=True) #trainのフォルダを作成\n",
        "    os.makedirs(seed_path +'/val/'+i, exist_ok=True) #valのフォルダを作成\n",
        "    for j in train[k]:\n",
        "          shutil.copy(path+i+'/'+j, seed_path +'/train/'+i)\n",
        "    for j in val[k]:\n",
        "          shutil.copy(path+i+'/'+j, seed_path +'/val/'+i)\n",
        "\n",
        "print('Process done!!')\n",
        "elapsed_time = time.time() - start\n",
        "print (\"elapsed_time:{0}\".format(elapsed_time) + \"[sec]\")"
      ],
      "execution_count": 3,
      "outputs": [
        {
          "output_type": "stream",
          "text": [
            "['cont', 'grav']\n",
            "Process done!!\n",
            "elapsed_time:209.55647349357605[sec]\n"
          ],
          "name": "stdout"
        }
      ]
    },
    {
      "cell_type": "markdown",
      "metadata": {
        "id": "-PrEE2-wpYFB",
        "colab_type": "text"
      },
      "source": [
        "#**フォルダ内容の確認**"
      ]
    },
    {
      "cell_type": "code",
      "metadata": {
        "id": "cnL0t0zUnnG5",
        "colab_type": "code",
        "colab": {
          "base_uri": "https://localhost:8080/",
          "height": 120
        },
        "outputId": "a331a75a-ba8f-4ea0-cded-0354c1bdf5f8"
      },
      "source": [
        "print('train:')\n",
        "print('  grav: '+str(len(glob.glob(seed_path+'/train/grav/*'))))\n",
        "print('  cont: '+str(len(glob.glob(seed_path+'/train/cont/*'))))\n",
        "print('val:')\n",
        "print('  grav: '+str(len(glob.glob(seed_path+'/val/grav/*'))))\n",
        "print('  cont: '+str(len(glob.glob(seed_path+'/val/cont/*'))))"
      ],
      "execution_count": 11,
      "outputs": [
        {
          "output_type": "stream",
          "text": [
            "train:\n",
            "  grav: 266\n",
            "  cont: 266\n",
            "val:\n",
            "  grav: 67\n",
            "  cont: 67\n"
          ],
          "name": "stdout"
        }
      ]
    },
    {
      "cell_type": "markdown",
      "metadata": {
        "id": "pS7jyEWbjVRe",
        "colab_type": "text"
      },
      "source": [
        "#フォルダとその中のファイルを削除するスクリプト"
      ]
    },
    {
      "cell_type": "code",
      "metadata": {
        "id": "_M6lAV7zhigJ",
        "colab_type": "code",
        "colab": {}
      },
      "source": [
        "#フォルダを削除するスクリプト\n",
        "directory = '/content/drive/My Drive/Deep_learning/gravcont_seed_1234'\n",
        "files = os.listdir(directory)\n",
        "print(directory)\n",
        "print(files)\n",
        "\n",
        "for i in files:\n",
        "    try:\n",
        "        os.remove(directory+'/'+i)\n",
        "    except IsADirectoryError:\n",
        "        pass\n",
        "\n",
        "shutil.rmtree(directory)"
      ],
      "execution_count": null,
      "outputs": []
    }
  ]
}