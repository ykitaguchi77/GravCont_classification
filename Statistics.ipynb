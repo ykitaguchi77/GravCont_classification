{
  "nbformat": 4,
  "nbformat_minor": 0,
  "metadata": {
    "colab": {
      "name": "Untitled67.ipynb",
      "provenance": [],
      "authorship_tag": "ABX9TyPqP+jz3Mo6gW1wG92kI0IO",
      "include_colab_link": true
    },
    "kernelspec": {
      "name": "python3",
      "display_name": "Python 3"
    }
  },
  "cells": [
    {
      "cell_type": "markdown",
      "metadata": {
        "id": "view-in-github",
        "colab_type": "text"
      },
      "source": [
        "<a href=\"https://colab.research.google.com/github/ykitaguchi77/GravCont_classification_colab/blob/master/Statistics.ipynb\" target=\"_parent\"><img src=\"https://colab.research.google.com/assets/colab-badge.svg\" alt=\"Open In Colab\"/></a>"
      ]
    },
    {
      "cell_type": "code",
      "metadata": {
        "id": "HOthOjHTWeD7",
        "colab_type": "code",
        "colab": {
          "base_uri": "https://localhost:8080/",
          "height": 34
        },
        "outputId": "22886013-b527-4a4d-bc9d-4cafef3c2cae"
      },
      "source": [
        "import pandas as pd\n",
        "\n",
        "#google driveをcolabolatoryにマウント\n",
        "from google.colab import drive\n",
        "drive.mount('/content/drive')"
      ],
      "execution_count": 2,
      "outputs": [
        {
          "output_type": "stream",
          "text": [
            "Drive already mounted at /content/drive; to attempt to forcibly remount, call drive.mount(\"/content/drive\", force_remount=True).\n"
          ],
          "name": "stdout"
        }
      ]
    },
    {
      "cell_type": "markdown",
      "metadata": {
        "id": "yeu3z-7dWvm6",
        "colab_type": "text"
      },
      "source": [
        "#**データの格納場所**\n",
        "1ケタ目（ネットワーク）\n",
        "~~~\n",
        "0: EfficientNet_ImageNet\n",
        "1: ResNet50_ImageNet\n",
        "2:ResNet50_VGGFace\n",
        "3: ResNet50_nonPretrained\n",
        "~~~\n",
        "2ケタ目（標本数)\n",
        "~~~\n",
        "0: 558枚\n",
        "1: 256枚\n",
        "2 128枚\n",
        "3: 64枚\n",
        "4: 32枚\n",
        "~~~\n"
      ]
    },
    {
      "cell_type": "code",
      "metadata": {
        "id": "CghOq4ytWvAq",
        "colab_type": "code",
        "colab": {}
      },
      "source": [
        "path = [[0] * 5 for i in range(4)]\n",
        "path[0][0]= \"/content/drive/My Drive/crossvalidation/crossvalidation_csv/crossvalidation_EfficientNet_ImageNet_558.csv\"\n",
        "path[0][1]= \"/content/drive/My Drive/crossvalidation/crossvalidation_csv/crossvalidation_EfficientNet_ImageNet_256.csv\"\n",
        "path[0][2]= \"/content/drive/My Drive/crossvalidation/crossvalidation_csv/crossvalidation_EfficientNet_ImageNet_128.csv\"\n",
        "path[0][3]= \"/content/drive/My Drive/crossvalidation/crossvalidation_csv/crossvalidation_EfficientNet_ImageNet_64.csv\"\n",
        "path[0][4]= \"/content/drive/My Drive/crossvalidation/crossvalidation_csv/crossvalidation_EfficientNet_ImageNet_32.csv\"\n",
        "path[1][0]= \"/content/drive/My Drive/crossvalidation/crossvalidation_csv/crossvalidation_ResNet50_ImageNet_558.csv\"\n",
        "path[1][1]= \"/content/drive/My Drive/crossvalidation/crossvalidation_csv/crossvalidation_ResNet50_ImageNet_256.csv\"\n",
        "path[1][2]= \"/content/drive/My Drive/crossvalidation/crossvalidation_csv/crossvalidation_ResNet50_ImageNet_128.csv\"\n",
        "path[1][3]=  \"/content/drive/My Drive/crossvalidation/crossvalidation_csv/crossvalidation_ResNet50_ImageNet_64.csv\"\n",
        "path[1][4]= \"/content/drive/My Drive/crossvalidation/crossvalidation_csv/crossvalidation_ResNet50_ImageNet_32.csv\"\n",
        "path[2][0]= \"/content/drive/My Drive/crossvalidation/crossvalidation_csv/crossvalidation_ResNet50_VGGFace2_558.csv\"\n",
        "path[2][1]= \"/content/drive/My Drive/crossvalidation/crossvalidation_csv/crossvalidation_ResNet50_VGGFace2_256.csv\"\n",
        "path[2][2]= \"/content/drive/My Drive/crossvalidation/crossvalidation_csv/crossvalidation_ResNet50_VGGFace2_128.csv\"\n",
        "path[2][3]= \"/content/drive/My Drive/crossvalidation/crossvalidation_csv/crossvalidation_ResNet50_VGGFace2_64.csv\"\n",
        "path[3][0]= \"/content/drive/My Drive/crossvalidation/crossvalidation_csv/crossvalidation_ResNet50_nonpretrained_558.csv\"\n",
        "path[3][1]= \"/content/drive/My Drive/crossvalidation/crossvalidation_csv/crossvalidation_ResNet50_nonpretrained_256.csv\"\n",
        "path[3][2]= \"/content/drive/My Drive/crossvalidation/crossvalidation_csv/crossvalidation_ResNet50_nonpretrained_128.csv\"\n",
        "path[3][3]= \"/content/drive/My Drive/crossvalidation/crossvalidation_csv/crossvalidation_ResNet50_nonpretrained_64.csv\"\n",
        "path[3][4]= \"/content/drive/My Drive/crossvalidation/crossvalidation_csv/crossvalidation_ResNet50_nonpretrained_32.csv\"\n"
      ],
      "execution_count": 12,
      "outputs": []
    },
    {
      "cell_type": "code",
      "metadata": {
        "id": "K9IV42AEWpxC",
        "colab_type": "code",
        "colab": {}
      },
      "source": [
        ""
      ],
      "execution_count": null,
      "outputs": []
    },
    {
      "cell_type": "code",
      "metadata": {
        "id": "BXf8CfiFWWJR",
        "colab_type": "code",
        "colab": {}
      },
      "source": [
        "\n",
        "\n",
        "df = pd.read_csv('data/src/sample.csv')\n",
        "print(df)"
      ],
      "execution_count": null,
      "outputs": []
    }
  ]
}