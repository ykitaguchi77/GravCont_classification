{
  "nbformat": 4,
  "nbformat_minor": 0,
  "metadata": {
    "colab": {
      "name": "Untitled71.ipynb",
      "provenance": [],
      "authorship_tag": "ABX9TyP67xZTlisT6y03SPYEjFym",
      "include_colab_link": true
    },
    "kernelspec": {
      "name": "python3",
      "display_name": "Python 3"
    },
    "accelerator": "GPU",
    "widgets": {
      "application/vnd.jupyter.widget-state+json": {
        "4a2e97299cea408797cfbb0a87d8e6b7": {
          "model_module": "@jupyter-widgets/controls",
          "model_name": "HBoxModel",
          "state": {
            "_view_name": "HBoxView",
            "_dom_classes": [],
            "_model_name": "HBoxModel",
            "_view_module": "@jupyter-widgets/controls",
            "_model_module_version": "1.5.0",
            "_view_count": null,
            "_view_module_version": "1.5.0",
            "box_style": "",
            "layout": "IPY_MODEL_b028a8a482624081a132b2db8ca6ed57",
            "_model_module": "@jupyter-widgets/controls",
            "children": [
              "IPY_MODEL_1166908dd4f34f698d4d0f7ef990c8e9",
              "IPY_MODEL_94ea408c5fb4489b951b23b8e7ef0dc5"
            ]
          }
        },
        "b028a8a482624081a132b2db8ca6ed57": {
          "model_module": "@jupyter-widgets/base",
          "model_name": "LayoutModel",
          "state": {
            "_view_name": "LayoutView",
            "grid_template_rows": null,
            "right": null,
            "justify_content": null,
            "_view_module": "@jupyter-widgets/base",
            "overflow": null,
            "_model_module_version": "1.2.0",
            "_view_count": null,
            "flex_flow": null,
            "width": null,
            "min_width": null,
            "border": null,
            "align_items": null,
            "bottom": null,
            "_model_module": "@jupyter-widgets/base",
            "top": null,
            "grid_column": null,
            "overflow_y": null,
            "overflow_x": null,
            "grid_auto_flow": null,
            "grid_area": null,
            "grid_template_columns": null,
            "flex": null,
            "_model_name": "LayoutModel",
            "justify_items": null,
            "grid_row": null,
            "max_height": null,
            "align_content": null,
            "visibility": null,
            "align_self": null,
            "height": null,
            "min_height": null,
            "padding": null,
            "grid_auto_rows": null,
            "grid_gap": null,
            "max_width": null,
            "order": null,
            "_view_module_version": "1.2.0",
            "grid_template_areas": null,
            "object_position": null,
            "object_fit": null,
            "grid_auto_columns": null,
            "margin": null,
            "display": null,
            "left": null
          }
        },
        "1166908dd4f34f698d4d0f7ef990c8e9": {
          "model_module": "@jupyter-widgets/controls",
          "model_name": "FloatProgressModel",
          "state": {
            "_view_name": "ProgressView",
            "style": "IPY_MODEL_3369b218ddff4eeda587d80185ecae04",
            "_dom_classes": [],
            "description": "100%",
            "_model_name": "FloatProgressModel",
            "bar_style": "success",
            "max": 21388428,
            "_view_module": "@jupyter-widgets/controls",
            "_model_module_version": "1.5.0",
            "value": 21388428,
            "_view_count": null,
            "_view_module_version": "1.5.0",
            "orientation": "horizontal",
            "min": 0,
            "description_tooltip": null,
            "_model_module": "@jupyter-widgets/controls",
            "layout": "IPY_MODEL_71a10bfb13144987955edf5f8425a0ba"
          }
        },
        "94ea408c5fb4489b951b23b8e7ef0dc5": {
          "model_module": "@jupyter-widgets/controls",
          "model_name": "HTMLModel",
          "state": {
            "_view_name": "HTMLView",
            "style": "IPY_MODEL_c5f133455cc54ebd8ec18e23c8bad5da",
            "_dom_classes": [],
            "description": "",
            "_model_name": "HTMLModel",
            "placeholder": "​",
            "_view_module": "@jupyter-widgets/controls",
            "_model_module_version": "1.5.0",
            "value": " 20.4M/20.4M [00:00&lt;00:00, 89.4MB/s]",
            "_view_count": null,
            "_view_module_version": "1.5.0",
            "description_tooltip": null,
            "_model_module": "@jupyter-widgets/controls",
            "layout": "IPY_MODEL_2cd9badbf3b94e71b1582809816de779"
          }
        },
        "3369b218ddff4eeda587d80185ecae04": {
          "model_module": "@jupyter-widgets/controls",
          "model_name": "ProgressStyleModel",
          "state": {
            "_view_name": "StyleView",
            "_model_name": "ProgressStyleModel",
            "description_width": "initial",
            "_view_module": "@jupyter-widgets/base",
            "_model_module_version": "1.5.0",
            "_view_count": null,
            "_view_module_version": "1.2.0",
            "bar_color": null,
            "_model_module": "@jupyter-widgets/controls"
          }
        },
        "71a10bfb13144987955edf5f8425a0ba": {
          "model_module": "@jupyter-widgets/base",
          "model_name": "LayoutModel",
          "state": {
            "_view_name": "LayoutView",
            "grid_template_rows": null,
            "right": null,
            "justify_content": null,
            "_view_module": "@jupyter-widgets/base",
            "overflow": null,
            "_model_module_version": "1.2.0",
            "_view_count": null,
            "flex_flow": null,
            "width": null,
            "min_width": null,
            "border": null,
            "align_items": null,
            "bottom": null,
            "_model_module": "@jupyter-widgets/base",
            "top": null,
            "grid_column": null,
            "overflow_y": null,
            "overflow_x": null,
            "grid_auto_flow": null,
            "grid_area": null,
            "grid_template_columns": null,
            "flex": null,
            "_model_name": "LayoutModel",
            "justify_items": null,
            "grid_row": null,
            "max_height": null,
            "align_content": null,
            "visibility": null,
            "align_self": null,
            "height": null,
            "min_height": null,
            "padding": null,
            "grid_auto_rows": null,
            "grid_gap": null,
            "max_width": null,
            "order": null,
            "_view_module_version": "1.2.0",
            "grid_template_areas": null,
            "object_position": null,
            "object_fit": null,
            "grid_auto_columns": null,
            "margin": null,
            "display": null,
            "left": null
          }
        },
        "c5f133455cc54ebd8ec18e23c8bad5da": {
          "model_module": "@jupyter-widgets/controls",
          "model_name": "DescriptionStyleModel",
          "state": {
            "_view_name": "StyleView",
            "_model_name": "DescriptionStyleModel",
            "description_width": "",
            "_view_module": "@jupyter-widgets/base",
            "_model_module_version": "1.5.0",
            "_view_count": null,
            "_view_module_version": "1.2.0",
            "_model_module": "@jupyter-widgets/controls"
          }
        },
        "2cd9badbf3b94e71b1582809816de779": {
          "model_module": "@jupyter-widgets/base",
          "model_name": "LayoutModel",
          "state": {
            "_view_name": "LayoutView",
            "grid_template_rows": null,
            "right": null,
            "justify_content": null,
            "_view_module": "@jupyter-widgets/base",
            "overflow": null,
            "_model_module_version": "1.2.0",
            "_view_count": null,
            "flex_flow": null,
            "width": null,
            "min_width": null,
            "border": null,
            "align_items": null,
            "bottom": null,
            "_model_module": "@jupyter-widgets/base",
            "top": null,
            "grid_column": null,
            "overflow_y": null,
            "overflow_x": null,
            "grid_auto_flow": null,
            "grid_area": null,
            "grid_template_columns": null,
            "flex": null,
            "_model_name": "LayoutModel",
            "justify_items": null,
            "grid_row": null,
            "max_height": null,
            "align_content": null,
            "visibility": null,
            "align_self": null,
            "height": null,
            "min_height": null,
            "padding": null,
            "grid_auto_rows": null,
            "grid_gap": null,
            "max_width": null,
            "order": null,
            "_view_module_version": "1.2.0",
            "grid_template_areas": null,
            "object_position": null,
            "object_fit": null,
            "grid_auto_columns": null,
            "margin": null,
            "display": null,
            "left": null
          }
        }
      }
    }
  },
  "cells": [
    {
      "cell_type": "markdown",
      "metadata": {
        "id": "view-in-github",
        "colab_type": "text"
      },
      "source": [
        "<a href=\"https://colab.research.google.com/github/ykitaguchi77/GravCont_classification_colab/blob/master/EfficientNet_age_sex_crossvalidation.ipynb\" target=\"_parent\"><img src=\"https://colab.research.google.com/assets/colab-badge.svg\" alt=\"Open In Colab\"/></a>"
      ]
    },
    {
      "cell_type": "code",
      "metadata": {
        "colab": {
          "base_uri": "https://localhost:8080/"
        },
        "id": "_XH0N7e0Y8Ou",
        "outputId": "a17777e0-19a0-42ed-d96a-d3b8390d863d"
      },
      "source": [
        "from google.colab import drive\r\n",
        "drive.mount('/content/drive')\r\n",
        "\r\n"
      ],
      "execution_count": 1,
      "outputs": [
        {
          "output_type": "stream",
          "text": [
            "Mounted at /content/drive\n"
          ],
          "name": "stdout"
        }
      ]
    },
    {
      "cell_type": "markdown",
      "metadata": {
        "id": "dnJHyFPBhEAN"
      },
      "source": [
        "#**Evaluator**"
      ]
    },
    {
      "cell_type": "code",
      "metadata": {
        "id": "sTp1hx1bhCm4"
      },
      "source": [
        "import os\r\n",
        "import random\r\n",
        "import numpy as np\r\n",
        "import glob\r\n",
        "import torch\r\n",
        "from torch.utils.data import Dataset\r\n",
        "from PIL import Image\r\n",
        "from sklearn.metrics import roc_curve, auc\r\n",
        "import matplotlib.pyplot as plt\r\n",
        "\r\n",
        "class Evaluator:\r\n",
        "    def __init__(self, model, classes, age_dict, sex_dict, val_folder_path, val_transform, device, print_round_num=2) -> None:\r\n",
        "        super().__init__()\r\n",
        "        self.model = model\r\n",
        "        self.val_folder_path = val_folder_path\r\n",
        "        self.val_transform = val_transform\r\n",
        "        self.device = device\r\n",
        "        self.print_round_num = print_round_num\r\n",
        "        \r\n",
        "        self.class_names = classes\r\n",
        "        self.age_dict = age_dict\r\n",
        "        self.sex_dict = sex_dict\r\n",
        "        self.image_paths = glob.glob(self.val_folder_path + \"/*/*\")\r\n",
        "        print('eval number of classes: ' +str(len(self.class_names)))\r\n",
        "        print('eval number of images: ' +str(len(self.image_paths)))\r\n",
        "        random.shuffle(self.image_paths) \r\n",
        "\r\n",
        "        self.max_accuracy = 0\r\n",
        "        # to update self.max_accuracy\r\n",
        "        self.evaluate()\r\n",
        "        print(\"initial accuracy: \" + str(self.max_accuracy))\r\n",
        "\r\n",
        "    def evaluate(self):\r\n",
        "        TP = FP = TN = FN = TP = FP = TN = FN = 0\r\n",
        "        image_name_list = []\r\n",
        "        label_list = []\r\n",
        "        model_pred_list = []\r\n",
        "\r\n",
        "        model_pred_class = []\r\n",
        "        model_pred_prob = []\r\n",
        "\r\n",
        "        for image_path in self.image_paths:\r\n",
        "            image_name, label, age, sex = self.get_label(image_path)\r\n",
        "            if np.isnan(age):\r\n",
        "                    continue\r\n",
        "            image_tensor = self.get_image_tensor(image_path)\r\n",
        "\r\n",
        "            is_training = self.model.training\r\n",
        "            self.model.eval()\r\n",
        "            with torch.no_grad():\r\n",
        "                output = self.model(image_tensor)\r\n",
        "            if is_training:\r\n",
        "                self.model.train()\r\n",
        "                \r\n",
        "            output = output.squeeze(0)\r\n",
        "            #model_pred:クラス名前、prob:確率、pred:クラス番号\r\n",
        "            prob = torch.clamp(output[0], 0, 1)\r\n",
        "            pred = int(torch.round(prob))\r\n",
        "            model_pred = self.class_names[pred]\r\n",
        "            \r\n",
        "            image_name_list.append(image_name)\r\n",
        "            label_list.append(label)\r\n",
        "            model_pred_list.append(model_pred)\r\n",
        "\r\n",
        "            model_pred_class.append(int(pred))\r\n",
        "            model_pred_prob.append(float(prob))\r\n",
        "\r\n",
        "            if label == self.class_names[0]:\r\n",
        "                if model_pred == self.class_names[0]:\r\n",
        "                    TN += 1\r\n",
        "                else:\r\n",
        "                    FP += 1\r\n",
        "            elif label == self.class_names[1]:\r\n",
        "                if model_pred == self.class_names[1]:\r\n",
        "                    TP += 1\r\n",
        "                else:\r\n",
        "                    FN += 1\r\n",
        "\r\n",
        "        accuracy, precision, recall, specificity, f_value = self.calculate_accuracy(TP, TN, FP, FN)\r\n",
        "        is_best = self.max_accuracy < accuracy\r\n",
        "        if is_best:\r\n",
        "            self.max_accuracy = accuracy\r\n",
        "\r\n",
        "        return is_best, (round(accuracy, self.print_round_num), \r\n",
        "            round(precision, self.print_round_num), \r\n",
        "            round(recall, self.print_round_num), \r\n",
        "            round(specificity, self.print_round_num), \r\n",
        "            round(f_value, self.print_round_num))\r\n",
        "        \r\n",
        "    def draw_roc(self, output_path):\r\n",
        "        label_list = []\r\n",
        "        model_pred_prob = []\r\n",
        "\r\n",
        "        for image_path in self.image_paths:\r\n",
        "            image_name, label, age, sex = self.get_label(image_path)\r\n",
        "            image_tensor = self.get_image_tensor(image_path)\r\n",
        "\r\n",
        "            is_training = self.model.training\r\n",
        "            self.model.eval()\r\n",
        "            with torch.no_grad():\r\n",
        "                output = self.model(image_tensor)\r\n",
        "            if is_training:\r\n",
        "                self.model.train()\r\n",
        "                \r\n",
        "            output = output.squeeze(0)\r\n",
        "            #model_pred:クラス名前、prob:確率、pred:クラス番号\r\n",
        "            prob = torch.clamp(output[0], 0, 1)\r\n",
        "\r\n",
        "            label_list.append(label)\r\n",
        "            model_pred_prob.append(float(prob))\r\n",
        "\r\n",
        "        y_score = []\r\n",
        "        y_true = []\r\n",
        "\r\n",
        "        k=0\r\n",
        "        for i in label_list:\r\n",
        "            if label_list[k] == 'cont':\r\n",
        "                y_true.append(0)\r\n",
        "            elif label_list[k] == 'grav':\r\n",
        "                y_true.append(1)\r\n",
        "            k+=1\r\n",
        "\r\n",
        "        #健康な状態を「0」、病気を「1」としてラベルよりリストを作成\r\n",
        "        y_true = y_true\r\n",
        "        #それぞれの画像における陽性の確率についてリストを作成\r\n",
        "        y_score = model_pred_prob\r\n",
        "        try:\r\n",
        "            fpr, tpr, thred = roc_curve(y_true, y_score)\r\n",
        "            roc_auc = auc(fpr, tpr)\r\n",
        "\r\n",
        "            plt.figure()\r\n",
        "            lw = 2\r\n",
        "            plt.plot(fpr, tpr, color='darkorange',lw=lw, label='ROC curve (area = %0.2f)' % roc_auc)\r\n",
        "            plt.plot([0, 1], [0, 1], color='navy', lw=lw, linestyle='--')\r\n",
        "            plt.xlabel('False Positive Rate')\r\n",
        "            plt.ylabel('True Positive Rate')\r\n",
        "            plt.title('Receiver operating characteristic example')\r\n",
        "            plt.legend(loc=\"lower right\")\r\n",
        "            plt.savefig(output_path)\r\n",
        "        except:\r\n",
        "            pass\r\n",
        "\r\n",
        "    #対象のパスからラベルを抜き出す\r\n",
        "    def get_label(self, image_path):\r\n",
        "        image_name = os.path.basename(image_path)\r\n",
        "        \r\n",
        "        base_name, ext = os.path.splitext(image_name)\r\n",
        "        age = float(self.age_dict[base_name]) / 100\r\n",
        "        sex = float(self.sex_dict[base_name])\r\n",
        "        \r\n",
        "        label = os.path.basename(os.path.dirname(image_path))\r\n",
        "        return(image_name, label, age, sex)\r\n",
        "        \r\n",
        "    def get_image_tensor(self, image_path):    \r\n",
        "        image = Image.open(image_path).convert(\"RGB\")\r\n",
        "        image_tensor = self.val_transform(image)\r\n",
        "        image_tensor.unsqueeze_(0)\r\n",
        "        image_tensor = image_tensor.to(self.device) \r\n",
        "        return(image_tensor)\r\n",
        "        \r\n",
        "    def calculate_accuracy(self, TP, TN, FP, FN):\r\n",
        "        try:\r\n",
        "            accuracy = (TP + TN)/ (TP + TN + FP + FN)\r\n",
        "            precision  = TP/(FP + TP)\r\n",
        "            recall = TP/(TP + FN)\r\n",
        "            specificity = TN/(FP + TN)\r\n",
        "            f_value = (2*recall*precision)/(recall+precision)\r\n",
        "        except:\r\n",
        "            accuracy = -1\r\n",
        "            precision  = -1\r\n",
        "            recall = -1\r\n",
        "            specificity = -1\r\n",
        "            f_value = -1\r\n",
        "        return(accuracy, precision, recall, specificity, f_value)"
      ],
      "execution_count": 2,
      "outputs": []
    },
    {
      "cell_type": "markdown",
      "metadata": {
        "id": "AvbamPHehLtt"
      },
      "source": [
        "#**Train**"
      ]
    },
    {
      "cell_type": "code",
      "metadata": {
        "id": "t6xJpBB5YnzM",
        "colab": {
          "base_uri": "https://localhost:8080/",
          "height": 1000,
          "referenced_widgets": [
            "4a2e97299cea408797cfbb0a87d8e6b7",
            "b028a8a482624081a132b2db8ca6ed57",
            "1166908dd4f34f698d4d0f7ef990c8e9",
            "94ea408c5fb4489b951b23b8e7ef0dc5",
            "3369b218ddff4eeda587d80185ecae04",
            "71a10bfb13144987955edf5f8425a0ba",
            "c5f133455cc54ebd8ec18e23c8bad5da",
            "2cd9badbf3b94e71b1582809816de779"
          ]
        },
        "outputId": "b91a98a2-dd7e-49ed-8734-ab95b52c2872"
      },
      "source": [
        "##########\r\n",
        "# Usage\r\n",
        "#   python train_grav_multi.py\r\n",
        "##########\r\n",
        "# ├─gravcont_250px_cross\r\n",
        "# │   ├─train\r\n",
        "# │   │  ├─cont\r\n",
        "# │   │  └─grav\r\n",
        "# │   └─val\r\n",
        "# │       ├─cont\r\n",
        "# │       └─grav\r\n",
        "\r\n",
        "\r\n",
        "import os\r\n",
        "import random\r\n",
        "import json\r\n",
        "import tqdm\r\n",
        "import numpy as np\r\n",
        "from PIL import Image\r\n",
        "import torch\r\n",
        "from torch.utils.data import Dataset, DataLoader\r\n",
        "from torchvision.datasets import folder\r\n",
        "import torchvision.transforms as transforms\r\n",
        "import torchvision.datasets as datasets\r\n",
        "!pip install efficientnet_pytorch\r\n",
        "from efficientnet_pytorch import EfficientNet \r\n",
        "\r\n",
        "\r\n",
        "# change working directory\r\n",
        "path = '/content/drive/MyDrive/Deep_learning/666mai_dataset'\r\n",
        "os.chdir(path)\r\n",
        "\r\n",
        "# grav or cont, age, and sex\r\n",
        "NUM_CLASSES = 3\r\n",
        "# contains train, val\r\n",
        "DATASET_PATH = r\"./crossvalidation_250px/0/\"\r\n",
        "TEST_PATH = r\"./crossvalidation_250px/test/\"\r\n",
        "TRAIN_FOLDER_NAME = \"train\"\r\n",
        "VAL_FOLDER_NAME = \"val\"\r\n",
        "EFFICIENT_NET_NAME = \"efficientnet-b0\"\r\n",
        "MODEL_PATH = \"./model_multi.pth\"\r\n",
        "OPTIMIZER_PATH = \"./optimizer_multi.pth\"\r\n",
        "SEX_DICT_PATH = \"gender_json\"\r\n",
        "AGE_DICT_PATH = \"age_json\"\r\n",
        "LOG_PATH = \"./log_multi.txt\"\r\n",
        "ROC_PATH = \"./roc_multi.png\"\r\n",
        "CHECKPOINT_COUNT = 10\r\n",
        "EPOCH = 100\r\n",
        "BATCH_SIZE = 16\r\n",
        "\r\n",
        "# transforms param\r\n",
        "PX = 224\r\n",
        "TRAIN_NORMALIZE_PARAM = [0.5, 0.5, 0.5], [0.5, 0.5, 0.5]\r\n",
        "TRAIN_CROP_SCALE =(0.75,1.0)\r\n",
        "TRAIN_BRIGHTNESS_PARAM = 0.2\r\n",
        "TRAIN_CONTRAST_PARAM = 0.1\r\n",
        "TRAIN_SATURATION_PARAM = 0.1\r\n",
        "TRAIN_RANDOM_ROTATION = 3\r\n",
        "TRAIN_HUE_PARAM = 0.02\r\n",
        "VAL_NORMALIZE_PARAM = [0.5, 0.5, 0.5], [0.5, 0.5, 0.5]\r\n",
        "\r\n",
        "#######\r\n",
        "# Set random seem for reproducibility\r\n",
        "manualSeed = 1234\r\n",
        "# print(\"Random Seed: \", manualSeed)\r\n",
        "random.seed(manualSeed)\r\n",
        "torch.manual_seed(manualSeed)\r\n",
        "torch.cuda.manual_seed(manualSeed)\r\n",
        "#######\r\n",
        "\r\n",
        "torch.torch.backends.cudnn.benchmark = True\r\n",
        "torch.torch.backends.cudnn.enabled = True\r\n",
        "\r\n",
        "device = torch.device(\"cuda:0\" if torch.cuda.is_available() else \"cpu\")\r\n",
        "\r\n",
        "age_dict = []\r\n",
        "with open(AGE_DICT_PATH, \"r\") as f:\r\n",
        "        age_dict = json.load(f)\r\n",
        "sex_dict = []\r\n",
        "with open(SEX_DICT_PATH, \"r\") as f:\r\n",
        "        sex_dict = json.load(f)\r\n",
        "        \r\n",
        "class SimpleImageDataset(Dataset):\r\n",
        "    def __init__(self, folder_path, age_dict, sex_dict, transform):\r\n",
        "        self.transform = transform\r\n",
        "        self.class_names = os.listdir(folder_path)\r\n",
        "        self.item_paths = []\r\n",
        "        self.item_dict = {}\r\n",
        "        for class_num in range(len(self.class_names)):\r\n",
        "                class_name = self.class_names[class_num]\r\n",
        "                class_path = os.path.join(folder_path, class_name)\r\n",
        "                for image_name in os.listdir(class_path):\r\n",
        "                        base_name, ext = os.path.splitext(image_name)\r\n",
        "                        if np.isnan(age_dict[base_name]):\r\n",
        "                                continue\r\n",
        "                        age = float(age_dict[base_name]) / 100\r\n",
        "                        sex = float(sex_dict[base_name])\r\n",
        "                        image_path = os.path.join(class_path, image_name)\r\n",
        "                        self.item_paths.append(image_path)\r\n",
        "                        self.item_dict[image_path] = (class_num, age, sex)\r\n",
        "\r\n",
        "    def __len__(self):\r\n",
        "        return len(self.item_paths)\r\n",
        "\r\n",
        "    def __getitem__(self, idx):\r\n",
        "        image_path = self.item_paths[idx]\r\n",
        "        pilr_image = Image.open(image_path).convert(\"RGB\")\r\n",
        "        tensor_image = self.transform(pilr_image)\r\n",
        "        class_num, age, sex = self.item_dict[image_path]\r\n",
        "        class_num = torch.tensor(class_num)\r\n",
        "        age = torch.tensor(age)\r\n",
        "        sex = torch.tensor(sex)\r\n",
        "        label = torch.tensor([class_num, age, sex])\r\n",
        "        return tensor_image, label\r\n",
        "\r\n",
        "if __name__ == \"__main__\":\r\n",
        "        if os.path.exists(MODEL_PATH):\r\n",
        "                model = EfficientNet.from_pretrained(EFFICIENT_NET_NAME, MODEL_PATH, num_classes=NUM_CLASSES)\r\n",
        "        else:\r\n",
        "                model = EfficientNet.from_pretrained(EFFICIENT_NET_NAME, num_classes=NUM_CLASSES)\r\n",
        "        model.train()\r\n",
        "        model.to(device)\r\n",
        "\r\n",
        "        # transforms自体を定数として上に記述しても良いかもしれません\r\n",
        "        train_data_transforms = transforms.Compose([\r\n",
        "                transforms.RandomResizedCrop(PX, scale=TRAIN_CROP_SCALE),\r\n",
        "                transforms.RandomHorizontalFlip(),\r\n",
        "                transforms.ColorJitter(brightness=TRAIN_BRIGHTNESS_PARAM, contrast=TRAIN_CONTRAST_PARAM,\r\n",
        "                 saturation=TRAIN_SATURATION_PARAM, hue=TRAIN_HUE_PARAM),\r\n",
        "                # transforms.RandomRotation((-TRAIN_RANDOM_ROTATION, TRAIN_RANDOM_ROTATION)),\r\n",
        "                transforms.ToTensor(),\r\n",
        "                transforms.Normalize(TRAIN_NORMALIZE_PARAM[0], TRAIN_NORMALIZE_PARAM[1])])\r\n",
        "        val_data_transforms = transforms.Compose([\r\n",
        "                transforms.Resize(PX),\r\n",
        "                transforms.ToTensor(),\r\n",
        "                transforms.Normalize(VAL_NORMALIZE_PARAM[0], VAL_NORMALIZE_PARAM[1])])                \r\n",
        "                \r\n",
        "        train_dataset = SimpleImageDataset(os.path.join(DATASET_PATH, TRAIN_FOLDER_NAME), age_dict, sex_dict, train_data_transforms)\r\n",
        "        train_dataloader = DataLoader(train_dataset, batch_size = BATCH_SIZE, shuffle = True)\r\n",
        "        print(TRAIN_FOLDER_NAME + \"_dataset_size：\" + str(len(train_dataset)))\r\n",
        "\r\n",
        "        optimizer = torch.optim.AdamW(model.parameters(), 0.0002)\r\n",
        "        if os.path.exists(OPTIMIZER_PATH):\r\n",
        "                optimizer.load_state_dict(torch.load(OPTIMIZER_PATH))\r\n",
        "\r\n",
        "        loss_func = torch.nn.MSELoss()\r\n",
        "        \r\n",
        "        val_folder_path = os.path.join(DATASET_PATH, VAL_FOLDER_NAME)\r\n",
        "        evaluator = Evaluator(model, train_dataset.class_names, age_dict, sex_dict, val_folder_path, val_data_transforms, device)\r\n",
        "        evaluator.draw_roc(ROC_PATH)\r\n",
        "\r\n",
        "        for epoch in tqdm.tqdm(range(EPOCH)):\r\n",
        "                for (i, batch) in enumerate(train_dataloader):\r\n",
        "                        optimizer.zero_grad()\r\n",
        "\r\n",
        "                        inputs, labels = batch\r\n",
        "                        inputs = inputs.to(device)\r\n",
        "                        labels = labels.to(device)\r\n",
        "                        \r\n",
        "                        outputs = model(inputs)\r\n",
        "\r\n",
        "                        loss = loss_func(outputs, labels)\r\n",
        "                        loss.backward()\r\n",
        "                        optimizer.step()\r\n",
        "\r\n",
        "                        if i % CHECKPOINT_COUNT == 0:\r\n",
        "                                is_best, score = evaluator.evaluate()\r\n",
        "                                if is_best:\r\n",
        "                                        evaluator.draw_roc(ROC_PATH)\r\n",
        "                                        torch.save(model.state_dict(), MODEL_PATH)\r\n",
        "                                        torch.save(optimizer.state_dict(), OPTIMIZER_PATH)\r\n",
        "\r\n",
        "                                # write log to file\r\n",
        "                                with open(LOG_PATH, 'a') as f:\r\n",
        "                                        f.write(\"-----\")\r\n",
        "                                        f.write(\"\\n\")\r\n",
        "                                        f.write(\"batch_size: \" + str(BATCH_SIZE))\r\n",
        "                                        f.write(\"\\n\")\r\n",
        "                                        f.write(\"iter: \" + str(epoch * len(train_dataloader) + i))\r\n",
        "                                        f.write(str(score))\r\n",
        "                                        f.write(\"\\n\")\r\n",
        "                                \r\n",
        "                                # print log\r\n",
        "                                print(\"-----\")\r\n",
        "                                print(score)\r\n",
        "                                print(\"max_accuracy: \" + str(evaluator.max_accuracy))\r\n",
        "\r\n",
        "\r\n"
      ],
      "execution_count": 3,
      "outputs": [
        {
          "output_type": "stream",
          "text": [
            "Collecting efficientnet_pytorch\n",
            "  Downloading https://files.pythonhosted.org/packages/4e/83/f9c5f44060f996279e474185ebcbd8dbd91179593bffb9abe3afa55d085b/efficientnet_pytorch-0.7.0.tar.gz\n",
            "Requirement already satisfied: torch in /usr/local/lib/python3.6/dist-packages (from efficientnet_pytorch) (1.7.0+cu101)\n",
            "Requirement already satisfied: future in /usr/local/lib/python3.6/dist-packages (from torch->efficientnet_pytorch) (0.16.0)\n",
            "Requirement already satisfied: typing-extensions in /usr/local/lib/python3.6/dist-packages (from torch->efficientnet_pytorch) (3.7.4.3)\n",
            "Requirement already satisfied: numpy in /usr/local/lib/python3.6/dist-packages (from torch->efficientnet_pytorch) (1.19.5)\n",
            "Requirement already satisfied: dataclasses in /usr/local/lib/python3.6/dist-packages (from torch->efficientnet_pytorch) (0.8)\n",
            "Building wheels for collected packages: efficientnet-pytorch\n",
            "  Building wheel for efficientnet-pytorch (setup.py) ... \u001b[?25l\u001b[?25hdone\n",
            "  Created wheel for efficientnet-pytorch: filename=efficientnet_pytorch-0.7.0-cp36-none-any.whl size=16032 sha256=14cdeb2ef8760e3e04567980dd337e619641682c94a81a3aac8e782f71d38e8a\n",
            "  Stored in directory: /root/.cache/pip/wheels/e9/c6/e1/7a808b26406239712cfce4b5ceeb67d9513ae32aa4b31445c6\n",
            "Successfully built efficientnet-pytorch\n",
            "Installing collected packages: efficientnet-pytorch\n",
            "Successfully installed efficientnet-pytorch-0.7.0\n"
          ],
          "name": "stdout"
        },
        {
          "output_type": "stream",
          "text": [
            "Downloading: \"https://github.com/lukemelas/EfficientNet-PyTorch/releases/download/1.0/efficientnet-b0-355c32eb.pth\" to /root/.cache/torch/hub/checkpoints/efficientnet-b0-355c32eb.pth\n"
          ],
          "name": "stderr"
        },
        {
          "output_type": "display_data",
          "data": {
            "application/vnd.jupyter.widget-view+json": {
              "model_id": "4a2e97299cea408797cfbb0a87d8e6b7",
              "version_minor": 0,
              "version_major": 2
            },
            "text/plain": [
              "HBox(children=(FloatProgress(value=0.0, max=21388428.0), HTML(value='')))"
            ]
          },
          "metadata": {
            "tags": []
          }
        },
        {
          "output_type": "stream",
          "text": [
            "\n",
            "Loaded pretrained weights for efficientnet-b0\n",
            "train_dataset_size：463\n",
            "eval number of classes: 2\n",
            "eval number of images: 116\n",
            "initial accuracy: 0\n"
          ],
          "name": "stdout"
        },
        {
          "output_type": "stream",
          "text": [
            "\r  0%|          | 0/100 [00:00<?, ?it/s]"
          ],
          "name": "stderr"
        },
        {
          "output_type": "stream",
          "text": [
            "-----\n",
            "(-1, -1, -1, -1, -1)\n",
            "max_accuracy: 0\n",
            "-----\n",
            "(-1, -1, -1, -1, -1)\n",
            "max_accuracy: 0\n",
            "-----\n",
            "(0.53, 1.0, 0.07, 1.0, 0.13)\n",
            "max_accuracy: 0.5344827586206896\n"
          ],
          "name": "stdout"
        },
        {
          "output_type": "stream",
          "text": [
            "\r  1%|          | 1/100 [01:33<2:34:20, 93.54s/it]"
          ],
          "name": "stderr"
        },
        {
          "output_type": "stream",
          "text": [
            "-----\n",
            "(0.57, 0.75, 0.21, 0.93, 0.32)\n",
            "max_accuracy: 0.5689655172413793\n",
            "-----\n",
            "(0.62, 0.82, 0.31, 0.93, 0.45)\n",
            "max_accuracy: 0.6206896551724138\n",
            "-----\n",
            "(0.59, 0.78, 0.24, 0.93, 0.37)\n",
            "max_accuracy: 0.6206896551724138\n"
          ],
          "name": "stdout"
        },
        {
          "output_type": "stream",
          "text": [
            "\r  2%|▏         | 2/100 [01:52<1:56:16, 71.18s/it]"
          ],
          "name": "stderr"
        },
        {
          "output_type": "stream",
          "text": [
            "-----\n",
            "(0.6, 0.8, 0.28, 0.93, 0.41)\n",
            "max_accuracy: 0.6206896551724138\n",
            "-----\n",
            "(0.58, 0.74, 0.24, 0.91, 0.36)\n",
            "max_accuracy: 0.6206896551724138\n",
            "-----\n",
            "(0.58, 0.74, 0.24, 0.91, 0.36)\n",
            "max_accuracy: 0.6206896551724138\n"
          ],
          "name": "stdout"
        },
        {
          "output_type": "stream",
          "text": [
            "\r  3%|▎         | 3/100 [02:06<1:27:19, 54.02s/it]"
          ],
          "name": "stderr"
        },
        {
          "output_type": "stream",
          "text": [
            "-----\n",
            "(0.65, 0.79, 0.4, 0.9, 0.53)\n",
            "max_accuracy: 0.646551724137931\n",
            "-----\n",
            "(0.62, 0.72, 0.4, 0.84, 0.51)\n",
            "max_accuracy: 0.646551724137931\n",
            "-----\n",
            "(0.67, 0.81, 0.45, 0.9, 0.58)\n",
            "max_accuracy: 0.6724137931034483\n"
          ],
          "name": "stdout"
        },
        {
          "output_type": "stream",
          "text": [
            "\r  4%|▍         | 4/100 [02:25<1:09:24, 43.38s/it]"
          ],
          "name": "stderr"
        },
        {
          "output_type": "stream",
          "text": [
            "-----\n",
            "(0.67, 0.81, 0.45, 0.9, 0.58)\n",
            "max_accuracy: 0.6724137931034483\n",
            "-----\n",
            "(0.61, 0.78, 0.31, 0.91, 0.44)\n",
            "max_accuracy: 0.6724137931034483\n",
            "-----\n",
            "(0.66, 0.76, 0.48, 0.84, 0.59)\n",
            "max_accuracy: 0.6724137931034483\n"
          ],
          "name": "stdout"
        },
        {
          "output_type": "stream",
          "text": [
            "\r  5%|▌         | 5/100 [02:39<54:44, 34.58s/it]  "
          ],
          "name": "stderr"
        },
        {
          "output_type": "stream",
          "text": [
            "-----\n",
            "(0.65, 0.77, 0.41, 0.88, 0.54)\n",
            "max_accuracy: 0.6724137931034483\n",
            "-----\n",
            "(0.61, 0.74, 0.34, 0.88, 0.47)\n",
            "max_accuracy: 0.6724137931034483\n",
            "-----\n",
            "(0.68, 0.77, 0.52, 0.84, 0.62)\n",
            "max_accuracy: 0.6810344827586207\n"
          ],
          "name": "stdout"
        },
        {
          "output_type": "stream",
          "text": [
            "\r  6%|▌         | 6/100 [02:55<45:32, 29.07s/it]"
          ],
          "name": "stderr"
        },
        {
          "output_type": "stream",
          "text": [
            "-----\n",
            "(0.75, 0.76, 0.72, 0.78, 0.74)\n",
            "max_accuracy: 0.75\n",
            "-----\n",
            "(0.74, 0.79, 0.66, 0.83, 0.72)\n",
            "max_accuracy: 0.75\n",
            "-----\n",
            "(0.76, 0.79, 0.71, 0.81, 0.75)\n",
            "max_accuracy: 0.7586206896551724\n"
          ],
          "name": "stdout"
        },
        {
          "output_type": "stream",
          "text": [
            "\r  7%|▋         | 7/100 [03:14<40:21, 26.03s/it]"
          ],
          "name": "stderr"
        },
        {
          "output_type": "stream",
          "text": [
            "-----\n",
            "(0.67, 0.78, 0.48, 0.86, 0.6)\n",
            "max_accuracy: 0.7586206896551724\n",
            "-----\n",
            "(0.68, 0.69, 0.66, 0.71, 0.67)\n",
            "max_accuracy: 0.7586206896551724\n",
            "-----\n",
            "(0.73, 0.69, 0.84, 0.62, 0.76)\n",
            "max_accuracy: 0.7586206896551724\n"
          ],
          "name": "stdout"
        },
        {
          "output_type": "stream",
          "text": [
            "\r  8%|▊         | 8/100 [03:28<34:22, 22.42s/it]"
          ],
          "name": "stderr"
        },
        {
          "output_type": "stream",
          "text": [
            "-----\n",
            "(0.72, 0.73, 0.69, 0.74, 0.71)\n",
            "max_accuracy: 0.7586206896551724\n",
            "-----\n",
            "(0.74, 0.73, 0.76, 0.72, 0.75)\n",
            "max_accuracy: 0.7586206896551724\n",
            "-----\n",
            "(0.73, 0.8, 0.62, 0.84, 0.7)\n",
            "max_accuracy: 0.7586206896551724\n"
          ],
          "name": "stdout"
        },
        {
          "output_type": "stream",
          "text": [
            "\r  9%|▉         | 9/100 [03:42<30:08, 19.88s/it]"
          ],
          "name": "stderr"
        },
        {
          "output_type": "stream",
          "text": [
            "-----\n",
            "(0.71, 0.65, 0.88, 0.53, 0.75)\n",
            "max_accuracy: 0.7586206896551724\n",
            "-----\n",
            "(0.72, 0.68, 0.86, 0.59, 0.76)\n",
            "max_accuracy: 0.7586206896551724\n",
            "-----\n",
            "(0.78, 0.76, 0.81, 0.74, 0.78)\n",
            "max_accuracy: 0.7758620689655172\n"
          ],
          "name": "stdout"
        },
        {
          "output_type": "stream",
          "text": [
            "\r 10%|█         | 10/100 [03:58<28:11, 18.79s/it]"
          ],
          "name": "stderr"
        },
        {
          "output_type": "stream",
          "text": [
            "-----\n",
            "(0.72, 0.66, 0.88, 0.55, 0.76)\n",
            "max_accuracy: 0.7758620689655172\n",
            "-----\n",
            "(0.77, 0.74, 0.83, 0.71, 0.78)\n",
            "max_accuracy: 0.7758620689655172\n",
            "-----\n",
            "(0.75, 0.75, 0.74, 0.76, 0.75)\n",
            "max_accuracy: 0.7758620689655172\n"
          ],
          "name": "stdout"
        },
        {
          "output_type": "stream",
          "text": [
            "\r 11%|█         | 11/100 [04:12<25:45, 17.37s/it]"
          ],
          "name": "stderr"
        },
        {
          "output_type": "stream",
          "text": [
            "-----\n",
            "(0.77, 0.75, 0.79, 0.74, 0.77)\n",
            "max_accuracy: 0.7758620689655172\n",
            "-----\n",
            "(0.75, 0.72, 0.81, 0.69, 0.76)\n",
            "max_accuracy: 0.7758620689655172\n",
            "-----\n",
            "(0.73, 0.69, 0.84, 0.62, 0.76)\n",
            "max_accuracy: 0.7758620689655172\n"
          ],
          "name": "stdout"
        },
        {
          "output_type": "stream",
          "text": [
            "\r 12%|█▏        | 12/100 [04:26<23:59, 16.36s/it]"
          ],
          "name": "stderr"
        },
        {
          "output_type": "stream",
          "text": [
            "-----\n",
            "(0.7, 0.68, 0.74, 0.66, 0.71)\n",
            "max_accuracy: 0.7758620689655172\n",
            "-----\n",
            "(0.72, 0.68, 0.81, 0.62, 0.74)\n",
            "max_accuracy: 0.7758620689655172\n",
            "-----\n",
            "(0.65, 0.72, 0.48, 0.81, 0.58)\n",
            "max_accuracy: 0.7758620689655172\n"
          ],
          "name": "stdout"
        },
        {
          "output_type": "stream",
          "text": [
            "\r 13%|█▎        | 13/100 [04:40<22:40, 15.64s/it]"
          ],
          "name": "stderr"
        },
        {
          "output_type": "stream",
          "text": [
            "-----\n",
            "(0.75, 0.72, 0.83, 0.67, 0.77)\n",
            "max_accuracy: 0.7758620689655172\n",
            "-----\n",
            "(0.72, 0.66, 0.88, 0.55, 0.76)\n",
            "max_accuracy: 0.7758620689655172\n",
            "-----\n",
            "(0.71, 0.65, 0.88, 0.53, 0.75)\n",
            "max_accuracy: 0.7758620689655172\n"
          ],
          "name": "stdout"
        },
        {
          "output_type": "stream",
          "text": [
            "\r 14%|█▍        | 14/100 [04:54<21:41, 15.13s/it]"
          ],
          "name": "stderr"
        },
        {
          "output_type": "stream",
          "text": [
            "-----\n",
            "(0.68, 0.62, 0.93, 0.43, 0.74)\n",
            "max_accuracy: 0.7758620689655172\n",
            "-----\n",
            "(0.73, 0.68, 0.88, 0.59, 0.77)\n",
            "max_accuracy: 0.7758620689655172\n",
            "-----\n",
            "(0.75, 0.72, 0.83, 0.67, 0.77)\n",
            "max_accuracy: 0.7758620689655172\n"
          ],
          "name": "stdout"
        },
        {
          "output_type": "stream",
          "text": [
            "\r 15%|█▌        | 15/100 [05:08<20:55, 14.77s/it]"
          ],
          "name": "stderr"
        },
        {
          "output_type": "stream",
          "text": [
            "-----\n",
            "(0.67, 0.62, 0.9, 0.45, 0.73)\n",
            "max_accuracy: 0.7758620689655172\n",
            "-----\n",
            "(0.65, 0.6, 0.84, 0.45, 0.71)\n",
            "max_accuracy: 0.7758620689655172\n",
            "-----\n",
            "(0.66, 0.61, 0.88, 0.43, 0.72)\n",
            "max_accuracy: 0.7758620689655172\n"
          ],
          "name": "stdout"
        },
        {
          "output_type": "stream",
          "text": [
            "\r 16%|█▌        | 16/100 [05:22<20:23, 14.56s/it]"
          ],
          "name": "stderr"
        },
        {
          "output_type": "stream",
          "text": [
            "-----\n",
            "(0.66, 0.61, 0.88, 0.45, 0.72)\n",
            "max_accuracy: 0.7758620689655172\n",
            "-----\n",
            "(0.75, 0.73, 0.79, 0.71, 0.76)\n",
            "max_accuracy: 0.7758620689655172\n",
            "-----\n",
            "(0.72, 0.67, 0.9, 0.55, 0.76)\n",
            "max_accuracy: 0.7758620689655172\n"
          ],
          "name": "stdout"
        },
        {
          "output_type": "stream",
          "text": [
            "\r 17%|█▋        | 17/100 [05:36<19:54, 14.39s/it]"
          ],
          "name": "stderr"
        },
        {
          "output_type": "stream",
          "text": [
            "-----\n",
            "(0.73, 0.7, 0.81, 0.66, 0.75)\n",
            "max_accuracy: 0.7758620689655172\n",
            "-----\n",
            "(0.72, 0.73, 0.69, 0.74, 0.71)\n",
            "max_accuracy: 0.7758620689655172\n",
            "-----\n",
            "(0.76, 0.73, 0.81, 0.71, 0.77)\n",
            "max_accuracy: 0.7758620689655172\n"
          ],
          "name": "stdout"
        },
        {
          "output_type": "stream",
          "text": [
            "\r 18%|█▊        | 18/100 [05:50<19:30, 14.27s/it]"
          ],
          "name": "stderr"
        },
        {
          "output_type": "stream",
          "text": [
            "-----\n",
            "(0.71, 0.65, 0.91, 0.5, 0.76)\n",
            "max_accuracy: 0.7758620689655172\n",
            "-----\n",
            "(0.75, 0.72, 0.81, 0.69, 0.76)\n",
            "max_accuracy: 0.7758620689655172\n",
            "-----\n",
            "(0.76, 0.76, 0.76, 0.76, 0.76)\n",
            "max_accuracy: 0.7758620689655172\n"
          ],
          "name": "stdout"
        },
        {
          "output_type": "stream",
          "text": [
            "\r 19%|█▉        | 19/100 [06:04<19:05, 14.14s/it]"
          ],
          "name": "stderr"
        },
        {
          "output_type": "stream",
          "text": [
            "-----\n",
            "(0.68, 0.62, 0.91, 0.45, 0.74)\n",
            "max_accuracy: 0.7758620689655172\n",
            "-----\n",
            "(0.78, 0.76, 0.81, 0.74, 0.78)\n",
            "max_accuracy: 0.7758620689655172\n",
            "-----\n",
            "(0.76, 0.75, 0.78, 0.74, 0.76)\n",
            "max_accuracy: 0.7758620689655172\n"
          ],
          "name": "stdout"
        },
        {
          "output_type": "stream",
          "text": [
            "\r 20%|██        | 20/100 [06:18<18:45, 14.07s/it]"
          ],
          "name": "stderr"
        },
        {
          "output_type": "stream",
          "text": [
            "-----\n",
            "(0.7, 0.65, 0.84, 0.55, 0.74)\n",
            "max_accuracy: 0.7758620689655172\n",
            "-----\n",
            "(0.7, 0.68, 0.76, 0.64, 0.72)\n",
            "max_accuracy: 0.7758620689655172\n",
            "-----\n",
            "(0.72, 0.74, 0.67, 0.76, 0.7)\n",
            "max_accuracy: 0.7758620689655172\n"
          ],
          "name": "stdout"
        },
        {
          "output_type": "stream",
          "text": [
            "\r 21%|██        | 21/100 [06:32<18:30, 14.05s/it]"
          ],
          "name": "stderr"
        },
        {
          "output_type": "stream",
          "text": [
            "-----\n",
            "(0.78, 0.74, 0.84, 0.71, 0.79)\n",
            "max_accuracy: 0.7758620689655172\n",
            "-----\n",
            "(0.7, 0.66, 0.81, 0.59, 0.73)\n",
            "max_accuracy: 0.7758620689655172\n",
            "-----\n",
            "(0.73, 0.69, 0.84, 0.62, 0.76)\n",
            "max_accuracy: 0.7758620689655172\n"
          ],
          "name": "stdout"
        },
        {
          "output_type": "stream",
          "text": [
            "\r 22%|██▏       | 22/100 [06:46<18:17, 14.06s/it]"
          ],
          "name": "stderr"
        },
        {
          "output_type": "stream",
          "text": [
            "-----\n",
            "(0.73, 0.68, 0.88, 0.59, 0.77)\n",
            "max_accuracy: 0.7758620689655172\n",
            "-----\n",
            "(0.78, 0.74, 0.84, 0.71, 0.79)\n",
            "max_accuracy: 0.7758620689655172\n",
            "-----\n",
            "(0.73, 0.75, 0.71, 0.76, 0.73)\n",
            "max_accuracy: 0.7758620689655172\n"
          ],
          "name": "stdout"
        },
        {
          "output_type": "stream",
          "text": [
            "\r 23%|██▎       | 23/100 [07:00<18:00, 14.03s/it]"
          ],
          "name": "stderr"
        },
        {
          "output_type": "stream",
          "text": [
            "-----\n",
            "(0.73, 0.74, 0.72, 0.74, 0.73)\n",
            "max_accuracy: 0.7758620689655172\n",
            "-----\n",
            "(0.77, 0.73, 0.84, 0.69, 0.78)\n",
            "max_accuracy: 0.7758620689655172\n",
            "-----\n",
            "(0.74, 0.73, 0.76, 0.72, 0.75)\n",
            "max_accuracy: 0.7758620689655172\n"
          ],
          "name": "stdout"
        },
        {
          "output_type": "stream",
          "text": [
            "\r 24%|██▍       | 24/100 [07:14<17:47, 14.05s/it]"
          ],
          "name": "stderr"
        },
        {
          "output_type": "stream",
          "text": [
            "-----\n",
            "(0.72, 0.72, 0.72, 0.72, 0.72)\n",
            "max_accuracy: 0.7758620689655172\n",
            "-----\n",
            "(0.72, 0.69, 0.78, 0.66, 0.73)\n",
            "max_accuracy: 0.7758620689655172\n",
            "-----\n",
            "(0.75, 0.74, 0.78, 0.72, 0.76)\n",
            "max_accuracy: 0.7758620689655172\n"
          ],
          "name": "stdout"
        },
        {
          "output_type": "stream",
          "text": [
            "\r 25%|██▌       | 25/100 [07:28<17:32, 14.03s/it]"
          ],
          "name": "stderr"
        },
        {
          "output_type": "stream",
          "text": [
            "-----\n",
            "(0.72, 0.66, 0.91, 0.53, 0.77)\n",
            "max_accuracy: 0.7758620689655172\n",
            "-----\n",
            "(0.69, 0.64, 0.88, 0.5, 0.74)\n",
            "max_accuracy: 0.7758620689655172\n",
            "-----\n",
            "(0.73, 0.79, 0.64, 0.83, 0.7)\n",
            "max_accuracy: 0.7758620689655172\n"
          ],
          "name": "stdout"
        },
        {
          "output_type": "stream",
          "text": [
            "\r 26%|██▌       | 26/100 [07:42<17:16, 14.01s/it]"
          ],
          "name": "stderr"
        },
        {
          "output_type": "stream",
          "text": [
            "-----\n",
            "(0.7, 0.68, 0.74, 0.66, 0.71)\n",
            "max_accuracy: 0.7758620689655172\n",
            "-----\n",
            "(0.71, 0.69, 0.74, 0.67, 0.72)\n",
            "max_accuracy: 0.7758620689655172\n",
            "-----\n",
            "(0.72, 0.66, 0.88, 0.55, 0.76)\n",
            "max_accuracy: 0.7758620689655172\n"
          ],
          "name": "stdout"
        },
        {
          "output_type": "stream",
          "text": [
            "\r 27%|██▋       | 27/100 [07:56<17:00, 13.97s/it]"
          ],
          "name": "stderr"
        },
        {
          "output_type": "stream",
          "text": [
            "-----\n",
            "(0.76, 0.71, 0.88, 0.64, 0.78)\n",
            "max_accuracy: 0.7758620689655172\n",
            "-----\n",
            "(0.75, 0.72, 0.81, 0.69, 0.76)\n",
            "max_accuracy: 0.7758620689655172\n",
            "-----\n",
            "(0.72, 0.69, 0.83, 0.62, 0.75)\n",
            "max_accuracy: 0.7758620689655172\n"
          ],
          "name": "stdout"
        },
        {
          "output_type": "stream",
          "text": [
            "\r 28%|██▊       | 28/100 [08:10<16:50, 14.04s/it]"
          ],
          "name": "stderr"
        },
        {
          "output_type": "stream",
          "text": [
            "-----\n",
            "(0.72, 0.68, 0.84, 0.6, 0.75)\n",
            "max_accuracy: 0.7758620689655172\n",
            "-----\n",
            "(0.7, 0.65, 0.88, 0.52, 0.74)\n",
            "max_accuracy: 0.7758620689655172\n",
            "-----\n",
            "(0.72, 0.69, 0.83, 0.62, 0.75)\n",
            "max_accuracy: 0.7758620689655172\n"
          ],
          "name": "stdout"
        },
        {
          "output_type": "stream",
          "text": [
            "\r 29%|██▉       | 29/100 [08:24<16:38, 14.06s/it]"
          ],
          "name": "stderr"
        },
        {
          "output_type": "stream",
          "text": [
            "-----\n",
            "(0.76, 0.73, 0.83, 0.69, 0.77)\n",
            "max_accuracy: 0.7758620689655172\n",
            "-----\n",
            "(0.77, 0.71, 0.9, 0.64, 0.79)\n",
            "max_accuracy: 0.7758620689655172\n",
            "-----\n",
            "(0.71, 0.65, 0.88, 0.53, 0.75)\n",
            "max_accuracy: 0.7758620689655172\n"
          ],
          "name": "stdout"
        },
        {
          "output_type": "stream",
          "text": [
            "\r 30%|███       | 30/100 [08:38<16:22, 14.03s/it]"
          ],
          "name": "stderr"
        },
        {
          "output_type": "stream",
          "text": [
            "-----\n",
            "(0.75, 0.71, 0.84, 0.66, 0.77)\n",
            "max_accuracy: 0.7758620689655172\n",
            "-----\n",
            "(0.77, 0.75, 0.79, 0.74, 0.77)\n",
            "max_accuracy: 0.7758620689655172\n",
            "-----\n",
            "(0.73, 0.68, 0.88, 0.59, 0.77)\n",
            "max_accuracy: 0.7758620689655172\n"
          ],
          "name": "stdout"
        },
        {
          "output_type": "stream",
          "text": [
            "\r 31%|███       | 31/100 [08:52<16:07, 14.03s/it]"
          ],
          "name": "stderr"
        },
        {
          "output_type": "stream",
          "text": [
            "-----\n",
            "(0.74, 0.68, 0.91, 0.57, 0.78)\n",
            "max_accuracy: 0.7758620689655172\n",
            "-----\n",
            "(0.78, 0.79, 0.78, 0.79, 0.78)\n",
            "max_accuracy: 0.7844827586206896\n",
            "-----\n",
            "(0.69, 0.63, 0.93, 0.45, 0.75)\n",
            "max_accuracy: 0.7844827586206896\n"
          ],
          "name": "stdout"
        },
        {
          "output_type": "stream",
          "text": [
            "\r 32%|███▏      | 32/100 [09:08<16:40, 14.71s/it]"
          ],
          "name": "stderr"
        },
        {
          "output_type": "stream",
          "text": [
            "-----\n",
            "(0.74, 0.7, 0.84, 0.64, 0.77)\n",
            "max_accuracy: 0.7844827586206896\n",
            "-----\n",
            "(0.75, 0.7, 0.86, 0.64, 0.78)\n",
            "max_accuracy: 0.7844827586206896\n",
            "-----\n",
            "(0.75, 0.7, 0.88, 0.62, 0.78)\n",
            "max_accuracy: 0.7844827586206896\n"
          ],
          "name": "stdout"
        },
        {
          "output_type": "stream",
          "text": [
            "\r 33%|███▎      | 33/100 [09:22<16:12, 14.51s/it]"
          ],
          "name": "stderr"
        },
        {
          "output_type": "stream",
          "text": [
            "-----\n",
            "(0.75, 0.72, 0.81, 0.69, 0.76)\n",
            "max_accuracy: 0.7844827586206896\n",
            "-----\n",
            "(0.76, 0.71, 0.86, 0.66, 0.78)\n",
            "max_accuracy: 0.7844827586206896\n",
            "-----\n",
            "(0.72, 0.66, 0.88, 0.55, 0.76)\n",
            "max_accuracy: 0.7844827586206896\n"
          ],
          "name": "stdout"
        },
        {
          "output_type": "stream",
          "text": [
            "\r 34%|███▍      | 34/100 [09:36<15:46, 14.34s/it]"
          ],
          "name": "stderr"
        },
        {
          "output_type": "stream",
          "text": [
            "-----\n",
            "(0.75, 0.7, 0.86, 0.64, 0.78)\n",
            "max_accuracy: 0.7844827586206896\n",
            "-----\n",
            "(0.73, 0.68, 0.86, 0.6, 0.76)\n",
            "max_accuracy: 0.7844827586206896\n",
            "-----\n",
            "(0.75, 0.71, 0.84, 0.66, 0.77)\n",
            "max_accuracy: 0.7844827586206896\n"
          ],
          "name": "stdout"
        },
        {
          "output_type": "stream",
          "text": [
            "\r 35%|███▌      | 35/100 [09:50<15:26, 14.26s/it]"
          ],
          "name": "stderr"
        },
        {
          "output_type": "stream",
          "text": [
            "-----\n",
            "(0.71, 0.65, 0.88, 0.53, 0.75)\n",
            "max_accuracy: 0.7844827586206896\n",
            "-----\n",
            "(0.76, 0.73, 0.83, 0.69, 0.77)\n",
            "max_accuracy: 0.7844827586206896\n",
            "-----\n",
            "(0.76, 0.71, 0.86, 0.66, 0.78)\n",
            "max_accuracy: 0.7844827586206896\n"
          ],
          "name": "stdout"
        },
        {
          "output_type": "stream",
          "text": [
            "\r 36%|███▌      | 36/100 [10:04<15:05, 14.15s/it]"
          ],
          "name": "stderr"
        },
        {
          "output_type": "stream",
          "text": [
            "-----\n",
            "(0.72, 0.67, 0.86, 0.57, 0.75)\n",
            "max_accuracy: 0.7844827586206896\n",
            "-----\n",
            "(0.73, 0.68, 0.86, 0.6, 0.76)\n",
            "max_accuracy: 0.7844827586206896\n",
            "-----\n",
            "(0.76, 0.73, 0.81, 0.71, 0.77)\n",
            "max_accuracy: 0.7844827586206896\n"
          ],
          "name": "stdout"
        },
        {
          "output_type": "stream",
          "text": [
            "\r 37%|███▋      | 37/100 [10:18<14:46, 14.08s/it]"
          ],
          "name": "stderr"
        },
        {
          "output_type": "stream",
          "text": [
            "-----\n",
            "(0.72, 0.71, 0.76, 0.69, 0.73)\n",
            "max_accuracy: 0.7844827586206896\n",
            "-----\n",
            "(0.77, 0.73, 0.84, 0.69, 0.78)\n",
            "max_accuracy: 0.7844827586206896\n",
            "-----\n",
            "(0.72, 0.67, 0.9, 0.55, 0.76)\n",
            "max_accuracy: 0.7844827586206896\n"
          ],
          "name": "stdout"
        },
        {
          "output_type": "stream",
          "text": [
            "\r 38%|███▊      | 38/100 [10:32<14:31, 14.05s/it]"
          ],
          "name": "stderr"
        },
        {
          "output_type": "stream",
          "text": [
            "-----\n",
            "(0.75, 0.76, 0.72, 0.78, 0.74)\n",
            "max_accuracy: 0.7844827586206896\n",
            "-----\n",
            "(0.73, 0.72, 0.76, 0.71, 0.74)\n",
            "max_accuracy: 0.7844827586206896\n",
            "-----\n",
            "(0.7, 0.64, 0.93, 0.47, 0.76)\n",
            "max_accuracy: 0.7844827586206896\n"
          ],
          "name": "stdout"
        },
        {
          "output_type": "stream",
          "text": [
            "\r 39%|███▉      | 39/100 [10:46<14:17, 14.06s/it]"
          ],
          "name": "stderr"
        },
        {
          "output_type": "stream",
          "text": [
            "-----\n",
            "(0.72, 0.66, 0.88, 0.55, 0.76)\n",
            "max_accuracy: 0.7844827586206896\n",
            "-----\n",
            "(0.78, 0.74, 0.84, 0.71, 0.79)\n",
            "max_accuracy: 0.7844827586206896\n",
            "-----\n",
            "(0.78, 0.78, 0.78, 0.78, 0.78)\n",
            "max_accuracy: 0.7844827586206896\n"
          ],
          "name": "stdout"
        },
        {
          "output_type": "stream",
          "text": [
            "\r 40%|████      | 40/100 [11:00<14:00, 14.01s/it]"
          ],
          "name": "stderr"
        },
        {
          "output_type": "stream",
          "text": [
            "-----\n",
            "(0.76, 0.72, 0.84, 0.67, 0.78)\n",
            "max_accuracy: 0.7844827586206896\n",
            "-----\n",
            "(0.79, 0.78, 0.81, 0.78, 0.8)\n",
            "max_accuracy: 0.7931034482758621\n",
            "-----\n",
            "(0.78, 0.76, 0.81, 0.74, 0.78)\n",
            "max_accuracy: 0.7931034482758621\n"
          ],
          "name": "stdout"
        },
        {
          "output_type": "stream",
          "text": [
            "\r 41%|████      | 41/100 [11:16<14:27, 14.71s/it]"
          ],
          "name": "stderr"
        },
        {
          "output_type": "stream",
          "text": [
            "-----\n",
            "(0.74, 0.73, 0.76, 0.72, 0.75)\n",
            "max_accuracy: 0.7931034482758621\n",
            "-----\n",
            "(0.71, 0.71, 0.71, 0.71, 0.71)\n",
            "max_accuracy: 0.7931034482758621\n",
            "-----\n",
            "(0.72, 0.66, 0.9, 0.53, 0.76)\n",
            "max_accuracy: 0.7931034482758621\n"
          ],
          "name": "stdout"
        },
        {
          "output_type": "stream",
          "text": [
            "\r 42%|████▏     | 42/100 [11:30<14:01, 14.51s/it]"
          ],
          "name": "stderr"
        },
        {
          "output_type": "stream",
          "text": [
            "-----\n",
            "(0.73, 0.68, 0.9, 0.57, 0.77)\n",
            "max_accuracy: 0.7931034482758621\n",
            "-----\n",
            "(0.75, 0.7, 0.86, 0.64, 0.78)\n",
            "max_accuracy: 0.7931034482758621\n",
            "-----\n",
            "(0.75, 0.72, 0.81, 0.69, 0.76)\n",
            "max_accuracy: 0.7931034482758621\n"
          ],
          "name": "stdout"
        },
        {
          "output_type": "stream",
          "text": [
            "\r 43%|████▎     | 43/100 [11:44<13:37, 14.35s/it]"
          ],
          "name": "stderr"
        },
        {
          "output_type": "stream",
          "text": [
            "-----\n",
            "(0.74, 0.74, 0.74, 0.74, 0.74)\n",
            "max_accuracy: 0.7931034482758621\n",
            "-----\n",
            "(0.75, 0.7, 0.88, 0.62, 0.78)\n",
            "max_accuracy: 0.7931034482758621\n",
            "-----\n",
            "(0.78, 0.75, 0.83, 0.72, 0.79)\n",
            "max_accuracy: 0.7931034482758621\n"
          ],
          "name": "stdout"
        },
        {
          "output_type": "stream",
          "text": [
            "\r 44%|████▍     | 44/100 [11:58<13:17, 14.23s/it]"
          ],
          "name": "stderr"
        },
        {
          "output_type": "stream",
          "text": [
            "-----\n",
            "(0.77, 0.74, 0.83, 0.71, 0.78)\n",
            "max_accuracy: 0.7931034482758621\n",
            "-----\n",
            "(0.77, 0.75, 0.81, 0.72, 0.78)\n",
            "max_accuracy: 0.7931034482758621\n",
            "-----\n",
            "(0.76, 0.73, 0.81, 0.71, 0.77)\n",
            "max_accuracy: 0.7931034482758621\n"
          ],
          "name": "stdout"
        },
        {
          "output_type": "stream",
          "text": [
            "\r 45%|████▌     | 45/100 [12:12<12:58, 14.15s/it]"
          ],
          "name": "stderr"
        },
        {
          "output_type": "stream",
          "text": [
            "-----\n",
            "(0.75, 0.72, 0.81, 0.69, 0.76)\n",
            "max_accuracy: 0.7931034482758621\n",
            "-----\n",
            "(0.72, 0.73, 0.71, 0.74, 0.72)\n",
            "max_accuracy: 0.7931034482758621\n",
            "-----\n",
            "(0.76, 0.72, 0.84, 0.67, 0.78)\n",
            "max_accuracy: 0.7931034482758621\n"
          ],
          "name": "stdout"
        },
        {
          "output_type": "stream",
          "text": [
            "\r 46%|████▌     | 46/100 [12:26<12:41, 14.10s/it]"
          ],
          "name": "stderr"
        },
        {
          "output_type": "stream",
          "text": [
            "-----\n",
            "(0.75, 0.73, 0.79, 0.71, 0.76)\n",
            "max_accuracy: 0.7931034482758621\n",
            "-----\n",
            "(0.72, 0.65, 0.91, 0.52, 0.76)\n",
            "max_accuracy: 0.7931034482758621\n",
            "-----\n",
            "(0.76, 0.73, 0.81, 0.71, 0.77)\n",
            "max_accuracy: 0.7931034482758621\n"
          ],
          "name": "stdout"
        },
        {
          "output_type": "stream",
          "text": [
            "\r 47%|████▋     | 47/100 [12:40<12:23, 14.03s/it]"
          ],
          "name": "stderr"
        },
        {
          "output_type": "stream",
          "text": [
            "-----\n",
            "(0.74, 0.71, 0.81, 0.67, 0.76)\n",
            "max_accuracy: 0.7931034482758621\n",
            "-----\n",
            "(0.75, 0.73, 0.79, 0.71, 0.76)\n",
            "max_accuracy: 0.7931034482758621\n",
            "-----\n",
            "(0.74, 0.72, 0.79, 0.69, 0.75)\n",
            "max_accuracy: 0.7931034482758621\n"
          ],
          "name": "stdout"
        },
        {
          "output_type": "stream",
          "text": [
            "\r 48%|████▊     | 48/100 [12:54<12:07, 13.99s/it]"
          ],
          "name": "stderr"
        },
        {
          "output_type": "stream",
          "text": [
            "-----\n",
            "(0.74, 0.68, 0.9, 0.59, 0.78)\n",
            "max_accuracy: 0.7931034482758621\n",
            "-----\n",
            "(0.68, 0.73, 0.57, 0.79, 0.64)\n",
            "max_accuracy: 0.7931034482758621\n",
            "-----\n",
            "(0.71, 0.66, 0.86, 0.55, 0.75)\n",
            "max_accuracy: 0.7931034482758621\n"
          ],
          "name": "stdout"
        },
        {
          "output_type": "stream",
          "text": [
            "\r 49%|████▉     | 49/100 [13:08<11:53, 13.98s/it]"
          ],
          "name": "stderr"
        },
        {
          "output_type": "stream",
          "text": [
            "-----\n",
            "(0.75, 0.71, 0.84, 0.66, 0.77)\n",
            "max_accuracy: 0.7931034482758621\n",
            "-----\n",
            "(0.76, 0.73, 0.81, 0.71, 0.77)\n",
            "max_accuracy: 0.7931034482758621\n",
            "-----\n",
            "(0.73, 0.69, 0.84, 0.62, 0.76)\n",
            "max_accuracy: 0.7931034482758621\n"
          ],
          "name": "stdout"
        },
        {
          "output_type": "stream",
          "text": [
            "\r 50%|█████     | 50/100 [13:22<11:43, 14.07s/it]"
          ],
          "name": "stderr"
        },
        {
          "output_type": "stream",
          "text": [
            "-----\n",
            "(0.76, 0.72, 0.84, 0.67, 0.78)\n",
            "max_accuracy: 0.7931034482758621\n",
            "-----\n",
            "(0.74, 0.72, 0.79, 0.69, 0.75)\n",
            "max_accuracy: 0.7931034482758621\n",
            "-----\n",
            "(0.76, 0.72, 0.84, 0.67, 0.78)\n",
            "max_accuracy: 0.7931034482758621\n"
          ],
          "name": "stdout"
        },
        {
          "output_type": "stream",
          "text": [
            "\r 51%|█████     | 51/100 [13:36<11:30, 14.09s/it]"
          ],
          "name": "stderr"
        },
        {
          "output_type": "stream",
          "text": [
            "-----\n",
            "(0.72, 0.67, 0.9, 0.55, 0.76)\n",
            "max_accuracy: 0.7931034482758621\n",
            "-----\n",
            "(0.74, 0.69, 0.86, 0.62, 0.77)\n",
            "max_accuracy: 0.7931034482758621\n",
            "-----\n",
            "(0.76, 0.71, 0.86, 0.66, 0.78)\n",
            "max_accuracy: 0.7931034482758621\n"
          ],
          "name": "stdout"
        },
        {
          "output_type": "stream",
          "text": [
            "\r 52%|█████▏    | 52/100 [13:50<11:13, 14.03s/it]"
          ],
          "name": "stderr"
        },
        {
          "output_type": "stream",
          "text": [
            "-----\n",
            "(0.69, 0.63, 0.93, 0.45, 0.75)\n",
            "max_accuracy: 0.7931034482758621\n",
            "-----\n",
            "(0.77, 0.75, 0.79, 0.74, 0.77)\n",
            "max_accuracy: 0.7931034482758621\n",
            "-----\n",
            "(0.75, 0.72, 0.83, 0.67, 0.77)\n",
            "max_accuracy: 0.7931034482758621\n"
          ],
          "name": "stdout"
        },
        {
          "output_type": "stream",
          "text": [
            "\r 53%|█████▎    | 53/100 [14:04<10:57, 14.00s/it]"
          ],
          "name": "stderr"
        },
        {
          "output_type": "stream",
          "text": [
            "-----\n",
            "(0.74, 0.68, 0.9, 0.59, 0.78)\n",
            "max_accuracy: 0.7931034482758621\n",
            "-----\n",
            "(0.76, 0.7, 0.9, 0.62, 0.79)\n",
            "max_accuracy: 0.7931034482758621\n",
            "-----\n",
            "(0.73, 0.7, 0.81, 0.66, 0.75)\n",
            "max_accuracy: 0.7931034482758621\n"
          ],
          "name": "stdout"
        },
        {
          "output_type": "stream",
          "text": [
            "\r 54%|█████▍    | 54/100 [14:18<10:42, 13.97s/it]"
          ],
          "name": "stderr"
        },
        {
          "output_type": "stream",
          "text": [
            "-----\n",
            "(0.78, 0.77, 0.81, 0.76, 0.79)\n",
            "max_accuracy: 0.7931034482758621\n",
            "-----\n",
            "(0.74, 0.71, 0.83, 0.66, 0.76)\n",
            "max_accuracy: 0.7931034482758621\n",
            "-----\n",
            "(0.72, 0.66, 0.9, 0.53, 0.76)\n",
            "max_accuracy: 0.7931034482758621\n"
          ],
          "name": "stdout"
        },
        {
          "output_type": "stream",
          "text": [
            "\r 55%|█████▌    | 55/100 [14:32<10:28, 13.96s/it]"
          ],
          "name": "stderr"
        },
        {
          "output_type": "stream",
          "text": [
            "-----\n",
            "(0.78, 0.79, 0.76, 0.79, 0.77)\n",
            "max_accuracy: 0.7931034482758621\n",
            "-----\n",
            "(0.74, 0.69, 0.86, 0.62, 0.77)\n",
            "max_accuracy: 0.7931034482758621\n",
            "-----\n",
            "(0.73, 0.69, 0.84, 0.62, 0.76)\n",
            "max_accuracy: 0.7931034482758621\n"
          ],
          "name": "stdout"
        },
        {
          "output_type": "stream",
          "text": [
            "\r 56%|█████▌    | 56/100 [14:46<10:13, 13.94s/it]"
          ],
          "name": "stderr"
        },
        {
          "output_type": "stream",
          "text": [
            "-----\n",
            "(0.74, 0.72, 0.79, 0.69, 0.75)\n",
            "max_accuracy: 0.7931034482758621\n",
            "-----\n",
            "(0.77, 0.72, 0.86, 0.67, 0.79)\n",
            "max_accuracy: 0.7931034482758621\n",
            "-----\n",
            "(0.72, 0.68, 0.86, 0.59, 0.76)\n",
            "max_accuracy: 0.7931034482758621\n"
          ],
          "name": "stdout"
        },
        {
          "output_type": "stream",
          "text": [
            "\r 57%|█████▋    | 57/100 [15:00<09:58, 13.92s/it]"
          ],
          "name": "stderr"
        },
        {
          "output_type": "stream",
          "text": [
            "-----\n",
            "(0.72, 0.68, 0.86, 0.59, 0.76)\n",
            "max_accuracy: 0.7931034482758621\n",
            "-----\n",
            "(0.75, 0.72, 0.83, 0.67, 0.77)\n",
            "max_accuracy: 0.7931034482758621\n",
            "-----\n",
            "(0.74, 0.74, 0.74, 0.74, 0.74)\n",
            "max_accuracy: 0.7931034482758621\n"
          ],
          "name": "stdout"
        },
        {
          "output_type": "stream",
          "text": [
            "\r 58%|█████▊    | 58/100 [15:14<09:44, 13.91s/it]"
          ],
          "name": "stderr"
        },
        {
          "output_type": "stream",
          "text": [
            "-----\n",
            "(0.75, 0.72, 0.83, 0.67, 0.77)\n",
            "max_accuracy: 0.7931034482758621\n",
            "-----\n",
            "(0.76, 0.72, 0.84, 0.67, 0.78)\n",
            "max_accuracy: 0.7931034482758621\n",
            "-----\n",
            "(0.77, 0.72, 0.86, 0.67, 0.79)\n",
            "max_accuracy: 0.7931034482758621\n"
          ],
          "name": "stdout"
        },
        {
          "output_type": "stream",
          "text": [
            "\r 59%|█████▉    | 59/100 [15:28<09:31, 13.93s/it]"
          ],
          "name": "stderr"
        },
        {
          "output_type": "stream",
          "text": [
            "-----\n",
            "(0.74, 0.71, 0.83, 0.66, 0.76)\n",
            "max_accuracy: 0.7931034482758621\n",
            "-----\n",
            "(0.73, 0.68, 0.88, 0.59, 0.77)\n",
            "max_accuracy: 0.7931034482758621\n",
            "-----\n",
            "(0.76, 0.75, 0.78, 0.74, 0.76)\n",
            "max_accuracy: 0.7931034482758621\n"
          ],
          "name": "stdout"
        },
        {
          "output_type": "stream",
          "text": [
            "\r 60%|██████    | 60/100 [15:42<09:18, 13.96s/it]"
          ],
          "name": "stderr"
        },
        {
          "output_type": "stream",
          "text": [
            "-----\n",
            "(0.74, 0.7, 0.84, 0.64, 0.77)\n",
            "max_accuracy: 0.7931034482758621\n",
            "-----\n",
            "(0.76, 0.73, 0.81, 0.71, 0.77)\n",
            "max_accuracy: 0.7931034482758621\n",
            "-----\n",
            "(0.73, 0.68, 0.88, 0.59, 0.77)\n",
            "max_accuracy: 0.7931034482758621\n"
          ],
          "name": "stdout"
        },
        {
          "output_type": "stream",
          "text": [
            "\r 61%|██████    | 61/100 [15:56<09:06, 14.01s/it]"
          ],
          "name": "stderr"
        },
        {
          "output_type": "stream",
          "text": [
            "-----\n",
            "(0.69, 0.63, 0.9, 0.48, 0.74)\n",
            "max_accuracy: 0.7931034482758621\n",
            "-----\n",
            "(0.78, 0.73, 0.88, 0.67, 0.8)\n",
            "max_accuracy: 0.7931034482758621\n",
            "-----\n",
            "(0.73, 0.68, 0.9, 0.57, 0.77)\n",
            "max_accuracy: 0.7931034482758621\n"
          ],
          "name": "stdout"
        },
        {
          "output_type": "stream",
          "text": [
            "\r 62%|██████▏   | 62/100 [16:10<08:52, 14.01s/it]"
          ],
          "name": "stderr"
        },
        {
          "output_type": "stream",
          "text": [
            "-----\n",
            "(0.73, 0.71, 0.79, 0.67, 0.75)\n",
            "max_accuracy: 0.7931034482758621\n",
            "-----\n",
            "(0.75, 0.72, 0.83, 0.67, 0.77)\n",
            "max_accuracy: 0.7931034482758621\n",
            "-----\n",
            "(0.78, 0.72, 0.9, 0.66, 0.8)\n",
            "max_accuracy: 0.7931034482758621\n"
          ],
          "name": "stdout"
        },
        {
          "output_type": "stream",
          "text": [
            "\r 63%|██████▎   | 63/100 [16:24<08:37, 13.98s/it]"
          ],
          "name": "stderr"
        },
        {
          "output_type": "stream",
          "text": [
            "-----\n",
            "(0.75, 0.72, 0.81, 0.69, 0.76)\n",
            "max_accuracy: 0.7931034482758621\n",
            "-----\n",
            "(0.78, 0.73, 0.9, 0.67, 0.81)\n",
            "max_accuracy: 0.7931034482758621\n",
            "-----\n",
            "(0.75, 0.74, 0.78, 0.72, 0.76)\n",
            "max_accuracy: 0.7931034482758621\n"
          ],
          "name": "stdout"
        },
        {
          "output_type": "stream",
          "text": [
            "\r 64%|██████▍   | 64/100 [16:38<08:22, 13.97s/it]"
          ],
          "name": "stderr"
        },
        {
          "output_type": "stream",
          "text": [
            "-----\n",
            "(0.76, 0.7, 0.9, 0.62, 0.79)\n",
            "max_accuracy: 0.7931034482758621\n",
            "-----\n",
            "(0.77, 0.72, 0.86, 0.67, 0.79)\n",
            "max_accuracy: 0.7931034482758621\n",
            "-----\n",
            "(0.75, 0.73, 0.79, 0.71, 0.76)\n",
            "max_accuracy: 0.7931034482758621\n"
          ],
          "name": "stdout"
        },
        {
          "output_type": "stream",
          "text": [
            "\r 65%|██████▌   | 65/100 [16:52<08:08, 13.95s/it]"
          ],
          "name": "stderr"
        },
        {
          "output_type": "stream",
          "text": [
            "-----\n",
            "(0.74, 0.69, 0.86, 0.62, 0.77)\n",
            "max_accuracy: 0.7931034482758621\n",
            "-----\n",
            "(0.72, 0.66, 0.88, 0.55, 0.76)\n",
            "max_accuracy: 0.7931034482758621\n",
            "-----\n",
            "(0.74, 0.68, 0.9, 0.59, 0.78)\n",
            "max_accuracy: 0.7931034482758621\n"
          ],
          "name": "stdout"
        },
        {
          "output_type": "stream",
          "text": [
            "\r 66%|██████▌   | 66/100 [17:06<07:53, 13.93s/it]"
          ],
          "name": "stderr"
        },
        {
          "output_type": "stream",
          "text": [
            "-----\n",
            "(0.75, 0.72, 0.83, 0.67, 0.77)\n",
            "max_accuracy: 0.7931034482758621\n",
            "-----\n",
            "(0.73, 0.69, 0.84, 0.62, 0.76)\n",
            "max_accuracy: 0.7931034482758621\n",
            "-----\n",
            "(0.75, 0.72, 0.81, 0.69, 0.76)\n",
            "max_accuracy: 0.7931034482758621\n"
          ],
          "name": "stdout"
        },
        {
          "output_type": "stream",
          "text": [
            "\r 67%|██████▋   | 67/100 [17:20<07:41, 13.97s/it]"
          ],
          "name": "stderr"
        },
        {
          "output_type": "stream",
          "text": [
            "-----\n",
            "(0.76, 0.71, 0.88, 0.64, 0.78)\n",
            "max_accuracy: 0.7931034482758621\n",
            "-----\n",
            "(0.77, 0.73, 0.84, 0.69, 0.78)\n",
            "max_accuracy: 0.7931034482758621\n",
            "-----\n",
            "(0.76, 0.73, 0.83, 0.69, 0.77)\n",
            "max_accuracy: 0.7931034482758621\n"
          ],
          "name": "stdout"
        },
        {
          "output_type": "stream",
          "text": [
            "\r 68%|██████▊   | 68/100 [17:34<07:28, 14.01s/it]"
          ],
          "name": "stderr"
        },
        {
          "output_type": "stream",
          "text": [
            "-----\n",
            "(0.78, 0.73, 0.88, 0.67, 0.8)\n",
            "max_accuracy: 0.7931034482758621\n",
            "-----\n",
            "(0.8, 0.81, 0.79, 0.81, 0.8)\n",
            "max_accuracy: 0.8017241379310345\n",
            "-----\n",
            "(0.71, 0.65, 0.9, 0.52, 0.75)\n",
            "max_accuracy: 0.8017241379310345\n"
          ],
          "name": "stdout"
        },
        {
          "output_type": "stream",
          "text": [
            "\r 69%|██████▉   | 69/100 [17:51<07:44, 14.97s/it]"
          ],
          "name": "stderr"
        },
        {
          "output_type": "stream",
          "text": [
            "-----\n",
            "(0.76, 0.71, 0.86, 0.66, 0.78)\n",
            "max_accuracy: 0.8017241379310345\n",
            "-----\n",
            "(0.76, 0.73, 0.81, 0.71, 0.77)\n",
            "max_accuracy: 0.8017241379310345\n",
            "-----\n",
            "(0.76, 0.7, 0.9, 0.62, 0.79)\n",
            "max_accuracy: 0.8017241379310345\n"
          ],
          "name": "stdout"
        },
        {
          "output_type": "stream",
          "text": [
            "\r 70%|███████   | 70/100 [18:05<07:24, 14.81s/it]"
          ],
          "name": "stderr"
        },
        {
          "output_type": "stream",
          "text": [
            "-----\n",
            "(0.74, 0.69, 0.86, 0.62, 0.77)\n",
            "max_accuracy: 0.8017241379310345\n",
            "-----\n",
            "(0.76, 0.73, 0.81, 0.71, 0.77)\n",
            "max_accuracy: 0.8017241379310345\n",
            "-----\n",
            "(0.74, 0.71, 0.81, 0.67, 0.76)\n",
            "max_accuracy: 0.8017241379310345\n"
          ],
          "name": "stdout"
        },
        {
          "output_type": "stream",
          "text": [
            "\r 71%|███████   | 71/100 [18:20<07:05, 14.68s/it]"
          ],
          "name": "stderr"
        },
        {
          "output_type": "stream",
          "text": [
            "-----\n",
            "(0.74, 0.69, 0.88, 0.6, 0.77)\n",
            "max_accuracy: 0.8017241379310345\n",
            "-----\n",
            "(0.76, 0.73, 0.83, 0.69, 0.77)\n",
            "max_accuracy: 0.8017241379310345\n",
            "-----\n",
            "(0.72, 0.67, 0.86, 0.57, 0.75)\n",
            "max_accuracy: 0.8017241379310345\n"
          ],
          "name": "stdout"
        },
        {
          "output_type": "stream",
          "text": [
            "\r 72%|███████▏  | 72/100 [18:34<06:47, 14.57s/it]"
          ],
          "name": "stderr"
        },
        {
          "output_type": "stream",
          "text": [
            "-----\n",
            "(0.74, 0.69, 0.86, 0.62, 0.77)\n",
            "max_accuracy: 0.8017241379310345\n",
            "-----\n",
            "(0.76, 0.73, 0.83, 0.69, 0.77)\n",
            "max_accuracy: 0.8017241379310345\n",
            "-----\n",
            "(0.78, 0.76, 0.81, 0.74, 0.78)\n",
            "max_accuracy: 0.8017241379310345\n"
          ],
          "name": "stdout"
        },
        {
          "output_type": "stream",
          "text": [
            "\r 73%|███████▎  | 73/100 [18:48<06:29, 14.43s/it]"
          ],
          "name": "stderr"
        },
        {
          "output_type": "stream",
          "text": [
            "-----\n",
            "(0.75, 0.75, 0.74, 0.76, 0.75)\n",
            "max_accuracy: 0.8017241379310345\n",
            "-----\n",
            "(0.76, 0.73, 0.81, 0.71, 0.77)\n",
            "max_accuracy: 0.8017241379310345\n",
            "-----\n",
            "(0.76, 0.71, 0.86, 0.66, 0.78)\n",
            "max_accuracy: 0.8017241379310345\n"
          ],
          "name": "stdout"
        },
        {
          "output_type": "stream",
          "text": [
            "\r 74%|███████▍  | 74/100 [19:02<06:11, 14.29s/it]"
          ],
          "name": "stderr"
        },
        {
          "output_type": "stream",
          "text": [
            "-----\n",
            "(0.75, 0.72, 0.81, 0.69, 0.76)\n",
            "max_accuracy: 0.8017241379310345\n",
            "-----\n",
            "(0.76, 0.72, 0.84, 0.67, 0.78)\n",
            "max_accuracy: 0.8017241379310345\n",
            "-----\n",
            "(0.76, 0.71, 0.88, 0.64, 0.78)\n",
            "max_accuracy: 0.8017241379310345\n"
          ],
          "name": "stdout"
        },
        {
          "output_type": "stream",
          "text": [
            "\r 75%|███████▌  | 75/100 [19:16<05:54, 14.19s/it]"
          ],
          "name": "stderr"
        },
        {
          "output_type": "stream",
          "text": [
            "-----\n",
            "(0.78, 0.75, 0.84, 0.72, 0.8)\n",
            "max_accuracy: 0.8017241379310345\n",
            "-----\n",
            "(0.78, 0.73, 0.88, 0.67, 0.8)\n",
            "max_accuracy: 0.8017241379310345\n",
            "-----\n",
            "(0.78, 0.74, 0.84, 0.71, 0.79)\n",
            "max_accuracy: 0.8017241379310345\n"
          ],
          "name": "stdout"
        },
        {
          "output_type": "stream",
          "text": [
            "\r 76%|███████▌  | 76/100 [19:30<05:38, 14.10s/it]"
          ],
          "name": "stderr"
        },
        {
          "output_type": "stream",
          "text": [
            "-----\n",
            "(0.78, 0.74, 0.86, 0.69, 0.79)\n",
            "max_accuracy: 0.8017241379310345\n",
            "-----\n",
            "(0.75, 0.72, 0.83, 0.67, 0.77)\n",
            "max_accuracy: 0.8017241379310345\n",
            "-----\n",
            "(0.76, 0.73, 0.81, 0.71, 0.77)\n",
            "max_accuracy: 0.8017241379310345\n"
          ],
          "name": "stdout"
        },
        {
          "output_type": "stream",
          "text": [
            "\r 77%|███████▋  | 77/100 [19:44<05:22, 14.04s/it]"
          ],
          "name": "stderr"
        },
        {
          "output_type": "stream",
          "text": [
            "-----\n",
            "(0.72, 0.74, 0.69, 0.76, 0.71)\n",
            "max_accuracy: 0.8017241379310345\n",
            "-----\n",
            "(0.78, 0.78, 0.79, 0.78, 0.79)\n",
            "max_accuracy: 0.8017241379310345\n",
            "-----\n",
            "(0.78, 0.75, 0.83, 0.72, 0.79)\n",
            "max_accuracy: 0.8017241379310345\n"
          ],
          "name": "stdout"
        },
        {
          "output_type": "stream",
          "text": [
            "\r 78%|███████▊  | 78/100 [19:58<05:08, 14.02s/it]"
          ],
          "name": "stderr"
        },
        {
          "output_type": "stream",
          "text": [
            "-----\n",
            "(0.76, 0.71, 0.86, 0.66, 0.78)\n",
            "max_accuracy: 0.8017241379310345\n",
            "-----\n",
            "(0.74, 0.69, 0.86, 0.62, 0.77)\n",
            "max_accuracy: 0.8017241379310345\n",
            "-----\n",
            "(0.72, 0.67, 0.9, 0.55, 0.76)\n",
            "max_accuracy: 0.8017241379310345\n"
          ],
          "name": "stdout"
        },
        {
          "output_type": "stream",
          "text": [
            "\r 79%|███████▉  | 79/100 [20:12<04:54, 14.00s/it]"
          ],
          "name": "stderr"
        },
        {
          "output_type": "stream",
          "text": [
            "-----\n",
            "(0.74, 0.68, 0.9, 0.59, 0.78)\n",
            "max_accuracy: 0.8017241379310345\n",
            "-----\n",
            "(0.77, 0.74, 0.83, 0.71, 0.78)\n",
            "max_accuracy: 0.8017241379310345\n",
            "-----\n",
            "(0.78, 0.74, 0.88, 0.69, 0.8)\n",
            "max_accuracy: 0.8017241379310345\n"
          ],
          "name": "stdout"
        },
        {
          "output_type": "stream",
          "text": [
            "\r 80%|████████  | 80/100 [20:26<04:39, 13.99s/it]"
          ],
          "name": "stderr"
        },
        {
          "output_type": "stream",
          "text": [
            "-----\n",
            "(0.78, 0.78, 0.79, 0.78, 0.79)\n",
            "max_accuracy: 0.8017241379310345\n",
            "-----\n",
            "(0.75, 0.72, 0.81, 0.69, 0.76)\n",
            "max_accuracy: 0.8017241379310345\n",
            "-----\n",
            "(0.75, 0.72, 0.81, 0.69, 0.76)\n",
            "max_accuracy: 0.8017241379310345\n"
          ],
          "name": "stdout"
        },
        {
          "output_type": "stream",
          "text": [
            "\r 81%|████████  | 81/100 [20:40<04:25, 13.97s/it]"
          ],
          "name": "stderr"
        },
        {
          "output_type": "stream",
          "text": [
            "-----\n",
            "(0.75, 0.73, 0.79, 0.71, 0.76)\n",
            "max_accuracy: 0.8017241379310345\n",
            "-----\n",
            "(0.76, 0.73, 0.81, 0.71, 0.77)\n",
            "max_accuracy: 0.8017241379310345\n",
            "-----\n",
            "(0.76, 0.73, 0.81, 0.71, 0.77)\n",
            "max_accuracy: 0.8017241379310345\n"
          ],
          "name": "stdout"
        },
        {
          "output_type": "stream",
          "text": [
            "\r 82%|████████▏ | 82/100 [20:54<04:11, 13.95s/it]"
          ],
          "name": "stderr"
        },
        {
          "output_type": "stream",
          "text": [
            "-----\n",
            "(0.75, 0.72, 0.83, 0.67, 0.77)\n",
            "max_accuracy: 0.8017241379310345\n",
            "-----\n",
            "(0.73, 0.7, 0.81, 0.66, 0.75)\n",
            "max_accuracy: 0.8017241379310345\n",
            "-----\n",
            "(0.76, 0.72, 0.84, 0.67, 0.78)\n",
            "max_accuracy: 0.8017241379310345\n"
          ],
          "name": "stdout"
        },
        {
          "output_type": "stream",
          "text": [
            "\r 83%|████████▎ | 83/100 [21:08<03:56, 13.94s/it]"
          ],
          "name": "stderr"
        },
        {
          "output_type": "stream",
          "text": [
            "-----\n",
            "(0.76, 0.72, 0.84, 0.67, 0.78)\n",
            "max_accuracy: 0.8017241379310345\n",
            "-----\n",
            "(0.75, 0.7, 0.86, 0.64, 0.78)\n",
            "max_accuracy: 0.8017241379310345\n",
            "-----\n",
            "(0.76, 0.71, 0.88, 0.64, 0.78)\n",
            "max_accuracy: 0.8017241379310345\n"
          ],
          "name": "stdout"
        },
        {
          "output_type": "stream",
          "text": [
            "\r 84%|████████▍ | 84/100 [21:21<03:43, 13.94s/it]"
          ],
          "name": "stderr"
        },
        {
          "output_type": "stream",
          "text": [
            "-----\n",
            "(0.76, 0.71, 0.88, 0.64, 0.78)\n",
            "max_accuracy: 0.8017241379310345\n",
            "-----\n",
            "(0.77, 0.72, 0.86, 0.67, 0.79)\n",
            "max_accuracy: 0.8017241379310345\n",
            "-----\n",
            "(0.77, 0.72, 0.88, 0.66, 0.79)\n",
            "max_accuracy: 0.8017241379310345\n"
          ],
          "name": "stdout"
        },
        {
          "output_type": "stream",
          "text": [
            "\r 85%|████████▌ | 85/100 [21:35<03:29, 13.95s/it]"
          ],
          "name": "stderr"
        },
        {
          "output_type": "stream",
          "text": [
            "-----\n",
            "(0.75, 0.72, 0.83, 0.67, 0.77)\n",
            "max_accuracy: 0.8017241379310345\n",
            "-----\n",
            "(0.74, 0.69, 0.88, 0.6, 0.77)\n",
            "max_accuracy: 0.8017241379310345\n",
            "-----\n",
            "(0.75, 0.72, 0.83, 0.67, 0.77)\n",
            "max_accuracy: 0.8017241379310345\n"
          ],
          "name": "stdout"
        },
        {
          "output_type": "stream",
          "text": [
            "\r 86%|████████▌ | 86/100 [21:49<03:14, 13.93s/it]"
          ],
          "name": "stderr"
        },
        {
          "output_type": "stream",
          "text": [
            "-----\n",
            "(0.76, 0.73, 0.83, 0.69, 0.77)\n",
            "max_accuracy: 0.8017241379310345\n",
            "-----\n",
            "(0.78, 0.75, 0.84, 0.72, 0.8)\n",
            "max_accuracy: 0.8017241379310345\n",
            "-----\n",
            "(0.76, 0.73, 0.81, 0.71, 0.77)\n",
            "max_accuracy: 0.8017241379310345\n"
          ],
          "name": "stdout"
        },
        {
          "output_type": "stream",
          "text": [
            "\r 87%|████████▋ | 87/100 [22:03<03:01, 13.93s/it]"
          ],
          "name": "stderr"
        },
        {
          "output_type": "stream",
          "text": [
            "-----\n",
            "(0.77, 0.71, 0.9, 0.64, 0.79)\n",
            "max_accuracy: 0.8017241379310345\n",
            "-----\n",
            "(0.76, 0.71, 0.88, 0.64, 0.78)\n",
            "max_accuracy: 0.8017241379310345\n",
            "-----\n",
            "(0.75, 0.69, 0.9, 0.6, 0.78)\n",
            "max_accuracy: 0.8017241379310345\n"
          ],
          "name": "stdout"
        },
        {
          "output_type": "stream",
          "text": [
            "\r 88%|████████▊ | 88/100 [22:17<02:46, 13.91s/it]"
          ],
          "name": "stderr"
        },
        {
          "output_type": "stream",
          "text": [
            "-----\n",
            "(0.76, 0.73, 0.83, 0.69, 0.77)\n",
            "max_accuracy: 0.8017241379310345\n",
            "-----\n",
            "(0.75, 0.72, 0.81, 0.69, 0.76)\n",
            "max_accuracy: 0.8017241379310345\n",
            "-----\n",
            "(0.77, 0.74, 0.83, 0.71, 0.78)\n",
            "max_accuracy: 0.8017241379310345\n"
          ],
          "name": "stdout"
        },
        {
          "output_type": "stream",
          "text": [
            "\r 89%|████████▉ | 89/100 [22:31<02:33, 13.92s/it]"
          ],
          "name": "stderr"
        },
        {
          "output_type": "stream",
          "text": [
            "-----\n",
            "(0.78, 0.75, 0.84, 0.72, 0.8)\n",
            "max_accuracy: 0.8017241379310345\n",
            "-----\n",
            "(0.78, 0.75, 0.83, 0.72, 0.79)\n",
            "max_accuracy: 0.8017241379310345\n",
            "-----\n",
            "(0.77, 0.72, 0.88, 0.66, 0.79)\n",
            "max_accuracy: 0.8017241379310345\n"
          ],
          "name": "stdout"
        },
        {
          "output_type": "stream",
          "text": [
            "\r 90%|█████████ | 90/100 [22:45<02:19, 13.93s/it]"
          ],
          "name": "stderr"
        },
        {
          "output_type": "stream",
          "text": [
            "-----\n",
            "(0.78, 0.75, 0.83, 0.72, 0.79)\n",
            "max_accuracy: 0.8017241379310345\n",
            "-----\n",
            "(0.78, 0.75, 0.86, 0.71, 0.8)\n",
            "max_accuracy: 0.8017241379310345\n",
            "-----\n",
            "(0.75, 0.74, 0.78, 0.72, 0.76)\n",
            "max_accuracy: 0.8017241379310345\n"
          ],
          "name": "stdout"
        },
        {
          "output_type": "stream",
          "text": [
            "\r 91%|█████████ | 91/100 [22:59<02:05, 13.93s/it]"
          ],
          "name": "stderr"
        },
        {
          "output_type": "stream",
          "text": [
            "-----\n",
            "(0.74, 0.72, 0.79, 0.69, 0.75)\n",
            "max_accuracy: 0.8017241379310345\n",
            "-----\n",
            "(0.77, 0.72, 0.88, 0.66, 0.79)\n",
            "max_accuracy: 0.8017241379310345\n",
            "-----\n",
            "(0.76, 0.71, 0.88, 0.64, 0.78)\n",
            "max_accuracy: 0.8017241379310345\n"
          ],
          "name": "stdout"
        },
        {
          "output_type": "stream",
          "text": [
            "\r 92%|█████████▏| 92/100 [23:13<01:51, 13.90s/it]"
          ],
          "name": "stderr"
        },
        {
          "output_type": "stream",
          "text": [
            "-----\n",
            "(0.76, 0.71, 0.86, 0.66, 0.78)\n",
            "max_accuracy: 0.8017241379310345\n",
            "-----\n",
            "(0.74, 0.68, 0.9, 0.59, 0.78)\n",
            "max_accuracy: 0.8017241379310345\n",
            "-----\n",
            "(0.74, 0.69, 0.88, 0.6, 0.77)\n",
            "max_accuracy: 0.8017241379310345\n"
          ],
          "name": "stdout"
        },
        {
          "output_type": "stream",
          "text": [
            "\r 93%|█████████▎| 93/100 [23:27<01:37, 13.91s/it]"
          ],
          "name": "stderr"
        },
        {
          "output_type": "stream",
          "text": [
            "-----\n",
            "(0.74, 0.69, 0.88, 0.6, 0.77)\n",
            "max_accuracy: 0.8017241379310345\n",
            "-----\n",
            "(0.78, 0.75, 0.86, 0.71, 0.8)\n",
            "max_accuracy: 0.8017241379310345\n",
            "-----\n",
            "(0.74, 0.69, 0.88, 0.6, 0.77)\n",
            "max_accuracy: 0.8017241379310345\n"
          ],
          "name": "stdout"
        },
        {
          "output_type": "stream",
          "text": [
            "\r 94%|█████████▍| 94/100 [23:41<01:23, 13.94s/it]"
          ],
          "name": "stderr"
        },
        {
          "output_type": "stream",
          "text": [
            "-----\n",
            "(0.77, 0.72, 0.86, 0.67, 0.79)\n",
            "max_accuracy: 0.8017241379310345\n",
            "-----\n",
            "(0.72, 0.66, 0.88, 0.55, 0.76)\n",
            "max_accuracy: 0.8017241379310345\n",
            "-----\n",
            "(0.74, 0.71, 0.83, 0.66, 0.76)\n",
            "max_accuracy: 0.8017241379310345\n"
          ],
          "name": "stdout"
        },
        {
          "output_type": "stream",
          "text": [
            "\r 95%|█████████▌| 95/100 [23:55<01:09, 13.96s/it]"
          ],
          "name": "stderr"
        },
        {
          "output_type": "stream",
          "text": [
            "-----\n",
            "(0.75, 0.74, 0.78, 0.72, 0.76)\n",
            "max_accuracy: 0.8017241379310345\n",
            "-----\n",
            "(0.78, 0.74, 0.84, 0.71, 0.79)\n",
            "max_accuracy: 0.8017241379310345\n",
            "-----\n",
            "(0.76, 0.73, 0.81, 0.71, 0.77)\n",
            "max_accuracy: 0.8017241379310345\n"
          ],
          "name": "stdout"
        },
        {
          "output_type": "stream",
          "text": [
            "\r 96%|█████████▌| 96/100 [24:09<00:55, 13.95s/it]"
          ],
          "name": "stderr"
        },
        {
          "output_type": "stream",
          "text": [
            "-----\n",
            "(0.74, 0.71, 0.83, 0.66, 0.76)\n",
            "max_accuracy: 0.8017241379310345\n",
            "-----\n",
            "(0.73, 0.7, 0.81, 0.66, 0.75)\n",
            "max_accuracy: 0.8017241379310345\n",
            "-----\n",
            "(0.76, 0.76, 0.76, 0.76, 0.76)\n",
            "max_accuracy: 0.8017241379310345\n"
          ],
          "name": "stdout"
        },
        {
          "output_type": "stream",
          "text": [
            "\r 97%|█████████▋| 97/100 [24:23<00:41, 13.94s/it]"
          ],
          "name": "stderr"
        },
        {
          "output_type": "stream",
          "text": [
            "-----\n",
            "(0.75, 0.7, 0.88, 0.62, 0.78)\n",
            "max_accuracy: 0.8017241379310345\n",
            "-----\n",
            "(0.74, 0.69, 0.86, 0.62, 0.77)\n",
            "max_accuracy: 0.8017241379310345\n",
            "-----\n",
            "(0.74, 0.69, 0.86, 0.62, 0.77)\n",
            "max_accuracy: 0.8017241379310345\n"
          ],
          "name": "stdout"
        },
        {
          "output_type": "stream",
          "text": [
            "\r 98%|█████████▊| 98/100 [24:36<00:27, 13.93s/it]"
          ],
          "name": "stderr"
        },
        {
          "output_type": "stream",
          "text": [
            "-----\n",
            "(0.75, 0.72, 0.81, 0.69, 0.76)\n",
            "max_accuracy: 0.8017241379310345\n",
            "-----\n",
            "(0.76, 0.73, 0.81, 0.71, 0.77)\n",
            "max_accuracy: 0.8017241379310345\n",
            "-----\n",
            "(0.75, 0.72, 0.83, 0.67, 0.77)\n",
            "max_accuracy: 0.8017241379310345\n"
          ],
          "name": "stdout"
        },
        {
          "output_type": "stream",
          "text": [
            "\r 99%|█████████▉| 99/100 [24:50<00:13, 13.92s/it]"
          ],
          "name": "stderr"
        },
        {
          "output_type": "stream",
          "text": [
            "-----\n",
            "(0.72, 0.69, 0.83, 0.62, 0.75)\n",
            "max_accuracy: 0.8017241379310345\n",
            "-----\n",
            "(0.72, 0.68, 0.84, 0.6, 0.75)\n",
            "max_accuracy: 0.8017241379310345\n",
            "-----\n",
            "(0.76, 0.73, 0.83, 0.69, 0.77)\n",
            "max_accuracy: 0.8017241379310345\n"
          ],
          "name": "stdout"
        },
        {
          "output_type": "stream",
          "text": [
            "100%|██████████| 100/100 [25:04<00:00, 15.05s/it]\n"
          ],
          "name": "stderr"
        },
        {
          "output_type": "display_data",
          "data": {
            "image/png": "[encoded data removed]",
            "text/plain": [
              "<Figure size 432x288 with 1 Axes>"
            ]
          },
          "metadata": {
            "tags": [],
            "needs_background": "light"
          }
        },
        {
          "output_type": "display_data",
          "data": {
            "image/png": "[encoded data removed]",
            "text/plain": [
              "<Figure size 432x288 with 1 Axes>"
            ]
          },
          "metadata": {
            "tags": [],
            "needs_background": "light"
          }
        },
        {
          "output_type": "display_data",
          "data": {
            "image/png": "[encoded data removed]",
            "text/plain": [
              "<Figure size 432x288 with 1 Axes>"
            ]
          },
          "metadata": {
            "tags": [],
            "needs_background": "light"
          }
        },
        {
          "output_type": "display_data",
          "data": {
            "image/png": "[encoded data removed]",
            "text/plain": [
              "<Figure size 432x288 with 1 Axes>"
            ]
          },
          "metadata": {
            "tags": [],
            "needs_background": "light"
          }
        },
        {
          "output_type": "display_data",
          "data": {
            "image/png": "[encoded data removed]",
            "text/plain": [
              "<Figure size 432x288 with 1 Axes>"
            ]
          },
          "metadata": {
            "tags": [],
            "needs_background": "light"
          }
        },
        {
          "output_type": "display_data",
          "data": {
            "image/png": "[encoded data removed]",
            "text/plain": [
              "<Figure size 432x288 with 1 Axes>"
            ]
          },
          "metadata": {
            "tags": [],
            "needs_background": "light"
          }
        },
        {
          "output_type": "display_data",
          "data": {
            "image/png": "[encoded data removed]",
            "text/plain": [
              "<Figure size 432x288 with 1 Axes>"
            ]
          },
          "metadata": {
            "tags": [],
            "needs_background": "light"
          }
        },
        {
          "output_type": "display_data",
          "data": {
            "image/png": "[encoded data removed]",
            "text/plain": [
              "<Figure size 432x288 with 1 Axes>"
            ]
          },
          "metadata": {
            "tags": [],
            "needs_background": "light"
          }
        },
        {
          "output_type": "display_data",
          "data": {
            "image/png": "[encoded data removed]",
            "text/plain": [
              "<Figure size 432x288 with 1 Axes>"
            ]
          },
          "metadata": {
            "tags": [],
            "needs_background": "light"
          }
        },
        {
          "output_type": "display_data",
          "data": {
            "image/png": "[encoded data removed]",
            "text/plain": [
              "<Figure size 432x288 with 1 Axes>"
            ]
          },
          "metadata": {
            "tags": [],
            "needs_background": "light"
          }
        },
        {
          "output_type": "display_data",
          "data": {
            "image/png": "[encoded data removed]",
            "text/plain": [
              "<Figure size 432x288 with 1 Axes>"
            ]
          },
          "metadata": {
            "tags": [],
            "needs_background": "light"
          }
        },
        {
          "output_type": "display_data",
          "data": {
            "image/png": "[encoded data removed]",
            "text/plain": [
              "<Figure size 432x288 with 1 Axes>"
            ]
          },
          "metadata": {
            "tags": [],
            "needs_background": "light"
          }
        },
        {
          "output_type": "display_data",
          "data": {
            "image/png": "[encoded data removed]",
            "text/plain": [
              "<Figure size 432x288 with 1 Axes>"
            ]
          },
          "metadata": {
            "tags": [],
            "needs_background": "light"
          }
        }
      ]
    },
    {
      "cell_type": "code",
      "metadata": {
        "id": "JUMMe6H86fM7",
        "colab": {
          "base_uri": "https://localhost:8080/",
          "height": 361
        },
        "outputId": "9d638afc-49df-4677-e05a-41d2812b96ee"
      },
      "source": [
        "        #ここからevaluation (accuracy, precision, recall, specificity, f_value)                        \r\n",
        "        model.eval()\r\n",
        "\r\n",
        "        test_dataset = SimpleImageDataset(TEST_PATH, age_dict, sex_dict, train_data_transforms)\r\n",
        "        test_dataloader = DataLoader(test_dataset, batch_size = 1, shuffle = False)\r\n",
        "\r\n",
        "        test_folder_path = TEST_PATH\r\n",
        "        evaluator = Evaluator(model, test_dataset.class_names, age_dict, sex_dict, test_folder_path, val_data_transforms, device)\r\n",
        "        \r\n",
        "        _ ,score =evaluator.evaluate()\r\n",
        "        print(score)\r\n",
        "\r\n",
        "        evaluator.draw_roc(ROC_PATH)"
      ],
      "execution_count": 8,
      "outputs": [
        {
          "output_type": "stream",
          "text": [
            "eval number of classes: 2\n",
            "eval number of images: 86\n",
            "initial accuracy: 0.8235294117647058\n",
            "(0.82, 0.89, 0.74, 0.91, 0.81)\n"
          ],
          "name": "stdout"
        },
        {
          "output_type": "display_data",
          "data": {
            "image/png": "[encoded data removed]",
            "text/plain": [
              "<Figure size 432x288 with 1 Axes>"
            ]
          },
          "metadata": {
            "tags": [],
            "needs_background": "light"
          }
        }
      ]
    }
  ]
}