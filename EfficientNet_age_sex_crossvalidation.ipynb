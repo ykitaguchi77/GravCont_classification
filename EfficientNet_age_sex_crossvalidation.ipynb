{
  "nbformat": 4,
  "nbformat_minor": 0,
  "metadata": {
    "colab": {
      "name": "Untitled71.ipynb",
      "provenance": [],
      "authorship_tag": "ABX9TyN3phMC5MjfdEueRDdTVpXK",
      "include_colab_link": true
    },
    "kernelspec": {
      "name": "python3",
      "display_name": "Python 3"
    },
    "accelerator": "GPU"
  },
  "cells": [
    {
      "cell_type": "markdown",
      "metadata": {
        "id": "view-in-github",
        "colab_type": "text"
      },
      "source": [
        "<a href=\"https://colab.research.google.com/github/ykitaguchi77/GravCont_classification_colab/blob/master/EfficientNet_age_sex_crossvalidation.ipynb\" target=\"_parent\"><img src=\"https://colab.research.google.com/assets/colab-badge.svg\" alt=\"Open In Colab\"/></a>"
      ]
    },
    {
      "cell_type": "code",
      "metadata": {
        "id": "_XH0N7e0Y8Ou"
      },
      "source": [
        "from google.colab import drive\r\n",
        "drive.mount('/content/drive')\r\n",
        "\r\n"
      ],
      "execution_count": null,
      "outputs": []
    },
    {
      "cell_type": "markdown",
      "metadata": {
        "id": "dnJHyFPBhEAN"
      },
      "source": [
        "#**Evaluator**"
      ]
    },
    {
      "cell_type": "code",
      "metadata": {
        "id": "sTp1hx1bhCm4"
      },
      "source": [
        "import os\r\n",
        "import random\r\n",
        "import numpy as np\r\n",
        "import glob\r\n",
        "import torch\r\n",
        "from torch.utils.data import Dataset\r\n",
        "from PIL import Image\r\n",
        "from sklearn.metrics import roc_curve, auc\r\n",
        "import matplotlib.pyplot as plt\r\n",
        "\r\n",
        "class Evaluator:\r\n",
        "    def __init__(self, model, classes, age_dict, sex_dict, val_folder_path, val_transform, device, print_round_num=2) -> None:\r\n",
        "        super().__init__()\r\n",
        "        self.model = model\r\n",
        "        self.val_folder_path = val_folder_path\r\n",
        "        self.val_transform = val_transform\r\n",
        "        self.device = device\r\n",
        "        self.print_round_num = print_round_num\r\n",
        "        \r\n",
        "        self.class_names = classes\r\n",
        "        self.age_dict = age_dict\r\n",
        "        self.sex_dict = sex_dict\r\n",
        "        self.image_paths = glob.glob(self.val_folder_path + \"/*/*\")\r\n",
        "        print('eval number of classes: ' +str(len(self.class_names)))\r\n",
        "        print('eval number of images: ' +str(len(self.image_paths)))\r\n",
        "        random.shuffle(self.image_paths) \r\n",
        "\r\n",
        "        self.max_accuracy = 0\r\n",
        "        # to update self.max_accuracy\r\n",
        "        self.evaluate()\r\n",
        "        print(\"initial accuracy: \" + str(self.max_accuracy))\r\n",
        "\r\n",
        "    def evaluate(self):\r\n",
        "        TP = FP = TN = FN = TP = FP = TN = FN = 0\r\n",
        "        image_name_list = []\r\n",
        "        label_list = []\r\n",
        "        model_pred_list = []\r\n",
        "\r\n",
        "        model_pred_class = []\r\n",
        "        model_pred_prob = []\r\n",
        "\r\n",
        "        for image_path in self.image_paths:\r\n",
        "            image_name, label, age, sex = self.get_label(image_path)\r\n",
        "            if np.isnan(age):\r\n",
        "                    continue\r\n",
        "            image_tensor = self.get_image_tensor(image_path)\r\n",
        "\r\n",
        "            is_training = self.model.training\r\n",
        "            self.model.eval()\r\n",
        "            with torch.no_grad():\r\n",
        "                output = self.model(image_tensor)\r\n",
        "            if is_training:\r\n",
        "                self.model.train()\r\n",
        "                \r\n",
        "            output = output.squeeze(0)\r\n",
        "            #model_pred:クラス名前、prob:確率、pred:クラス番号\r\n",
        "            prob = torch.clamp(output[0], 0, 1)\r\n",
        "            pred = int(torch.round(prob))\r\n",
        "            model_pred = self.class_names[pred]\r\n",
        "            \r\n",
        "            image_name_list.append(image_name)\r\n",
        "            label_list.append(label)\r\n",
        "            model_pred_list.append(model_pred)\r\n",
        "\r\n",
        "            model_pred_class.append(int(pred))\r\n",
        "            model_pred_prob.append(float(prob))\r\n",
        "\r\n",
        "            if label == self.class_names[0]:\r\n",
        "                if model_pred == self.class_names[0]:\r\n",
        "                    TN += 1\r\n",
        "                else:\r\n",
        "                    FP += 1\r\n",
        "            elif label == self.class_names[1]:\r\n",
        "                if model_pred == self.class_names[1]:\r\n",
        "                    TP += 1\r\n",
        "                else:\r\n",
        "                    FN += 1\r\n",
        "\r\n",
        "        accuracy, precision, recall, specificity, f_value = self.calculate_accuracy(TP, TN, FP, FN)\r\n",
        "        is_best = self.max_accuracy < accuracy\r\n",
        "        if is_best:\r\n",
        "            self.max_accuracy = accuracy\r\n",
        "\r\n",
        "        return is_best, (round(accuracy, self.print_round_num), \r\n",
        "            round(precision, self.print_round_num), \r\n",
        "            round(recall, self.print_round_num), \r\n",
        "            round(specificity, self.print_round_num), \r\n",
        "            round(f_value, self.print_round_num))\r\n",
        "        \r\n",
        "    def draw_roc(self, output_path):\r\n",
        "        label_list = []\r\n",
        "        model_pred_prob = []\r\n",
        "\r\n",
        "        for image_path in self.image_paths:\r\n",
        "            image_name, label, age, sex = self.get_label(image_path)\r\n",
        "            image_tensor = self.get_image_tensor(image_path)\r\n",
        "\r\n",
        "            is_training = self.model.training\r\n",
        "            self.model.eval()\r\n",
        "            with torch.no_grad():\r\n",
        "                output = self.model(image_tensor)\r\n",
        "            if is_training:\r\n",
        "                self.model.train()\r\n",
        "                \r\n",
        "            output = output.squeeze(0)\r\n",
        "            #model_pred:クラス名前、prob:確率、pred:クラス番号\r\n",
        "            prob = torch.clamp(output[0], 0, 1)\r\n",
        "\r\n",
        "            label_list.append(label)\r\n",
        "            model_pred_prob.append(float(prob))\r\n",
        "\r\n",
        "        y_score = []\r\n",
        "        y_true = []\r\n",
        "\r\n",
        "        k=0\r\n",
        "        for i in label_list:\r\n",
        "            if label_list[k] == 'cont':\r\n",
        "                y_true.append(0)\r\n",
        "            elif label_list[k] == 'grav':\r\n",
        "                y_true.append(1)\r\n",
        "            k+=1\r\n",
        "\r\n",
        "        #健康な状態を「0」、病気を「1」としてラベルよりリストを作成\r\n",
        "        y_true = y_true\r\n",
        "        #それぞれの画像における陽性の確率についてリストを作成\r\n",
        "        y_score = model_pred_prob\r\n",
        "        try:\r\n",
        "            fpr, tpr, thred = roc_curve(y_true, y_score)\r\n",
        "            roc_auc = auc(fpr, tpr)\r\n",
        "\r\n",
        "            plt.figure()\r\n",
        "            lw = 2\r\n",
        "            plt.plot(fpr, tpr, color='darkorange',lw=lw, label='ROC curve (area = %0.2f)' % roc_auc)\r\n",
        "            plt.plot([0, 1], [0, 1], color='navy', lw=lw, linestyle='--')\r\n",
        "            plt.xlabel('False Positive Rate')\r\n",
        "            plt.ylabel('True Positive Rate')\r\n",
        "            plt.title('Receiver operating characteristic example')\r\n",
        "            plt.legend(loc=\"lower right\")\r\n",
        "            plt.savefig(output_path)\r\n",
        "        except:\r\n",
        "            pass\r\n",
        "\r\n",
        "    #対象のパスからラベルを抜き出す\r\n",
        "    def get_label(self, image_path):\r\n",
        "        image_name = os.path.basename(image_path)\r\n",
        "        \r\n",
        "        base_name, ext = os.path.splitext(image_name)\r\n",
        "        age = float(self.age_dict[base_name]) / 100\r\n",
        "        sex = float(self.sex_dict[base_name])\r\n",
        "        \r\n",
        "        label = os.path.basename(os.path.dirname(image_path))\r\n",
        "        return(image_name, label, age, sex)\r\n",
        "        \r\n",
        "    def get_image_tensor(self, image_path):    \r\n",
        "        image = Image.open(image_path).convert(\"RGB\")\r\n",
        "        image_tensor = self.val_transform(image)\r\n",
        "        image_tensor.unsqueeze_(0)\r\n",
        "        image_tensor = image_tensor.to(self.device) \r\n",
        "        return(image_tensor)\r\n",
        "        \r\n",
        "    def calculate_accuracy(self, TP, TN, FP, FN):\r\n",
        "        try:\r\n",
        "            accuracy = (TP + TN)/ (TP + TN + FP + FN)\r\n",
        "            precision  = TP/(FP + TP)\r\n",
        "            recall = TP/(TP + FN)\r\n",
        "            specificity = TN/(FP + TN)\r\n",
        "            f_value = (2*recall*precision)/(recall+precision)\r\n",
        "        except:\r\n",
        "            accuracy = -1\r\n",
        "            precision  = -1\r\n",
        "            recall = -1\r\n",
        "            specificity = -1\r\n",
        "            f_value = -1\r\n",
        "        return(accuracy, precision, recall, specificity, f_value)"
      ],
      "execution_count": 27,
      "outputs": []
    },
    {
      "cell_type": "markdown",
      "metadata": {
        "id": "AvbamPHehLtt"
      },
      "source": [
        "#**Train**"
      ]
    },
    {
      "cell_type": "code",
      "metadata": {
        "id": "t6xJpBB5YnzM",
        "colab": {
          "base_uri": "https://localhost:8080/"
        },
        "outputId": "5c47dc43-b244-4ccf-b8c2-76159f7f11d2"
      },
      "source": [
        "##########\r\n",
        "# Usage\r\n",
        "#   python train_grav_multi.py\r\n",
        "##########\r\n",
        "# ├─gravcont_250px_cross\r\n",
        "# │   ├─train\r\n",
        "# │   │  ├─cont\r\n",
        "# │   │  └─grav\r\n",
        "# │   └─val\r\n",
        "# │       ├─cont\r\n",
        "# │       └─grav\r\n",
        "\r\n",
        "\r\n",
        "import os\r\n",
        "import random\r\n",
        "import json\r\n",
        "import tqdm\r\n",
        "import numpy as np\r\n",
        "from PIL import Image\r\n",
        "import torch\r\n",
        "from torch.utils.data import Dataset, DataLoader\r\n",
        "from torchvision.datasets import folder\r\n",
        "import torchvision.transforms as transforms\r\n",
        "import torchvision.datasets as datasets\r\n",
        "!pip install efficientnet_pytorch\r\n",
        "from efficientnet_pytorch import EfficientNet \r\n",
        "\r\n",
        "\r\n",
        "# change working directory\r\n",
        "path = '/content/drive/MyDrive/Deep_learning/666mai_dataset'\r\n",
        "os.chdir(path)\r\n",
        "\r\n",
        "# grav or cont, age, and sex\r\n",
        "NUM_CLASSES = 3\r\n",
        "# contains train, val\r\n",
        "#DATASET_PATH = r\"./crossvalidation_250px/0/\"\r\n",
        "DATASET_PATH = r\"./crossvalidation_250px/0/\"\r\n",
        "TEST_PATH = r\"./crossvalidation_250px/test/\"\r\n",
        "TRAIN_FOLDER_NAME = \"train\"\r\n",
        "VAL_FOLDER_NAME = \"val\"\r\n",
        "EFFICIENT_NET_NAME = \"efficientnet-b0\"\r\n",
        "MODEL_PATH = \"./model_multi.pth\"\r\n",
        "OPTIMIZER_PATH = \"./optimizer_multi.pth\"\r\n",
        "SEX_DICT_PATH = \"gender_json\"\r\n",
        "AGE_DICT_PATH = \"age_json\"\r\n",
        "LOG_PATH = \"./log_multi.txt\"\r\n",
        "ROC_PATH = \"./roc_multi.png\"\r\n",
        "CHECKPOINT_COUNT = 10\r\n",
        "EPOCH = 100\r\n",
        "BATCH_SIZE = 16\r\n",
        "\r\n",
        "# transforms param\r\n",
        "PX = 224\r\n",
        "TRAIN_NORMALIZE_PARAM = [0.5, 0.5, 0.5], [0.5, 0.5, 0.5]\r\n",
        "TRAIN_CROP_SCALE =(0.75,1.0)\r\n",
        "TRAIN_BRIGHTNESS_PARAM = 0.2\r\n",
        "TRAIN_CONTRAST_PARAM = 0.1\r\n",
        "TRAIN_SATURATION_PARAM = 0.1\r\n",
        "TRAIN_RANDOM_ROTATION = 3\r\n",
        "TRAIN_HUE_PARAM = 0.02\r\n",
        "VAL_NORMALIZE_PARAM = [0.5, 0.5, 0.5], [0.5, 0.5, 0.5]\r\n",
        "\r\n",
        "#######\r\n",
        "# Set random seem for reproducibility\r\n",
        "manualSeed = 1234\r\n",
        "# print(\"Random Seed: \", manualSeed)\r\n",
        "random.seed(manualSeed)\r\n",
        "torch.manual_seed(manualSeed)\r\n",
        "torch.cuda.manual_seed(manualSeed)\r\n",
        "#######\r\n",
        "\r\n",
        "torch.torch.backends.cudnn.benchmark = True\r\n",
        "torch.torch.backends.cudnn.enabled = True\r\n",
        "\r\n",
        "device = torch.device(\"cuda:0\" if torch.cuda.is_available() else \"cpu\")\r\n",
        "\r\n",
        "age_dict = []\r\n",
        "with open(AGE_DICT_PATH, \"r\") as f:\r\n",
        "        age_dict = json.load(f)\r\n",
        "sex_dict = []\r\n",
        "with open(SEX_DICT_PATH, \"r\") as f:\r\n",
        "        sex_dict = json.load(f)\r\n",
        "        \r\n",
        "class SimpleImageDataset(Dataset):\r\n",
        "    def __init__(self, folder_path, age_dict, sex_dict, transform):\r\n",
        "        self.transform = transform\r\n",
        "        self.class_names = os.listdir(folder_path)\r\n",
        "        self.item_paths = []\r\n",
        "        self.item_dict = {}\r\n",
        "        for class_num in range(len(self.class_names)):\r\n",
        "                class_name = self.class_names[class_num]\r\n",
        "                class_path = os.path.join(folder_path, class_name)\r\n",
        "                for image_name in os.listdir(class_path):\r\n",
        "                        base_name, ext = os.path.splitext(image_name)\r\n",
        "                        if np.isnan(age_dict[base_name]):\r\n",
        "                                continue\r\n",
        "                        age = float(age_dict[base_name]) / 100\r\n",
        "                        sex = float(sex_dict[base_name])\r\n",
        "                        image_path = os.path.join(class_path, image_name)\r\n",
        "                        self.item_paths.append(image_path)\r\n",
        "                        self.item_dict[image_path] = (class_num, age, sex)\r\n",
        "\r\n",
        "    def __len__(self):\r\n",
        "        return len(self.item_paths)\r\n",
        "\r\n",
        "    def __getitem__(self, idx):\r\n",
        "        image_path = self.item_paths[idx]\r\n",
        "        pilr_image = Image.open(image_path).convert(\"RGB\")\r\n",
        "        tensor_image = self.transform(pilr_image)\r\n",
        "        class_num, age, sex = self.item_dict[image_path]\r\n",
        "        class_num = torch.tensor(class_num)\r\n",
        "        age = torch.tensor(age)\r\n",
        "        sex = torch.tensor(sex)\r\n",
        "        label = torch.tensor([class_num, age, sex])\r\n",
        "        return tensor_image, label\r\n",
        "\r\n",
        "if __name__ == \"__main__\":\r\n",
        "        if os.path.exists(MODEL_PATH):\r\n",
        "                model = EfficientNet.from_pretrained(EFFICIENT_NET_NAME, MODEL_PATH, num_classes=NUM_CLASSES)\r\n",
        "        else:\r\n",
        "                model = EfficientNet.from_pretrained(EFFICIENT_NET_NAME, num_classes=NUM_CLASSES)\r\n",
        "        model.train()\r\n",
        "        model.to(device)\r\n",
        "\r\n",
        "        # transforms自体を定数として上に記述しても良いかもしれません\r\n",
        "        train_data_transforms = transforms.Compose([\r\n",
        "                transforms.RandomResizedCrop(PX, scale=TRAIN_CROP_SCALE),\r\n",
        "                transforms.RandomHorizontalFlip(),\r\n",
        "                transforms.ColorJitter(brightness=TRAIN_BRIGHTNESS_PARAM, contrast=TRAIN_CONTRAST_PARAM,\r\n",
        "                 saturation=TRAIN_SATURATION_PARAM, hue=TRAIN_HUE_PARAM),\r\n",
        "                # transforms.RandomRotation((-TRAIN_RANDOM_ROTATION, TRAIN_RANDOM_ROTATION)),\r\n",
        "                transforms.ToTensor(),\r\n",
        "                transforms.Normalize(TRAIN_NORMALIZE_PARAM[0], TRAIN_NORMALIZE_PARAM[1])])\r\n",
        "        val_data_transforms = transforms.Compose([\r\n",
        "                transforms.Resize(PX),\r\n",
        "                transforms.ToTensor(),\r\n",
        "                transforms.Normalize(VAL_NORMALIZE_PARAM[0], VAL_NORMALIZE_PARAM[1])])                \r\n",
        "                \r\n",
        "        train_dataset = SimpleImageDataset(os.path.join(DATASET_PATH, TRAIN_FOLDER_NAME), age_dict, sex_dict, train_data_transforms)\r\n",
        "        train_dataloader = DataLoader(train_dataset, batch_size = BATCH_SIZE, shuffle = True)\r\n",
        "        print(TRAIN_FOLDER_NAME + \"_dataset_size：\" + str(len(train_dataset)))\r\n",
        "\r\n",
        "        optimizer = torch.optim.AdamW(model.parameters(), 0.0002)\r\n",
        "        if os.path.exists(OPTIMIZER_PATH):\r\n",
        "                optimizer.load_state_dict(torch.load(OPTIMIZER_PATH))\r\n",
        "\r\n",
        "        loss_func = torch.nn.MSELoss()\r\n",
        "        \r\n",
        "        val_folder_path = os.path.join(DATASET_PATH, VAL_FOLDER_NAME)\r\n",
        "        evaluator = Evaluator(model, train_dataset.class_names, age_dict, sex_dict, val_folder_path, val_data_transforms, device)\r\n",
        "        evaluator.draw_roc(ROC_PATH)\r\n",
        "\r\n",
        "        for epoch in tqdm.tqdm(range(EPOCH)):\r\n",
        "                for (i, batch) in enumerate(train_dataloader):\r\n",
        "                        optimizer.zero_grad()\r\n",
        "\r\n",
        "                        inputs, labels = batch\r\n",
        "                        inputs = inputs.to(device)\r\n",
        "                        labels = labels.to(device)\r\n",
        "                        \r\n",
        "                        outputs = model(inputs)\r\n",
        "\r\n",
        "                        loss = loss_func(outputs, labels)\r\n",
        "                        loss.backward()\r\n",
        "                        optimizer.step()\r\n",
        "\r\n",
        "                        if i % CHECKPOINT_COUNT == 0:\r\n",
        "                                is_best, score = evaluator.evaluate()\r\n",
        "                                if is_best:\r\n",
        "                                        evaluator.draw_roc(ROC_PATH)\r\n",
        "                                        torch.save(model.state_dict(), MODEL_PATH)\r\n",
        "                                        torch.save(optimizer.state_dict(), OPTIMIZER_PATH)\r\n",
        "\r\n",
        "                                # write log to file\r\n",
        "                                with open(LOG_PATH, 'a') as f:\r\n",
        "                                        f.write(\"-----\")\r\n",
        "                                        f.write(\"\\n\")\r\n",
        "                                        f.write(\"batch_size: \" + str(BATCH_SIZE))\r\n",
        "                                        f.write(\"\\n\")\r\n",
        "                                        f.write(\"iter: \" + str(epoch * len(train_dataloader) + i))\r\n",
        "                                        f.write(str(score))\r\n",
        "                                        f.write(\"\\n\")\r\n",
        "                                \r\n",
        "                                # print log\r\n",
        "                                print(\"-----\")\r\n",
        "                                print(score)\r\n",
        "                                print(\"max_accuracy: \" + str(evaluator.max_accuracy))\r\n",
        "\r\n",
        "\r\n"
      ],
      "execution_count": null,
      "outputs": [
        {
          "output_type": "stream",
          "text": [
            "Requirement already satisfied: efficientnet_pytorch in /usr/local/lib/python3.6/dist-packages (0.7.0)\n",
            "Requirement already satisfied: torch in /usr/local/lib/python3.6/dist-packages (from efficientnet_pytorch) (1.7.0+cu101)\n",
            "Requirement already satisfied: numpy in /usr/local/lib/python3.6/dist-packages (from torch->efficientnet_pytorch) (1.19.5)\n",
            "Requirement already satisfied: future in /usr/local/lib/python3.6/dist-packages (from torch->efficientnet_pytorch) (0.16.0)\n",
            "Requirement already satisfied: dataclasses in /usr/local/lib/python3.6/dist-packages (from torch->efficientnet_pytorch) (0.8)\n",
            "Requirement already satisfied: typing-extensions in /usr/local/lib/python3.6/dist-packages (from torch->efficientnet_pytorch) (3.7.4.3)\n",
            "Loaded pretrained weights for efficientnet-b0\n",
            "train_dataset_size：531\n",
            "eval number of classes: 2\n",
            "eval number of images: 134\n",
            "initial accuracy: 0\n"
          ],
          "name": "stdout"
        },
        {
          "output_type": "stream",
          "text": [
            "\r  0%|          | 0/100 [00:00<?, ?it/s]"
          ],
          "name": "stderr"
        },
        {
          "output_type": "stream",
          "text": [
            "-----\n",
            "(-1, -1, -1, -1, -1)\n",
            "max_accuracy: 0\n",
            "-----\n",
            "(-1, -1, -1, -1, -1)\n",
            "max_accuracy: 0\n",
            "-----\n",
            "(0.56, 0.85, 0.16, 0.97, 0.28)\n",
            "max_accuracy: 0.5639097744360902\n",
            "-----\n",
            "(0.58, 0.79, 0.22, 0.94, 0.35)\n",
            "max_accuracy: 0.5789473684210527\n"
          ],
          "name": "stdout"
        },
        {
          "output_type": "stream",
          "text": [
            "\r  1%|          | 1/100 [00:23<39:14, 23.79s/it]"
          ],
          "name": "stderr"
        },
        {
          "output_type": "stream",
          "text": [
            "-----\n",
            "(0.6, 0.89, 0.24, 0.97, 0.38)\n",
            "max_accuracy: 0.6015037593984962\n",
            "-----\n",
            "(0.61, 0.86, 0.27, 0.95, 0.41)\n",
            "max_accuracy: 0.6090225563909775\n",
            "-----\n",
            "(0.65, 0.83, 0.37, 0.92, 0.52)\n",
            "max_accuracy: 0.6466165413533834\n",
            "-----\n",
            "(0.6, 0.89, 0.24, 0.97, 0.38)\n",
            "max_accuracy: 0.6466165413533834\n"
          ],
          "name": "stdout"
        },
        {
          "output_type": "stream",
          "text": [
            "\r  2%|▏         | 2/100 [00:50<40:21, 24.71s/it]"
          ],
          "name": "stderr"
        },
        {
          "output_type": "stream",
          "text": [
            "-----\n",
            "(0.56, 0.9, 0.13, 0.98, 0.23)\n",
            "max_accuracy: 0.6466165413533834\n",
            "-----\n",
            "(0.56, 0.9, 0.13, 0.98, 0.23)\n",
            "max_accuracy: 0.6466165413533834\n",
            "-----\n",
            "(0.6, 0.85, 0.25, 0.95, 0.39)\n",
            "max_accuracy: 0.6466165413533834\n",
            "-----\n",
            "(0.7, 0.89, 0.46, 0.94, 0.61)\n",
            "max_accuracy: 0.6992481203007519\n"
          ],
          "name": "stdout"
        },
        {
          "output_type": "stream",
          "text": [
            "\r  3%|▎         | 3/100 [01:11<38:14, 23.66s/it]"
          ],
          "name": "stderr"
        },
        {
          "output_type": "stream",
          "text": [
            "-----\n",
            "(0.69, 0.86, 0.46, 0.92, 0.6)\n",
            "max_accuracy: 0.6992481203007519\n",
            "-----\n",
            "(0.64, 0.91, 0.31, 0.97, 0.47)\n",
            "max_accuracy: 0.6992481203007519\n",
            "-----\n",
            "(0.65, 0.92, 0.34, 0.97, 0.5)\n",
            "max_accuracy: 0.6992481203007519\n",
            "-----\n",
            "(0.74, 0.83, 0.6, 0.88, 0.7)\n",
            "max_accuracy: 0.7368421052631579\n"
          ],
          "name": "stdout"
        },
        {
          "output_type": "stream",
          "text": [
            "\r  4%|▍         | 4/100 [01:33<36:39, 22.91s/it]"
          ],
          "name": "stderr"
        },
        {
          "output_type": "stream",
          "text": [
            "-----\n",
            "(0.8, 0.81, 0.78, 0.82, 0.79)\n",
            "max_accuracy: 0.7969924812030075\n",
            "-----\n",
            "(0.77, 0.84, 0.69, 0.86, 0.75)\n",
            "max_accuracy: 0.7969924812030075\n",
            "-----\n",
            "(0.74, 0.83, 0.6, 0.88, 0.7)\n",
            "max_accuracy: 0.7969924812030075\n",
            "-----\n",
            "(0.73, 0.82, 0.6, 0.86, 0.69)\n",
            "max_accuracy: 0.7969924812030075\n"
          ],
          "name": "stdout"
        },
        {
          "output_type": "stream",
          "text": [
            "\r  5%|▌         | 5/100 [01:54<35:35, 22.48s/it]"
          ],
          "name": "stderr"
        },
        {
          "output_type": "stream",
          "text": [
            "-----\n",
            "(0.74, 0.81, 0.63, 0.85, 0.71)\n",
            "max_accuracy: 0.7969924812030075\n",
            "-----\n",
            "(0.76, 0.84, 0.64, 0.88, 0.73)\n",
            "max_accuracy: 0.7969924812030075\n",
            "-----\n",
            "(0.74, 0.8, 0.66, 0.83, 0.72)\n",
            "max_accuracy: 0.7969924812030075\n",
            "-----\n",
            "(0.74, 0.75, 0.73, 0.76, 0.74)\n",
            "max_accuracy: 0.7969924812030075\n"
          ],
          "name": "stdout"
        },
        {
          "output_type": "stream",
          "text": [
            "\r  6%|▌         | 6/100 [02:13<33:21, 21.29s/it]"
          ],
          "name": "stderr"
        },
        {
          "output_type": "stream",
          "text": [
            "-----\n",
            "(0.75, 0.85, 0.61, 0.89, 0.71)\n",
            "max_accuracy: 0.7969924812030075\n",
            "-----\n",
            "(0.67, 0.9, 0.39, 0.95, 0.54)\n",
            "max_accuracy: 0.7969924812030075\n",
            "-----\n",
            "(0.74, 0.79, 0.67, 0.82, 0.73)\n",
            "max_accuracy: 0.7969924812030075\n",
            "-----\n",
            "(0.71, 0.67, 0.87, 0.56, 0.75)\n",
            "max_accuracy: 0.7969924812030075\n"
          ],
          "name": "stdout"
        },
        {
          "output_type": "stream",
          "text": [
            "\r  7%|▋         | 7/100 [02:31<31:39, 20.42s/it]"
          ],
          "name": "stderr"
        },
        {
          "output_type": "stream",
          "text": [
            "-----\n",
            "(0.71, 0.67, 0.85, 0.58, 0.75)\n",
            "max_accuracy: 0.7969924812030075\n",
            "-----\n",
            "(0.8, 0.84, 0.73, 0.86, 0.78)\n",
            "max_accuracy: 0.7969924812030075\n",
            "-----\n",
            "(0.8, 0.87, 0.7, 0.89, 0.78)\n",
            "max_accuracy: 0.7969924812030075\n",
            "-----\n",
            "(0.75, 0.87, 0.6, 0.91, 0.71)\n",
            "max_accuracy: 0.7969924812030075\n"
          ],
          "name": "stdout"
        },
        {
          "output_type": "stream",
          "text": [
            "\r  8%|▊         | 8/100 [02:49<30:27, 19.87s/it]"
          ],
          "name": "stderr"
        },
        {
          "output_type": "stream",
          "text": [
            "-----\n",
            "(0.79, 0.87, 0.69, 0.89, 0.77)\n",
            "max_accuracy: 0.7969924812030075\n",
            "-----\n",
            "(0.78, 0.79, 0.78, 0.79, 0.78)\n",
            "max_accuracy: 0.7969924812030075\n",
            "-----\n",
            "(0.79, 0.76, 0.85, 0.73, 0.8)\n",
            "max_accuracy: 0.7969924812030075\n",
            "-----\n",
            "(0.77, 0.89, 0.63, 0.92, 0.74)\n",
            "max_accuracy: 0.7969924812030075\n"
          ],
          "name": "stdout"
        },
        {
          "output_type": "stream",
          "text": [
            "\r  9%|▉         | 9/100 [03:08<29:32, 19.48s/it]"
          ],
          "name": "stderr"
        },
        {
          "output_type": "stream",
          "text": [
            "-----\n",
            "(0.74, 0.9, 0.55, 0.94, 0.69)\n",
            "max_accuracy: 0.7969924812030075\n",
            "-----\n",
            "(0.82, 0.83, 0.81, 0.83, 0.82)\n",
            "max_accuracy: 0.8195488721804511\n",
            "-----\n",
            "(0.81, 0.8, 0.84, 0.79, 0.82)\n",
            "max_accuracy: 0.8195488721804511\n",
            "-----\n",
            "(0.8, 0.86, 0.73, 0.88, 0.79)\n",
            "max_accuracy: 0.8195488721804511\n"
          ],
          "name": "stdout"
        },
        {
          "output_type": "stream",
          "text": [
            "\r 10%|█         | 10/100 [03:29<30:02, 20.03s/it]"
          ],
          "name": "stderr"
        },
        {
          "output_type": "stream",
          "text": [
            "-----\n",
            "(0.78, 0.75, 0.85, 0.71, 0.8)\n",
            "max_accuracy: 0.8195488721804511\n",
            "-----\n",
            "(0.8, 0.76, 0.9, 0.71, 0.82)\n",
            "max_accuracy: 0.8195488721804511\n",
            "-----\n",
            "(0.71, 0.66, 0.91, 0.52, 0.76)\n",
            "max_accuracy: 0.8195488721804511\n",
            "-----\n",
            "(0.78, 0.73, 0.9, 0.67, 0.81)\n",
            "max_accuracy: 0.8195488721804511\n"
          ],
          "name": "stdout"
        },
        {
          "output_type": "stream",
          "text": [
            "\r 11%|█         | 11/100 [03:48<29:07, 19.63s/it]"
          ],
          "name": "stderr"
        },
        {
          "output_type": "stream",
          "text": [
            "-----\n",
            "(0.81, 0.78, 0.87, 0.76, 0.82)\n",
            "max_accuracy: 0.8195488721804511\n",
            "-----\n",
            "(0.77, 0.72, 0.87, 0.67, 0.79)\n",
            "max_accuracy: 0.8195488721804511\n",
            "-----\n",
            "(0.75, 0.7, 0.9, 0.61, 0.78)\n",
            "max_accuracy: 0.8195488721804511\n",
            "-----\n",
            "(0.78, 0.81, 0.75, 0.82, 0.78)\n",
            "max_accuracy: 0.8195488721804511\n"
          ],
          "name": "stdout"
        },
        {
          "output_type": "stream",
          "text": [
            "\r 12%|█▏        | 12/100 [04:07<28:17, 19.29s/it]"
          ],
          "name": "stderr"
        },
        {
          "output_type": "stream",
          "text": [
            "-----\n",
            "(0.81, 0.9, 0.7, 0.92, 0.79)\n",
            "max_accuracy: 0.8195488721804511\n",
            "-----\n",
            "(0.83, 0.89, 0.75, 0.91, 0.81)\n",
            "max_accuracy: 0.8270676691729323\n",
            "-----\n",
            "(0.8, 0.74, 0.91, 0.68, 0.82)\n",
            "max_accuracy: 0.8270676691729323\n",
            "-----\n",
            "(0.82, 0.84, 0.79, 0.85, 0.82)\n",
            "max_accuracy: 0.8270676691729323\n"
          ],
          "name": "stdout"
        },
        {
          "output_type": "stream",
          "text": [
            "\r 13%|█▎        | 13/100 [04:28<28:47, 19.86s/it]"
          ],
          "name": "stderr"
        },
        {
          "output_type": "stream",
          "text": [
            "-----\n",
            "(0.81, 0.81, 0.82, 0.8, 0.81)\n",
            "max_accuracy: 0.8270676691729323\n",
            "-----\n",
            "(0.78, 0.74, 0.87, 0.7, 0.8)\n",
            "max_accuracy: 0.8270676691729323\n",
            "-----\n",
            "(0.77, 0.76, 0.81, 0.74, 0.78)\n",
            "max_accuracy: 0.8270676691729323\n",
            "-----\n",
            "(0.79, 0.88, 0.67, 0.91, 0.76)\n",
            "max_accuracy: 0.8270676691729323\n"
          ],
          "name": "stdout"
        },
        {
          "output_type": "stream",
          "text": [
            "\r 14%|█▍        | 14/100 [04:46<27:55, 19.49s/it]"
          ],
          "name": "stderr"
        },
        {
          "output_type": "stream",
          "text": [
            "-----\n",
            "(0.8, 0.88, 0.69, 0.91, 0.77)\n",
            "max_accuracy: 0.8270676691729323\n",
            "-----\n",
            "(0.81, 0.79, 0.85, 0.77, 0.82)\n",
            "max_accuracy: 0.8270676691729323\n",
            "-----\n",
            "(0.79, 0.78, 0.81, 0.77, 0.79)\n",
            "max_accuracy: 0.8270676691729323\n",
            "-----\n",
            "(0.8, 0.84, 0.73, 0.86, 0.78)\n",
            "max_accuracy: 0.8270676691729323\n"
          ],
          "name": "stdout"
        },
        {
          "output_type": "stream",
          "text": [
            "\r 15%|█▌        | 15/100 [05:05<27:21, 19.31s/it]"
          ],
          "name": "stderr"
        },
        {
          "output_type": "stream",
          "text": [
            "-----\n",
            "(0.79, 0.83, 0.73, 0.85, 0.78)\n",
            "max_accuracy: 0.8270676691729323\n",
            "-----\n",
            "(0.8, 0.87, 0.72, 0.89, 0.79)\n",
            "max_accuracy: 0.8270676691729323\n",
            "-----\n",
            "(0.8, 0.87, 0.72, 0.89, 0.79)\n",
            "max_accuracy: 0.8270676691729323\n",
            "-----\n",
            "(0.83, 0.87, 0.78, 0.88, 0.82)\n",
            "max_accuracy: 0.8270676691729323\n"
          ],
          "name": "stdout"
        },
        {
          "output_type": "stream",
          "text": [
            "\r 16%|█▌        | 16/100 [05:24<26:44, 19.10s/it]"
          ],
          "name": "stderr"
        },
        {
          "output_type": "stream",
          "text": [
            "-----\n",
            "(0.83, 0.85, 0.82, 0.85, 0.83)\n",
            "max_accuracy: 0.8345864661654135\n",
            "-----\n",
            "(0.8, 0.77, 0.85, 0.74, 0.81)\n",
            "max_accuracy: 0.8345864661654135\n",
            "-----\n",
            "(0.77, 0.89, 0.63, 0.92, 0.74)\n",
            "max_accuracy: 0.8345864661654135\n",
            "-----\n",
            "(0.79, 0.88, 0.67, 0.91, 0.76)\n",
            "max_accuracy: 0.8345864661654135\n"
          ],
          "name": "stdout"
        },
        {
          "output_type": "stream",
          "text": [
            "\r 17%|█▋        | 17/100 [05:45<27:24, 19.82s/it]"
          ],
          "name": "stderr"
        },
        {
          "output_type": "stream",
          "text": [
            "-----\n",
            "(0.82, 0.89, 0.73, 0.91, 0.8)\n",
            "max_accuracy: 0.8345864661654135\n",
            "-----\n",
            "(0.81, 0.9, 0.7, 0.92, 0.79)\n",
            "max_accuracy: 0.8345864661654135\n",
            "-----\n",
            "(0.82, 0.82, 0.82, 0.82, 0.82)\n",
            "max_accuracy: 0.8345864661654135\n",
            "-----\n",
            "(0.79, 0.74, 0.9, 0.68, 0.81)\n",
            "max_accuracy: 0.8345864661654135\n"
          ],
          "name": "stdout"
        },
        {
          "output_type": "stream",
          "text": [
            "\r 18%|█▊        | 18/100 [06:04<26:32, 19.42s/it]"
          ],
          "name": "stderr"
        },
        {
          "output_type": "stream",
          "text": [
            "-----\n",
            "(0.79, 0.78, 0.81, 0.77, 0.79)\n",
            "max_accuracy: 0.8345864661654135\n",
            "-----\n",
            "(0.81, 0.86, 0.75, 0.88, 0.8)\n",
            "max_accuracy: 0.8345864661654135\n",
            "-----\n",
            "(0.82, 0.82, 0.82, 0.82, 0.82)\n",
            "max_accuracy: 0.8345864661654135\n",
            "-----\n",
            "(0.8, 0.79, 0.84, 0.77, 0.81)\n",
            "max_accuracy: 0.8345864661654135\n"
          ],
          "name": "stdout"
        },
        {
          "output_type": "stream",
          "text": [
            "\r 19%|█▉        | 19/100 [06:22<25:52, 19.16s/it]"
          ],
          "name": "stderr"
        },
        {
          "output_type": "stream",
          "text": [
            "-----\n",
            "(0.77, 0.71, 0.9, 0.64, 0.79)\n",
            "max_accuracy: 0.8345864661654135\n",
            "-----\n",
            "(0.81, 0.78, 0.87, 0.76, 0.82)\n",
            "max_accuracy: 0.8345864661654135\n",
            "-----\n",
            "(0.8, 0.94, 0.66, 0.95, 0.77)\n",
            "max_accuracy: 0.8345864661654135\n",
            "-----\n",
            "(0.81, 0.82, 0.81, 0.82, 0.81)\n",
            "max_accuracy: 0.8345864661654135\n"
          ],
          "name": "stdout"
        },
        {
          "output_type": "stream",
          "text": [
            "\r 20%|██        | 20/100 [06:41<25:22, 19.03s/it]"
          ],
          "name": "stderr"
        },
        {
          "output_type": "stream",
          "text": [
            "-----\n",
            "(0.83, 0.81, 0.85, 0.8, 0.83)\n",
            "max_accuracy: 0.8345864661654135\n",
            "-----\n",
            "(0.83, 0.82, 0.84, 0.82, 0.83)\n",
            "max_accuracy: 0.8345864661654135\n",
            "-----\n",
            "(0.81, 0.79, 0.85, 0.77, 0.82)\n",
            "max_accuracy: 0.8345864661654135\n",
            "-----\n",
            "(0.85, 0.84, 0.87, 0.83, 0.85)\n",
            "max_accuracy: 0.849624060150376\n"
          ],
          "name": "stdout"
        },
        {
          "output_type": "stream",
          "text": [
            "\r 21%|██        | 21/100 [07:02<25:53, 19.67s/it]"
          ],
          "name": "stderr"
        },
        {
          "output_type": "stream",
          "text": [
            "-----\n",
            "(0.85, 0.83, 0.88, 0.82, 0.86)\n",
            "max_accuracy: 0.849624060150376\n",
            "-----\n",
            "(0.83, 0.84, 0.81, 0.85, 0.82)\n",
            "max_accuracy: 0.849624060150376\n",
            "-----\n",
            "(0.81, 0.89, 0.72, 0.91, 0.79)\n",
            "max_accuracy: 0.849624060150376\n",
            "-----\n",
            "(0.82, 0.82, 0.82, 0.82, 0.82)\n",
            "max_accuracy: 0.849624060150376\n"
          ],
          "name": "stdout"
        },
        {
          "output_type": "stream",
          "text": [
            "\r 22%|██▏       | 22/100 [07:21<25:07, 19.32s/it]"
          ],
          "name": "stderr"
        },
        {
          "output_type": "stream",
          "text": [
            "-----\n",
            "(0.8, 0.77, 0.87, 0.74, 0.82)\n",
            "max_accuracy: 0.849624060150376\n",
            "-----\n",
            "(0.79, 0.75, 0.87, 0.71, 0.81)\n",
            "max_accuracy: 0.849624060150376\n",
            "-----\n",
            "(0.81, 0.79, 0.85, 0.77, 0.82)\n",
            "max_accuracy: 0.849624060150376\n",
            "-----\n",
            "(0.83, 0.81, 0.85, 0.8, 0.83)\n",
            "max_accuracy: 0.849624060150376\n"
          ],
          "name": "stdout"
        },
        {
          "output_type": "stream",
          "text": [
            "\r 23%|██▎       | 23/100 [07:39<24:28, 19.07s/it]"
          ],
          "name": "stderr"
        },
        {
          "output_type": "stream",
          "text": [
            "-----\n",
            "(0.83, 0.82, 0.84, 0.82, 0.83)\n",
            "max_accuracy: 0.849624060150376\n",
            "-----\n",
            "(0.81, 0.83, 0.79, 0.83, 0.81)\n",
            "max_accuracy: 0.849624060150376\n",
            "-----\n",
            "(0.78, 0.76, 0.84, 0.73, 0.79)\n",
            "max_accuracy: 0.849624060150376\n",
            "-----\n",
            "(0.82, 0.84, 0.79, 0.85, 0.82)\n",
            "max_accuracy: 0.849624060150376\n"
          ],
          "name": "stdout"
        },
        {
          "output_type": "stream",
          "text": [
            "\r 24%|██▍       | 24/100 [07:58<23:55, 18.89s/it]"
          ],
          "name": "stderr"
        },
        {
          "output_type": "stream",
          "text": [
            "-----\n",
            "(0.8, 0.89, 0.7, 0.91, 0.78)\n",
            "max_accuracy: 0.849624060150376\n",
            "-----\n",
            "(0.83, 0.84, 0.84, 0.83, 0.84)\n",
            "max_accuracy: 0.849624060150376\n",
            "-----\n",
            "(0.8, 0.84, 0.76, 0.85, 0.8)\n",
            "max_accuracy: 0.849624060150376\n",
            "-----\n",
            "(0.79, 0.77, 0.84, 0.74, 0.8)\n",
            "max_accuracy: 0.849624060150376\n"
          ],
          "name": "stdout"
        },
        {
          "output_type": "stream",
          "text": [
            "\r 25%|██▌       | 25/100 [08:16<23:25, 18.74s/it]"
          ],
          "name": "stderr"
        },
        {
          "output_type": "stream",
          "text": [
            "-----\n",
            "(0.83, 0.82, 0.84, 0.82, 0.83)\n",
            "max_accuracy: 0.849624060150376\n",
            "-----\n",
            "(0.8, 0.81, 0.81, 0.8, 0.81)\n",
            "max_accuracy: 0.849624060150376\n",
            "-----\n",
            "(0.83, 0.83, 0.82, 0.83, 0.83)\n",
            "max_accuracy: 0.849624060150376\n",
            "-----\n",
            "(0.79, 0.85, 0.7, 0.88, 0.77)\n",
            "max_accuracy: 0.849624060150376\n"
          ],
          "name": "stdout"
        },
        {
          "output_type": "stream",
          "text": [
            "\r 26%|██▌       | 26/100 [08:35<22:58, 18.63s/it]"
          ],
          "name": "stderr"
        },
        {
          "output_type": "stream",
          "text": [
            "-----\n",
            "(0.82, 0.85, 0.78, 0.86, 0.81)\n",
            "max_accuracy: 0.849624060150376\n",
            "-----\n",
            "(0.8, 0.78, 0.84, 0.76, 0.81)\n",
            "max_accuracy: 0.849624060150376\n",
            "-----\n",
            "(0.77, 0.89, 0.63, 0.92, 0.74)\n",
            "max_accuracy: 0.849624060150376\n",
            "-----\n",
            "(0.83, 0.81, 0.87, 0.79, 0.83)\n",
            "max_accuracy: 0.849624060150376\n"
          ],
          "name": "stdout"
        },
        {
          "output_type": "stream",
          "text": [
            "\r 27%|██▋       | 27/100 [08:53<22:36, 18.58s/it]"
          ],
          "name": "stderr"
        },
        {
          "output_type": "stream",
          "text": [
            "-----\n",
            "(0.79, 0.74, 0.9, 0.68, 0.81)\n",
            "max_accuracy: 0.849624060150376\n",
            "-----\n",
            "(0.83, 0.85, 0.82, 0.85, 0.83)\n",
            "max_accuracy: 0.849624060150376\n",
            "-----\n",
            "(0.83, 0.84, 0.81, 0.85, 0.82)\n",
            "max_accuracy: 0.849624060150376\n",
            "-----\n",
            "(0.83, 0.88, 0.76, 0.89, 0.82)\n",
            "max_accuracy: 0.849624060150376\n"
          ],
          "name": "stdout"
        },
        {
          "output_type": "stream",
          "text": [
            "\r 28%|██▊       | 28/100 [09:11<22:13, 18.53s/it]"
          ],
          "name": "stderr"
        },
        {
          "output_type": "stream",
          "text": [
            "-----\n",
            "(0.82, 0.85, 0.78, 0.86, 0.81)\n",
            "max_accuracy: 0.849624060150376\n",
            "-----\n",
            "(0.83, 0.84, 0.81, 0.85, 0.82)\n",
            "max_accuracy: 0.849624060150376\n",
            "-----\n",
            "(0.81, 0.89, 0.72, 0.91, 0.79)\n",
            "max_accuracy: 0.849624060150376\n",
            "-----\n",
            "(0.8, 0.8, 0.82, 0.79, 0.81)\n",
            "max_accuracy: 0.849624060150376\n"
          ],
          "name": "stdout"
        },
        {
          "output_type": "stream",
          "text": [
            "\r 29%|██▉       | 29/100 [09:30<21:50, 18.46s/it]"
          ],
          "name": "stderr"
        },
        {
          "output_type": "stream",
          "text": [
            "-----\n",
            "(0.82, 0.81, 0.84, 0.8, 0.82)\n",
            "max_accuracy: 0.849624060150376\n",
            "-----\n",
            "(0.83, 0.89, 0.75, 0.91, 0.81)\n",
            "max_accuracy: 0.849624060150376\n",
            "-----\n",
            "(0.8, 0.9, 0.67, 0.92, 0.77)\n",
            "max_accuracy: 0.849624060150376\n",
            "-----\n",
            "(0.79, 0.75, 0.88, 0.7, 0.81)\n",
            "max_accuracy: 0.849624060150376\n"
          ],
          "name": "stdout"
        },
        {
          "output_type": "stream",
          "text": [
            "\r 30%|███       | 30/100 [09:48<21:31, 18.44s/it]"
          ],
          "name": "stderr"
        },
        {
          "output_type": "stream",
          "text": [
            "-----\n",
            "(0.82, 0.79, 0.87, 0.77, 0.83)\n",
            "max_accuracy: 0.849624060150376\n",
            "-----\n",
            "(0.83, 0.88, 0.76, 0.89, 0.82)\n",
            "max_accuracy: 0.849624060150376\n",
            "-----\n",
            "(0.85, 0.86, 0.84, 0.86, 0.85)\n",
            "max_accuracy: 0.849624060150376\n",
            "-----\n",
            "(0.75, 0.95, 0.54, 0.97, 0.69)\n",
            "max_accuracy: 0.849624060150376\n"
          ],
          "name": "stdout"
        },
        {
          "output_type": "stream",
          "text": [
            "\r 31%|███       | 31/100 [10:07<21:15, 18.49s/it]"
          ],
          "name": "stderr"
        },
        {
          "output_type": "stream",
          "text": [
            "-----\n",
            "(0.76, 0.93, 0.57, 0.95, 0.7)\n",
            "max_accuracy: 0.849624060150376\n",
            "-----\n",
            "(0.82, 0.82, 0.82, 0.82, 0.82)\n",
            "max_accuracy: 0.849624060150376\n",
            "-----\n",
            "(0.81, 0.78, 0.87, 0.76, 0.82)\n",
            "max_accuracy: 0.849624060150376\n",
            "-----\n",
            "(0.82, 0.91, 0.72, 0.92, 0.8)\n",
            "max_accuracy: 0.849624060150376\n"
          ],
          "name": "stdout"
        },
        {
          "output_type": "stream",
          "text": [
            "\r 32%|███▏      | 32/100 [10:25<20:54, 18.45s/it]"
          ],
          "name": "stderr"
        },
        {
          "output_type": "stream",
          "text": [
            "-----\n",
            "(0.84, 0.9, 0.78, 0.91, 0.83)\n",
            "max_accuracy: 0.849624060150376\n",
            "-----\n",
            "(0.84, 0.84, 0.85, 0.83, 0.84)\n",
            "max_accuracy: 0.849624060150376\n",
            "-----\n",
            "(0.86, 0.86, 0.85, 0.86, 0.86)\n",
            "max_accuracy: 0.8571428571428571\n",
            "-----\n",
            "(0.83, 0.87, 0.79, 0.88, 0.83)\n",
            "max_accuracy: 0.8571428571428571\n"
          ],
          "name": "stdout"
        },
        {
          "output_type": "stream",
          "text": [
            "\r 33%|███▎      | 33/100 [10:46<21:29, 19.25s/it]"
          ],
          "name": "stderr"
        },
        {
          "output_type": "stream",
          "text": [
            "-----\n",
            "(0.83, 0.87, 0.79, 0.88, 0.83)\n",
            "max_accuracy: 0.8571428571428571\n",
            "-----\n",
            "(0.83, 0.81, 0.85, 0.8, 0.83)\n",
            "max_accuracy: 0.8571428571428571\n",
            "-----\n",
            "(0.85, 0.87, 0.82, 0.88, 0.85)\n",
            "max_accuracy: 0.8571428571428571\n",
            "-----\n",
            "(0.84, 0.88, 0.79, 0.89, 0.83)\n",
            "max_accuracy: 0.8571428571428571\n"
          ],
          "name": "stdout"
        },
        {
          "output_type": "stream",
          "text": [
            "\r 34%|███▍      | 34/100 [11:05<20:59, 19.08s/it]"
          ],
          "name": "stderr"
        },
        {
          "output_type": "stream",
          "text": [
            "-----\n",
            "(0.77, 0.89, 0.61, 0.92, 0.73)\n",
            "max_accuracy: 0.8571428571428571\n",
            "-----\n",
            "(0.8, 0.89, 0.7, 0.91, 0.78)\n",
            "max_accuracy: 0.8571428571428571\n",
            "-----\n",
            "(0.84, 0.87, 0.81, 0.88, 0.84)\n",
            "max_accuracy: 0.8571428571428571\n",
            "-----\n",
            "(0.83, 0.81, 0.85, 0.8, 0.83)\n",
            "max_accuracy: 0.8571428571428571\n"
          ],
          "name": "stdout"
        },
        {
          "output_type": "stream",
          "text": [
            "\r 35%|███▌      | 35/100 [11:23<20:29, 18.91s/it]"
          ],
          "name": "stderr"
        },
        {
          "output_type": "stream",
          "text": [
            "-----\n",
            "(0.84, 0.85, 0.84, 0.85, 0.84)\n",
            "max_accuracy: 0.8571428571428571\n",
            "-----\n",
            "(0.78, 0.75, 0.85, 0.71, 0.8)\n",
            "max_accuracy: 0.8571428571428571\n",
            "-----\n",
            "(0.83, 0.79, 0.9, 0.76, 0.84)\n",
            "max_accuracy: 0.8571428571428571\n",
            "-----\n",
            "(0.83, 0.87, 0.78, 0.88, 0.82)\n",
            "max_accuracy: 0.8571428571428571\n"
          ],
          "name": "stdout"
        },
        {
          "output_type": "stream",
          "text": [
            "\r 36%|███▌      | 36/100 [11:42<20:06, 18.85s/it]"
          ],
          "name": "stderr"
        },
        {
          "output_type": "stream",
          "text": [
            "-----\n",
            "(0.82, 0.81, 0.84, 0.8, 0.82)\n",
            "max_accuracy: 0.8571428571428571\n",
            "-----\n",
            "(0.82, 0.83, 0.81, 0.83, 0.82)\n",
            "max_accuracy: 0.8571428571428571\n",
            "-----\n",
            "(0.82, 0.84, 0.79, 0.85, 0.82)\n",
            "max_accuracy: 0.8571428571428571\n",
            "-----\n",
            "(0.82, 0.83, 0.81, 0.83, 0.82)\n",
            "max_accuracy: 0.8571428571428571\n"
          ],
          "name": "stdout"
        },
        {
          "output_type": "stream",
          "text": [
            "\r 37%|███▋      | 37/100 [12:01<19:41, 18.75s/it]"
          ],
          "name": "stderr"
        },
        {
          "output_type": "stream",
          "text": [
            "-----\n",
            "(0.83, 0.81, 0.87, 0.79, 0.83)\n",
            "max_accuracy: 0.8571428571428571\n",
            "-----\n",
            "(0.82, 0.84, 0.79, 0.85, 0.82)\n",
            "max_accuracy: 0.8571428571428571\n",
            "-----\n",
            "(0.83, 0.82, 0.87, 0.8, 0.84)\n",
            "max_accuracy: 0.8571428571428571\n",
            "-----\n",
            "(0.83, 0.86, 0.81, 0.86, 0.83)\n",
            "max_accuracy: 0.8571428571428571\n"
          ],
          "name": "stdout"
        },
        {
          "output_type": "stream",
          "text": [
            "\r 38%|███▊      | 38/100 [12:19<19:19, 18.70s/it]"
          ],
          "name": "stderr"
        },
        {
          "output_type": "stream",
          "text": [
            "-----\n",
            "(0.83, 0.82, 0.87, 0.8, 0.84)\n",
            "max_accuracy: 0.8571428571428571\n",
            "-----\n",
            "(0.84, 0.87, 0.81, 0.88, 0.84)\n",
            "max_accuracy: 0.8571428571428571\n",
            "-----\n",
            "(0.84, 0.86, 0.82, 0.86, 0.84)\n",
            "max_accuracy: 0.8571428571428571\n",
            "-----\n",
            "(0.84, 0.84, 0.85, 0.83, 0.84)\n",
            "max_accuracy: 0.8571428571428571\n"
          ],
          "name": "stdout"
        },
        {
          "output_type": "stream",
          "text": [
            "\r 39%|███▉      | 39/100 [12:38<18:57, 18.65s/it]"
          ],
          "name": "stderr"
        },
        {
          "output_type": "stream",
          "text": [
            "-----\n",
            "(0.83, 0.87, 0.79, 0.88, 0.83)\n",
            "max_accuracy: 0.8571428571428571\n",
            "-----\n",
            "(0.85, 0.87, 0.82, 0.88, 0.85)\n",
            "max_accuracy: 0.8571428571428571\n",
            "-----\n",
            "(0.83, 0.88, 0.78, 0.89, 0.83)\n",
            "max_accuracy: 0.8571428571428571\n",
            "-----\n",
            "(0.85, 0.83, 0.88, 0.82, 0.86)\n",
            "max_accuracy: 0.8571428571428571\n"
          ],
          "name": "stdout"
        },
        {
          "output_type": "stream",
          "text": [
            "\r 40%|████      | 40/100 [12:56<18:34, 18.58s/it]"
          ],
          "name": "stderr"
        },
        {
          "output_type": "stream",
          "text": [
            "-----\n",
            "(0.82, 0.78, 0.9, 0.74, 0.83)\n",
            "max_accuracy: 0.8571428571428571\n",
            "-----\n",
            "(0.84, 0.85, 0.84, 0.85, 0.84)\n",
            "max_accuracy: 0.8571428571428571\n",
            "-----\n",
            "(0.85, 0.84, 0.87, 0.83, 0.85)\n",
            "max_accuracy: 0.8571428571428571\n",
            "-----\n",
            "(0.85, 0.87, 0.82, 0.88, 0.85)\n",
            "max_accuracy: 0.8571428571428571\n"
          ],
          "name": "stdout"
        },
        {
          "output_type": "stream",
          "text": [
            "\r 41%|████      | 41/100 [13:15<18:14, 18.55s/it]"
          ],
          "name": "stderr"
        },
        {
          "output_type": "stream",
          "text": [
            "-----\n",
            "(0.83, 0.91, 0.73, 0.92, 0.81)\n",
            "max_accuracy: 0.8571428571428571\n",
            "-----\n",
            "(0.83, 0.82, 0.87, 0.8, 0.84)\n",
            "max_accuracy: 0.8571428571428571\n",
            "-----\n",
            "(0.85, 0.83, 0.88, 0.82, 0.86)\n",
            "max_accuracy: 0.8571428571428571\n",
            "-----\n",
            "(0.83, 0.88, 0.76, 0.89, 0.82)\n",
            "max_accuracy: 0.8571428571428571\n"
          ],
          "name": "stdout"
        },
        {
          "output_type": "stream",
          "text": [
            "\r 42%|████▏     | 42/100 [13:33<17:55, 18.55s/it]"
          ],
          "name": "stderr"
        },
        {
          "output_type": "stream",
          "text": [
            "-----\n",
            "(0.83, 0.85, 0.82, 0.85, 0.83)\n",
            "max_accuracy: 0.8571428571428571\n",
            "-----\n",
            "(0.83, 0.79, 0.91, 0.76, 0.85)\n",
            "max_accuracy: 0.8571428571428571\n",
            "-----\n",
            "(0.84, 0.9, 0.78, 0.91, 0.83)\n",
            "max_accuracy: 0.8571428571428571\n",
            "-----\n",
            "(0.81, 0.78, 0.87, 0.76, 0.82)\n",
            "max_accuracy: 0.8571428571428571\n"
          ],
          "name": "stdout"
        },
        {
          "output_type": "stream",
          "text": [
            "\r 43%|████▎     | 43/100 [13:52<17:36, 18.54s/it]"
          ],
          "name": "stderr"
        },
        {
          "output_type": "stream",
          "text": [
            "-----\n",
            "(0.86, 0.85, 0.87, 0.85, 0.86)\n",
            "max_accuracy: 0.8571428571428571\n",
            "-----\n",
            "(0.84, 0.83, 0.87, 0.82, 0.85)\n",
            "max_accuracy: 0.8571428571428571\n",
            "-----\n",
            "(0.81, 0.89, 0.72, 0.91, 0.79)\n",
            "max_accuracy: 0.8571428571428571\n",
            "-----\n",
            "(0.86, 0.87, 0.87, 0.86, 0.87)\n",
            "max_accuracy: 0.8646616541353384\n"
          ],
          "name": "stdout"
        },
        {
          "output_type": "stream",
          "text": [
            "\r 44%|████▍     | 44/100 [14:13<17:58, 19.26s/it]"
          ],
          "name": "stderr"
        },
        {
          "output_type": "stream",
          "text": [
            "-----\n",
            "(0.84, 0.83, 0.87, 0.82, 0.85)\n",
            "max_accuracy: 0.8646616541353384\n",
            "-----\n",
            "(0.82, 0.91, 0.72, 0.92, 0.8)\n",
            "max_accuracy: 0.8646616541353384\n",
            "-----\n",
            "(0.85, 0.84, 0.87, 0.83, 0.85)\n",
            "max_accuracy: 0.8646616541353384\n",
            "-----\n",
            "(0.83, 0.82, 0.87, 0.8, 0.84)\n",
            "max_accuracy: 0.8646616541353384\n"
          ],
          "name": "stdout"
        },
        {
          "output_type": "stream",
          "text": [
            "\r 45%|████▌     | 45/100 [14:31<17:26, 19.03s/it]"
          ],
          "name": "stderr"
        },
        {
          "output_type": "stream",
          "text": [
            "-----\n",
            "(0.85, 0.85, 0.85, 0.85, 0.85)\n",
            "max_accuracy: 0.8646616541353384\n",
            "-----\n",
            "(0.84, 0.87, 0.81, 0.88, 0.84)\n",
            "max_accuracy: 0.8646616541353384\n",
            "-----\n",
            "(0.83, 0.85, 0.82, 0.85, 0.83)\n",
            "max_accuracy: 0.8646616541353384\n",
            "-----\n",
            "(0.84, 0.88, 0.79, 0.89, 0.83)\n",
            "max_accuracy: 0.8646616541353384\n"
          ],
          "name": "stdout"
        },
        {
          "output_type": "stream",
          "text": [
            "\r 46%|████▌     | 46/100 [14:50<16:57, 18.85s/it]"
          ],
          "name": "stderr"
        },
        {
          "output_type": "stream",
          "text": [
            "-----\n",
            "(0.86, 0.89, 0.82, 0.89, 0.85)\n",
            "max_accuracy: 0.8646616541353384\n",
            "-----\n",
            "(0.84, 0.86, 0.82, 0.86, 0.84)\n",
            "max_accuracy: 0.8646616541353384\n",
            "-----\n",
            "(0.84, 0.87, 0.81, 0.88, 0.84)\n",
            "max_accuracy: 0.8646616541353384\n",
            "-----\n",
            "(0.83, 0.87, 0.79, 0.88, 0.83)\n",
            "max_accuracy: 0.8646616541353384\n"
          ],
          "name": "stdout"
        },
        {
          "output_type": "stream",
          "text": [
            "\r 47%|████▋     | 47/100 [15:08<16:30, 18.70s/it]"
          ],
          "name": "stderr"
        },
        {
          "output_type": "stream",
          "text": [
            "-----\n",
            "(0.85, 0.84, 0.87, 0.83, 0.85)\n",
            "max_accuracy: 0.8646616541353384\n",
            "-----\n",
            "(0.85, 0.84, 0.87, 0.83, 0.85)\n",
            "max_accuracy: 0.8646616541353384\n",
            "-----\n",
            "(0.86, 0.9, 0.81, 0.91, 0.85)\n",
            "max_accuracy: 0.8646616541353384\n",
            "-----\n",
            "(0.77, 0.71, 0.93, 0.62, 0.81)\n",
            "max_accuracy: 0.8646616541353384\n"
          ],
          "name": "stdout"
        },
        {
          "output_type": "stream",
          "text": [
            "\r 48%|████▊     | 48/100 [15:26<16:10, 18.67s/it]"
          ],
          "name": "stderr"
        },
        {
          "output_type": "stream",
          "text": [
            "-----\n",
            "(0.86, 0.85, 0.87, 0.85, 0.86)\n",
            "max_accuracy: 0.8646616541353384\n",
            "-----\n",
            "(0.86, 0.83, 0.9, 0.82, 0.86)\n",
            "max_accuracy: 0.8646616541353384\n",
            "-----\n",
            "(0.87, 0.88, 0.87, 0.88, 0.87)\n",
            "max_accuracy: 0.8721804511278195\n",
            "-----\n",
            "(0.86, 0.85, 0.87, 0.85, 0.86)\n",
            "max_accuracy: 0.8721804511278195\n"
          ],
          "name": "stdout"
        },
        {
          "output_type": "stream",
          "text": [
            "\r 49%|████▉     | 49/100 [15:48<16:30, 19.42s/it]"
          ],
          "name": "stderr"
        },
        {
          "output_type": "stream",
          "text": [
            "-----\n",
            "(0.86, 0.82, 0.91, 0.8, 0.87)\n",
            "max_accuracy: 0.8721804511278195\n",
            "-----\n",
            "(0.86, 0.85, 0.87, 0.85, 0.86)\n",
            "max_accuracy: 0.8721804511278195\n",
            "-----\n",
            "(0.86, 0.89, 0.84, 0.89, 0.86)\n",
            "max_accuracy: 0.8721804511278195\n",
            "-----\n",
            "(0.83, 0.86, 0.81, 0.86, 0.83)\n",
            "max_accuracy: 0.8721804511278195\n"
          ],
          "name": "stdout"
        },
        {
          "output_type": "stream",
          "text": [
            "\r 50%|█████     | 50/100 [16:06<15:53, 19.07s/it]"
          ],
          "name": "stderr"
        },
        {
          "output_type": "stream",
          "text": [
            "-----\n",
            "(0.85, 0.85, 0.85, 0.85, 0.85)\n",
            "max_accuracy: 0.8721804511278195\n",
            "-----\n",
            "(0.83, 0.89, 0.76, 0.91, 0.82)\n",
            "max_accuracy: 0.8721804511278195\n",
            "-----\n",
            "(0.83, 0.89, 0.76, 0.91, 0.82)\n",
            "max_accuracy: 0.8721804511278195\n",
            "-----\n",
            "(0.83, 0.84, 0.84, 0.83, 0.84)\n",
            "max_accuracy: 0.8721804511278195\n"
          ],
          "name": "stdout"
        },
        {
          "output_type": "stream",
          "text": [
            "\r 51%|█████     | 51/100 [16:24<15:23, 18.84s/it]"
          ],
          "name": "stderr"
        },
        {
          "output_type": "stream",
          "text": [
            "-----\n",
            "(0.86, 0.89, 0.82, 0.89, 0.85)\n",
            "max_accuracy: 0.8721804511278195\n",
            "-----\n",
            "(0.84, 0.85, 0.84, 0.85, 0.84)\n",
            "max_accuracy: 0.8721804511278195\n",
            "-----\n",
            "(0.84, 0.86, 0.82, 0.86, 0.84)\n",
            "max_accuracy: 0.8721804511278195\n",
            "-----\n",
            "(0.82, 0.91, 0.72, 0.92, 0.8)\n",
            "max_accuracy: 0.8721804511278195\n"
          ],
          "name": "stdout"
        },
        {
          "output_type": "stream",
          "text": [
            "\r 52%|█████▏    | 52/100 [16:43<14:58, 18.72s/it]"
          ],
          "name": "stderr"
        },
        {
          "output_type": "stream",
          "text": [
            "-----\n",
            "(0.86, 0.9, 0.81, 0.91, 0.85)\n",
            "max_accuracy: 0.8721804511278195\n",
            "-----\n",
            "(0.85, 0.89, 0.81, 0.89, 0.84)\n",
            "max_accuracy: 0.8721804511278195\n",
            "-----\n",
            "(0.83, 0.8, 0.88, 0.77, 0.84)\n",
            "max_accuracy: 0.8721804511278195\n",
            "-----\n",
            "(0.83, 0.82, 0.87, 0.8, 0.84)\n",
            "max_accuracy: 0.8721804511278195\n"
          ],
          "name": "stdout"
        },
        {
          "output_type": "stream",
          "text": [
            "\r 53%|█████▎    | 53/100 [17:01<14:33, 18.58s/it]"
          ],
          "name": "stderr"
        },
        {
          "output_type": "stream",
          "text": [
            "-----\n",
            "(0.85, 0.83, 0.88, 0.82, 0.86)\n",
            "max_accuracy: 0.8721804511278195\n",
            "-----\n",
            "(0.85, 0.86, 0.84, 0.86, 0.85)\n",
            "max_accuracy: 0.8721804511278195\n",
            "-----\n",
            "(0.84, 0.87, 0.81, 0.88, 0.84)\n",
            "max_accuracy: 0.8721804511278195\n",
            "-----\n",
            "(0.86, 0.86, 0.85, 0.86, 0.86)\n",
            "max_accuracy: 0.8721804511278195\n"
          ],
          "name": "stdout"
        },
        {
          "output_type": "stream",
          "text": [
            "\r 54%|█████▍    | 54/100 [17:19<14:13, 18.55s/it]"
          ],
          "name": "stderr"
        },
        {
          "output_type": "stream",
          "text": [
            "-----\n",
            "(0.84, 0.88, 0.79, 0.89, 0.83)\n",
            "max_accuracy: 0.8721804511278195\n",
            "-----\n",
            "(0.87, 0.93, 0.81, 0.94, 0.86)\n",
            "max_accuracy: 0.8721804511278195\n",
            "-----\n",
            "(0.86, 0.9, 0.81, 0.91, 0.85)\n",
            "max_accuracy: 0.8721804511278195\n",
            "-----\n",
            "(0.84, 0.91, 0.76, 0.92, 0.83)\n",
            "max_accuracy: 0.8721804511278195\n"
          ],
          "name": "stdout"
        },
        {
          "output_type": "stream",
          "text": [
            "\r 55%|█████▌    | 55/100 [17:38<13:52, 18.51s/it]"
          ],
          "name": "stderr"
        },
        {
          "output_type": "stream",
          "text": [
            "-----\n",
            "(0.84, 0.85, 0.84, 0.85, 0.84)\n",
            "max_accuracy: 0.8721804511278195\n",
            "-----\n",
            "(0.84, 0.85, 0.84, 0.85, 0.84)\n",
            "max_accuracy: 0.8721804511278195\n",
            "-----\n",
            "(0.83, 0.79, 0.9, 0.76, 0.84)\n",
            "max_accuracy: 0.8721804511278195\n",
            "-----\n",
            "(0.86, 0.9, 0.81, 0.91, 0.85)\n",
            "max_accuracy: 0.8721804511278195\n"
          ],
          "name": "stdout"
        },
        {
          "output_type": "stream",
          "text": [
            "\r 56%|█████▌    | 56/100 [17:56<13:33, 18.49s/it]"
          ],
          "name": "stderr"
        },
        {
          "output_type": "stream",
          "text": [
            "-----\n",
            "(0.85, 0.89, 0.81, 0.89, 0.84)\n",
            "max_accuracy: 0.8721804511278195\n",
            "-----\n",
            "(0.83, 0.83, 0.85, 0.82, 0.84)\n",
            "max_accuracy: 0.8721804511278195\n",
            "-----\n",
            "(0.84, 0.84, 0.85, 0.83, 0.84)\n",
            "max_accuracy: 0.8721804511278195\n",
            "-----\n",
            "(0.85, 0.87, 0.82, 0.88, 0.85)\n",
            "max_accuracy: 0.8721804511278195\n"
          ],
          "name": "stdout"
        },
        {
          "output_type": "stream",
          "text": [
            "\r 57%|█████▋    | 57/100 [18:15<13:13, 18.45s/it]"
          ],
          "name": "stderr"
        },
        {
          "output_type": "stream",
          "text": [
            "-----\n",
            "(0.83, 0.85, 0.82, 0.85, 0.83)\n",
            "max_accuracy: 0.8721804511278195\n",
            "-----\n",
            "(0.84, 0.84, 0.85, 0.83, 0.84)\n",
            "max_accuracy: 0.8721804511278195\n",
            "-----\n",
            "(0.84, 0.88, 0.79, 0.89, 0.83)\n",
            "max_accuracy: 0.8721804511278195\n",
            "-----\n",
            "(0.85, 0.9, 0.79, 0.91, 0.84)\n",
            "max_accuracy: 0.8721804511278195\n"
          ],
          "name": "stdout"
        },
        {
          "output_type": "stream",
          "text": [
            "\r 58%|█████▊    | 58/100 [18:33<12:54, 18.44s/it]"
          ],
          "name": "stderr"
        },
        {
          "output_type": "stream",
          "text": [
            "-----\n",
            "(0.86, 0.83, 0.9, 0.82, 0.86)\n",
            "max_accuracy: 0.8721804511278195\n",
            "-----\n",
            "(0.86, 0.85, 0.87, 0.85, 0.86)\n",
            "max_accuracy: 0.8721804511278195\n",
            "-----\n",
            "(0.85, 0.83, 0.88, 0.82, 0.86)\n",
            "max_accuracy: 0.8721804511278195\n",
            "-----\n",
            "(0.85, 0.86, 0.84, 0.86, 0.85)\n",
            "max_accuracy: 0.8721804511278195\n"
          ],
          "name": "stdout"
        },
        {
          "output_type": "stream",
          "text": [
            "\r 59%|█████▉    | 59/100 [18:52<12:38, 18.50s/it]"
          ],
          "name": "stderr"
        },
        {
          "output_type": "stream",
          "text": [
            "-----\n",
            "(0.86, 0.88, 0.84, 0.88, 0.85)\n",
            "max_accuracy: 0.8721804511278195\n",
            "-----\n",
            "(0.86, 0.88, 0.84, 0.88, 0.85)\n",
            "max_accuracy: 0.8721804511278195\n",
            "-----\n",
            "(0.85, 0.86, 0.84, 0.86, 0.85)\n",
            "max_accuracy: 0.8721804511278195\n",
            "-----\n",
            "(0.84, 0.88, 0.79, 0.89, 0.83)\n",
            "max_accuracy: 0.8721804511278195\n"
          ],
          "name": "stdout"
        },
        {
          "output_type": "stream",
          "text": [
            "\r 60%|██████    | 60/100 [19:10<12:18, 18.47s/it]"
          ],
          "name": "stderr"
        },
        {
          "output_type": "stream",
          "text": [
            "-----\n",
            "(0.82, 0.91, 0.72, 0.92, 0.8)\n",
            "max_accuracy: 0.8721804511278195\n",
            "-----\n",
            "(0.84, 0.84, 0.85, 0.83, 0.84)\n",
            "max_accuracy: 0.8721804511278195\n",
            "-----\n",
            "(0.83, 0.83, 0.85, 0.82, 0.84)\n",
            "max_accuracy: 0.8721804511278195\n",
            "-----\n",
            "(0.82, 0.83, 0.81, 0.83, 0.82)\n",
            "max_accuracy: 0.8721804511278195\n"
          ],
          "name": "stdout"
        },
        {
          "output_type": "stream",
          "text": [
            "\r 61%|██████    | 61/100 [19:28<11:58, 18.42s/it]"
          ],
          "name": "stderr"
        },
        {
          "output_type": "stream",
          "text": [
            "-----\n",
            "(0.83, 0.85, 0.82, 0.85, 0.83)\n",
            "max_accuracy: 0.8721804511278195\n",
            "-----\n",
            "(0.83, 0.84, 0.84, 0.83, 0.84)\n",
            "max_accuracy: 0.8721804511278195\n",
            "-----\n",
            "(0.86, 0.85, 0.87, 0.85, 0.86)\n",
            "max_accuracy: 0.8721804511278195\n",
            "-----\n",
            "(0.86, 0.87, 0.87, 0.86, 0.87)\n",
            "max_accuracy: 0.8721804511278195\n"
          ],
          "name": "stdout"
        },
        {
          "output_type": "stream",
          "text": [
            "\r 62%|██████▏   | 62/100 [19:47<11:38, 18.38s/it]"
          ],
          "name": "stderr"
        },
        {
          "output_type": "stream",
          "text": [
            "-----\n",
            "(0.86, 0.86, 0.85, 0.86, 0.86)\n",
            "max_accuracy: 0.8721804511278195\n",
            "-----\n",
            "(0.84, 0.82, 0.88, 0.8, 0.85)\n",
            "max_accuracy: 0.8721804511278195\n",
            "-----\n",
            "(0.77, 0.89, 0.61, 0.92, 0.73)\n",
            "max_accuracy: 0.8721804511278195\n"
          ],
          "name": "stdout"
        }
      ]
    },
    {
      "cell_type": "code",
      "metadata": {
        "id": "JUMMe6H86fM7",
        "colab": {
          "base_uri": "https://localhost:8080/",
          "height": 361
        },
        "outputId": "b46ffef0-7d97-46fd-a6d0-a3d5f2034853"
      },
      "source": [
        "        #ここからevaluation (accuracy, precision, recall, specificity, f_value)                        \r\n",
        "        model.eval()\r\n",
        "\r\n",
        "        test_dataset = SimpleImageDataset(TEST_PATH, age_dict, sex_dict, train_data_transforms)\r\n",
        "        test_dataloader = DataLoader(test_dataset, batch_size = 1, shuffle = False)\r\n",
        "\r\n",
        "        test_folder_path = TEST_PATH\r\n",
        "        evaluator = Evaluator(model, test_dataset.class_names, age_dict, sex_dict, test_folder_path, val_data_transforms, device)\r\n",
        "        \r\n",
        "        _ ,score =evaluator.evaluate()\r\n",
        "        print(score)\r\n",
        "\r\n",
        "        evaluator.draw_roc(ROC_PATH)"
      ],
      "execution_count": 25,
      "outputs": [
        {
          "output_type": "stream",
          "text": [
            "eval number of classes: 2\n",
            "eval number of images: 86\n",
            "initial accuracy: 0.8705882352941177\n",
            "(0.87, 0.92, 0.81, 0.93, 0.86)\n"
          ],
          "name": "stdout"
        },
        {
          "output_type": "display_data",
          "data": {
            "image/png": "[encoded data removed]",
            "text/plain": [
              "<Figure size 432x288 with 1 Axes>"
            ]
          },
          "metadata": {
            "tags": [],
            "needs_background": "light"
          }
        }
      ]
    }
  ]
}