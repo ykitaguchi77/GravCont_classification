{
  "nbformat": 4,
  "nbformat_minor": 0,
  "metadata": {
    "colab": {
      "name": "Untitled71.ipynb",
      "provenance": [],
      "authorship_tag": "ABX9TyPGST2175oIuHRDApEk3fjk",
      "include_colab_link": true
    },
    "kernelspec": {
      "name": "python3",
      "display_name": "Python 3"
    },
    "accelerator": "GPU",
    "widgets": {
      "application/vnd.jupyter.widget-state+json": {
        "c2ccc103c8814550b4cfb2cdbf319c4e": {
          "model_module": "@jupyter-widgets/controls",
          "model_name": "HBoxModel",
          "state": {
            "_view_name": "HBoxView",
            "_dom_classes": [],
            "_model_name": "HBoxModel",
            "_view_module": "@jupyter-widgets/controls",
            "_model_module_version": "1.5.0",
            "_view_count": null,
            "_view_module_version": "1.5.0",
            "box_style": "",
            "layout": "IPY_MODEL_2d802a50499048e4b92514e22fbd2220",
            "_model_module": "@jupyter-widgets/controls",
            "children": [
              "IPY_MODEL_1114a974cb1e4c30954f7fc7a991bd60",
              "IPY_MODEL_c6f4ea03ec784c8b81add028700b8837"
            ]
          }
        },
        "2d802a50499048e4b92514e22fbd2220": {
          "model_module": "@jupyter-widgets/base",
          "model_name": "LayoutModel",
          "state": {
            "_view_name": "LayoutView",
            "grid_template_rows": null,
            "right": null,
            "justify_content": null,
            "_view_module": "@jupyter-widgets/base",
            "overflow": null,
            "_model_module_version": "1.2.0",
            "_view_count": null,
            "flex_flow": null,
            "width": null,
            "min_width": null,
            "border": null,
            "align_items": null,
            "bottom": null,
            "_model_module": "@jupyter-widgets/base",
            "top": null,
            "grid_column": null,
            "overflow_y": null,
            "overflow_x": null,
            "grid_auto_flow": null,
            "grid_area": null,
            "grid_template_columns": null,
            "flex": null,
            "_model_name": "LayoutModel",
            "justify_items": null,
            "grid_row": null,
            "max_height": null,
            "align_content": null,
            "visibility": null,
            "align_self": null,
            "height": null,
            "min_height": null,
            "padding": null,
            "grid_auto_rows": null,
            "grid_gap": null,
            "max_width": null,
            "order": null,
            "_view_module_version": "1.2.0",
            "grid_template_areas": null,
            "object_position": null,
            "object_fit": null,
            "grid_auto_columns": null,
            "margin": null,
            "display": null,
            "left": null
          }
        },
        "1114a974cb1e4c30954f7fc7a991bd60": {
          "model_module": "@jupyter-widgets/controls",
          "model_name": "FloatProgressModel",
          "state": {
            "_view_name": "ProgressView",
            "style": "IPY_MODEL_0741c7cbc914431db9b53a6fc2e081e2",
            "_dom_classes": [],
            "description": "100%",
            "_model_name": "FloatProgressModel",
            "bar_style": "success",
            "max": 21388428,
            "_view_module": "@jupyter-widgets/controls",
            "_model_module_version": "1.5.0",
            "value": 21388428,
            "_view_count": null,
            "_view_module_version": "1.5.0",
            "orientation": "horizontal",
            "min": 0,
            "description_tooltip": null,
            "_model_module": "@jupyter-widgets/controls",
            "layout": "IPY_MODEL_7d5f021ba42b42e59aa4a9211f40ca9e"
          }
        },
        "c6f4ea03ec784c8b81add028700b8837": {
          "model_module": "@jupyter-widgets/controls",
          "model_name": "HTMLModel",
          "state": {
            "_view_name": "HTMLView",
            "style": "IPY_MODEL_4723fd176a9b4635a214495484800cf3",
            "_dom_classes": [],
            "description": "",
            "_model_name": "HTMLModel",
            "placeholder": "​",
            "_view_module": "@jupyter-widgets/controls",
            "_model_module_version": "1.5.0",
            "value": " 20.4M/20.4M [00:00&lt;00:00, 99.8MB/s]",
            "_view_count": null,
            "_view_module_version": "1.5.0",
            "description_tooltip": null,
            "_model_module": "@jupyter-widgets/controls",
            "layout": "IPY_MODEL_1326b6a668d042f384a55474d98ff828"
          }
        },
        "0741c7cbc914431db9b53a6fc2e081e2": {
          "model_module": "@jupyter-widgets/controls",
          "model_name": "ProgressStyleModel",
          "state": {
            "_view_name": "StyleView",
            "_model_name": "ProgressStyleModel",
            "description_width": "initial",
            "_view_module": "@jupyter-widgets/base",
            "_model_module_version": "1.5.0",
            "_view_count": null,
            "_view_module_version": "1.2.0",
            "bar_color": null,
            "_model_module": "@jupyter-widgets/controls"
          }
        },
        "7d5f021ba42b42e59aa4a9211f40ca9e": {
          "model_module": "@jupyter-widgets/base",
          "model_name": "LayoutModel",
          "state": {
            "_view_name": "LayoutView",
            "grid_template_rows": null,
            "right": null,
            "justify_content": null,
            "_view_module": "@jupyter-widgets/base",
            "overflow": null,
            "_model_module_version": "1.2.0",
            "_view_count": null,
            "flex_flow": null,
            "width": null,
            "min_width": null,
            "border": null,
            "align_items": null,
            "bottom": null,
            "_model_module": "@jupyter-widgets/base",
            "top": null,
            "grid_column": null,
            "overflow_y": null,
            "overflow_x": null,
            "grid_auto_flow": null,
            "grid_area": null,
            "grid_template_columns": null,
            "flex": null,
            "_model_name": "LayoutModel",
            "justify_items": null,
            "grid_row": null,
            "max_height": null,
            "align_content": null,
            "visibility": null,
            "align_self": null,
            "height": null,
            "min_height": null,
            "padding": null,
            "grid_auto_rows": null,
            "grid_gap": null,
            "max_width": null,
            "order": null,
            "_view_module_version": "1.2.0",
            "grid_template_areas": null,
            "object_position": null,
            "object_fit": null,
            "grid_auto_columns": null,
            "margin": null,
            "display": null,
            "left": null
          }
        },
        "4723fd176a9b4635a214495484800cf3": {
          "model_module": "@jupyter-widgets/controls",
          "model_name": "DescriptionStyleModel",
          "state": {
            "_view_name": "StyleView",
            "_model_name": "DescriptionStyleModel",
            "description_width": "",
            "_view_module": "@jupyter-widgets/base",
            "_model_module_version": "1.5.0",
            "_view_count": null,
            "_view_module_version": "1.2.0",
            "_model_module": "@jupyter-widgets/controls"
          }
        },
        "1326b6a668d042f384a55474d98ff828": {
          "model_module": "@jupyter-widgets/base",
          "model_name": "LayoutModel",
          "state": {
            "_view_name": "LayoutView",
            "grid_template_rows": null,
            "right": null,
            "justify_content": null,
            "_view_module": "@jupyter-widgets/base",
            "overflow": null,
            "_model_module_version": "1.2.0",
            "_view_count": null,
            "flex_flow": null,
            "width": null,
            "min_width": null,
            "border": null,
            "align_items": null,
            "bottom": null,
            "_model_module": "@jupyter-widgets/base",
            "top": null,
            "grid_column": null,
            "overflow_y": null,
            "overflow_x": null,
            "grid_auto_flow": null,
            "grid_area": null,
            "grid_template_columns": null,
            "flex": null,
            "_model_name": "LayoutModel",
            "justify_items": null,
            "grid_row": null,
            "max_height": null,
            "align_content": null,
            "visibility": null,
            "align_self": null,
            "height": null,
            "min_height": null,
            "padding": null,
            "grid_auto_rows": null,
            "grid_gap": null,
            "max_width": null,
            "order": null,
            "_view_module_version": "1.2.0",
            "grid_template_areas": null,
            "object_position": null,
            "object_fit": null,
            "grid_auto_columns": null,
            "margin": null,
            "display": null,
            "left": null
          }
        }
      }
    }
  },
  "cells": [
    {
      "cell_type": "markdown",
      "metadata": {
        "id": "view-in-github",
        "colab_type": "text"
      },
      "source": [
        "<a href=\"https://colab.research.google.com/github/ykitaguchi77/GravCont_classification_colab/blob/master/EfficientNet_age_sex_crossvalidation.ipynb\" target=\"_parent\"><img src=\"https://colab.research.google.com/assets/colab-badge.svg\" alt=\"Open In Colab\"/></a>"
      ]
    },
    {
      "cell_type": "code",
      "metadata": {
        "colab": {
          "base_uri": "https://localhost:8080/"
        },
        "id": "_XH0N7e0Y8Ou",
        "outputId": "391ffea6-5a55-4ff1-9ef7-ac57de84f33d"
      },
      "source": [
        "from google.colab import drive\r\n",
        "drive.mount('/content/drive')\r\n",
        "\r\n"
      ],
      "execution_count": null,
      "outputs": [
        {
          "output_type": "stream",
          "text": [
            "Mounted at /content/drive\n"
          ],
          "name": "stdout"
        }
      ]
    },
    {
      "cell_type": "markdown",
      "metadata": {
        "id": "dnJHyFPBhEAN"
      },
      "source": [
        "#**Evaluator**"
      ]
    },
    {
      "cell_type": "code",
      "metadata": {
        "id": "sTp1hx1bhCm4"
      },
      "source": [
        "import os\r\n",
        "import random\r\n",
        "import numpy as np\r\n",
        "import glob\r\n",
        "import torch\r\n",
        "from torch.utils.data import Dataset\r\n",
        "from PIL import Image\r\n",
        "from sklearn.metrics import roc_curve, auc\r\n",
        "import matplotlib.pyplot as plt\r\n",
        "\r\n",
        "class Evaluator:\r\n",
        "    def __init__(self, model, classes, age_dict, sex_dict, val_folder_path, val_transform, device, print_round_num=2) -> None:\r\n",
        "        super().__init__()\r\n",
        "        self.model = model\r\n",
        "        self.val_folder_path = val_folder_path\r\n",
        "        self.val_transform = val_transform\r\n",
        "        self.device = device\r\n",
        "        self.print_round_num = print_round_num\r\n",
        "        \r\n",
        "        self.class_names = classes\r\n",
        "        self.age_dict = age_dict\r\n",
        "        self.sex_dict = sex_dict\r\n",
        "        self.image_paths = glob.glob(self.val_folder_path + \"/*/*\")\r\n",
        "        print('eval number of classes: ' +str(len(self.class_names)))\r\n",
        "        print('eval number of images: ' +str(len(self.image_paths)))\r\n",
        "        random.shuffle(self.image_paths) \r\n",
        "\r\n",
        "        self.max_accuracy = 0\r\n",
        "        # to update self.max_accuracy\r\n",
        "        self.evaluate()\r\n",
        "        print(\"initial accuracy: \" + str(self.max_accuracy))\r\n",
        "\r\n",
        "    def evaluate(self):\r\n",
        "        TP = FP = TN = FN = TP = FP = TN = FN = 0\r\n",
        "        image_name_list = []\r\n",
        "        label_list = []\r\n",
        "        model_pred_list = []\r\n",
        "\r\n",
        "        model_pred_class = []\r\n",
        "        model_pred_prob = []\r\n",
        "\r\n",
        "        for image_path in self.image_paths:\r\n",
        "            image_name, label, age, sex = self.get_label(image_path)\r\n",
        "            if np.isnan(age):\r\n",
        "                    continue\r\n",
        "            image_tensor = self.get_image_tensor(image_path)\r\n",
        "\r\n",
        "            is_training = self.model.training\r\n",
        "            self.model.eval()\r\n",
        "            with torch.no_grad():\r\n",
        "                output = self.model(image_tensor)\r\n",
        "            if is_training:\r\n",
        "                self.model.train()\r\n",
        "                \r\n",
        "            output = output.squeeze(0)\r\n",
        "            #model_pred:クラス名前、prob:確率、pred:クラス番号\r\n",
        "            prob = torch.clamp(output[0], 0, 1)\r\n",
        "            pred = int(torch.round(prob))\r\n",
        "            model_pred = self.class_names[pred]\r\n",
        "            \r\n",
        "            image_name_list.append(image_name)\r\n",
        "            label_list.append(label)\r\n",
        "            model_pred_list.append(model_pred)\r\n",
        "\r\n",
        "            model_pred_class.append(int(pred))\r\n",
        "            model_pred_prob.append(float(prob))\r\n",
        "\r\n",
        "            if label == self.class_names[0]:\r\n",
        "                if model_pred == self.class_names[0]:\r\n",
        "                    TN += 1\r\n",
        "                else:\r\n",
        "                    FP += 1\r\n",
        "            elif label == self.class_names[1]:\r\n",
        "                if model_pred == self.class_names[1]:\r\n",
        "                    TP += 1\r\n",
        "                else:\r\n",
        "                    FN += 1\r\n",
        "\r\n",
        "        accuracy, precision, recall, specificity, f_value = self.calculate_accuracy(TP, TN, FP, FN)\r\n",
        "        is_best = self.max_accuracy < accuracy\r\n",
        "        if is_best:\r\n",
        "            self.max_accuracy = accuracy\r\n",
        "\r\n",
        "        return is_best, (round(accuracy, self.print_round_num), \r\n",
        "            round(precision, self.print_round_num), \r\n",
        "            round(recall, self.print_round_num), \r\n",
        "            round(specificity, self.print_round_num), \r\n",
        "            round(f_value, self.print_round_num))\r\n",
        "        \r\n",
        "    def draw_roc(self, output_path):\r\n",
        "        label_list = []\r\n",
        "        model_pred_prob = []\r\n",
        "\r\n",
        "        for image_path in self.image_paths:\r\n",
        "            image_name, label, age, sex = self.get_label(image_path)\r\n",
        "            image_tensor = self.get_image_tensor(image_path)\r\n",
        "\r\n",
        "            is_training = self.model.training\r\n",
        "            self.model.eval()\r\n",
        "            with torch.no_grad():\r\n",
        "                output = self.model(image_tensor)\r\n",
        "            if is_training:\r\n",
        "                self.model.train()\r\n",
        "                \r\n",
        "            output = output.squeeze(0)\r\n",
        "            #model_pred:クラス名前、prob:確率、pred:クラス番号\r\n",
        "            prob = torch.clamp(output[0], 0, 1)\r\n",
        "\r\n",
        "            label_list.append(label)\r\n",
        "            model_pred_prob.append(float(prob))\r\n",
        "\r\n",
        "        y_score = []\r\n",
        "        y_true = []\r\n",
        "\r\n",
        "        k=0\r\n",
        "        for i in label_list:\r\n",
        "            if label_list[k] == 'cont':\r\n",
        "                y_true.append(0)\r\n",
        "            elif label_list[k] == 'grav':\r\n",
        "                y_true.append(1)\r\n",
        "            k+=1\r\n",
        "\r\n",
        "        #健康な状態を「0」、病気を「1」としてラベルよりリストを作成\r\n",
        "        y_true = y_true\r\n",
        "        #それぞれの画像における陽性の確率についてリストを作成\r\n",
        "        y_score = model_pred_prob\r\n",
        "        try:\r\n",
        "            fpr, tpr, thred = roc_curve(y_true, y_score)\r\n",
        "            roc_auc = auc(fpr, tpr)\r\n",
        "\r\n",
        "            plt.figure()\r\n",
        "            lw = 2\r\n",
        "            plt.plot(fpr, tpr, color='darkorange',lw=lw, label='ROC curve (area = %0.2f)' % roc_auc)\r\n",
        "            plt.plot([0, 1], [0, 1], color='navy', lw=lw, linestyle='--')\r\n",
        "            plt.xlabel('False Positive Rate')\r\n",
        "            plt.ylabel('True Positive Rate')\r\n",
        "            plt.title('Receiver operating characteristic example')\r\n",
        "            plt.legend(loc=\"lower right\")\r\n",
        "            plt.savefig(output_path)\r\n",
        "        except:\r\n",
        "            pass\r\n",
        "\r\n",
        "    #対象のパスからラベルを抜き出す\r\n",
        "    def get_label(self, image_path):\r\n",
        "        image_name = os.path.basename(image_path)\r\n",
        "        \r\n",
        "        base_name, ext = os.path.splitext(image_name)\r\n",
        "        age = float(self.age_dict[base_name]) / 100\r\n",
        "        sex = float(self.sex_dict[base_name])\r\n",
        "        \r\n",
        "        label = os.path.basename(os.path.dirname(image_path))\r\n",
        "        return(image_name, label, age, sex)\r\n",
        "        \r\n",
        "    def get_image_tensor(self, image_path):    \r\n",
        "        image = Image.open(image_path).convert(\"RGB\")\r\n",
        "        image_tensor = self.val_transform(image)\r\n",
        "        image_tensor.unsqueeze_(0)\r\n",
        "        image_tensor = image_tensor.to(self.device) \r\n",
        "        return(image_tensor)\r\n",
        "        \r\n",
        "    def calculate_accuracy(self, TP, TN, FP, FN):\r\n",
        "        try:\r\n",
        "            accuracy = (TP + TN)/ (TP + TN + FP + FN)\r\n",
        "            precision  = TP/(FP + TP)\r\n",
        "            recall = TP/(TP + FN)\r\n",
        "            specificity = TN/(FP + TN)\r\n",
        "            f_value = (2*recall*precision)/(recall+precision)\r\n",
        "        except:\r\n",
        "            accuracy = -1\r\n",
        "            precision  = -1\r\n",
        "            recall = -1\r\n",
        "            specificity = -1\r\n",
        "            f_value = -1\r\n",
        "        return(accuracy, precision, recall, specificity, f_value)"
      ],
      "execution_count": null,
      "outputs": []
    },
    {
      "cell_type": "markdown",
      "metadata": {
        "id": "AvbamPHehLtt"
      },
      "source": [
        "#**Train**"
      ]
    },
    {
      "cell_type": "code",
      "metadata": {
        "colab": {
          "base_uri": "https://localhost:8080/",
          "height": 1000,
          "referenced_widgets": [
            "c2ccc103c8814550b4cfb2cdbf319c4e",
            "2d802a50499048e4b92514e22fbd2220",
            "1114a974cb1e4c30954f7fc7a991bd60",
            "c6f4ea03ec784c8b81add028700b8837",
            "0741c7cbc914431db9b53a6fc2e081e2",
            "7d5f021ba42b42e59aa4a9211f40ca9e",
            "4723fd176a9b4635a214495484800cf3",
            "1326b6a668d042f384a55474d98ff828"
          ]
        },
        "id": "t6xJpBB5YnzM",
        "outputId": "9335cd38-aa16-402e-a976-e304114fe8b8"
      },
      "source": [
        "##########\r\n",
        "# Usage\r\n",
        "#   python train_grav_multi.py\r\n",
        "##########\r\n",
        "# ├─gravcont_250px_cross\r\n",
        "# │   ├─train\r\n",
        "# │   │  ├─cont\r\n",
        "# │   │  └─grav\r\n",
        "# │   └─val\r\n",
        "# │       ├─cont\r\n",
        "# │       └─grav\r\n",
        "\r\n",
        "\r\n",
        "import os\r\n",
        "import random\r\n",
        "import json\r\n",
        "import tqdm\r\n",
        "import numpy as np\r\n",
        "from PIL import Image\r\n",
        "import torch\r\n",
        "from torch.utils.data import Dataset, DataLoader\r\n",
        "from torchvision.datasets import folder\r\n",
        "import torchvision.transforms as transforms\r\n",
        "import torchvision.datasets as datasets\r\n",
        "!pip install efficientnet_pytorch\r\n",
        "from efficientnet_pytorch import EfficientNet \r\n",
        "\r\n",
        "\r\n",
        "# change working directory\r\n",
        "path = '/content/drive/MyDrive/Deep_learning/666mai_dataset'\r\n",
        "os.chdir(path)\r\n",
        "\r\n",
        "# grav or cont, age, and sex\r\n",
        "NUM_CLASSES = 3\r\n",
        "# contains train, val\r\n",
        "DATASET_PATH = r\"./gravcont_250px_cross/\"\r\n",
        "TRAIN_FOLDER_NAME = \"train\"\r\n",
        "VAL_FOLDER_NAME = \"val\"\r\n",
        "EFFICIENT_NET_NAME = \"efficientnet-b0\"\r\n",
        "MODEL_PATH = \"./model_multi.pth\"\r\n",
        "OPTIMIZER_PATH = \"./optimizer_multi.pth\"\r\n",
        "SEX_DICT_PATH = \"gender_json\"\r\n",
        "AGE_DICT_PATH = \"age_json\"\r\n",
        "LOG_PATH = \"./log_multi.txt\"\r\n",
        "ROC_PATH = \"./roc_multi.png\"\r\n",
        "CHECKPOINT_COUNT = 10\r\n",
        "EPOCH = 100\r\n",
        "BATCH_SIZE = 16\r\n",
        "\r\n",
        "# transforms param\r\n",
        "PX = 224\r\n",
        "TRAIN_NORMALIZE_PARAM = [0.5, 0.5, 0.5], [0.5, 0.5, 0.5]\r\n",
        "TRAIN_CROP_SCALE =(0.75,1.0)\r\n",
        "TRAIN_BRIGHTNESS_PARAM = 0.2\r\n",
        "TRAIN_CONTRAST_PARAM = 0.1\r\n",
        "TRAIN_SATURATION_PARAM = 0.1\r\n",
        "TRAIN_RANDOM_ROTATION = 3\r\n",
        "TRAIN_HUE_PARAM = 0.02\r\n",
        "VAL_NORMALIZE_PARAM = [0.5, 0.5, 0.5], [0.5, 0.5, 0.5]\r\n",
        "\r\n",
        "#######\r\n",
        "# Set random seem for reproducibility\r\n",
        "manualSeed = 1234\r\n",
        "# print(\"Random Seed: \", manualSeed)\r\n",
        "random.seed(manualSeed)\r\n",
        "torch.manual_seed(manualSeed)\r\n",
        "torch.cuda.manual_seed(manualSeed)\r\n",
        "#######\r\n",
        "\r\n",
        "torch.torch.backends.cudnn.benchmark = True\r\n",
        "torch.torch.backends.cudnn.enabled = True\r\n",
        "\r\n",
        "device = torch.device(\"cuda:0\" if torch.cuda.is_available() else \"cpu\")\r\n",
        "\r\n",
        "age_dict = []\r\n",
        "with open(AGE_DICT_PATH, \"r\") as f:\r\n",
        "        age_dict = json.load(f)\r\n",
        "sex_dict = []\r\n",
        "with open(SEX_DICT_PATH, \"r\") as f:\r\n",
        "        sex_dict = json.load(f)\r\n",
        "        \r\n",
        "class SimpleImageDataset(Dataset):\r\n",
        "    def __init__(self, folder_path, age_dict, sex_dict, transform):\r\n",
        "        self.transform = transform\r\n",
        "        self.class_names = os.listdir(folder_path)\r\n",
        "        self.item_paths = []\r\n",
        "        self.item_dict = {}\r\n",
        "        for class_num in range(len(self.class_names)):\r\n",
        "                class_name = self.class_names[class_num]\r\n",
        "                class_path = os.path.join(folder_path, class_name)\r\n",
        "                for image_name in os.listdir(class_path):\r\n",
        "                        base_name, ext = os.path.splitext(image_name)\r\n",
        "                        if np.isnan(age_dict[base_name]):\r\n",
        "                                continue\r\n",
        "                        age = float(age_dict[base_name]) / 100\r\n",
        "                        sex = float(sex_dict[base_name])\r\n",
        "                        image_path = os.path.join(class_path, image_name)\r\n",
        "                        self.item_paths.append(image_path)\r\n",
        "                        self.item_dict[image_path] = (class_num, age, sex)\r\n",
        "\r\n",
        "    def __len__(self):\r\n",
        "        return len(self.item_paths)\r\n",
        "\r\n",
        "    def __getitem__(self, idx):\r\n",
        "        image_path = self.item_paths[idx]\r\n",
        "        pilr_image = Image.open(image_path).convert(\"RGB\")\r\n",
        "        tensor_image = self.transform(pilr_image)\r\n",
        "        class_num, age, sex = self.item_dict[image_path]\r\n",
        "        class_num = torch.tensor(class_num)\r\n",
        "        age = torch.tensor(age)\r\n",
        "        sex = torch.tensor(sex)\r\n",
        "        label = torch.tensor([class_num, age, sex])\r\n",
        "        return tensor_image, label\r\n",
        "\r\n",
        "if __name__ == \"__main__\":\r\n",
        "        if os.path.exists(MODEL_PATH):\r\n",
        "                model = EfficientNet.from_pretrained(EFFICIENT_NET_NAME, MODEL_PATH, num_classes=NUM_CLASSES)\r\n",
        "        else:\r\n",
        "                model = EfficientNet.from_pretrained(EFFICIENT_NET_NAME, num_classes=NUM_CLASSES)\r\n",
        "        model.train()\r\n",
        "        model.to(device)\r\n",
        "\r\n",
        "        # transforms自体を定数として上に記述しても良いかもしれません\r\n",
        "        train_data_transforms = transforms.Compose([\r\n",
        "                transforms.RandomResizedCrop(PX, scale=TRAIN_CROP_SCALE),\r\n",
        "                transforms.RandomHorizontalFlip(),\r\n",
        "                transforms.ColorJitter(brightness=TRAIN_BRIGHTNESS_PARAM, contrast=TRAIN_CONTRAST_PARAM,\r\n",
        "                 saturation=TRAIN_SATURATION_PARAM, hue=TRAIN_HUE_PARAM),\r\n",
        "                # transforms.RandomRotation((-TRAIN_RANDOM_ROTATION, TRAIN_RANDOM_ROTATION)),\r\n",
        "                transforms.ToTensor(),\r\n",
        "                transforms.Normalize(TRAIN_NORMALIZE_PARAM[0], TRAIN_NORMALIZE_PARAM[1])])\r\n",
        "        val_data_transforms = transforms.Compose([\r\n",
        "                transforms.Resize(PX),\r\n",
        "                transforms.ToTensor(),\r\n",
        "                transforms.Normalize(VAL_NORMALIZE_PARAM[0], VAL_NORMALIZE_PARAM[1])])                \r\n",
        "                \r\n",
        "        train_dataset = SimpleImageDataset(os.path.join(DATASET_PATH, TRAIN_FOLDER_NAME), age_dict, sex_dict, train_data_transforms)\r\n",
        "        train_dataloader = DataLoader(train_dataset, batch_size = BATCH_SIZE, shuffle = True)\r\n",
        "        print(TRAIN_FOLDER_NAME + \"_dataset_size：\" + str(len(train_dataset)))\r\n",
        "\r\n",
        "        optimizer = torch.optim.AdamW(model.parameters(), 0.0002)\r\n",
        "        if os.path.exists(OPTIMIZER_PATH):\r\n",
        "                optimizer.load_state_dict(torch.load(OPTIMIZER_PATH))\r\n",
        "\r\n",
        "        loss_func = torch.nn.MSELoss()\r\n",
        "        \r\n",
        "        val_folder_path = os.path.join(DATASET_PATH, VAL_FOLDER_NAME)\r\n",
        "        evaluator = Evaluator(model, train_dataset.class_names, age_dict, sex_dict, val_folder_path, val_data_transforms, device)\r\n",
        "        evaluator.draw_roc(ROC_PATH)\r\n",
        "\r\n",
        "        for epoch in tqdm.tqdm(range(EPOCH)):\r\n",
        "                for (i, batch) in enumerate(train_dataloader):\r\n",
        "                        optimizer.zero_grad()\r\n",
        "\r\n",
        "                        inputs, labels = batch\r\n",
        "                        inputs = inputs.to(device)\r\n",
        "                        labels = labels.to(device)\r\n",
        "                        \r\n",
        "                        outputs = model(inputs)\r\n",
        "\r\n",
        "                        loss = loss_func(outputs, labels)\r\n",
        "                        loss.backward()\r\n",
        "                        optimizer.step()\r\n",
        "\r\n",
        "                        if i % CHECKPOINT_COUNT == 0:\r\n",
        "                                is_best, score = evaluator.evaluate()\r\n",
        "                                if is_best:\r\n",
        "                                        evaluator.draw_roc(ROC_PATH)\r\n",
        "                                        torch.save(model.state_dict(), MODEL_PATH)\r\n",
        "                                        torch.save(optimizer.state_dict(), OPTIMIZER_PATH)\r\n",
        "\r\n",
        "                                # write log to file\r\n",
        "                                with open(LOG_PATH, 'a') as f:\r\n",
        "                                        f.write(\"-----\")\r\n",
        "                                        f.write(\"\\n\")\r\n",
        "                                        f.write(\"batch_size: \" + str(BATCH_SIZE))\r\n",
        "                                        f.write(\"\\n\")\r\n",
        "                                        f.write(\"iter: \" + str(epoch * len(train_dataloader) + i))\r\n",
        "                                        f.write(str(score))\r\n",
        "                                        f.write(\"\\n\")\r\n",
        "                                \r\n",
        "                                # print log\r\n",
        "                                print(\"-----\")\r\n",
        "                                print(score)\r\n",
        "                                print(\"max_accuracy: \" + str(evaluator.max_accuracy))\r\n",
        "\r\n"
      ],
      "execution_count": null,
      "outputs": [
        {
          "output_type": "stream",
          "text": [
            "Collecting efficientnet_pytorch\n",
            "  Downloading https://files.pythonhosted.org/packages/4e/83/f9c5f44060f996279e474185ebcbd8dbd91179593bffb9abe3afa55d085b/efficientnet_pytorch-0.7.0.tar.gz\n",
            "Requirement already satisfied: torch in /usr/local/lib/python3.6/dist-packages (from efficientnet_pytorch) (1.7.0+cu101)\n",
            "Requirement already satisfied: future in /usr/local/lib/python3.6/dist-packages (from torch->efficientnet_pytorch) (0.16.0)\n",
            "Requirement already satisfied: typing-extensions in /usr/local/lib/python3.6/dist-packages (from torch->efficientnet_pytorch) (3.7.4.3)\n",
            "Requirement already satisfied: numpy in /usr/local/lib/python3.6/dist-packages (from torch->efficientnet_pytorch) (1.19.5)\n",
            "Requirement already satisfied: dataclasses in /usr/local/lib/python3.6/dist-packages (from torch->efficientnet_pytorch) (0.8)\n",
            "Building wheels for collected packages: efficientnet-pytorch\n",
            "  Building wheel for efficientnet-pytorch (setup.py) ... \u001b[?25l\u001b[?25hdone\n",
            "  Created wheel for efficientnet-pytorch: filename=efficientnet_pytorch-0.7.0-cp36-none-any.whl size=16032 sha256=5adcaa305858a931e6abdfc3bef3fa835720d5ef73eec441f0d9885b0c2b34bd\n",
            "  Stored in directory: /root/.cache/pip/wheels/e9/c6/e1/7a808b26406239712cfce4b5ceeb67d9513ae32aa4b31445c6\n",
            "Successfully built efficientnet-pytorch\n",
            "Installing collected packages: efficientnet-pytorch\n",
            "Successfully installed efficientnet-pytorch-0.7.0\n"
          ],
          "name": "stdout"
        },
        {
          "output_type": "stream",
          "text": [
            "Downloading: \"https://github.com/lukemelas/EfficientNet-PyTorch/releases/download/1.0/efficientnet-b0-355c32eb.pth\" to /root/.cache/torch/hub/checkpoints/efficientnet-b0-355c32eb.pth\n"
          ],
          "name": "stderr"
        },
        {
          "output_type": "display_data",
          "data": {
            "application/vnd.jupyter.widget-view+json": {
              "model_id": "c2ccc103c8814550b4cfb2cdbf319c4e",
              "version_minor": 0,
              "version_major": 2
            },
            "text/plain": [
              "HBox(children=(FloatProgress(value=0.0, max=21388428.0), HTML(value='')))"
            ]
          },
          "metadata": {
            "tags": []
          }
        },
        {
          "output_type": "stream",
          "text": [
            "\n",
            "Loaded pretrained weights for efficientnet-b0\n",
            "train_dataset_size：531\n",
            "eval number of classes: 2\n",
            "eval number of images: 134\n",
            "initial accuracy: 0\n"
          ],
          "name": "stdout"
        },
        {
          "output_type": "stream",
          "text": [
            "\r  0%|          | 0/100 [00:00<?, ?it/s]"
          ],
          "name": "stderr"
        },
        {
          "output_type": "stream",
          "text": [
            "-----\n",
            "(-1, -1, -1, -1, -1)\n",
            "max_accuracy: 0\n",
            "-----\n",
            "(-1, -1, -1, -1, -1)\n",
            "max_accuracy: 0\n",
            "-----\n",
            "(0.56, 0.85, 0.16, 0.97, 0.28)\n",
            "max_accuracy: 0.5639097744360902\n",
            "-----\n",
            "(0.58, 0.79, 0.22, 0.94, 0.35)\n",
            "max_accuracy: 0.5789473684210527\n"
          ],
          "name": "stdout"
        },
        {
          "output_type": "stream",
          "text": [
            "\r  1%|          | 1/100 [02:05<3:26:30, 125.16s/it]"
          ],
          "name": "stderr"
        },
        {
          "output_type": "stream",
          "text": [
            "-----\n",
            "(0.6, 0.89, 0.24, 0.97, 0.38)\n",
            "max_accuracy: 0.6015037593984962\n",
            "-----\n",
            "(0.61, 0.86, 0.27, 0.95, 0.41)\n",
            "max_accuracy: 0.6090225563909775\n",
            "-----\n",
            "(0.65, 0.83, 0.37, 0.92, 0.52)\n",
            "max_accuracy: 0.6466165413533834\n",
            "-----\n",
            "(0.6, 0.89, 0.24, 0.97, 0.38)\n",
            "max_accuracy: 0.6466165413533834\n"
          ],
          "name": "stdout"
        },
        {
          "output_type": "stream",
          "text": [
            "\r  2%|▏         | 2/100 [02:30<2:35:20, 95.10s/it] "
          ],
          "name": "stderr"
        },
        {
          "output_type": "stream",
          "text": [
            "-----\n",
            "(0.56, 0.9, 0.13, 0.98, 0.23)\n",
            "max_accuracy: 0.6466165413533834\n",
            "-----\n",
            "(0.56, 0.9, 0.13, 0.98, 0.23)\n",
            "max_accuracy: 0.6466165413533834\n",
            "-----\n",
            "(0.6, 0.85, 0.25, 0.95, 0.39)\n",
            "max_accuracy: 0.6466165413533834\n",
            "-----\n",
            "(0.7, 0.89, 0.46, 0.94, 0.61)\n",
            "max_accuracy: 0.6992481203007519\n"
          ],
          "name": "stdout"
        },
        {
          "output_type": "stream",
          "text": [
            "\r  3%|▎         | 3/100 [02:49<1:57:03, 72.41s/it]"
          ],
          "name": "stderr"
        },
        {
          "output_type": "stream",
          "text": [
            "-----\n",
            "(0.69, 0.86, 0.46, 0.92, 0.6)\n",
            "max_accuracy: 0.6992481203007519\n",
            "-----\n",
            "(0.64, 0.91, 0.31, 0.97, 0.47)\n",
            "max_accuracy: 0.6992481203007519\n",
            "-----\n",
            "(0.65, 0.92, 0.34, 0.97, 0.5)\n",
            "max_accuracy: 0.6992481203007519\n",
            "-----\n",
            "(0.74, 0.83, 0.6, 0.88, 0.7)\n",
            "max_accuracy: 0.7368421052631579\n"
          ],
          "name": "stdout"
        },
        {
          "output_type": "stream",
          "text": [
            "\r  4%|▍         | 4/100 [03:09<1:30:27, 56.53s/it]"
          ],
          "name": "stderr"
        },
        {
          "output_type": "stream",
          "text": [
            "-----\n",
            "(0.8, 0.81, 0.78, 0.82, 0.79)\n",
            "max_accuracy: 0.7969924812030075\n",
            "-----\n",
            "(0.77, 0.84, 0.69, 0.86, 0.75)\n",
            "max_accuracy: 0.7969924812030075\n",
            "-----\n",
            "(0.74, 0.83, 0.6, 0.88, 0.7)\n",
            "max_accuracy: 0.7969924812030075\n",
            "-----\n",
            "(0.73, 0.82, 0.6, 0.86, 0.69)\n",
            "max_accuracy: 0.7969924812030075\n"
          ],
          "name": "stdout"
        },
        {
          "output_type": "stream",
          "text": [
            "\r  5%|▌         | 5/100 [03:28<1:11:52, 45.39s/it]"
          ],
          "name": "stderr"
        },
        {
          "output_type": "stream",
          "text": [
            "-----\n",
            "(0.74, 0.81, 0.63, 0.85, 0.71)\n",
            "max_accuracy: 0.7969924812030075\n",
            "-----\n",
            "(0.76, 0.84, 0.64, 0.88, 0.73)\n",
            "max_accuracy: 0.7969924812030075\n",
            "-----\n",
            "(0.74, 0.8, 0.66, 0.83, 0.72)\n",
            "max_accuracy: 0.7969924812030075\n",
            "-----\n",
            "(0.74, 0.75, 0.73, 0.76, 0.74)\n",
            "max_accuracy: 0.7969924812030075\n"
          ],
          "name": "stdout"
        },
        {
          "output_type": "stream",
          "text": [
            "\r  6%|▌         | 6/100 [03:45<57:44, 36.86s/it]  "
          ],
          "name": "stderr"
        },
        {
          "output_type": "stream",
          "text": [
            "-----\n",
            "(0.75, 0.85, 0.61, 0.89, 0.71)\n",
            "max_accuracy: 0.7969924812030075\n",
            "-----\n",
            "(0.67, 0.9, 0.39, 0.95, 0.54)\n",
            "max_accuracy: 0.7969924812030075\n",
            "-----\n",
            "(0.74, 0.79, 0.67, 0.82, 0.73)\n",
            "max_accuracy: 0.7969924812030075\n",
            "-----\n",
            "(0.71, 0.67, 0.87, 0.56, 0.75)\n",
            "max_accuracy: 0.7969924812030075\n"
          ],
          "name": "stdout"
        },
        {
          "output_type": "stream",
          "text": [
            "\r  7%|▋         | 7/100 [04:02<47:53, 30.90s/it]"
          ],
          "name": "stderr"
        },
        {
          "output_type": "stream",
          "text": [
            "-----\n",
            "(0.71, 0.67, 0.85, 0.58, 0.75)\n",
            "max_accuracy: 0.7969924812030075\n",
            "-----\n",
            "(0.8, 0.84, 0.73, 0.86, 0.78)\n",
            "max_accuracy: 0.7969924812030075\n",
            "-----\n",
            "(0.8, 0.87, 0.7, 0.89, 0.78)\n",
            "max_accuracy: 0.7969924812030075\n",
            "-----\n",
            "(0.75, 0.87, 0.6, 0.91, 0.71)\n",
            "max_accuracy: 0.7969924812030075\n"
          ],
          "name": "stdout"
        },
        {
          "output_type": "stream",
          "text": [
            "\r  8%|▊         | 8/100 [04:19<40:53, 26.67s/it]"
          ],
          "name": "stderr"
        },
        {
          "output_type": "stream",
          "text": [
            "-----\n",
            "(0.79, 0.87, 0.69, 0.89, 0.77)\n",
            "max_accuracy: 0.7969924812030075\n",
            "-----\n",
            "(0.78, 0.79, 0.78, 0.79, 0.78)\n",
            "max_accuracy: 0.7969924812030075\n",
            "-----\n",
            "(0.79, 0.76, 0.85, 0.73, 0.8)\n",
            "max_accuracy: 0.7969924812030075\n",
            "-----\n",
            "(0.77, 0.89, 0.63, 0.92, 0.74)\n",
            "max_accuracy: 0.7969924812030075\n"
          ],
          "name": "stdout"
        },
        {
          "output_type": "stream",
          "text": [
            "\r  9%|▉         | 9/100 [04:36<36:20, 23.96s/it]"
          ],
          "name": "stderr"
        },
        {
          "output_type": "stream",
          "text": [
            "-----\n",
            "(0.74, 0.9, 0.55, 0.94, 0.69)\n",
            "max_accuracy: 0.7969924812030075\n",
            "-----\n",
            "(0.82, 0.83, 0.81, 0.83, 0.82)\n",
            "max_accuracy: 0.8195488721804511\n",
            "-----\n",
            "(0.81, 0.8, 0.84, 0.79, 0.82)\n",
            "max_accuracy: 0.8195488721804511\n",
            "-----\n",
            "(0.8, 0.86, 0.73, 0.88, 0.79)\n",
            "max_accuracy: 0.8195488721804511\n"
          ],
          "name": "stdout"
        },
        {
          "output_type": "stream",
          "text": [
            "\r 10%|█         | 10/100 [04:57<34:27, 22.98s/it]"
          ],
          "name": "stderr"
        },
        {
          "output_type": "stream",
          "text": [
            "-----\n",
            "(0.78, 0.75, 0.85, 0.71, 0.8)\n",
            "max_accuracy: 0.8195488721804511\n",
            "-----\n",
            "(0.8, 0.76, 0.9, 0.71, 0.82)\n",
            "max_accuracy: 0.8195488721804511\n",
            "-----\n",
            "(0.71, 0.66, 0.91, 0.52, 0.76)\n",
            "max_accuracy: 0.8195488721804511\n",
            "-----\n",
            "(0.78, 0.73, 0.9, 0.67, 0.81)\n",
            "max_accuracy: 0.8195488721804511\n"
          ],
          "name": "stdout"
        },
        {
          "output_type": "stream",
          "text": [
            "\r 11%|█         | 11/100 [05:14<31:30, 21.24s/it]"
          ],
          "name": "stderr"
        },
        {
          "output_type": "stream",
          "text": [
            "-----\n",
            "(0.81, 0.78, 0.87, 0.76, 0.82)\n",
            "max_accuracy: 0.8195488721804511\n",
            "-----\n",
            "(0.77, 0.72, 0.87, 0.67, 0.79)\n",
            "max_accuracy: 0.8195488721804511\n",
            "-----\n",
            "(0.75, 0.7, 0.9, 0.61, 0.78)\n",
            "max_accuracy: 0.8195488721804511\n",
            "-----\n",
            "(0.78, 0.81, 0.75, 0.82, 0.78)\n",
            "max_accuracy: 0.8195488721804511\n"
          ],
          "name": "stdout"
        },
        {
          "output_type": "stream",
          "text": [
            "\r 12%|█▏        | 12/100 [05:31<29:16, 19.96s/it]"
          ],
          "name": "stderr"
        },
        {
          "output_type": "stream",
          "text": [
            "-----\n",
            "(0.81, 0.9, 0.7, 0.92, 0.79)\n",
            "max_accuracy: 0.8195488721804511\n",
            "-----\n",
            "(0.83, 0.89, 0.75, 0.91, 0.81)\n",
            "max_accuracy: 0.8270676691729323\n",
            "-----\n",
            "(0.8, 0.74, 0.91, 0.68, 0.82)\n",
            "max_accuracy: 0.8270676691729323\n",
            "-----\n",
            "(0.82, 0.84, 0.79, 0.85, 0.82)\n",
            "max_accuracy: 0.8270676691729323\n"
          ],
          "name": "stdout"
        },
        {
          "output_type": "stream",
          "text": [
            "\r 13%|█▎        | 13/100 [05:51<29:01, 20.01s/it]"
          ],
          "name": "stderr"
        },
        {
          "output_type": "stream",
          "text": [
            "-----\n",
            "(0.81, 0.81, 0.82, 0.8, 0.81)\n",
            "max_accuracy: 0.8270676691729323\n",
            "-----\n",
            "(0.78, 0.74, 0.87, 0.7, 0.8)\n",
            "max_accuracy: 0.8270676691729323\n",
            "-----\n",
            "(0.77, 0.76, 0.81, 0.74, 0.78)\n",
            "max_accuracy: 0.8270676691729323\n",
            "-----\n",
            "(0.79, 0.88, 0.67, 0.91, 0.76)\n",
            "max_accuracy: 0.8270676691729323\n"
          ],
          "name": "stdout"
        },
        {
          "output_type": "stream",
          "text": [
            "\r 14%|█▍        | 14/100 [06:08<27:20, 19.07s/it]"
          ],
          "name": "stderr"
        },
        {
          "output_type": "stream",
          "text": [
            "-----\n",
            "(0.8, 0.88, 0.69, 0.91, 0.77)\n",
            "max_accuracy: 0.8270676691729323\n",
            "-----\n",
            "(0.81, 0.79, 0.85, 0.77, 0.82)\n",
            "max_accuracy: 0.8270676691729323\n",
            "-----\n",
            "(0.79, 0.78, 0.81, 0.77, 0.79)\n",
            "max_accuracy: 0.8270676691729323\n",
            "-----\n",
            "(0.8, 0.84, 0.73, 0.86, 0.78)\n",
            "max_accuracy: 0.8270676691729323\n"
          ],
          "name": "stdout"
        },
        {
          "output_type": "stream",
          "text": [
            "\r 15%|█▌        | 15/100 [06:25<26:06, 18.43s/it]"
          ],
          "name": "stderr"
        },
        {
          "output_type": "stream",
          "text": [
            "-----\n",
            "(0.79, 0.83, 0.73, 0.85, 0.78)\n",
            "max_accuracy: 0.8270676691729323\n",
            "-----\n",
            "(0.8, 0.87, 0.72, 0.89, 0.79)\n",
            "max_accuracy: 0.8270676691729323\n",
            "-----\n",
            "(0.8, 0.87, 0.72, 0.89, 0.79)\n",
            "max_accuracy: 0.8270676691729323\n",
            "-----\n",
            "(0.83, 0.87, 0.78, 0.88, 0.82)\n",
            "max_accuracy: 0.8270676691729323\n"
          ],
          "name": "stdout"
        },
        {
          "output_type": "stream",
          "text": [
            "\r 16%|█▌        | 16/100 [06:42<25:13, 18.02s/it]"
          ],
          "name": "stderr"
        },
        {
          "output_type": "stream",
          "text": [
            "-----\n",
            "(0.83, 0.85, 0.82, 0.85, 0.83)\n",
            "max_accuracy: 0.8345864661654135\n",
            "-----\n",
            "(0.8, 0.77, 0.85, 0.74, 0.81)\n",
            "max_accuracy: 0.8345864661654135\n",
            "-----\n",
            "(0.77, 0.89, 0.63, 0.92, 0.74)\n",
            "max_accuracy: 0.8345864661654135\n",
            "-----\n",
            "(0.79, 0.88, 0.67, 0.91, 0.76)\n",
            "max_accuracy: 0.8345864661654135\n"
          ],
          "name": "stdout"
        },
        {
          "output_type": "stream",
          "text": [
            "\r 17%|█▋        | 17/100 [07:02<25:34, 18.48s/it]"
          ],
          "name": "stderr"
        },
        {
          "output_type": "stream",
          "text": [
            "-----\n",
            "(0.82, 0.89, 0.73, 0.91, 0.8)\n",
            "max_accuracy: 0.8345864661654135\n",
            "-----\n",
            "(0.81, 0.9, 0.7, 0.92, 0.79)\n",
            "max_accuracy: 0.8345864661654135\n",
            "-----\n",
            "(0.82, 0.82, 0.82, 0.82, 0.82)\n",
            "max_accuracy: 0.8345864661654135\n",
            "-----\n",
            "(0.79, 0.74, 0.9, 0.68, 0.81)\n",
            "max_accuracy: 0.8345864661654135\n"
          ],
          "name": "stdout"
        },
        {
          "output_type": "stream",
          "text": [
            "\r 18%|█▊        | 18/100 [07:19<24:42, 18.08s/it]"
          ],
          "name": "stderr"
        },
        {
          "output_type": "stream",
          "text": [
            "-----\n",
            "(0.79, 0.78, 0.81, 0.77, 0.79)\n",
            "max_accuracy: 0.8345864661654135\n",
            "-----\n",
            "(0.81, 0.86, 0.75, 0.88, 0.8)\n",
            "max_accuracy: 0.8345864661654135\n",
            "-----\n",
            "(0.82, 0.82, 0.82, 0.82, 0.82)\n",
            "max_accuracy: 0.8345864661654135\n",
            "-----\n",
            "(0.8, 0.79, 0.84, 0.77, 0.81)\n",
            "max_accuracy: 0.8345864661654135\n"
          ],
          "name": "stdout"
        },
        {
          "output_type": "stream",
          "text": [
            "\r 19%|█▉        | 19/100 [07:36<24:05, 17.84s/it]"
          ],
          "name": "stderr"
        },
        {
          "output_type": "stream",
          "text": [
            "-----\n",
            "(0.77, 0.71, 0.9, 0.64, 0.79)\n",
            "max_accuracy: 0.8345864661654135\n",
            "-----\n",
            "(0.81, 0.78, 0.87, 0.76, 0.82)\n",
            "max_accuracy: 0.8345864661654135\n",
            "-----\n",
            "(0.8, 0.94, 0.66, 0.95, 0.77)\n",
            "max_accuracy: 0.8345864661654135\n",
            "-----\n",
            "(0.81, 0.82, 0.81, 0.82, 0.81)\n",
            "max_accuracy: 0.8345864661654135\n"
          ],
          "name": "stdout"
        },
        {
          "output_type": "stream",
          "text": [
            "\r 20%|██        | 20/100 [07:54<23:45, 17.82s/it]"
          ],
          "name": "stderr"
        },
        {
          "output_type": "stream",
          "text": [
            "-----\n",
            "(0.83, 0.81, 0.85, 0.8, 0.83)\n",
            "max_accuracy: 0.8345864661654135\n",
            "-----\n",
            "(0.83, 0.82, 0.84, 0.82, 0.83)\n",
            "max_accuracy: 0.8345864661654135\n",
            "-----\n",
            "(0.81, 0.79, 0.85, 0.77, 0.82)\n",
            "max_accuracy: 0.8345864661654135\n",
            "-----\n",
            "(0.85, 0.84, 0.87, 0.83, 0.85)\n",
            "max_accuracy: 0.849624060150376\n"
          ],
          "name": "stdout"
        },
        {
          "output_type": "stream",
          "text": [
            "\r 21%|██        | 21/100 [08:15<24:46, 18.82s/it]"
          ],
          "name": "stderr"
        },
        {
          "output_type": "stream",
          "text": [
            "-----\n",
            "(0.85, 0.83, 0.88, 0.82, 0.86)\n",
            "max_accuracy: 0.849624060150376\n",
            "-----\n",
            "(0.83, 0.84, 0.81, 0.85, 0.82)\n",
            "max_accuracy: 0.849624060150376\n",
            "-----\n",
            "(0.81, 0.89, 0.72, 0.91, 0.79)\n",
            "max_accuracy: 0.849624060150376\n",
            "-----\n",
            "(0.82, 0.82, 0.82, 0.82, 0.82)\n",
            "max_accuracy: 0.849624060150376\n"
          ],
          "name": "stdout"
        },
        {
          "output_type": "stream",
          "text": [
            "\r 22%|██▏       | 22/100 [08:34<24:27, 18.82s/it]"
          ],
          "name": "stderr"
        },
        {
          "output_type": "stream",
          "text": [
            "-----\n",
            "(0.8, 0.77, 0.87, 0.74, 0.82)\n",
            "max_accuracy: 0.849624060150376\n",
            "-----\n",
            "(0.79, 0.75, 0.87, 0.71, 0.81)\n",
            "max_accuracy: 0.849624060150376\n",
            "-----\n",
            "(0.81, 0.79, 0.85, 0.77, 0.82)\n",
            "max_accuracy: 0.849624060150376\n",
            "-----\n",
            "(0.83, 0.81, 0.85, 0.8, 0.83)\n",
            "max_accuracy: 0.849624060150376\n"
          ],
          "name": "stdout"
        },
        {
          "output_type": "stream",
          "text": [
            "\r 23%|██▎       | 23/100 [08:52<23:50, 18.57s/it]"
          ],
          "name": "stderr"
        },
        {
          "output_type": "stream",
          "text": [
            "-----\n",
            "(0.83, 0.82, 0.84, 0.82, 0.83)\n",
            "max_accuracy: 0.849624060150376\n",
            "-----\n",
            "(0.81, 0.83, 0.79, 0.83, 0.81)\n",
            "max_accuracy: 0.849624060150376\n",
            "-----\n",
            "(0.78, 0.76, 0.84, 0.73, 0.79)\n",
            "max_accuracy: 0.849624060150376\n",
            "-----\n",
            "(0.82, 0.84, 0.79, 0.85, 0.82)\n",
            "max_accuracy: 0.849624060150376\n"
          ],
          "name": "stdout"
        },
        {
          "output_type": "stream",
          "text": [
            "\r 24%|██▍       | 24/100 [09:10<23:25, 18.50s/it]"
          ],
          "name": "stderr"
        },
        {
          "output_type": "stream",
          "text": [
            "-----\n",
            "(0.8, 0.89, 0.7, 0.91, 0.78)\n",
            "max_accuracy: 0.849624060150376\n",
            "-----\n",
            "(0.83, 0.84, 0.84, 0.83, 0.84)\n",
            "max_accuracy: 0.849624060150376\n",
            "-----\n",
            "(0.81, 0.84, 0.78, 0.85, 0.81)\n",
            "max_accuracy: 0.849624060150376\n",
            "-----\n",
            "(0.79, 0.77, 0.84, 0.74, 0.8)\n",
            "max_accuracy: 0.849624060150376\n"
          ],
          "name": "stdout"
        },
        {
          "output_type": "stream",
          "text": [
            "\r 25%|██▌       | 25/100 [09:28<22:48, 18.25s/it]"
          ],
          "name": "stderr"
        },
        {
          "output_type": "stream",
          "text": [
            "-----\n",
            "(0.83, 0.82, 0.84, 0.82, 0.83)\n",
            "max_accuracy: 0.849624060150376\n",
            "-----\n",
            "(0.8, 0.81, 0.81, 0.8, 0.81)\n",
            "max_accuracy: 0.849624060150376\n",
            "-----\n",
            "(0.83, 0.83, 0.82, 0.83, 0.83)\n",
            "max_accuracy: 0.849624060150376\n",
            "-----\n",
            "(0.79, 0.85, 0.7, 0.88, 0.77)\n",
            "max_accuracy: 0.849624060150376\n"
          ],
          "name": "stdout"
        },
        {
          "output_type": "stream",
          "text": [
            "\r 26%|██▌       | 26/100 [09:46<22:17, 18.08s/it]"
          ],
          "name": "stderr"
        },
        {
          "output_type": "stream",
          "text": [
            "-----\n",
            "(0.82, 0.85, 0.78, 0.86, 0.81)\n",
            "max_accuracy: 0.849624060150376\n",
            "-----\n",
            "(0.8, 0.78, 0.84, 0.76, 0.81)\n",
            "max_accuracy: 0.849624060150376\n",
            "-----\n",
            "(0.77, 0.89, 0.63, 0.92, 0.74)\n",
            "max_accuracy: 0.849624060150376\n",
            "-----\n",
            "(0.83, 0.81, 0.87, 0.79, 0.83)\n",
            "max_accuracy: 0.849624060150376\n"
          ],
          "name": "stdout"
        },
        {
          "output_type": "stream",
          "text": [
            "\r 27%|██▋       | 27/100 [10:04<21:57, 18.05s/it]"
          ],
          "name": "stderr"
        },
        {
          "output_type": "stream",
          "text": [
            "-----\n",
            "(0.79, 0.74, 0.9, 0.68, 0.81)\n",
            "max_accuracy: 0.849624060150376\n",
            "-----\n",
            "(0.83, 0.85, 0.82, 0.85, 0.83)\n",
            "max_accuracy: 0.849624060150376\n",
            "-----\n",
            "(0.83, 0.84, 0.81, 0.85, 0.82)\n",
            "max_accuracy: 0.849624060150376\n",
            "-----\n",
            "(0.83, 0.88, 0.76, 0.89, 0.82)\n",
            "max_accuracy: 0.849624060150376\n"
          ],
          "name": "stdout"
        },
        {
          "output_type": "stream",
          "text": [
            "\r 28%|██▊       | 28/100 [10:21<21:25, 17.86s/it]"
          ],
          "name": "stderr"
        },
        {
          "output_type": "stream",
          "text": [
            "-----\n",
            "(0.82, 0.85, 0.78, 0.86, 0.81)\n",
            "max_accuracy: 0.849624060150376\n",
            "-----\n",
            "(0.83, 0.84, 0.81, 0.85, 0.82)\n",
            "max_accuracy: 0.849624060150376\n",
            "-----\n",
            "(0.81, 0.89, 0.72, 0.91, 0.79)\n",
            "max_accuracy: 0.849624060150376\n",
            "-----\n",
            "(0.8, 0.8, 0.82, 0.79, 0.81)\n",
            "max_accuracy: 0.849624060150376\n"
          ],
          "name": "stdout"
        },
        {
          "output_type": "stream",
          "text": [
            "\r 29%|██▉       | 29/100 [10:39<21:06, 17.84s/it]"
          ],
          "name": "stderr"
        },
        {
          "output_type": "stream",
          "text": [
            "-----\n",
            "(0.82, 0.81, 0.84, 0.8, 0.82)\n",
            "max_accuracy: 0.849624060150376\n",
            "-----\n",
            "(0.83, 0.89, 0.75, 0.91, 0.81)\n",
            "max_accuracy: 0.849624060150376\n",
            "-----\n",
            "(0.8, 0.9, 0.67, 0.92, 0.77)\n",
            "max_accuracy: 0.849624060150376\n",
            "-----\n",
            "(0.79, 0.75, 0.88, 0.7, 0.81)\n",
            "max_accuracy: 0.849624060150376\n"
          ],
          "name": "stdout"
        },
        {
          "output_type": "stream",
          "text": [
            "\r 30%|███       | 30/100 [10:56<20:45, 17.79s/it]"
          ],
          "name": "stderr"
        },
        {
          "output_type": "stream",
          "text": [
            "-----\n",
            "(0.82, 0.79, 0.87, 0.77, 0.83)\n",
            "max_accuracy: 0.849624060150376\n",
            "-----\n",
            "(0.83, 0.88, 0.76, 0.89, 0.82)\n",
            "max_accuracy: 0.849624060150376\n",
            "-----\n",
            "(0.85, 0.86, 0.84, 0.86, 0.85)\n",
            "max_accuracy: 0.849624060150376\n",
            "-----\n",
            "(0.75, 0.95, 0.54, 0.97, 0.69)\n",
            "max_accuracy: 0.849624060150376\n"
          ],
          "name": "stdout"
        },
        {
          "output_type": "stream",
          "text": [
            "\r 31%|███       | 31/100 [11:14<20:22, 17.72s/it]"
          ],
          "name": "stderr"
        },
        {
          "output_type": "stream",
          "text": [
            "-----\n",
            "(0.76, 0.93, 0.57, 0.95, 0.7)\n",
            "max_accuracy: 0.849624060150376\n",
            "-----\n",
            "(0.82, 0.82, 0.82, 0.82, 0.82)\n",
            "max_accuracy: 0.849624060150376\n",
            "-----\n",
            "(0.81, 0.78, 0.87, 0.76, 0.82)\n",
            "max_accuracy: 0.849624060150376\n",
            "-----\n",
            "(0.82, 0.91, 0.72, 0.92, 0.8)\n",
            "max_accuracy: 0.849624060150376\n"
          ],
          "name": "stdout"
        },
        {
          "output_type": "stream",
          "text": [
            "\r 32%|███▏      | 32/100 [11:31<19:54, 17.57s/it]"
          ],
          "name": "stderr"
        },
        {
          "output_type": "stream",
          "text": [
            "-----\n",
            "(0.84, 0.9, 0.78, 0.91, 0.83)\n",
            "max_accuracy: 0.849624060150376\n",
            "-----\n",
            "(0.84, 0.84, 0.85, 0.83, 0.84)\n",
            "max_accuracy: 0.849624060150376\n",
            "-----\n",
            "(0.86, 0.86, 0.85, 0.86, 0.86)\n",
            "max_accuracy: 0.8571428571428571\n",
            "-----\n",
            "(0.83, 0.87, 0.79, 0.88, 0.83)\n",
            "max_accuracy: 0.8571428571428571\n"
          ],
          "name": "stdout"
        },
        {
          "output_type": "stream",
          "text": [
            "\r 33%|███▎      | 33/100 [11:52<20:49, 18.65s/it]"
          ],
          "name": "stderr"
        },
        {
          "output_type": "stream",
          "text": [
            "-----\n",
            "(0.83, 0.87, 0.79, 0.88, 0.83)\n",
            "max_accuracy: 0.8571428571428571\n",
            "-----\n",
            "(0.83, 0.81, 0.85, 0.8, 0.83)\n",
            "max_accuracy: 0.8571428571428571\n",
            "-----\n",
            "(0.85, 0.87, 0.82, 0.88, 0.85)\n",
            "max_accuracy: 0.8571428571428571\n",
            "-----\n",
            "(0.84, 0.88, 0.79, 0.89, 0.83)\n",
            "max_accuracy: 0.8571428571428571\n"
          ],
          "name": "stdout"
        },
        {
          "output_type": "stream",
          "text": [
            "\r 34%|███▍      | 34/100 [12:10<20:04, 18.26s/it]"
          ],
          "name": "stderr"
        },
        {
          "output_type": "stream",
          "text": [
            "-----\n",
            "(0.77, 0.89, 0.61, 0.92, 0.73)\n",
            "max_accuracy: 0.8571428571428571\n",
            "-----\n",
            "(0.8, 0.89, 0.7, 0.91, 0.78)\n",
            "max_accuracy: 0.8571428571428571\n",
            "-----\n",
            "(0.84, 0.87, 0.81, 0.88, 0.84)\n",
            "max_accuracy: 0.8571428571428571\n",
            "-----\n",
            "(0.83, 0.81, 0.85, 0.8, 0.83)\n",
            "max_accuracy: 0.8571428571428571\n"
          ],
          "name": "stdout"
        },
        {
          "output_type": "stream",
          "text": [
            "\r 35%|███▌      | 35/100 [12:27<19:25, 17.92s/it]"
          ],
          "name": "stderr"
        },
        {
          "output_type": "stream",
          "text": [
            "-----\n",
            "(0.84, 0.85, 0.84, 0.85, 0.84)\n",
            "max_accuracy: 0.8571428571428571\n",
            "-----\n",
            "(0.78, 0.75, 0.85, 0.71, 0.8)\n",
            "max_accuracy: 0.8571428571428571\n",
            "-----\n",
            "(0.83, 0.79, 0.9, 0.76, 0.84)\n",
            "max_accuracy: 0.8571428571428571\n",
            "-----\n",
            "(0.83, 0.87, 0.78, 0.88, 0.82)\n",
            "max_accuracy: 0.8571428571428571\n"
          ],
          "name": "stdout"
        },
        {
          "output_type": "stream",
          "text": [
            "\r 36%|███▌      | 36/100 [12:44<18:55, 17.74s/it]"
          ],
          "name": "stderr"
        },
        {
          "output_type": "stream",
          "text": [
            "-----\n",
            "(0.82, 0.81, 0.84, 0.8, 0.82)\n",
            "max_accuracy: 0.8571428571428571\n",
            "-----\n",
            "(0.82, 0.83, 0.81, 0.83, 0.82)\n",
            "max_accuracy: 0.8571428571428571\n",
            "-----\n",
            "(0.82, 0.84, 0.79, 0.85, 0.82)\n",
            "max_accuracy: 0.8571428571428571\n",
            "-----\n",
            "(0.82, 0.83, 0.81, 0.83, 0.82)\n",
            "max_accuracy: 0.8571428571428571\n"
          ],
          "name": "stdout"
        },
        {
          "output_type": "stream",
          "text": [
            "\r 37%|███▋      | 37/100 [13:01<18:27, 17.58s/it]"
          ],
          "name": "stderr"
        },
        {
          "output_type": "stream",
          "text": [
            "-----\n",
            "(0.83, 0.81, 0.87, 0.79, 0.83)\n",
            "max_accuracy: 0.8571428571428571\n",
            "-----\n",
            "(0.82, 0.84, 0.79, 0.85, 0.82)\n",
            "max_accuracy: 0.8571428571428571\n",
            "-----\n",
            "(0.83, 0.82, 0.87, 0.8, 0.84)\n",
            "max_accuracy: 0.8571428571428571\n",
            "-----\n",
            "(0.83, 0.86, 0.81, 0.86, 0.83)\n",
            "max_accuracy: 0.8571428571428571\n"
          ],
          "name": "stdout"
        },
        {
          "output_type": "stream",
          "text": [
            "\r 38%|███▊      | 38/100 [13:19<18:04, 17.50s/it]"
          ],
          "name": "stderr"
        },
        {
          "output_type": "stream",
          "text": [
            "-----\n",
            "(0.83, 0.82, 0.87, 0.8, 0.84)\n",
            "max_accuracy: 0.8571428571428571\n",
            "-----\n",
            "(0.84, 0.87, 0.81, 0.88, 0.84)\n",
            "max_accuracy: 0.8571428571428571\n",
            "-----\n",
            "(0.84, 0.86, 0.82, 0.86, 0.84)\n",
            "max_accuracy: 0.8571428571428571\n",
            "-----\n",
            "(0.84, 0.84, 0.85, 0.83, 0.84)\n",
            "max_accuracy: 0.8571428571428571\n"
          ],
          "name": "stdout"
        },
        {
          "output_type": "stream",
          "text": [
            "\r 39%|███▉      | 39/100 [13:36<17:38, 17.35s/it]"
          ],
          "name": "stderr"
        },
        {
          "output_type": "stream",
          "text": [
            "-----\n",
            "(0.83, 0.87, 0.79, 0.88, 0.83)\n",
            "max_accuracy: 0.8571428571428571\n",
            "-----\n",
            "(0.85, 0.87, 0.82, 0.88, 0.85)\n",
            "max_accuracy: 0.8571428571428571\n",
            "-----\n",
            "(0.83, 0.88, 0.78, 0.89, 0.83)\n",
            "max_accuracy: 0.8571428571428571\n",
            "-----\n",
            "(0.85, 0.83, 0.88, 0.82, 0.86)\n",
            "max_accuracy: 0.8571428571428571\n"
          ],
          "name": "stdout"
        },
        {
          "output_type": "stream",
          "text": [
            "\r 40%|████      | 40/100 [13:53<17:20, 17.34s/it]"
          ],
          "name": "stderr"
        },
        {
          "output_type": "stream",
          "text": [
            "-----\n",
            "(0.82, 0.78, 0.9, 0.74, 0.83)\n",
            "max_accuracy: 0.8571428571428571\n",
            "-----\n",
            "(0.84, 0.85, 0.84, 0.85, 0.84)\n",
            "max_accuracy: 0.8571428571428571\n",
            "-----\n",
            "(0.85, 0.84, 0.87, 0.83, 0.85)\n",
            "max_accuracy: 0.8571428571428571\n",
            "-----\n",
            "(0.85, 0.87, 0.82, 0.88, 0.85)\n",
            "max_accuracy: 0.8571428571428571\n"
          ],
          "name": "stdout"
        },
        {
          "output_type": "stream",
          "text": [
            "\r 41%|████      | 41/100 [14:10<16:56, 17.23s/it]"
          ],
          "name": "stderr"
        },
        {
          "output_type": "stream",
          "text": [
            "-----\n",
            "(0.83, 0.91, 0.73, 0.92, 0.81)\n",
            "max_accuracy: 0.8571428571428571\n",
            "-----\n",
            "(0.83, 0.82, 0.87, 0.8, 0.84)\n",
            "max_accuracy: 0.8571428571428571\n",
            "-----\n",
            "(0.85, 0.83, 0.88, 0.82, 0.86)\n",
            "max_accuracy: 0.8571428571428571\n",
            "-----\n",
            "(0.83, 0.88, 0.76, 0.89, 0.82)\n",
            "max_accuracy: 0.8571428571428571\n"
          ],
          "name": "stdout"
        },
        {
          "output_type": "stream",
          "text": [
            "\r 42%|████▏     | 42/100 [14:28<16:43, 17.31s/it]"
          ],
          "name": "stderr"
        },
        {
          "output_type": "stream",
          "text": [
            "-----\n",
            "(0.83, 0.85, 0.82, 0.85, 0.83)\n",
            "max_accuracy: 0.8571428571428571\n",
            "-----\n",
            "(0.83, 0.79, 0.91, 0.76, 0.85)\n",
            "max_accuracy: 0.8571428571428571\n",
            "-----\n",
            "(0.84, 0.9, 0.78, 0.91, 0.83)\n",
            "max_accuracy: 0.8571428571428571\n",
            "-----\n",
            "(0.81, 0.78, 0.87, 0.76, 0.82)\n",
            "max_accuracy: 0.8571428571428571\n"
          ],
          "name": "stdout"
        },
        {
          "output_type": "stream",
          "text": [
            "\r 43%|████▎     | 43/100 [14:44<16:20, 17.20s/it]"
          ],
          "name": "stderr"
        },
        {
          "output_type": "stream",
          "text": [
            "-----\n",
            "(0.86, 0.85, 0.87, 0.85, 0.86)\n",
            "max_accuracy: 0.8571428571428571\n",
            "-----\n",
            "(0.84, 0.83, 0.87, 0.82, 0.85)\n",
            "max_accuracy: 0.8571428571428571\n",
            "-----\n",
            "(0.81, 0.89, 0.72, 0.91, 0.79)\n",
            "max_accuracy: 0.8571428571428571\n",
            "-----\n",
            "(0.86, 0.87, 0.87, 0.86, 0.87)\n",
            "max_accuracy: 0.8646616541353384\n"
          ],
          "name": "stdout"
        },
        {
          "output_type": "stream",
          "text": [
            "\r 44%|████▍     | 44/100 [15:05<16:58, 18.18s/it]"
          ],
          "name": "stderr"
        },
        {
          "output_type": "stream",
          "text": [
            "-----\n",
            "(0.84, 0.83, 0.87, 0.82, 0.85)\n",
            "max_accuracy: 0.8646616541353384\n",
            "-----\n",
            "(0.82, 0.91, 0.72, 0.92, 0.8)\n",
            "max_accuracy: 0.8646616541353384\n",
            "-----\n",
            "(0.85, 0.84, 0.87, 0.83, 0.85)\n",
            "max_accuracy: 0.8646616541353384\n",
            "-----\n",
            "(0.83, 0.82, 0.87, 0.8, 0.84)\n",
            "max_accuracy: 0.8646616541353384\n"
          ],
          "name": "stdout"
        },
        {
          "output_type": "stream",
          "text": [
            "\r 45%|████▌     | 45/100 [15:22<16:25, 17.92s/it]"
          ],
          "name": "stderr"
        },
        {
          "output_type": "stream",
          "text": [
            "-----\n",
            "(0.85, 0.85, 0.85, 0.85, 0.85)\n",
            "max_accuracy: 0.8646616541353384\n",
            "-----\n",
            "(0.84, 0.87, 0.81, 0.88, 0.84)\n",
            "max_accuracy: 0.8646616541353384\n",
            "-----\n",
            "(0.83, 0.85, 0.82, 0.85, 0.83)\n",
            "max_accuracy: 0.8646616541353384\n",
            "-----\n",
            "(0.84, 0.88, 0.79, 0.89, 0.83)\n",
            "max_accuracy: 0.8646616541353384\n"
          ],
          "name": "stdout"
        },
        {
          "output_type": "stream",
          "text": [
            "\r 46%|████▌     | 46/100 [15:39<15:54, 17.68s/it]"
          ],
          "name": "stderr"
        },
        {
          "output_type": "stream",
          "text": [
            "-----\n",
            "(0.86, 0.89, 0.82, 0.89, 0.85)\n",
            "max_accuracy: 0.8646616541353384\n",
            "-----\n",
            "(0.84, 0.86, 0.82, 0.86, 0.84)\n",
            "max_accuracy: 0.8646616541353384\n",
            "-----\n",
            "(0.84, 0.87, 0.81, 0.88, 0.84)\n",
            "max_accuracy: 0.8646616541353384\n",
            "-----\n",
            "(0.83, 0.87, 0.79, 0.88, 0.83)\n",
            "max_accuracy: 0.8646616541353384\n"
          ],
          "name": "stdout"
        },
        {
          "output_type": "stream",
          "text": [
            "\r 47%|████▋     | 47/100 [15:56<15:26, 17.48s/it]"
          ],
          "name": "stderr"
        },
        {
          "output_type": "stream",
          "text": [
            "-----\n",
            "(0.85, 0.84, 0.87, 0.83, 0.85)\n",
            "max_accuracy: 0.8646616541353384\n",
            "-----\n",
            "(0.85, 0.84, 0.87, 0.83, 0.85)\n",
            "max_accuracy: 0.8646616541353384\n",
            "-----\n",
            "(0.86, 0.9, 0.81, 0.91, 0.85)\n",
            "max_accuracy: 0.8646616541353384\n",
            "-----\n",
            "(0.77, 0.71, 0.93, 0.62, 0.81)\n",
            "max_accuracy: 0.8646616541353384\n"
          ],
          "name": "stdout"
        },
        {
          "output_type": "stream",
          "text": [
            "\r 48%|████▊     | 48/100 [16:14<15:03, 17.38s/it]"
          ],
          "name": "stderr"
        },
        {
          "output_type": "stream",
          "text": [
            "-----\n",
            "(0.86, 0.85, 0.87, 0.85, 0.86)\n",
            "max_accuracy: 0.8646616541353384\n",
            "-----\n",
            "(0.86, 0.83, 0.9, 0.82, 0.86)\n",
            "max_accuracy: 0.8646616541353384\n",
            "-----\n",
            "(0.87, 0.88, 0.87, 0.88, 0.87)\n",
            "max_accuracy: 0.8721804511278195\n",
            "-----\n",
            "(0.86, 0.85, 0.87, 0.85, 0.86)\n",
            "max_accuracy: 0.8721804511278195\n"
          ],
          "name": "stdout"
        },
        {
          "output_type": "stream",
          "text": [
            "\r 49%|████▉     | 49/100 [16:33<15:18, 18.01s/it]"
          ],
          "name": "stderr"
        },
        {
          "output_type": "stream",
          "text": [
            "-----\n",
            "(0.86, 0.82, 0.91, 0.8, 0.87)\n",
            "max_accuracy: 0.8721804511278195\n",
            "-----\n",
            "(0.86, 0.85, 0.87, 0.85, 0.86)\n",
            "max_accuracy: 0.8721804511278195\n",
            "-----\n",
            "(0.86, 0.89, 0.84, 0.89, 0.86)\n",
            "max_accuracy: 0.8721804511278195\n",
            "-----\n",
            "(0.83, 0.86, 0.81, 0.86, 0.83)\n",
            "max_accuracy: 0.8721804511278195\n"
          ],
          "name": "stdout"
        },
        {
          "output_type": "stream",
          "text": [
            "\r 50%|█████     | 50/100 [16:51<14:55, 17.91s/it]"
          ],
          "name": "stderr"
        },
        {
          "output_type": "stream",
          "text": [
            "-----\n",
            "(0.85, 0.85, 0.85, 0.85, 0.85)\n",
            "max_accuracy: 0.8721804511278195\n",
            "-----\n",
            "(0.83, 0.89, 0.76, 0.91, 0.82)\n",
            "max_accuracy: 0.8721804511278195\n",
            "-----\n",
            "(0.83, 0.89, 0.76, 0.91, 0.82)\n",
            "max_accuracy: 0.8721804511278195\n",
            "-----\n",
            "(0.83, 0.84, 0.84, 0.83, 0.84)\n",
            "max_accuracy: 0.8721804511278195\n"
          ],
          "name": "stdout"
        },
        {
          "output_type": "stream",
          "text": [
            "\r 51%|█████     | 51/100 [17:08<14:25, 17.67s/it]"
          ],
          "name": "stderr"
        },
        {
          "output_type": "stream",
          "text": [
            "-----\n",
            "(0.86, 0.89, 0.82, 0.89, 0.85)\n",
            "max_accuracy: 0.8721804511278195\n",
            "-----\n",
            "(0.84, 0.85, 0.84, 0.85, 0.84)\n",
            "max_accuracy: 0.8721804511278195\n",
            "-----\n",
            "(0.84, 0.86, 0.82, 0.86, 0.84)\n",
            "max_accuracy: 0.8721804511278195\n",
            "-----\n",
            "(0.82, 0.91, 0.72, 0.92, 0.8)\n",
            "max_accuracy: 0.8721804511278195\n"
          ],
          "name": "stdout"
        },
        {
          "output_type": "stream",
          "text": [
            "\r 52%|█████▏    | 52/100 [17:25<13:59, 17.50s/it]"
          ],
          "name": "stderr"
        },
        {
          "output_type": "stream",
          "text": [
            "-----\n",
            "(0.86, 0.9, 0.81, 0.91, 0.85)\n",
            "max_accuracy: 0.8721804511278195\n",
            "-----\n",
            "(0.85, 0.89, 0.81, 0.89, 0.84)\n",
            "max_accuracy: 0.8721804511278195\n",
            "-----\n",
            "(0.83, 0.8, 0.88, 0.77, 0.84)\n",
            "max_accuracy: 0.8721804511278195\n",
            "-----\n",
            "(0.83, 0.82, 0.87, 0.8, 0.84)\n",
            "max_accuracy: 0.8721804511278195\n"
          ],
          "name": "stdout"
        },
        {
          "output_type": "stream",
          "text": [
            "\r 53%|█████▎    | 53/100 [17:42<13:37, 17.39s/it]"
          ],
          "name": "stderr"
        },
        {
          "output_type": "stream",
          "text": [
            "-----\n",
            "(0.85, 0.83, 0.88, 0.82, 0.86)\n",
            "max_accuracy: 0.8721804511278195\n",
            "-----\n",
            "(0.85, 0.86, 0.84, 0.86, 0.85)\n",
            "max_accuracy: 0.8721804511278195\n",
            "-----\n",
            "(0.84, 0.87, 0.81, 0.88, 0.84)\n",
            "max_accuracy: 0.8721804511278195\n",
            "-----\n",
            "(0.86, 0.86, 0.85, 0.86, 0.86)\n",
            "max_accuracy: 0.8721804511278195\n"
          ],
          "name": "stdout"
        },
        {
          "output_type": "stream",
          "text": [
            "\r 54%|█████▍    | 54/100 [17:59<13:14, 17.26s/it]"
          ],
          "name": "stderr"
        },
        {
          "output_type": "stream",
          "text": [
            "-----\n",
            "(0.84, 0.88, 0.79, 0.89, 0.83)\n",
            "max_accuracy: 0.8721804511278195\n",
            "-----\n",
            "(0.87, 0.93, 0.81, 0.94, 0.86)\n",
            "max_accuracy: 0.8721804511278195\n",
            "-----\n",
            "(0.86, 0.9, 0.81, 0.91, 0.85)\n",
            "max_accuracy: 0.8721804511278195\n",
            "-----\n",
            "(0.84, 0.91, 0.76, 0.92, 0.83)\n",
            "max_accuracy: 0.8721804511278195\n"
          ],
          "name": "stdout"
        },
        {
          "output_type": "stream",
          "text": [
            "\r 55%|█████▌    | 55/100 [18:16<12:56, 17.26s/it]"
          ],
          "name": "stderr"
        },
        {
          "output_type": "stream",
          "text": [
            "-----\n",
            "(0.84, 0.85, 0.84, 0.85, 0.84)\n",
            "max_accuracy: 0.8721804511278195\n",
            "-----\n",
            "(0.84, 0.85, 0.84, 0.85, 0.84)\n",
            "max_accuracy: 0.8721804511278195\n",
            "-----\n",
            "(0.83, 0.79, 0.9, 0.76, 0.84)\n",
            "max_accuracy: 0.8721804511278195\n",
            "-----\n",
            "(0.86, 0.9, 0.81, 0.91, 0.85)\n",
            "max_accuracy: 0.8721804511278195\n"
          ],
          "name": "stdout"
        },
        {
          "output_type": "stream",
          "text": [
            "\r 56%|█████▌    | 56/100 [18:33<12:36, 17.20s/it]"
          ],
          "name": "stderr"
        },
        {
          "output_type": "stream",
          "text": [
            "-----\n",
            "(0.85, 0.89, 0.81, 0.89, 0.84)\n",
            "max_accuracy: 0.8721804511278195\n",
            "-----\n",
            "(0.83, 0.83, 0.85, 0.82, 0.84)\n",
            "max_accuracy: 0.8721804511278195\n",
            "-----\n",
            "(0.84, 0.84, 0.85, 0.83, 0.84)\n",
            "max_accuracy: 0.8721804511278195\n",
            "-----\n",
            "(0.85, 0.87, 0.82, 0.88, 0.85)\n",
            "max_accuracy: 0.8721804511278195\n"
          ],
          "name": "stdout"
        },
        {
          "output_type": "stream",
          "text": [
            "\r 57%|█████▋    | 57/100 [18:51<12:21, 17.25s/it]"
          ],
          "name": "stderr"
        },
        {
          "output_type": "stream",
          "text": [
            "-----\n",
            "(0.83, 0.85, 0.82, 0.85, 0.83)\n",
            "max_accuracy: 0.8721804511278195\n",
            "-----\n",
            "(0.84, 0.84, 0.85, 0.83, 0.84)\n",
            "max_accuracy: 0.8721804511278195\n",
            "-----\n",
            "(0.84, 0.88, 0.79, 0.89, 0.83)\n",
            "max_accuracy: 0.8721804511278195\n",
            "-----\n",
            "(0.85, 0.9, 0.79, 0.91, 0.84)\n",
            "max_accuracy: 0.8721804511278195\n"
          ],
          "name": "stdout"
        },
        {
          "output_type": "stream",
          "text": [
            "\r 58%|█████▊    | 58/100 [19:08<12:04, 17.26s/it]"
          ],
          "name": "stderr"
        },
        {
          "output_type": "stream",
          "text": [
            "-----\n",
            "(0.86, 0.83, 0.9, 0.82, 0.86)\n",
            "max_accuracy: 0.8721804511278195\n",
            "-----\n",
            "(0.86, 0.85, 0.87, 0.85, 0.86)\n",
            "max_accuracy: 0.8721804511278195\n",
            "-----\n",
            "(0.85, 0.83, 0.88, 0.82, 0.86)\n",
            "max_accuracy: 0.8721804511278195\n",
            "-----\n",
            "(0.85, 0.86, 0.84, 0.86, 0.85)\n",
            "max_accuracy: 0.8721804511278195\n"
          ],
          "name": "stdout"
        },
        {
          "output_type": "stream",
          "text": [
            "\r 59%|█████▉    | 59/100 [19:25<11:49, 17.30s/it]"
          ],
          "name": "stderr"
        },
        {
          "output_type": "stream",
          "text": [
            "-----\n",
            "(0.86, 0.88, 0.84, 0.88, 0.85)\n",
            "max_accuracy: 0.8721804511278195\n",
            "-----\n",
            "(0.86, 0.88, 0.84, 0.88, 0.85)\n",
            "max_accuracy: 0.8721804511278195\n",
            "-----\n",
            "(0.85, 0.86, 0.84, 0.86, 0.85)\n",
            "max_accuracy: 0.8721804511278195\n",
            "-----\n",
            "(0.84, 0.88, 0.79, 0.89, 0.83)\n",
            "max_accuracy: 0.8721804511278195\n"
          ],
          "name": "stdout"
        },
        {
          "output_type": "stream",
          "text": [
            "\r 60%|██████    | 60/100 [19:43<11:34, 17.36s/it]"
          ],
          "name": "stderr"
        },
        {
          "output_type": "stream",
          "text": [
            "-----\n",
            "(0.82, 0.91, 0.72, 0.92, 0.8)\n",
            "max_accuracy: 0.8721804511278195\n",
            "-----\n",
            "(0.84, 0.84, 0.85, 0.83, 0.84)\n",
            "max_accuracy: 0.8721804511278195\n",
            "-----\n",
            "(0.83, 0.83, 0.85, 0.82, 0.84)\n",
            "max_accuracy: 0.8721804511278195\n",
            "-----\n",
            "(0.82, 0.83, 0.81, 0.83, 0.82)\n",
            "max_accuracy: 0.8721804511278195\n"
          ],
          "name": "stdout"
        },
        {
          "output_type": "stream",
          "text": [
            "\r 61%|██████    | 61/100 [20:00<11:17, 17.37s/it]"
          ],
          "name": "stderr"
        },
        {
          "output_type": "stream",
          "text": [
            "-----\n",
            "(0.83, 0.85, 0.82, 0.85, 0.83)\n",
            "max_accuracy: 0.8721804511278195\n",
            "-----\n",
            "(0.83, 0.84, 0.84, 0.83, 0.84)\n",
            "max_accuracy: 0.8721804511278195\n",
            "-----\n",
            "(0.86, 0.85, 0.87, 0.85, 0.86)\n",
            "max_accuracy: 0.8721804511278195\n",
            "-----\n",
            "(0.86, 0.87, 0.87, 0.86, 0.87)\n",
            "max_accuracy: 0.8721804511278195\n"
          ],
          "name": "stdout"
        },
        {
          "output_type": "stream",
          "text": [
            "\r 62%|██████▏   | 62/100 [20:18<11:01, 17.41s/it]"
          ],
          "name": "stderr"
        },
        {
          "output_type": "stream",
          "text": [
            "-----\n",
            "(0.86, 0.86, 0.85, 0.86, 0.86)\n",
            "max_accuracy: 0.8721804511278195\n",
            "-----\n",
            "(0.84, 0.82, 0.88, 0.8, 0.85)\n",
            "max_accuracy: 0.8721804511278195\n",
            "-----\n",
            "(0.77, 0.89, 0.61, 0.92, 0.73)\n",
            "max_accuracy: 0.8721804511278195\n",
            "-----\n",
            "(0.83, 0.87, 0.78, 0.88, 0.82)\n",
            "max_accuracy: 0.8721804511278195\n"
          ],
          "name": "stdout"
        },
        {
          "output_type": "stream",
          "text": [
            "\r 63%|██████▎   | 63/100 [20:35<10:42, 17.36s/it]"
          ],
          "name": "stderr"
        },
        {
          "output_type": "stream",
          "text": [
            "-----\n",
            "(0.85, 0.85, 0.85, 0.85, 0.85)\n",
            "max_accuracy: 0.8721804511278195\n",
            "-----\n",
            "(0.82, 0.85, 0.78, 0.86, 0.81)\n",
            "max_accuracy: 0.8721804511278195\n",
            "-----\n",
            "(0.83, 0.83, 0.85, 0.82, 0.84)\n",
            "max_accuracy: 0.8721804511278195\n",
            "-----\n",
            "(0.82, 0.85, 0.78, 0.86, 0.81)\n",
            "max_accuracy: 0.8721804511278195\n"
          ],
          "name": "stdout"
        },
        {
          "output_type": "stream",
          "text": [
            "\r 64%|██████▍   | 64/100 [20:53<10:27, 17.44s/it]"
          ],
          "name": "stderr"
        },
        {
          "output_type": "stream",
          "text": [
            "-----\n",
            "(0.8, 0.86, 0.72, 0.88, 0.78)\n",
            "max_accuracy: 0.8721804511278195\n",
            "-----\n",
            "(0.83, 0.85, 0.82, 0.85, 0.83)\n",
            "max_accuracy: 0.8721804511278195\n",
            "-----\n",
            "(0.83, 0.87, 0.78, 0.88, 0.82)\n",
            "max_accuracy: 0.8721804511278195\n",
            "-----\n",
            "(0.83, 0.81, 0.88, 0.79, 0.84)\n",
            "max_accuracy: 0.8721804511278195\n"
          ],
          "name": "stdout"
        },
        {
          "output_type": "stream",
          "text": [
            "\r 65%|██████▌   | 65/100 [21:10<10:14, 17.55s/it]"
          ],
          "name": "stderr"
        },
        {
          "output_type": "stream",
          "text": [
            "-----\n",
            "(0.83, 0.86, 0.81, 0.86, 0.83)\n",
            "max_accuracy: 0.8721804511278195\n",
            "-----\n",
            "(0.84, 0.87, 0.81, 0.88, 0.84)\n",
            "max_accuracy: 0.8721804511278195\n",
            "-----\n",
            "(0.82, 0.82, 0.82, 0.82, 0.82)\n",
            "max_accuracy: 0.8721804511278195\n",
            "-----\n",
            "(0.83, 0.85, 0.82, 0.85, 0.83)\n",
            "max_accuracy: 0.8721804511278195\n"
          ],
          "name": "stdout"
        },
        {
          "output_type": "stream",
          "text": [
            "\r 66%|██████▌   | 66/100 [21:29<10:02, 17.73s/it]"
          ],
          "name": "stderr"
        },
        {
          "output_type": "stream",
          "text": [
            "-----\n",
            "(0.83, 0.84, 0.84, 0.83, 0.84)\n",
            "max_accuracy: 0.8721804511278195\n",
            "-----\n",
            "(0.83, 0.82, 0.84, 0.82, 0.83)\n",
            "max_accuracy: 0.8721804511278195\n",
            "-----\n",
            "(0.83, 0.85, 0.82, 0.85, 0.83)\n",
            "max_accuracy: 0.8721804511278195\n",
            "-----\n",
            "(0.85, 0.84, 0.87, 0.83, 0.85)\n",
            "max_accuracy: 0.8721804511278195\n"
          ],
          "name": "stdout"
        },
        {
          "output_type": "stream",
          "text": [
            "\r 67%|██████▋   | 67/100 [21:47<09:50, 17.89s/it]"
          ],
          "name": "stderr"
        },
        {
          "output_type": "stream",
          "text": [
            "-----\n",
            "(0.82, 0.88, 0.75, 0.89, 0.81)\n",
            "max_accuracy: 0.8721804511278195\n",
            "-----\n",
            "(0.86, 0.84, 0.88, 0.83, 0.86)\n",
            "max_accuracy: 0.8721804511278195\n",
            "-----\n",
            "(0.83, 0.83, 0.82, 0.83, 0.83)\n",
            "max_accuracy: 0.8721804511278195\n",
            "-----\n",
            "(0.83, 0.88, 0.76, 0.89, 0.82)\n",
            "max_accuracy: 0.8721804511278195\n"
          ],
          "name": "stdout"
        },
        {
          "output_type": "stream",
          "text": [
            "\r 68%|██████▊   | 68/100 [22:05<09:34, 17.95s/it]"
          ],
          "name": "stderr"
        },
        {
          "output_type": "stream",
          "text": [
            "-----\n",
            "(0.83, 0.84, 0.81, 0.85, 0.82)\n",
            "max_accuracy: 0.8721804511278195\n",
            "-----\n",
            "(0.84, 0.84, 0.85, 0.83, 0.84)\n",
            "max_accuracy: 0.8721804511278195\n",
            "-----\n",
            "(0.84, 0.93, 0.75, 0.94, 0.83)\n",
            "max_accuracy: 0.8721804511278195\n",
            "-----\n",
            "(0.84, 0.91, 0.76, 0.92, 0.83)\n",
            "max_accuracy: 0.8721804511278195\n"
          ],
          "name": "stdout"
        },
        {
          "output_type": "stream",
          "text": [
            "\r 69%|██████▉   | 69/100 [22:23<09:15, 17.93s/it]"
          ],
          "name": "stderr"
        },
        {
          "output_type": "stream",
          "text": [
            "-----\n",
            "(0.83, 0.91, 0.75, 0.92, 0.82)\n",
            "max_accuracy: 0.8721804511278195\n",
            "-----\n",
            "(0.85, 0.94, 0.75, 0.95, 0.83)\n",
            "max_accuracy: 0.8721804511278195\n",
            "-----\n",
            "(0.83, 0.81, 0.85, 0.8, 0.83)\n",
            "max_accuracy: 0.8721804511278195\n",
            "-----\n",
            "(0.83, 0.89, 0.76, 0.91, 0.82)\n",
            "max_accuracy: 0.8721804511278195\n"
          ],
          "name": "stdout"
        },
        {
          "output_type": "stream",
          "text": [
            "\r 70%|███████   | 70/100 [22:40<08:55, 17.85s/it]"
          ],
          "name": "stderr"
        },
        {
          "output_type": "stream",
          "text": [
            "-----\n",
            "(0.83, 0.89, 0.76, 0.91, 0.82)\n",
            "max_accuracy: 0.8721804511278195\n",
            "-----\n",
            "(0.83, 0.88, 0.78, 0.89, 0.83)\n",
            "max_accuracy: 0.8721804511278195\n",
            "-----\n",
            "(0.82, 0.88, 0.75, 0.89, 0.81)\n",
            "max_accuracy: 0.8721804511278195\n",
            "-----\n",
            "(0.83, 0.85, 0.82, 0.85, 0.83)\n",
            "max_accuracy: 0.8721804511278195\n"
          ],
          "name": "stdout"
        },
        {
          "output_type": "stream",
          "text": [
            "\r 71%|███████   | 71/100 [22:57<08:29, 17.58s/it]"
          ],
          "name": "stderr"
        },
        {
          "output_type": "stream",
          "text": [
            "-----\n",
            "(0.84, 0.85, 0.84, 0.85, 0.84)\n",
            "max_accuracy: 0.8721804511278195\n",
            "-----\n",
            "(0.85, 0.85, 0.85, 0.85, 0.85)\n",
            "max_accuracy: 0.8721804511278195\n",
            "-----\n",
            "(0.82, 0.86, 0.76, 0.88, 0.81)\n",
            "max_accuracy: 0.8721804511278195\n",
            "-----\n",
            "(0.82, 0.84, 0.79, 0.85, 0.82)\n",
            "max_accuracy: 0.8721804511278195\n"
          ],
          "name": "stdout"
        },
        {
          "output_type": "stream",
          "text": [
            "\r 72%|███████▏  | 72/100 [23:15<08:09, 17.48s/it]"
          ],
          "name": "stderr"
        },
        {
          "output_type": "stream",
          "text": [
            "-----\n",
            "(0.83, 0.84, 0.81, 0.85, 0.82)\n",
            "max_accuracy: 0.8721804511278195\n",
            "-----\n",
            "(0.83, 0.87, 0.79, 0.88, 0.83)\n",
            "max_accuracy: 0.8721804511278195\n",
            "-----\n",
            "(0.8, 0.9, 0.69, 0.92, 0.78)\n",
            "max_accuracy: 0.8721804511278195\n",
            "-----\n",
            "(0.85, 0.86, 0.84, 0.86, 0.85)\n",
            "max_accuracy: 0.8721804511278195\n"
          ],
          "name": "stdout"
        },
        {
          "output_type": "stream",
          "text": [
            "\r 73%|███████▎  | 73/100 [23:32<07:48, 17.34s/it]"
          ],
          "name": "stderr"
        },
        {
          "output_type": "stream",
          "text": [
            "-----\n",
            "(0.83, 0.85, 0.79, 0.86, 0.82)\n",
            "max_accuracy: 0.8721804511278195\n",
            "-----\n",
            "(0.83, 0.81, 0.85, 0.8, 0.83)\n",
            "max_accuracy: 0.8721804511278195\n",
            "-----\n",
            "(0.85, 0.82, 0.9, 0.8, 0.86)\n",
            "max_accuracy: 0.8721804511278195\n",
            "-----\n",
            "(0.84, 0.8, 0.91, 0.77, 0.85)\n",
            "max_accuracy: 0.8721804511278195\n"
          ],
          "name": "stdout"
        },
        {
          "output_type": "stream",
          "text": [
            "\r 74%|███████▍  | 74/100 [23:49<07:28, 17.27s/it]"
          ],
          "name": "stderr"
        },
        {
          "output_type": "stream",
          "text": [
            "-----\n",
            "(0.85, 0.81, 0.91, 0.79, 0.86)\n",
            "max_accuracy: 0.8721804511278195\n",
            "-----\n",
            "(0.83, 0.83, 0.85, 0.82, 0.84)\n",
            "max_accuracy: 0.8721804511278195\n",
            "-----\n",
            "(0.85, 0.81, 0.91, 0.79, 0.86)\n",
            "max_accuracy: 0.8721804511278195\n",
            "-----\n",
            "(0.84, 0.82, 0.88, 0.8, 0.85)\n",
            "max_accuracy: 0.8721804511278195\n"
          ],
          "name": "stdout"
        },
        {
          "output_type": "stream",
          "text": [
            "\r 75%|███████▌  | 75/100 [24:06<07:11, 17.26s/it]"
          ],
          "name": "stderr"
        },
        {
          "output_type": "stream",
          "text": [
            "-----\n",
            "(0.82, 0.83, 0.81, 0.83, 0.82)\n",
            "max_accuracy: 0.8721804511278195\n",
            "-----\n",
            "(0.83, 0.84, 0.81, 0.85, 0.82)\n",
            "max_accuracy: 0.8721804511278195\n",
            "-----\n",
            "(0.83, 0.88, 0.78, 0.89, 0.83)\n",
            "max_accuracy: 0.8721804511278195\n",
            "-----\n",
            "(0.86, 0.86, 0.88, 0.85, 0.87)\n",
            "max_accuracy: 0.8721804511278195\n"
          ],
          "name": "stdout"
        },
        {
          "output_type": "stream",
          "text": [
            "\r 76%|███████▌  | 76/100 [24:23<06:51, 17.16s/it]"
          ],
          "name": "stderr"
        },
        {
          "output_type": "stream",
          "text": [
            "-----\n",
            "(0.84, 0.82, 0.88, 0.8, 0.85)\n",
            "max_accuracy: 0.8721804511278195\n",
            "-----\n",
            "(0.85, 0.84, 0.87, 0.83, 0.85)\n",
            "max_accuracy: 0.8721804511278195\n",
            "-----\n",
            "(0.86, 0.83, 0.9, 0.82, 0.86)\n",
            "max_accuracy: 0.8721804511278195\n",
            "-----\n",
            "(0.85, 0.84, 0.87, 0.83, 0.85)\n",
            "max_accuracy: 0.8721804511278195\n"
          ],
          "name": "stdout"
        },
        {
          "output_type": "stream",
          "text": [
            "\r 77%|███████▋  | 77/100 [24:40<06:33, 17.12s/it]"
          ],
          "name": "stderr"
        },
        {
          "output_type": "stream",
          "text": [
            "-----\n",
            "(0.81, 0.86, 0.75, 0.88, 0.8)\n",
            "max_accuracy: 0.8721804511278195\n",
            "-----\n",
            "(0.83, 0.85, 0.79, 0.86, 0.82)\n",
            "max_accuracy: 0.8721804511278195\n",
            "-----\n",
            "(0.8, 0.92, 0.67, 0.94, 0.78)\n",
            "max_accuracy: 0.8721804511278195\n",
            "-----\n",
            "(0.85, 0.86, 0.84, 0.86, 0.85)\n",
            "max_accuracy: 0.8721804511278195\n"
          ],
          "name": "stdout"
        },
        {
          "output_type": "stream",
          "text": [
            "\r 78%|███████▊  | 78/100 [24:57<06:14, 17.03s/it]"
          ],
          "name": "stderr"
        },
        {
          "output_type": "stream",
          "text": [
            "-----\n",
            "(0.84, 0.85, 0.84, 0.85, 0.84)\n",
            "max_accuracy: 0.8721804511278195\n",
            "-----\n",
            "(0.85, 0.84, 0.87, 0.83, 0.85)\n",
            "max_accuracy: 0.8721804511278195\n",
            "-----\n",
            "(0.87, 0.85, 0.91, 0.83, 0.88)\n",
            "max_accuracy: 0.8721804511278195\n",
            "-----\n",
            "(0.85, 0.84, 0.87, 0.83, 0.85)\n",
            "max_accuracy: 0.8721804511278195\n"
          ],
          "name": "stdout"
        },
        {
          "output_type": "stream",
          "text": [
            "\r 79%|███████▉  | 79/100 [25:14<06:01, 17.22s/it]"
          ],
          "name": "stderr"
        },
        {
          "output_type": "stream",
          "text": [
            "-----\n",
            "(0.83, 0.83, 0.82, 0.83, 0.83)\n",
            "max_accuracy: 0.8721804511278195\n",
            "-----\n",
            "(0.84, 0.84, 0.85, 0.83, 0.84)\n",
            "max_accuracy: 0.8721804511278195\n",
            "-----\n",
            "(0.82, 0.85, 0.78, 0.86, 0.81)\n",
            "max_accuracy: 0.8721804511278195\n",
            "-----\n",
            "(0.84, 0.84, 0.85, 0.83, 0.84)\n",
            "max_accuracy: 0.8721804511278195\n"
          ],
          "name": "stdout"
        },
        {
          "output_type": "stream",
          "text": [
            "\r 80%|████████  | 80/100 [25:32<05:43, 17.19s/it]"
          ],
          "name": "stderr"
        },
        {
          "output_type": "stream",
          "text": [
            "-----\n",
            "(0.86, 0.84, 0.91, 0.82, 0.87)\n",
            "max_accuracy: 0.8721804511278195\n",
            "-----\n",
            "(0.81, 0.84, 0.78, 0.85, 0.81)\n",
            "max_accuracy: 0.8721804511278195\n",
            "-----\n",
            "(0.87, 0.85, 0.91, 0.83, 0.88)\n",
            "max_accuracy: 0.8721804511278195\n",
            "-----\n",
            "(0.86, 0.85, 0.87, 0.85, 0.86)\n",
            "max_accuracy: 0.8721804511278195\n"
          ],
          "name": "stdout"
        },
        {
          "output_type": "stream",
          "text": [
            "\r 81%|████████  | 81/100 [25:49<05:26, 17.19s/it]"
          ],
          "name": "stderr"
        },
        {
          "output_type": "stream",
          "text": [
            "-----\n",
            "(0.86, 0.86, 0.88, 0.85, 0.87)\n",
            "max_accuracy: 0.8721804511278195\n",
            "-----\n",
            "(0.83, 0.79, 0.9, 0.76, 0.84)\n",
            "max_accuracy: 0.8721804511278195\n",
            "-----\n",
            "(0.84, 0.84, 0.85, 0.83, 0.84)\n",
            "max_accuracy: 0.8721804511278195\n",
            "-----\n",
            "(0.86, 0.84, 0.88, 0.83, 0.86)\n",
            "max_accuracy: 0.8721804511278195\n"
          ],
          "name": "stdout"
        },
        {
          "output_type": "stream",
          "text": [
            "\r 82%|████████▏ | 82/100 [26:06<05:08, 17.16s/it]"
          ],
          "name": "stderr"
        },
        {
          "output_type": "stream",
          "text": [
            "-----\n",
            "(0.81, 0.85, 0.76, 0.86, 0.8)\n",
            "max_accuracy: 0.8721804511278195\n",
            "-----\n",
            "(0.8, 0.85, 0.75, 0.86, 0.79)\n",
            "max_accuracy: 0.8721804511278195\n",
            "-----\n",
            "(0.83, 0.84, 0.84, 0.83, 0.84)\n",
            "max_accuracy: 0.8721804511278195\n",
            "-----\n",
            "(0.85, 0.84, 0.87, 0.83, 0.85)\n",
            "max_accuracy: 0.8721804511278195\n"
          ],
          "name": "stdout"
        },
        {
          "output_type": "stream",
          "text": [
            "\r 83%|████████▎ | 83/100 [26:23<04:50, 17.08s/it]"
          ],
          "name": "stderr"
        },
        {
          "output_type": "stream",
          "text": [
            "-----\n",
            "(0.85, 0.84, 0.87, 0.83, 0.85)\n",
            "max_accuracy: 0.8721804511278195\n",
            "-----\n",
            "(0.83, 0.81, 0.88, 0.79, 0.84)\n",
            "max_accuracy: 0.8721804511278195\n",
            "-----\n",
            "(0.84, 0.83, 0.87, 0.82, 0.85)\n",
            "max_accuracy: 0.8721804511278195\n",
            "-----\n",
            "(0.81, 0.84, 0.78, 0.85, 0.81)\n",
            "max_accuracy: 0.8721804511278195\n"
          ],
          "name": "stdout"
        },
        {
          "output_type": "stream",
          "text": [
            "\r 84%|████████▍ | 84/100 [26:40<04:33, 17.10s/it]"
          ],
          "name": "stderr"
        },
        {
          "output_type": "stream",
          "text": [
            "-----\n",
            "(0.81, 0.84, 0.78, 0.85, 0.81)\n",
            "max_accuracy: 0.8721804511278195\n",
            "-----\n",
            "(0.83, 0.84, 0.84, 0.83, 0.84)\n",
            "max_accuracy: 0.8721804511278195\n",
            "-----\n",
            "(0.83, 0.85, 0.79, 0.86, 0.82)\n",
            "max_accuracy: 0.8721804511278195\n",
            "-----\n",
            "(0.83, 0.85, 0.82, 0.85, 0.83)\n",
            "max_accuracy: 0.8721804511278195\n"
          ],
          "name": "stdout"
        },
        {
          "output_type": "stream",
          "text": [
            "\r 85%|████████▌ | 85/100 [26:57<04:18, 17.21s/it]"
          ],
          "name": "stderr"
        },
        {
          "output_type": "stream",
          "text": [
            "-----\n",
            "(0.8, 0.84, 0.73, 0.86, 0.78)\n",
            "max_accuracy: 0.8721804511278195\n",
            "-----\n",
            "(0.79, 0.85, 0.7, 0.88, 0.77)\n",
            "max_accuracy: 0.8721804511278195\n",
            "-----\n",
            "(0.81, 0.8, 0.84, 0.79, 0.82)\n",
            "max_accuracy: 0.8721804511278195\n",
            "-----\n",
            "(0.82, 0.81, 0.84, 0.8, 0.82)\n",
            "max_accuracy: 0.8721804511278195\n"
          ],
          "name": "stdout"
        },
        {
          "output_type": "stream",
          "text": [
            "\r 86%|████████▌ | 86/100 [27:15<04:00, 17.20s/it]"
          ],
          "name": "stderr"
        },
        {
          "output_type": "stream",
          "text": [
            "-----\n",
            "(0.82, 0.79, 0.88, 0.76, 0.83)\n",
            "max_accuracy: 0.8721804511278195\n",
            "-----\n",
            "(0.83, 0.81, 0.87, 0.79, 0.83)\n",
            "max_accuracy: 0.8721804511278195\n",
            "-----\n",
            "(0.83, 0.86, 0.81, 0.86, 0.83)\n",
            "max_accuracy: 0.8721804511278195\n",
            "-----\n",
            "(0.83, 0.85, 0.82, 0.85, 0.83)\n",
            "max_accuracy: 0.8721804511278195\n"
          ],
          "name": "stdout"
        },
        {
          "output_type": "stream",
          "text": [
            "\r 87%|████████▋ | 87/100 [27:31<03:42, 17.11s/it]"
          ],
          "name": "stderr"
        },
        {
          "output_type": "stream",
          "text": [
            "-----\n",
            "(0.83, 0.81, 0.87, 0.79, 0.83)\n",
            "max_accuracy: 0.8721804511278195\n",
            "-----\n",
            "(0.8, 0.77, 0.88, 0.73, 0.82)\n",
            "max_accuracy: 0.8721804511278195\n",
            "-----\n",
            "(0.81, 0.77, 0.9, 0.73, 0.83)\n",
            "max_accuracy: 0.8721804511278195\n",
            "-----\n",
            "(0.86, 0.89, 0.82, 0.89, 0.85)\n",
            "max_accuracy: 0.8721804511278195\n"
          ],
          "name": "stdout"
        },
        {
          "output_type": "stream",
          "text": [
            "\r 88%|████████▊ | 88/100 [27:49<03:25, 17.13s/it]"
          ],
          "name": "stderr"
        },
        {
          "output_type": "stream",
          "text": [
            "-----\n",
            "(0.85, 0.87, 0.82, 0.88, 0.85)\n",
            "max_accuracy: 0.8721804511278195\n",
            "-----\n",
            "(0.83, 0.81, 0.87, 0.79, 0.83)\n",
            "max_accuracy: 0.8721804511278195\n",
            "-----\n",
            "(0.86, 0.89, 0.84, 0.89, 0.86)\n",
            "max_accuracy: 0.8721804511278195\n",
            "-----\n",
            "(0.86, 0.89, 0.84, 0.89, 0.86)\n",
            "max_accuracy: 0.8721804511278195\n"
          ],
          "name": "stdout"
        },
        {
          "output_type": "stream",
          "text": [
            "\r 89%|████████▉ | 89/100 [28:06<03:08, 17.14s/it]"
          ],
          "name": "stderr"
        },
        {
          "output_type": "stream",
          "text": [
            "-----\n",
            "(0.84, 0.88, 0.79, 0.89, 0.83)\n",
            "max_accuracy: 0.8721804511278195\n",
            "-----\n",
            "(0.85, 0.9, 0.79, 0.91, 0.84)\n",
            "max_accuracy: 0.8721804511278195\n",
            "-----\n",
            "(0.85, 0.9, 0.79, 0.91, 0.84)\n",
            "max_accuracy: 0.8721804511278195\n",
            "-----\n",
            "(0.84, 0.87, 0.81, 0.88, 0.84)\n",
            "max_accuracy: 0.8721804511278195\n"
          ],
          "name": "stdout"
        },
        {
          "output_type": "stream",
          "text": [
            "\r 90%|█████████ | 90/100 [28:23<02:51, 17.12s/it]"
          ],
          "name": "stderr"
        },
        {
          "output_type": "stream",
          "text": [
            "-----\n",
            "(0.83, 0.87, 0.78, 0.88, 0.82)\n",
            "max_accuracy: 0.8721804511278195\n",
            "-----\n",
            "(0.84, 0.86, 0.82, 0.86, 0.84)\n",
            "max_accuracy: 0.8721804511278195\n",
            "-----\n",
            "(0.82, 0.85, 0.78, 0.86, 0.81)\n",
            "max_accuracy: 0.8721804511278195\n",
            "-----\n",
            "(0.83, 0.89, 0.76, 0.91, 0.82)\n",
            "max_accuracy: 0.8721804511278195\n"
          ],
          "name": "stdout"
        },
        {
          "output_type": "stream",
          "text": [
            "\r 91%|█████████ | 91/100 [28:40<02:33, 17.05s/it]"
          ],
          "name": "stderr"
        },
        {
          "output_type": "stream",
          "text": [
            "-----\n",
            "(0.85, 0.9, 0.79, 0.91, 0.84)\n",
            "max_accuracy: 0.8721804511278195\n",
            "-----\n",
            "(0.85, 0.87, 0.82, 0.88, 0.85)\n",
            "max_accuracy: 0.8721804511278195\n",
            "-----\n",
            "(0.87, 0.88, 0.87, 0.88, 0.87)\n",
            "max_accuracy: 0.8721804511278195\n",
            "-----\n",
            "(0.86, 0.86, 0.88, 0.85, 0.87)\n",
            "max_accuracy: 0.8721804511278195\n"
          ],
          "name": "stdout"
        },
        {
          "output_type": "stream",
          "text": [
            "\r 92%|█████████▏| 92/100 [28:57<02:16, 17.02s/it]"
          ],
          "name": "stderr"
        },
        {
          "output_type": "stream",
          "text": [
            "-----\n",
            "(0.86, 0.9, 0.82, 0.91, 0.86)\n",
            "max_accuracy: 0.8721804511278195\n",
            "-----\n",
            "(0.86, 0.9, 0.82, 0.91, 0.86)\n",
            "max_accuracy: 0.8721804511278195\n",
            "-----\n",
            "(0.86, 0.89, 0.82, 0.89, 0.85)\n",
            "max_accuracy: 0.8721804511278195\n",
            "-----\n",
            "(0.86, 0.83, 0.9, 0.82, 0.86)\n",
            "max_accuracy: 0.8721804511278195\n"
          ],
          "name": "stdout"
        },
        {
          "output_type": "stream",
          "text": [
            "\r 93%|█████████▎| 93/100 [29:14<01:59, 17.06s/it]"
          ],
          "name": "stderr"
        },
        {
          "output_type": "stream",
          "text": [
            "-----\n",
            "(0.85, 0.85, 0.85, 0.85, 0.85)\n",
            "max_accuracy: 0.8721804511278195\n",
            "-----\n",
            "(0.87, 0.88, 0.87, 0.88, 0.87)\n",
            "max_accuracy: 0.8721804511278195\n",
            "-----\n",
            "(0.86, 0.85, 0.9, 0.83, 0.87)\n",
            "max_accuracy: 0.8721804511278195\n",
            "-----\n",
            "(0.84, 0.88, 0.79, 0.89, 0.83)\n",
            "max_accuracy: 0.8721804511278195\n"
          ],
          "name": "stdout"
        },
        {
          "output_type": "stream",
          "text": [
            "\r 94%|█████████▍| 94/100 [29:31<01:42, 17.13s/it]"
          ],
          "name": "stderr"
        },
        {
          "output_type": "stream",
          "text": [
            "-----\n",
            "(0.84, 0.9, 0.78, 0.91, 0.83)\n",
            "max_accuracy: 0.8721804511278195\n",
            "-----\n",
            "(0.83, 0.88, 0.76, 0.89, 0.82)\n",
            "max_accuracy: 0.8721804511278195\n",
            "-----\n",
            "(0.83, 0.87, 0.79, 0.88, 0.83)\n",
            "max_accuracy: 0.8721804511278195\n",
            "-----\n",
            "(0.86, 0.85, 0.9, 0.83, 0.87)\n",
            "max_accuracy: 0.8721804511278195\n"
          ],
          "name": "stdout"
        },
        {
          "output_type": "stream",
          "text": [
            "\r 95%|█████████▌| 95/100 [29:48<01:25, 17.09s/it]"
          ],
          "name": "stderr"
        },
        {
          "output_type": "stream",
          "text": [
            "-----\n",
            "(0.85, 0.84, 0.87, 0.83, 0.85)\n",
            "max_accuracy: 0.8721804511278195\n",
            "-----\n",
            "(0.84, 0.85, 0.84, 0.85, 0.84)\n",
            "max_accuracy: 0.8721804511278195\n",
            "-----\n",
            "(0.83, 0.83, 0.85, 0.82, 0.84)\n",
            "max_accuracy: 0.8721804511278195\n",
            "-----\n",
            "(0.85, 0.87, 0.82, 0.88, 0.85)\n",
            "max_accuracy: 0.8721804511278195\n"
          ],
          "name": "stdout"
        },
        {
          "output_type": "stream",
          "text": [
            "\r 96%|█████████▌| 96/100 [30:05<01:08, 17.05s/it]"
          ],
          "name": "stderr"
        },
        {
          "output_type": "stream",
          "text": [
            "-----\n",
            "(0.86, 0.82, 0.91, 0.8, 0.87)\n",
            "max_accuracy: 0.8721804511278195\n",
            "-----\n",
            "(0.86, 0.82, 0.93, 0.79, 0.87)\n",
            "max_accuracy: 0.8721804511278195\n",
            "-----\n",
            "(0.87, 0.85, 0.91, 0.83, 0.88)\n",
            "max_accuracy: 0.8721804511278195\n",
            "-----\n",
            "(0.84, 0.9, 0.78, 0.91, 0.83)\n",
            "max_accuracy: 0.8721804511278195\n"
          ],
          "name": "stdout"
        },
        {
          "output_type": "stream",
          "text": [
            "\r 97%|█████████▋| 97/100 [30:23<00:51, 17.17s/it]"
          ],
          "name": "stderr"
        },
        {
          "output_type": "stream",
          "text": [
            "-----\n",
            "(0.86, 0.85, 0.9, 0.83, 0.87)\n",
            "max_accuracy: 0.8721804511278195\n",
            "-----\n",
            "(0.83, 0.81, 0.88, 0.79, 0.84)\n",
            "max_accuracy: 0.8721804511278195\n",
            "-----\n",
            "(0.84, 0.8, 0.91, 0.77, 0.85)\n",
            "max_accuracy: 0.8721804511278195\n",
            "-----\n",
            "(0.83, 0.82, 0.87, 0.8, 0.84)\n",
            "max_accuracy: 0.8721804511278195\n"
          ],
          "name": "stdout"
        },
        {
          "output_type": "stream",
          "text": [
            "\r 98%|█████████▊| 98/100 [30:41<00:35, 17.51s/it]"
          ],
          "name": "stderr"
        },
        {
          "output_type": "stream",
          "text": [
            "-----\n",
            "(0.84, 0.86, 0.82, 0.86, 0.84)\n",
            "max_accuracy: 0.8721804511278195\n",
            "-----\n",
            "(0.85, 0.87, 0.82, 0.88, 0.85)\n",
            "max_accuracy: 0.8721804511278195\n",
            "-----\n",
            "(0.82, 0.85, 0.78, 0.86, 0.81)\n",
            "max_accuracy: 0.8721804511278195\n",
            "-----\n",
            "(0.83, 0.88, 0.76, 0.89, 0.82)\n",
            "max_accuracy: 0.8721804511278195\n"
          ],
          "name": "stdout"
        },
        {
          "output_type": "stream",
          "text": [
            "\r 99%|█████████▉| 99/100 [30:59<00:17, 17.76s/it]"
          ],
          "name": "stderr"
        },
        {
          "output_type": "stream",
          "text": [
            "-----\n",
            "(0.82, 0.84, 0.79, 0.85, 0.82)\n",
            "max_accuracy: 0.8721804511278195\n",
            "-----\n",
            "(0.85, 0.81, 0.91, 0.79, 0.86)\n",
            "max_accuracy: 0.8721804511278195\n",
            "-----\n",
            "(0.83, 0.82, 0.84, 0.82, 0.83)\n",
            "max_accuracy: 0.8721804511278195\n",
            "-----\n",
            "(0.83, 0.88, 0.78, 0.89, 0.83)\n",
            "max_accuracy: 0.8721804511278195\n"
          ],
          "name": "stdout"
        },
        {
          "output_type": "stream",
          "text": [
            "100%|██████████| 100/100 [31:17<00:00, 18.77s/it]\n"
          ],
          "name": "stderr"
        },
        {
          "output_type": "display_data",
          "data": {
            "image/png": "[encoded data removed]",
            "text/plain": [
              "<Figure size 432x288 with 1 Axes>"
            ]
          },
          "metadata": {
            "tags": [],
            "needs_background": "light"
          }
        },
        {
          "output_type": "display_data",
          "data": {
            "image/png": "[encoded data removed]",
            "text/plain": [
              "<Figure size 432x288 with 1 Axes>"
            ]
          },
          "metadata": {
            "tags": [],
            "needs_background": "light"
          }
        },
        {
          "output_type": "display_data",
          "data": {
            "image/png": "[encoded data removed]",
            "text/plain": [
              "<Figure size 432x288 with 1 Axes>"
            ]
          },
          "metadata": {
            "tags": [],
            "needs_background": "light"
          }
        },
        {
          "output_type": "display_data",
          "data": {
            "image/png": "[encoded data removed]",
            "text/plain": [
              "<Figure size 432x288 with 1 Axes>"
            ]
          },
          "metadata": {
            "tags": [],
            "needs_background": "light"
          }
        },
        {
          "output_type": "display_data",
          "data": {
            "image/png": "[encoded data removed]",
            "text/plain": [
              "<Figure size 432x288 with 1 Axes>"
            ]
          },
          "metadata": {
            "tags": [],
            "needs_background": "light"
          }
        },
        {
          "output_type": "display_data",
          "data": {
            "image/png": "[encoded data removed]",
            "text/plain": [
              "<Figure size 432x288 with 1 Axes>"
            ]
          },
          "metadata": {
            "tags": [],
            "needs_background": "light"
          }
        },
        {
          "output_type": "display_data",
          "data": {
            "image/png": "[encoded data removed]",
            "text/plain": [
              "<Figure size 432x288 with 1 Axes>"
            ]
          },
          "metadata": {
            "tags": [],
            "needs_background": "light"
          }
        },
        {
          "output_type": "display_data",
          "data": {
            "image/png": "[encoded data removed]",
            "text/plain": [
              "<Figure size 432x288 with 1 Axes>"
            ]
          },
          "metadata": {
            "tags": [],
            "needs_background": "light"
          }
        },
        {
          "output_type": "display_data",
          "data": {
            "image/png": "[encoded data removed]",
            "text/plain": [
              "<Figure size 432x288 with 1 Axes>"
            ]
          },
          "metadata": {
            "tags": [],
            "needs_background": "light"
          }
        },
        {
          "output_type": "display_data",
          "data": {
            "image/png": "[encoded data removed]",
            "text/plain": [
              "<Figure size 432x288 with 1 Axes>"
            ]
          },
          "metadata": {
            "tags": [],
            "needs_background": "light"
          }
        },
        {
          "output_type": "display_data",
          "data": {
            "image/png": "[encoded data removed]",
            "text/plain": [
              "<Figure size 432x288 with 1 Axes>"
            ]
          },
          "metadata": {
            "tags": [],
            "needs_background": "light"
          }
        },
        {
          "output_type": "display_data",
          "data": {
            "image/png": "[encoded data removed]",
            "text/plain": [
              "<Figure size 432x288 with 1 Axes>"
            ]
          },
          "metadata": {
            "tags": [],
            "needs_background": "light"
          }
        },
        {
          "output_type": "display_data",
          "data": {
            "image/png": "[encoded data removed]",
            "text/plain": [
              "<Figure size 432x288 with 1 Axes>"
            ]
          },
          "metadata": {
            "tags": [],
            "needs_background": "light"
          }
        },
        {
          "output_type": "display_data",
          "data": {
            "image/png": "[encoded data removed]",
            "text/plain": [
              "<Figure size 432x288 with 1 Axes>"
            ]
          },
          "metadata": {
            "tags": [],
            "needs_background": "light"
          }
        },
        {
          "output_type": "display_data",
          "data": {
            "image/png": "[encoded data removed]",
            "text/plain": [
              "<Figure size 432x288 with 1 Axes>"
            ]
          },
          "metadata": {
            "tags": [],
            "needs_background": "light"
          }
        },
        {
          "output_type": "display_data",
          "data": {
            "image/png": "[encoded data removed]",
            "text/plain": [
              "<Figure size 432x288 with 1 Axes>"
            ]
          },
          "metadata": {
            "tags": [],
            "needs_background": "light"
          }
        }
      ]
    }
  ]
}