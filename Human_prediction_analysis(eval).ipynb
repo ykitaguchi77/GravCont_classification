{
  "nbformat": 4,
  "nbformat_minor": 0,
  "metadata": {
    "colab": {
      "name": "Untitled29.ipynb",
      "provenance": [],
      "toc_visible": true,
      "include_colab_link": true
    },
    "kernelspec": {
      "name": "python3",
      "display_name": "Python 3"
    }
  },
  "cells": [
    {
      "cell_type": "markdown",
      "metadata": {
        "id": "view-in-github",
        "colab_type": "text"
      },
      "source": [
        "<a href=\"https://colab.research.google.com/github/ykitaguchi77/GravCont_classification_colab/blob/master/Human_prediction_analysis(eval).ipynb\" target=\"_parent\"><img src=\"https://colab.research.google.com/assets/colab-badge.svg\" alt=\"Open In Colab\"/></a>"
      ]
    },
    {
      "cell_type": "markdown",
      "metadata": {
        "id": "4KHgYAvVpn_B",
        "colab_type": "text"
      },
      "source": [
        "#**Human_prediction (result evaluation)**"
      ]
    },
    {
      "cell_type": "markdown",
      "metadata": {
        "id": "HkARPwYIYweF",
        "colab_type": "text"
      },
      "source": [
        "#使用方法：<br>\n",
        "Google driveへのログイン：\n",
        "\n",
        "          メールアドレスまたは電話番号：gravcont\n",
        "          パスワード：ted_77777\n"
      ]
    },
    {
      "cell_type": "code",
      "metadata": {
        "id": "8o064OrB4kwb",
        "colab_type": "code",
        "colab": {
          "base_uri": "https://localhost:8080/",
          "height": 416
        },
        "outputId": "7c25e0d6-44d6-4503-d3c8-644026a1870f"
      },
      "source": [
        "import os\n",
        "import pandas as pd\n",
        "import glob\n",
        "import os.path as osp\n",
        "import random\n",
        "from PIL import Image\n",
        "import sys\n",
        "import datetime\n",
        "import math\n",
        "\n",
        "#Google colabをマウント\n",
        "from google.colab import drive\n",
        "drive.mount('/content/drive')\n",
        "\n",
        "def getlabel(df,image_ID):\n",
        "    label = []\n",
        "    pred = []\n",
        "    print(image_ID)\n",
        "    for i in range(len(df)):\n",
        "        #labelとpredの両方に記載があり、かつimage_IDに含まれる画像のある行のみカウントする\n",
        "        if pd.isnull(df.iloc[i,5])== False and pd.isnull(df.iloc[i,1]) == False and str(df.iloc[i,0]) in image_ID:\n",
        "            label.append(df.iloc[i,1])\n",
        "            pred.append(df.iloc[i,5])\n",
        "    return(label, pred)\n",
        "\n",
        "def calculate_parameters(label, pred):\n",
        "    TP, FP, TN, FN, TP, FP, TN, FN = [0,0,0,0,0,0,0,0]\n",
        "    for i in range(len(label)):\n",
        "        if label[i] == 'grav':\n",
        "            if label[i] == pred[i]:\n",
        "                TP += 1\n",
        "            else:\n",
        "                FN += 1\n",
        "        elif label[i] == 'cont':\n",
        "            if label[i] == pred[i]:\n",
        "                TN += 1\n",
        "            else:\n",
        "                FP += 1\n",
        "    return(TP,TN,FP,FN)\n",
        "\n",
        "def calculateAccuracy (TP, TN, FP, FN):\n",
        "    accuracy = (TP + TN)/ (TP + TN + FP + FN)\n",
        "    precision  = TP/(FP + TP)\n",
        "    recall = TP/(TP + FN)\n",
        "    specificity = TN/(FP + TN)\n",
        "    f_value = (2*recall*precision)/(recall+precision)\n",
        "    return(accuracy, precision, recall, specificity, f_value)\n",
        "\n",
        "\n",
        "def getImageID():\n",
        "    image_ID = []\n",
        "    image_path = glob.glob(\"/content/drive/My Drive/gravcont_seed_1234/val/*/*\")\n",
        "    for i in image_path:\n",
        "        image_ID.append(os.path.splitext(os.path.basename(i))[0])\n",
        "    return(image_ID)\n",
        "\n",
        "#画像のIDを抽出する\n",
        "\n",
        "image_ID = getImageID() \n",
        "\n",
        "#CSVファイルを開く\n",
        "df = pd.read_csv('/content/drive/My Drive/Hum_eval.csv', index_col=0, header=0)\n",
        "\n",
        "print(df)\n",
        "label, pred = getlabel(df,image_ID)\n",
        "TP,TN,FP,FN = calculate_parameters(label,pred)\n",
        "\n",
        "print(TP,TN,FP,FN)\n",
        "\n",
        "#Accuracyを計算\n",
        "accuracy, precision, recall, specificity, f_value = calculateAccuracy (TP, TN, FP, FN)\n",
        "print('Accuracy: ' + str(accuracy))\n",
        "print('Precision (positive predictive value): ' + str(precision))\n",
        "print('Recall (sensitivity): ' + str(recall))\n",
        "print('Specificity: ' + str(specificity))\n",
        "print('F_value: ' + str(f_value))\n",
        "\n",
        "\n"
      ],
      "execution_count": 30,
      "outputs": [
        {
          "output_type": "stream",
          "text": [
            "Drive already mounted at /content/drive; to attempt to forcibly remount, call drive.mount(\"/content/drive\", force_remount=True).\n",
            "     image_name Label  inoue  kohzaki  morimoto kitaguchi  kawasaki\n",
            "0            13  cont    NaN      NaN       NaN      cont       NaN\n",
            "1            17  grav    NaN      NaN       NaN      grav       NaN\n",
            "2            19  grav    NaN      NaN       NaN       NaN       NaN\n",
            "3            24  grav    NaN      NaN       NaN       NaN       NaN\n",
            "4            27  cont    NaN      NaN       NaN       NaN       NaN\n",
            "..          ...   ...    ...      ...       ...       ...       ...\n",
            "630        8079  grav    NaN      NaN       NaN      grav       NaN\n",
            "631        8105  grav    NaN      NaN       NaN      cont       NaN\n",
            "632        8168  grav    NaN      NaN       NaN      grav       NaN\n",
            "633        8184  grav    NaN      NaN       NaN      grav       NaN\n",
            "634        8198  grav    NaN      NaN       NaN      cont       NaN\n",
            "\n",
            "[635 rows x 7 columns]\n",
            "['5015', '2851', '1503', '6147', '893', '6518', '6150', '180', '4030', '6764', '7765', '5125', '1396', '2803', '1457', '1001', '24', '5378', '1284', '5647', '2794', '19', '7283', '4125', '17', '1304', '5901', '2801', '5681', '5551', '2508', '3528', '425', '385', '36', '983', '1259', '1528', '965', '1910', '1743', '1786', '3843', '2885', '3146', '3752', '2407', '4577', '4186', '5426', '4233', '6298', '5543', '6355', '5607', '7419', '7443', '6432', '7397', '7346', '8079', '8168', '7552', '1494', '139', '802', '1459', '1193', '278', '958', '137', '1118', '1319', '1233', '1305', '1515', '383', '292', '1428', '204', '1023', '998', '806', '225', '168', '401', '1126', '685', '1102', '1039', '196', '1210', '1082', '158', '1111', '444', '914', '85', '1249', '1281', '775', '760', '1234', '548', '440', '1414', '1241', '854', '934', '343', '149', '1182', '1531', '821', '234', '118', '495', '38', '229', '639', '508', '870', '932', '936', '1094', '1498', '1254', '1490']\n",
            "46 55 7 14\n",
            "Accuracy: 0.8278688524590164\n",
            "Precision (positive predictive value): 0.8679245283018868\n",
            "Recall (sensitivity): 0.7666666666666667\n",
            "Specificity: 0.8870967741935484\n",
            "F_value: 0.8141592920353983\n"
          ],
          "name": "stdout"
        }
      ]
    }
  ]
}